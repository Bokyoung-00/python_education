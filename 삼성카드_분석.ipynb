{
  "nbformat": 4,
  "nbformat_minor": 0,
  "metadata": {
    "colab": {
      "name": "삼성카드_분석.ipynb",
      "provenance": [],
      "collapsed_sections": [],
      "toc_visible": true,
      "authorship_tag": "ABX9TyOQN8DgZxPNjcKZrLpO++S4",
      "include_colab_link": true
    },
    "kernelspec": {
      "name": "python3",
      "display_name": "Python 3"
    }
  },
  "cells": [
    {
      "cell_type": "markdown",
      "metadata": {
        "id": "view-in-github",
        "colab_type": "text"
      },
      "source": [
        "<a href=\"https://colab.research.google.com/github/Bokyoung-00/python_education/blob/master/%EC%82%BC%EC%84%B1%EC%B9%B4%EB%93%9C_%EB%B6%84%EC%84%9D.ipynb\" target=\"_parent\"><img src=\"https://colab.research.google.com/assets/colab-badge.svg\" alt=\"Open In Colab\"/></a>"
      ]
    },
    {
      "cell_type": "markdown",
      "metadata": {
        "id": "o9vMrUr141om",
        "colab_type": "text"
      },
      "source": [
        "### (1) 한글 깨짐 방지 \n",
        "- 밑 세 개 코드 치고, 런타임 모두 돌린다\n",
        "- 코드가 아직 깨지는 것 확인\n",
        "- 런타임 다시 시작 누르고, 첫 번째 코드 제외 이후 셀 런타임 실행한다"
      ]
    },
    {
      "cell_type": "code",
      "metadata": {
        "id": "J9V-6qlRu5dp",
        "colab_type": "code",
        "colab": {
          "base_uri": "https://localhost:8080/",
          "height": 269
        },
        "outputId": "10b0864e-60ec-4e6a-b118-96b0a55f63c7"
      },
      "source": [
        "%config InlineBackend.figure_format = 'retina'\n",
        "!apt -qq -y install fonts-nanum"
      ],
      "execution_count": null,
      "outputs": [
        {
          "output_type": "stream",
          "text": [
            "The following package was automatically installed and is no longer required:\n",
            "  libnvidia-common-440\n",
            "Use 'apt autoremove' to remove it.\n",
            "The following NEW packages will be installed:\n",
            "  fonts-nanum\n",
            "0 upgraded, 1 newly installed, 0 to remove and 35 not upgraded.\n",
            "Need to get 9,604 kB of archives.\n",
            "After this operation, 29.5 MB of additional disk space will be used.\n",
            "Selecting previously unselected package fonts-nanum.\n",
            "(Reading database ... 144556 files and directories currently installed.)\n",
            "Preparing to unpack .../fonts-nanum_20170925-1_all.deb ...\n",
            "Unpacking fonts-nanum (20170925-1) ...\n",
            "Setting up fonts-nanum (20170925-1) ...\n",
            "Processing triggers for fontconfig (2.12.6-0ubuntu2) ...\n"
          ],
          "name": "stdout"
        }
      ]
    },
    {
      "cell_type": "code",
      "metadata": {
        "id": "EHO9j5dTu7pJ",
        "colab_type": "code",
        "colab": {}
      },
      "source": [
        "import matplotlib as mpl\n",
        "import matplotlib.pyplot as plt\n",
        "import matplotlib.font_manager as fm\n",
        "from pandas.plotting import register_matplotlib_converters"
      ],
      "execution_count": 157,
      "outputs": []
    },
    {
      "cell_type": "code",
      "metadata": {
        "id": "6SwG8kNxu8xT",
        "colab_type": "code",
        "colab": {}
      },
      "source": [
        "fontpath = '/usr/share/fonts/truetype/nanum/NanumBarunGothic.ttf'\n",
        "font = fm.FontProperties(fname=fontpath, size=9)\n",
        "plt.rc('font', family='NanumBarunGothic') \n",
        "plt.rcParams[\"figure.figsize\"] = (20, 10)\n",
        "register_matplotlib_converters()\n",
        "mpl.font_manager._rebuild()\n",
        "mpl.pyplot.rc('font', family='NanumGothic')\n",
        "fm._rebuild()"
      ],
      "execution_count": 158,
      "outputs": []
    },
    {
      "cell_type": "markdown",
      "metadata": {
        "id": "XWI28qhF47y5",
        "colab_type": "text"
      },
      "source": [
        "### (2) 필요 라이브러리 불러오기"
      ]
    },
    {
      "cell_type": "code",
      "metadata": {
        "id": "vE3ThY6_u997",
        "colab_type": "code",
        "colab": {}
      },
      "source": [
        "import matplotlib.pyplot as plt\n",
        "\n",
        "import matplotlib.dates as mdates\n",
        "import numpy as np\n",
        "import pandas as pd\n",
        "import seaborn as sns\n",
        "\n",
        "import math\n",
        "from datetime import date, timedelta\n",
        "\n",
        "import warnings\n",
        "warnings.filterwarnings(\"ignore\")"
      ],
      "execution_count": 414,
      "outputs": []
    },
    {
      "cell_type": "markdown",
      "metadata": {
        "id": "TG-ePGX65Txh",
        "colab_type": "text"
      },
      "source": [
        "### (3) 삼성카드 데이터 불러오기\n",
        "- 구글 드라이브에 저장된 데이터를 불러온다. "
      ]
    },
    {
      "cell_type": "code",
      "metadata": {
        "id": "wwhhQXMOu_RL",
        "colab_type": "code",
        "colab": {
          "base_uri": "https://localhost:8080/",
          "height": 53
        },
        "outputId": "61f73dca-6cf6-420b-c171-ced80ea602d7"
      },
      "source": [
        "# Mount Google Drive\n",
        "from google.colab import drive # import drive from google colab\n",
        "from os.path import join\n",
        "\n",
        "ROOT = \"/content/drive\"     # default location for the drive\n",
        "print(ROOT)                 # print content of ROOT (Optional)\n",
        "drive.mount(ROOT)  "
      ],
      "execution_count": 415,
      "outputs": [
        {
          "output_type": "stream",
          "text": [
            "/content/drive\n",
            "Drive already mounted at /content/drive; to attempt to forcibly remount, call drive.mount(\"/content/drive\", force_remount=True).\n"
          ],
          "name": "stdout"
        }
      ]
    },
    {
      "cell_type": "code",
      "metadata": {
        "id": "FWV3UPZBvBGE",
        "colab_type": "code",
        "colab": {
          "base_uri": "https://localhost:8080/",
          "height": 35
        },
        "outputId": "c3715fb5-4a4e-4e5f-83d7-cd55020bcd33"
      },
      "source": [
        "MY_GOOGLE_DRIVE_PATH = 'My Drive/' # 프로젝트 경로\n",
        "PROJECT_PATH = join(ROOT, MY_GOOGLE_DRIVE_PATH) # 프로젝트 경로\n",
        "print(PROJECT_PATH)"
      ],
      "execution_count": 416,
      "outputs": [
        {
          "output_type": "stream",
          "text": [
            "/content/drive/My Drive/\n"
          ],
          "name": "stdout"
        }
      ]
    },
    {
      "cell_type": "code",
      "metadata": {
        "id": "pxQqdx01vA_k",
        "colab_type": "code",
        "colab": {
          "base_uri": "https://localhost:8080/",
          "height": 107
        },
        "outputId": "bcc5aa54-bf07-4b32-85b9-b26a8273113a"
      },
      "source": [
        "%cd \"{PROJECT_PATH}\"\n",
        "%ls"
      ],
      "execution_count": 417,
      "outputs": [
        {
          "output_type": "stream",
          "text": [
            "/content/drive/My Drive\n",
            "\u001b[0m\u001b[01;34m'Colab Notebooks'\u001b[0m/    new_data_1905.csv   new_data2020.csv   trend_w_demo.csv\n",
            " data.csv             new_data_2004.csv   \u001b[01;34mPython\u001b[0m/\n",
            "\u001b[01;34m'Machine Learning'\u001b[0m/   new_data_2005.csv   \u001b[01;34msamsung_dataset\u001b[0m/\n",
            " new_data_1904.csv    new_data2019.csv    \u001b[01;34mSQL\u001b[0m/\n"
          ],
          "name": "stdout"
        }
      ]
    },
    {
      "cell_type": "markdown",
      "metadata": {
        "id": "8nzdfqYh5fJ2",
        "colab_type": "text"
      },
      "source": [
        "- 한글 목차로 되어있어 깨짐 현상이 나오는데, encoding='CP949'를 더해 풀어준다. "
      ]
    },
    {
      "cell_type": "code",
      "metadata": {
        "id": "UPvOk5bHvkel",
        "colab_type": "code",
        "colab": {
          "base_uri": "https://localhost:8080/",
          "height": 204
        },
        "outputId": "cc172dc0-6ea1-4f57-98d3-99d085446c49"
      },
      "source": [
        "data= pd.read_csv(\"trend_w_demo.csv\", encoding='CP949')\n",
        "data.head()"
      ],
      "execution_count": 418,
      "outputs": [
        {
          "output_type": "execute_result",
          "data": {
            "text/html": [
              "<div>\n",
              "<style scoped>\n",
              "    .dataframe tbody tr th:only-of-type {\n",
              "        vertical-align: middle;\n",
              "    }\n",
              "\n",
              "    .dataframe tbody tr th {\n",
              "        vertical-align: top;\n",
              "    }\n",
              "\n",
              "    .dataframe thead th {\n",
              "        text-align: right;\n",
              "    }\n",
              "</style>\n",
              "<table border=\"1\" class=\"dataframe\">\n",
              "  <thead>\n",
              "    <tr style=\"text-align: right;\">\n",
              "      <th></th>\n",
              "      <th>YM</th>\n",
              "      <th>Category</th>\n",
              "      <th>성별구분</th>\n",
              "      <th>연령대</th>\n",
              "      <th>기혼스코어</th>\n",
              "      <th>유아자녀스코어</th>\n",
              "      <th>초등학생자녀스코어</th>\n",
              "      <th>중고생자녀스코어</th>\n",
              "      <th>대학생자녀스코어</th>\n",
              "      <th>전업주부스코어</th>\n",
              "    </tr>\n",
              "  </thead>\n",
              "  <tbody>\n",
              "    <tr>\n",
              "      <th>0</th>\n",
              "      <td>202005</td>\n",
              "      <td>할인점</td>\n",
              "      <td>0</td>\n",
              "      <td>F</td>\n",
              "      <td>high</td>\n",
              "      <td>low</td>\n",
              "      <td>high</td>\n",
              "      <td>mid</td>\n",
              "      <td>low</td>\n",
              "      <td>low</td>\n",
              "    </tr>\n",
              "    <tr>\n",
              "      <th>1</th>\n",
              "      <td>202005</td>\n",
              "      <td>취미</td>\n",
              "      <td>0</td>\n",
              "      <td>B</td>\n",
              "      <td>high</td>\n",
              "      <td>low</td>\n",
              "      <td>mid</td>\n",
              "      <td>mid</td>\n",
              "      <td>low</td>\n",
              "      <td>low</td>\n",
              "    </tr>\n",
              "    <tr>\n",
              "      <th>2</th>\n",
              "      <td>202005</td>\n",
              "      <td>오픈마켓/소셜</td>\n",
              "      <td>1</td>\n",
              "      <td>D</td>\n",
              "      <td>mid</td>\n",
              "      <td>mid</td>\n",
              "      <td>mid</td>\n",
              "      <td>mid</td>\n",
              "      <td>low</td>\n",
              "      <td>mid</td>\n",
              "    </tr>\n",
              "    <tr>\n",
              "      <th>3</th>\n",
              "      <td>202005</td>\n",
              "      <td>뷰티</td>\n",
              "      <td>0</td>\n",
              "      <td>D</td>\n",
              "      <td>mid</td>\n",
              "      <td>mid</td>\n",
              "      <td>mid</td>\n",
              "      <td>mid</td>\n",
              "      <td>low</td>\n",
              "      <td>low</td>\n",
              "    </tr>\n",
              "    <tr>\n",
              "      <th>4</th>\n",
              "      <td>202005</td>\n",
              "      <td>오픈마켓/소셜</td>\n",
              "      <td>0</td>\n",
              "      <td>G</td>\n",
              "      <td>high</td>\n",
              "      <td>low</td>\n",
              "      <td>mid</td>\n",
              "      <td>mid</td>\n",
              "      <td>mid</td>\n",
              "      <td>low</td>\n",
              "    </tr>\n",
              "  </tbody>\n",
              "</table>\n",
              "</div>"
            ],
            "text/plain": [
              "       YM Category  성별구분 연령대 기혼스코어 유아자녀스코어 초등학생자녀스코어 중고생자녀스코어 대학생자녀스코어 전업주부스코어\n",
              "0  202005      할인점     0   F  high     low      high      mid      low     low\n",
              "1  202005       취미     0   B  high     low       mid      mid      low     low\n",
              "2  202005  오픈마켓/소셜     1   D   mid     mid       mid      mid      low     mid\n",
              "3  202005       뷰티     0   D   mid     mid       mid      mid      low     low\n",
              "4  202005  오픈마켓/소셜     0   G  high     low       mid      mid      mid     low"
            ]
          },
          "metadata": {
            "tags": []
          },
          "execution_count": 418
        }
      ]
    },
    {
      "cell_type": "code",
      "metadata": {
        "id": "D8uBhVZ47ft8",
        "colab_type": "code",
        "colab": {
          "base_uri": "https://localhost:8080/",
          "height": 233
        },
        "outputId": "1f25c267-418a-4f8b-e9eb-b7abe821735d"
      },
      "source": [
        "data['기혼스코어']"
      ],
      "execution_count": 419,
      "outputs": [
        {
          "output_type": "execute_result",
          "data": {
            "text/plain": [
              "0         high\n",
              "1         high\n",
              "2          mid\n",
              "3          mid\n",
              "4         high\n",
              "          ... \n",
              "452033     low\n",
              "452034    high\n",
              "452035    high\n",
              "452036    high\n",
              "452037    high\n",
              "Name: 기혼스코어, Length: 452038, dtype: object"
            ]
          },
          "metadata": {
            "tags": []
          },
          "execution_count": 419
        }
      ]
    },
    {
      "cell_type": "code",
      "metadata": {
        "id": "pLJRJTpM8YPT",
        "colab_type": "code",
        "colab": {
          "base_uri": "https://localhost:8080/",
          "height": 71
        },
        "outputId": "76bb090b-0541-4c60-9e1e-e9d0ade6aed2"
      },
      "source": [
        "data.columns"
      ],
      "execution_count": 420,
      "outputs": [
        {
          "output_type": "execute_result",
          "data": {
            "text/plain": [
              "Index(['YM', 'Category', '성별구분', '연령대', '기혼스코어', '유아자녀스코어', '초등학생자녀스코어',\n",
              "       '중고생자녀스코어', '대학생자녀스코어', '전업주부스코어'],\n",
              "      dtype='object')"
            ]
          },
          "metadata": {
            "tags": []
          },
          "execution_count": 420
        }
      ]
    },
    {
      "cell_type": "code",
      "metadata": {
        "id": "6xesyMeJ8lVc",
        "colab_type": "code",
        "colab": {}
      },
      "source": [
        "columns_to_change=['기혼스코어', '유아자녀스코어', '초등학생자녀스코어',\n",
        "       '중고생자녀스코어', '대학생자녀스코어', '전업주부스코어']"
      ],
      "execution_count": 421,
      "outputs": []
    },
    {
      "cell_type": "markdown",
      "metadata": {
        "id": "Olst74YVfHO-",
        "colab_type": "text"
      },
      "source": [
        "- 기혼스코어, 유아자녀스코어, 초등학생자녀스코어, 중고생자녀스코어, 대학생자녀스코어, 전업주부스코어 \n",
        "\n",
        "확률 숫자로 변환하기\n",
        "  + high : 3\n",
        "  + mid : 2\n",
        "  + low : 1"
      ]
    },
    {
      "cell_type": "code",
      "metadata": {
        "id": "6YSOw43L6Ygt",
        "colab_type": "code",
        "colab": {
          "base_uri": "https://localhost:8080/",
          "height": 204
        },
        "outputId": "cffb3046-2caf-40c0-bddc-152785014bec"
      },
      "source": [
        "for col in columns_to_change:\n",
        "  data[col].replace(to_replace=\"high\", value=\"3\", inplace=True)\n",
        "  data[col].replace(to_replace=\"mid\", value=\"2\", inplace=True)\n",
        "  data[col].replace(to_replace=\"low\", value=\"1\", inplace=True)\n",
        "data.head()"
      ],
      "execution_count": 422,
      "outputs": [
        {
          "output_type": "execute_result",
          "data": {
            "text/html": [
              "<div>\n",
              "<style scoped>\n",
              "    .dataframe tbody tr th:only-of-type {\n",
              "        vertical-align: middle;\n",
              "    }\n",
              "\n",
              "    .dataframe tbody tr th {\n",
              "        vertical-align: top;\n",
              "    }\n",
              "\n",
              "    .dataframe thead th {\n",
              "        text-align: right;\n",
              "    }\n",
              "</style>\n",
              "<table border=\"1\" class=\"dataframe\">\n",
              "  <thead>\n",
              "    <tr style=\"text-align: right;\">\n",
              "      <th></th>\n",
              "      <th>YM</th>\n",
              "      <th>Category</th>\n",
              "      <th>성별구분</th>\n",
              "      <th>연령대</th>\n",
              "      <th>기혼스코어</th>\n",
              "      <th>유아자녀스코어</th>\n",
              "      <th>초등학생자녀스코어</th>\n",
              "      <th>중고생자녀스코어</th>\n",
              "      <th>대학생자녀스코어</th>\n",
              "      <th>전업주부스코어</th>\n",
              "    </tr>\n",
              "  </thead>\n",
              "  <tbody>\n",
              "    <tr>\n",
              "      <th>0</th>\n",
              "      <td>202005</td>\n",
              "      <td>할인점</td>\n",
              "      <td>0</td>\n",
              "      <td>F</td>\n",
              "      <td>3</td>\n",
              "      <td>1</td>\n",
              "      <td>3</td>\n",
              "      <td>2</td>\n",
              "      <td>1</td>\n",
              "      <td>1</td>\n",
              "    </tr>\n",
              "    <tr>\n",
              "      <th>1</th>\n",
              "      <td>202005</td>\n",
              "      <td>취미</td>\n",
              "      <td>0</td>\n",
              "      <td>B</td>\n",
              "      <td>3</td>\n",
              "      <td>1</td>\n",
              "      <td>2</td>\n",
              "      <td>2</td>\n",
              "      <td>1</td>\n",
              "      <td>1</td>\n",
              "    </tr>\n",
              "    <tr>\n",
              "      <th>2</th>\n",
              "      <td>202005</td>\n",
              "      <td>오픈마켓/소셜</td>\n",
              "      <td>1</td>\n",
              "      <td>D</td>\n",
              "      <td>2</td>\n",
              "      <td>2</td>\n",
              "      <td>2</td>\n",
              "      <td>2</td>\n",
              "      <td>1</td>\n",
              "      <td>2</td>\n",
              "    </tr>\n",
              "    <tr>\n",
              "      <th>3</th>\n",
              "      <td>202005</td>\n",
              "      <td>뷰티</td>\n",
              "      <td>0</td>\n",
              "      <td>D</td>\n",
              "      <td>2</td>\n",
              "      <td>2</td>\n",
              "      <td>2</td>\n",
              "      <td>2</td>\n",
              "      <td>1</td>\n",
              "      <td>1</td>\n",
              "    </tr>\n",
              "    <tr>\n",
              "      <th>4</th>\n",
              "      <td>202005</td>\n",
              "      <td>오픈마켓/소셜</td>\n",
              "      <td>0</td>\n",
              "      <td>G</td>\n",
              "      <td>3</td>\n",
              "      <td>1</td>\n",
              "      <td>2</td>\n",
              "      <td>2</td>\n",
              "      <td>2</td>\n",
              "      <td>1</td>\n",
              "    </tr>\n",
              "  </tbody>\n",
              "</table>\n",
              "</div>"
            ],
            "text/plain": [
              "       YM Category  성별구분 연령대 기혼스코어 유아자녀스코어 초등학생자녀스코어 중고생자녀스코어 대학생자녀스코어 전업주부스코어\n",
              "0  202005      할인점     0   F     3       1         3        2        1       1\n",
              "1  202005       취미     0   B     3       1         2        2        1       1\n",
              "2  202005  오픈마켓/소셜     1   D     2       2         2        2        1       2\n",
              "3  202005       뷰티     0   D     2       2         2        2        1       1\n",
              "4  202005  오픈마켓/소셜     0   G     3       1         2        2        2       1"
            ]
          },
          "metadata": {
            "tags": []
          },
          "execution_count": 422
        }
      ]
    },
    {
      "cell_type": "markdown",
      "metadata": {
        "id": "YFSTRhW35zVl",
        "colab_type": "text"
      },
      "source": [
        "- 어떤 카테고리가 있는지 확인"
      ]
    },
    {
      "cell_type": "code",
      "metadata": {
        "id": "Zcowor5LxifM",
        "colab_type": "code",
        "colab": {
          "base_uri": "https://localhost:8080/",
          "height": 53
        },
        "outputId": "916d7fb3-ed93-4a00-f8b2-9d900599db2d"
      },
      "source": [
        "data[\"Category\"].unique()"
      ],
      "execution_count": 423,
      "outputs": [
        {
          "output_type": "execute_result",
          "data": {
            "text/plain": [
              "array(['할인점', '취미', '오픈마켓/소셜', '뷰티', '디저트', '전문몰', '항공/여행사', '종합몰',\n",
              "       '호텔/숙박', '면세점'], dtype=object)"
            ]
          },
          "metadata": {
            "tags": []
          },
          "execution_count": 423
        }
      ]
    },
    {
      "cell_type": "code",
      "metadata": {
        "id": "9So0angbnHpA",
        "colab_type": "code",
        "colab": {}
      },
      "source": [
        "data_2019= data[(data['YM']==201905) | (data['YM']==201904)]\n",
        "data_2020= data[(data['YM']==202005) | (data['YM']==202004)]"
      ],
      "execution_count": 424,
      "outputs": []
    },
    {
      "cell_type": "markdown",
      "metadata": {
        "id": "UyVw2PVe6TWR",
        "colab_type": "text"
      },
      "source": [
        "### (4) 데이터 시각화 "
      ]
    },
    {
      "cell_type": "markdown",
      "metadata": {
        "id": "tXYCbufvVxZq",
        "colab_type": "text"
      },
      "source": [
        "#### 1. 카테고리별 결제 순위 "
      ]
    },
    {
      "cell_type": "code",
      "metadata": {
        "id": "-HdqtWDV2g6d",
        "colab_type": "code",
        "colab": {}
      },
      "source": [
        "cat_summary=data.groupby('Category').count()[\"연령대\"].sort_values(ascending=False)"
      ],
      "execution_count": 425,
      "outputs": []
    },
    {
      "cell_type": "code",
      "metadata": {
        "id": "8UuoYO3e2nRk",
        "colab_type": "code",
        "colab": {
          "base_uri": "https://localhost:8080/",
          "height": 334
        },
        "outputId": "d51b172a-526c-4f4c-e7f6-f1e3f890383a"
      },
      "source": [
        "cat_summary.plot(kind='barh', figsize=(15,5), title=\"카테고리 별 결제 순위\", color='darkmagenta')\n",
        "plt.show()"
      ],
      "execution_count": 426,
      "outputs": [
        {
          "output_type": "display_data",
          "data": {
            "image/png": "[encoded data removed]",
            "text/plain": [
              "<Figure size 1080x360 with 1 Axes>"
            ]
          },
          "metadata": {
            "tags": [],
            "needs_background": "light"
          }
        }
      ]
    },
    {
      "cell_type": "markdown",
      "metadata": {
        "id": "DfVIX-rU6fkU",
        "colab_type": "text"
      },
      "source": [
        "##### 1.1. 2019년 카테고리별 결제 순위 "
      ]
    },
    {
      "cell_type": "code",
      "metadata": {
        "id": "eOxUYHP0yuL4",
        "colab_type": "code",
        "colab": {
          "base_uri": "https://localhost:8080/",
          "height": 334
        },
        "outputId": "3fb62a2a-1232-4899-e9d2-e9003c5139ab"
      },
      "source": [
        "cat_summary_2019=data_2019.groupby('Category').count()[\"연령대\"].sort_values(ascending=False)\n",
        "cat_summary_2019.plot(kind='barh', figsize=(15,5), title=\"2019년 카테고리 별 결제 순위\", color='deeppink')\n",
        "plt.show()"
      ],
      "execution_count": 427,
      "outputs": [
        {
          "output_type": "display_data",
          "data": {
            "image/png": "[encoded data removed]",
            "text/plain": [
              "<Figure size 1080x360 with 1 Axes>"
            ]
          },
          "metadata": {
            "tags": [],
            "needs_background": "light"
          }
        }
      ]
    },
    {
      "cell_type": "markdown",
      "metadata": {
        "id": "kdK2Rt3T6nsg",
        "colab_type": "text"
      },
      "source": [
        "##### 1.2. 2020년 카테고리별 결제 순위 "
      ]
    },
    {
      "cell_type": "code",
      "metadata": {
        "id": "jQF_dFZnyt_P",
        "colab_type": "code",
        "colab": {
          "base_uri": "https://localhost:8080/",
          "height": 334
        },
        "outputId": "3b68f903-6115-463a-8207-792ee98113ac"
      },
      "source": [
        "cat_summary_2020=data_2020.groupby('Category').count()[\"연령대\"].sort_values(ascending=False)\n",
        "cat_summary_2020.plot(kind='barh', figsize=(15,5), title=\"2020년 카테고리 별 결제 순위\", color='blueviolet')\n",
        "plt.show()"
      ],
      "execution_count": 428,
      "outputs": [
        {
          "output_type": "display_data",
          "data": {
            "image/png": "[encoded data removed]",
            "text/plain": [
              "<Figure size 1080x360 with 1 Axes>"
            ]
          },
          "metadata": {
            "tags": [],
            "needs_background": "light"
          }
        }
      ]
    },
    {
      "cell_type": "markdown",
      "metadata": {
        "id": "iQInsTpQY5Pm",
        "colab_type": "text"
      },
      "source": [
        "#### 2. 성별 결제 "
      ]
    },
    {
      "cell_type": "markdown",
      "metadata": {
        "id": "yfsrU7557VRO",
        "colab_type": "text"
      },
      "source": [
        "##### 2.1. 2019년 성별 결제 "
      ]
    },
    {
      "cell_type": "code",
      "metadata": {
        "id": "yTOwFUDfE4Cu",
        "colab_type": "code",
        "colab": {
          "base_uri": "https://localhost:8080/",
          "height": 334
        },
        "outputId": "a2d2f865-a17d-45b3-ab46-d1eecb521b02"
      },
      "source": [
        "# 0: 남성, 1: 여성\n",
        "gender_2019= data_2019.groupby('성별구분').count()['연령대'].sort_values()\n",
        "gender_2019.plot(kind='barh', figsize=(15,5), title=\"2019년 성별 결제 건수 비교\")\n",
        "plt.show()"
      ],
      "execution_count": 429,
      "outputs": [
        {
          "output_type": "display_data",
          "data": {
            "image/png": "[encoded data removed]",
            "text/plain": [
              "<Figure size 1080x360 with 1 Axes>"
            ]
          },
          "metadata": {
            "tags": [],
            "needs_background": "light"
          }
        }
      ]
    },
    {
      "cell_type": "markdown",
      "metadata": {
        "id": "CJbJqNx_7aue",
        "colab_type": "text"
      },
      "source": [
        "##### 2.2. 2020년 성별 결제 "
      ]
    },
    {
      "cell_type": "code",
      "metadata": {
        "id": "RzMGjHBsnQpA",
        "colab_type": "code",
        "colab": {
          "base_uri": "https://localhost:8080/",
          "height": 334
        },
        "outputId": "24c24206-0552-446e-df36-42f27f76705f"
      },
      "source": [
        "gender_2020= data_2020.groupby('성별구분').count()['연령대'].sort_values()\n",
        "gender_2020.plot(kind='barh', figsize=(15,5), title=\"2020년 성별 결제 건수 비교\", color='midnightblue')\n",
        "plt.show()"
      ],
      "execution_count": 430,
      "outputs": [
        {
          "output_type": "display_data",
          "data": {
            "image/png": "[encoded data removed]",
            "text/plain": [
              "<Figure size 1080x360 with 1 Axes>"
            ]
          },
          "metadata": {
            "tags": [],
            "needs_background": "light"
          }
        }
      ]
    },
    {
      "cell_type": "markdown",
      "metadata": {
        "id": "nFfc55G87eXv",
        "colab_type": "text"
      },
      "source": [
        "##### 2.3. 카테고리별 여성 건수"
      ]
    },
    {
      "cell_type": "code",
      "metadata": {
        "id": "pAz1uIQqCxZk",
        "colab_type": "code",
        "colab": {
          "base_uri": "https://localhost:8080/",
          "height": 729
        },
        "outputId": "84b7f3f2-d082-4084-970e-b034ae29100c"
      },
      "source": [
        "import matplotlib\n",
        "import matplotlib.pyplot as plt\n",
        "import numpy as np\n",
        "\n",
        "\n",
        "labels = data['Category'].unique()\n",
        "\n",
        "x = np.arange(len(labels))  # the label locations\n",
        "width = 0.35  # the width of the bars\n",
        "\n",
        "fig, ax = plt.subplots()\n",
        "rects1 = ax.bar(x - width/2, female_2019, width, label='2019')\n",
        "rects2 = ax.bar(x + width/2, female_2020, width, label='2020')\n",
        "\n",
        "# Add some text for labels, title and custom x-axis tick labels, etc.\n",
        "ax.set_ylabel('결제 건수')\n",
        "ax.set_title('카테고리별 여성 건수')\n",
        "ax.set_xticks(x)\n",
        "ax.set_xticklabels(labels)\n",
        "ax.legend()\n",
        "\n",
        "\n",
        "def autolabel(rects):\n",
        "    \"\"\"Attach a text label above each bar in *rects*, displaying its height.\"\"\"\n",
        "    for rect in rects:\n",
        "        height = rect.get_height()\n",
        "        ax.annotate('{}'.format(height),\n",
        "                    xy=(rect.get_x() + rect.get_width() / 2, height),\n",
        "                    xytext=(0, 3),  # 3 points vertical offset\n",
        "                    textcoords=\"offset points\",\n",
        "                    ha='center', va='bottom')\n",
        "\n",
        "autolabel(rects1)\n",
        "autolabel(rects2)\n",
        "\n",
        "fig.tight_layout()\n",
        "\n",
        "plt.show()"
      ],
      "execution_count": 508,
      "outputs": [
        {
          "output_type": "display_data",
          "data": {
            "image/png": "[encoded data removed]",
            "text/plain": [
              "<Figure size 1440x720 with 1 Axes>"
            ]
          },
          "metadata": {
            "tags": [],
            "needs_background": "light"
          }
        }
      ]
    },
    {
      "cell_type": "markdown",
      "metadata": {
        "id": "bya1roi57xsd",
        "colab_type": "text"
      },
      "source": [
        "##### 2.4. 카테고리별 남성 건수"
      ]
    },
    {
      "cell_type": "code",
      "metadata": {
        "id": "C-ZfwTti-WRh",
        "colab_type": "code",
        "colab": {
          "base_uri": "https://localhost:8080/",
          "height": 233
        },
        "outputId": "a0c0059c-525c-44e9-b358-9aff9cddadb8"
      },
      "source": [
        "data_2019[data_2019['성별구분']==0].groupby(\"Category\")['성별구분'].value_counts()"
      ],
      "execution_count": 497,
      "outputs": [
        {
          "output_type": "execute_result",
          "data": {
            "text/plain": [
              "Category  성별구분\n",
              "디저트       0       21722\n",
              "면세점       0        1008\n",
              "뷰티        0        3890\n",
              "오픈마켓/소셜   0       16865\n",
              "전문몰       0       29841\n",
              "종합몰       0        2611\n",
              "취미        0        6753\n",
              "할인점       0       24548\n",
              "항공/여행사    0        2293\n",
              "호텔/숙박     0        3252\n",
              "Name: 성별구분, dtype: int64"
            ]
          },
          "metadata": {
            "tags": []
          },
          "execution_count": 497
        }
      ]
    },
    {
      "cell_type": "code",
      "metadata": {
        "id": "4nGzmsyxEd07",
        "colab_type": "code",
        "colab": {
          "base_uri": "https://localhost:8080/",
          "height": 729
        },
        "outputId": "fe646bff-c5d5-4179-e49e-d37a4a28afa6"
      },
      "source": [
        "import matplotlib\n",
        "import matplotlib.pyplot as plt\n",
        "import numpy as np\n",
        "\n",
        "\n",
        "labels = data['Category'].unique()\n",
        "\n",
        "x = np.arange(len(labels))  # the label locations\n",
        "width = 0.35  # the width of the bars\n",
        "\n",
        "fig, ax = plt.subplots()\n",
        "rects1 = ax.bar(x - width/2, male_2019, width, label='2019')\n",
        "rects2 = ax.bar(x + width/2, male_2020, width, label='2020')\n",
        "\n",
        "# Add some text for labels, title and custom x-axis tick labels, etc.\n",
        "ax.set_ylabel('결제 건수')\n",
        "ax.set_title('카테고리별 남성 건수')\n",
        "ax.set_xticks(x)\n",
        "ax.set_xticklabels(labels)\n",
        "ax.legend()\n",
        "\n",
        "\n",
        "def autolabel(rects):\n",
        "    \"\"\"Attach a text label above each bar in *rects*, displaying its height.\"\"\"\n",
        "    for rect in rects:\n",
        "        height = rect.get_height()\n",
        "        ax.annotate('{}'.format(height),\n",
        "                    xy=(rect.get_x() + rect.get_width() / 2, height),\n",
        "                    xytext=(0, 3),  # 3 points vertical offset\n",
        "                    textcoords=\"offset points\",\n",
        "                    ha='center', va='bottom')\n",
        "\n",
        "autolabel(rects1)\n",
        "autolabel(rects2)\n",
        "\n",
        "fig.tight_layout()\n",
        "\n",
        "plt.show()"
      ],
      "execution_count": 509,
      "outputs": [
        {
          "output_type": "display_data",
          "data": {
            "image/png": "[encoded data removed]",
            "text/plain": [
              "<Figure size 1440x720 with 1 Axes>"
            ]
          },
          "metadata": {
            "tags": [],
            "needs_background": "light"
          }
        }
      ]
    },
    {
      "cell_type": "markdown",
      "metadata": {
        "id": "lBKhXZ7zEz-6",
        "colab_type": "text"
      },
      "source": [
        "#### 3. 연령대"
      ]
    },
    {
      "cell_type": "code",
      "metadata": {
        "id": "flgEbT2724d_",
        "colab_type": "code",
        "colab": {
          "base_uri": "https://localhost:8080/",
          "height": 419
        },
        "outputId": "a06df971-d18c-45ca-eb17-33c7562523b5"
      },
      "source": [
        "age= data.groupby(\"연령대\").count()['Category'].sort_values()\n",
        "\n",
        "age.plot(kind='bar', stacked=True, figsize= (6,6), color='navy', title=\"연령별 건수\")"
      ],
      "execution_count": 435,
      "outputs": [
        {
          "output_type": "execute_result",
          "data": {
            "text/plain": [
              "<matplotlib.axes._subplots.AxesSubplot at 0x7f6350e31cf8>"
            ]
          },
          "metadata": {
            "tags": []
          },
          "execution_count": 435
        },
        {
          "output_type": "display_data",
          "data": {
            "image/png": "[encoded data removed]",
            "text/plain": [
              "<Figure size 432x432 with 1 Axes>"
            ]
          },
          "metadata": {
            "tags": [],
            "needs_background": "light"
          }
        }
      ]
    },
    {
      "cell_type": "code",
      "metadata": {
        "id": "dFMXHWwPURIf",
        "colab_type": "code",
        "colab": {
          "base_uri": "https://localhost:8080/",
          "height": 419
        },
        "outputId": "897fca76-4c0f-4c8f-e066-44379ac4a442"
      },
      "source": [
        "age_2019= data_2019.groupby(\"연령대\").count()['Category'].sort_values()\n",
        "\n",
        "age_2019.plot(kind='bar', stacked=True, figsize= (6,6), color='yellowgreen', title=\"2019년 연령별 건수\")"
      ],
      "execution_count": 436,
      "outputs": [
        {
          "output_type": "execute_result",
          "data": {
            "text/plain": [
              "<matplotlib.axes._subplots.AxesSubplot at 0x7f6350be7160>"
            ]
          },
          "metadata": {
            "tags": []
          },
          "execution_count": 436
        },
        {
          "output_type": "display_data",
          "data": {
            "image/png": "[encoded data removed]",
            "text/plain": [
              "<Figure size 432x432 with 1 Axes>"
            ]
          },
          "metadata": {
            "tags": [],
            "needs_background": "light"
          }
        }
      ]
    },
    {
      "cell_type": "code",
      "metadata": {
        "id": "6xGayVWw2T0g",
        "colab_type": "code",
        "colab": {
          "base_uri": "https://localhost:8080/",
          "height": 419
        },
        "outputId": "9ea14fa7-11ff-4f83-be4f-294fead576f2"
      },
      "source": [
        "age_2020= data_2020.groupby(\"연령대\").count()['Category'].sort_values()\n",
        "\n",
        "age_2020.plot(kind='bar', stacked=True, figsize= (6,6), color='olive', title=\"2020년 연령별 건수\")"
      ],
      "execution_count": 437,
      "outputs": [
        {
          "output_type": "execute_result",
          "data": {
            "text/plain": [
              "<matplotlib.axes._subplots.AxesSubplot at 0x7f6350a30d68>"
            ]
          },
          "metadata": {
            "tags": []
          },
          "execution_count": 437
        },
        {
          "output_type": "display_data",
          "data": {
            "image/png": "[encoded data removed]",
            "text/plain": [
              "<Figure size 432x432 with 1 Axes>"
            ]
          },
          "metadata": {
            "tags": [],
            "needs_background": "light"
          }
        }
      ]
    },
    {
      "cell_type": "markdown",
      "metadata": {
        "id": "-Phc01eWdB18",
        "colab_type": "text"
      },
      "source": [
        "##### 연령 예측하기"
      ]
    },
    {
      "cell_type": "code",
      "metadata": {
        "id": "zltNqT7UdFxf",
        "colab_type": "code",
        "colab": {
          "base_uri": "https://localhost:8080/",
          "height": 71
        },
        "outputId": "3fdcc5a8-e112-46d7-856f-b20aee12965c"
      },
      "source": [
        "data.columns"
      ],
      "execution_count": 450,
      "outputs": [
        {
          "output_type": "execute_result",
          "data": {
            "text/plain": [
              "Index(['YM', 'Category', '성별구분', '연령대', '기혼스코어', '유아자녀스코어', '초등학생자녀스코어',\n",
              "       '중고생자녀스코어', '대학생자녀스코어', '전업주부스코어'],\n",
              "      dtype='object')"
            ]
          },
          "metadata": {
            "tags": []
          },
          "execution_count": 450
        }
      ]
    },
    {
      "cell_type": "code",
      "metadata": {
        "id": "ilBalsfefY1q",
        "colab_type": "code",
        "colab": {
          "base_uri": "https://localhost:8080/",
          "height": 323
        },
        "outputId": "95cd845c-cd2b-441d-96f2-61632a58c79a"
      },
      "source": [
        "data.info()"
      ],
      "execution_count": 451,
      "outputs": [
        {
          "output_type": "stream",
          "text": [
            "<class 'pandas.core.frame.DataFrame'>\n",
            "RangeIndex: 452038 entries, 0 to 452037\n",
            "Data columns (total 10 columns):\n",
            " #   Column     Non-Null Count   Dtype \n",
            "---  ------     --------------   ----- \n",
            " 0   YM         452038 non-null  int64 \n",
            " 1   Category   452038 non-null  object\n",
            " 2   성별구분       452038 non-null  int64 \n",
            " 3   연령대        452038 non-null  object\n",
            " 4   기혼스코어      452038 non-null  object\n",
            " 5   유아자녀스코어    452038 non-null  object\n",
            " 6   초등학생자녀스코어  452038 non-null  object\n",
            " 7   중고생자녀스코어   452038 non-null  object\n",
            " 8   대학생자녀스코어   452038 non-null  object\n",
            " 9   전업주부스코어    452038 non-null  object\n",
            "dtypes: int64(2), object(8)\n",
            "memory usage: 34.5+ MB\n"
          ],
          "name": "stdout"
        }
      ]
    },
    {
      "cell_type": "code",
      "metadata": {
        "id": "B9f1KIhHgKXz",
        "colab_type": "code",
        "colab": {
          "base_uri": "https://localhost:8080/",
          "height": 323
        },
        "outputId": "e4fb415a-4c7d-498f-efad-99dbb4d05b5a"
      },
      "source": [
        "for i in columns_to_change:\n",
        "  data[i]=data[i].astype('int64')\n",
        "\n",
        "data.info()"
      ],
      "execution_count": 452,
      "outputs": [
        {
          "output_type": "stream",
          "text": [
            "<class 'pandas.core.frame.DataFrame'>\n",
            "RangeIndex: 452038 entries, 0 to 452037\n",
            "Data columns (total 10 columns):\n",
            " #   Column     Non-Null Count   Dtype \n",
            "---  ------     --------------   ----- \n",
            " 0   YM         452038 non-null  int64 \n",
            " 1   Category   452038 non-null  object\n",
            " 2   성별구분       452038 non-null  int64 \n",
            " 3   연령대        452038 non-null  object\n",
            " 4   기혼스코어      452038 non-null  int64 \n",
            " 5   유아자녀스코어    452038 non-null  int64 \n",
            " 6   초등학생자녀스코어  452038 non-null  int64 \n",
            " 7   중고생자녀스코어   452038 non-null  int64 \n",
            " 8   대학생자녀스코어   452038 non-null  int64 \n",
            " 9   전업주부스코어    452038 non-null  int64 \n",
            "dtypes: int64(8), object(2)\n",
            "memory usage: 34.5+ MB\n"
          ],
          "name": "stdout"
        }
      ]
    },
    {
      "cell_type": "markdown",
      "metadata": {
        "id": "qHI-e5roJxqg",
        "colab_type": "text"
      },
      "source": [
        "- 결혼 여부와 자녀 나이대를 고려해 연령대를 특정하고자 한다. \n",
        "- 각각의 스코어를 곱해 새로운 열을 추가하고, 스코어가 높은 연령대 군을 추린다."
      ]
    },
    {
      "cell_type": "code",
      "metadata": {
        "id": "v9NnJVtHdfF6",
        "colab_type": "code",
        "colab": {}
      },
      "source": [
        "data['기혼대학생']=(data['기혼스코어']*data['대학생자녀스코어'])\n",
        "data['기혼중고생']=(data['기혼스코어']*data['중고생자녀스코어'])\n",
        "data['기혼초등생']=(data['기혼스코어']*data['초등학생자녀스코어'])\n",
        "data['기혼유아']=(data['기혼스코어']*data['유아자녀스코어'])"
      ],
      "execution_count": 453,
      "outputs": []
    },
    {
      "cell_type": "code",
      "metadata": {
        "id": "EztHesRlhPY1",
        "colab_type": "code",
        "colab": {
          "base_uri": "https://localhost:8080/",
          "height": 204
        },
        "outputId": "6821eb84-ec8e-4eb7-f130-fe514076eb89"
      },
      "source": [
        "data.head()"
      ],
      "execution_count": 454,
      "outputs": [
        {
          "output_type": "execute_result",
          "data": {
            "text/html": [
              "<div>\n",
              "<style scoped>\n",
              "    .dataframe tbody tr th:only-of-type {\n",
              "        vertical-align: middle;\n",
              "    }\n",
              "\n",
              "    .dataframe tbody tr th {\n",
              "        vertical-align: top;\n",
              "    }\n",
              "\n",
              "    .dataframe thead th {\n",
              "        text-align: right;\n",
              "    }\n",
              "</style>\n",
              "<table border=\"1\" class=\"dataframe\">\n",
              "  <thead>\n",
              "    <tr style=\"text-align: right;\">\n",
              "      <th></th>\n",
              "      <th>YM</th>\n",
              "      <th>Category</th>\n",
              "      <th>성별구분</th>\n",
              "      <th>연령대</th>\n",
              "      <th>기혼스코어</th>\n",
              "      <th>유아자녀스코어</th>\n",
              "      <th>초등학생자녀스코어</th>\n",
              "      <th>중고생자녀스코어</th>\n",
              "      <th>대학생자녀스코어</th>\n",
              "      <th>전업주부스코어</th>\n",
              "      <th>기혼대학생</th>\n",
              "      <th>기혼중고생</th>\n",
              "      <th>기혼초등생</th>\n",
              "      <th>기혼유아</th>\n",
              "    </tr>\n",
              "  </thead>\n",
              "  <tbody>\n",
              "    <tr>\n",
              "      <th>0</th>\n",
              "      <td>202005</td>\n",
              "      <td>할인점</td>\n",
              "      <td>0</td>\n",
              "      <td>F</td>\n",
              "      <td>3</td>\n",
              "      <td>1</td>\n",
              "      <td>3</td>\n",
              "      <td>2</td>\n",
              "      <td>1</td>\n",
              "      <td>1</td>\n",
              "      <td>3</td>\n",
              "      <td>6</td>\n",
              "      <td>9</td>\n",
              "      <td>3</td>\n",
              "    </tr>\n",
              "    <tr>\n",
              "      <th>1</th>\n",
              "      <td>202005</td>\n",
              "      <td>취미</td>\n",
              "      <td>0</td>\n",
              "      <td>B</td>\n",
              "      <td>3</td>\n",
              "      <td>1</td>\n",
              "      <td>2</td>\n",
              "      <td>2</td>\n",
              "      <td>1</td>\n",
              "      <td>1</td>\n",
              "      <td>3</td>\n",
              "      <td>6</td>\n",
              "      <td>6</td>\n",
              "      <td>3</td>\n",
              "    </tr>\n",
              "    <tr>\n",
              "      <th>2</th>\n",
              "      <td>202005</td>\n",
              "      <td>오픈마켓/소셜</td>\n",
              "      <td>1</td>\n",
              "      <td>D</td>\n",
              "      <td>2</td>\n",
              "      <td>2</td>\n",
              "      <td>2</td>\n",
              "      <td>2</td>\n",
              "      <td>1</td>\n",
              "      <td>2</td>\n",
              "      <td>2</td>\n",
              "      <td>4</td>\n",
              "      <td>4</td>\n",
              "      <td>4</td>\n",
              "    </tr>\n",
              "    <tr>\n",
              "      <th>3</th>\n",
              "      <td>202005</td>\n",
              "      <td>뷰티</td>\n",
              "      <td>0</td>\n",
              "      <td>D</td>\n",
              "      <td>2</td>\n",
              "      <td>2</td>\n",
              "      <td>2</td>\n",
              "      <td>2</td>\n",
              "      <td>1</td>\n",
              "      <td>1</td>\n",
              "      <td>2</td>\n",
              "      <td>4</td>\n",
              "      <td>4</td>\n",
              "      <td>4</td>\n",
              "    </tr>\n",
              "    <tr>\n",
              "      <th>4</th>\n",
              "      <td>202005</td>\n",
              "      <td>오픈마켓/소셜</td>\n",
              "      <td>0</td>\n",
              "      <td>G</td>\n",
              "      <td>3</td>\n",
              "      <td>1</td>\n",
              "      <td>2</td>\n",
              "      <td>2</td>\n",
              "      <td>2</td>\n",
              "      <td>1</td>\n",
              "      <td>6</td>\n",
              "      <td>6</td>\n",
              "      <td>6</td>\n",
              "      <td>3</td>\n",
              "    </tr>\n",
              "  </tbody>\n",
              "</table>\n",
              "</div>"
            ],
            "text/plain": [
              "       YM Category  성별구분 연령대  기혼스코어  ...  전업주부스코어  기혼대학생  기혼중고생  기혼초등생  기혼유아\n",
              "0  202005      할인점     0   F      3  ...        1      3      6      9     3\n",
              "1  202005       취미     0   B      3  ...        1      3      6      6     3\n",
              "2  202005  오픈마켓/소셜     1   D      2  ...        2      2      4      4     4\n",
              "3  202005       뷰티     0   D      2  ...        1      2      4      4     4\n",
              "4  202005  오픈마켓/소셜     0   G      3  ...        1      6      6      6     3\n",
              "\n",
              "[5 rows x 14 columns]"
            ]
          },
          "metadata": {
            "tags": []
          },
          "execution_count": 454
        }
      ]
    },
    {
      "cell_type": "code",
      "metadata": {
        "id": "gSMY71ichsGq",
        "colab_type": "code",
        "colab": {
          "base_uri": "https://localhost:8080/",
          "height": 467
        },
        "outputId": "eaaab770-cd7a-4cfb-d9d2-5f5702770996"
      },
      "source": [
        "data.groupby('연령대')['기혼대학생'].value_counts()"
      ],
      "execution_count": 455,
      "outputs": [
        {
          "output_type": "execute_result",
          "data": {
            "text/plain": [
              "연령대  기혼대학생\n",
              "A    3        56970\n",
              "     6        14658\n",
              "     9           12\n",
              "B    3        19906\n",
              "     6        14389\n",
              "     9          730\n",
              "C    2        46063\n",
              "     3         9859\n",
              "     1          348\n",
              "D    2        39297\n",
              "     3        36875\n",
              "E    1        30234\n",
              "     2        22008\n",
              "     3         2332\n",
              "F    6        34932\n",
              "     3        34415\n",
              "     9          804\n",
              "G    6        31275\n",
              "     3        17612\n",
              "     9         2208\n",
              "H    3        32826\n",
              "     6         4256\n",
              "     9           29\n",
              "Name: 기혼대학생, dtype: int64"
            ]
          },
          "metadata": {
            "tags": []
          },
          "execution_count": 455
        }
      ]
    },
    {
      "cell_type": "code",
      "metadata": {
        "id": "xXPCkWB3iXPK",
        "colab_type": "code",
        "colab": {
          "base_uri": "https://localhost:8080/",
          "height": 467
        },
        "outputId": "5d9cef18-934d-4285-f4d9-86206340c68f"
      },
      "source": [
        "data.groupby('기혼대학생')['연령대'].value_counts()"
      ],
      "execution_count": 456,
      "outputs": [
        {
          "output_type": "execute_result",
          "data": {
            "text/plain": [
              "기혼대학생  연령대\n",
              "1      E      30234\n",
              "       C        348\n",
              "2      C      46063\n",
              "       D      39297\n",
              "       E      22008\n",
              "3      A      56970\n",
              "       D      36875\n",
              "       F      34415\n",
              "       H      32826\n",
              "       B      19906\n",
              "       G      17612\n",
              "       C       9859\n",
              "       E       2332\n",
              "6      F      34932\n",
              "       G      31275\n",
              "       A      14658\n",
              "       B      14389\n",
              "       H       4256\n",
              "9      G       2208\n",
              "       F        804\n",
              "       B        730\n",
              "       H         29\n",
              "       A         12\n",
              "Name: 연령대, dtype: int64"
            ]
          },
          "metadata": {
            "tags": []
          },
          "execution_count": 456
        }
      ]
    },
    {
      "cell_type": "markdown",
      "metadata": {
        "id": "U8R4_bapiR5K",
        "colab_type": "text"
      },
      "source": [
        "- 대학생 자녀를 둔 기혼자 중 높은 점수를 보여주는 그룹은 순서대로 G, F, B 이다"
      ]
    },
    {
      "cell_type": "code",
      "metadata": {
        "id": "ZehTMZLDiqB5",
        "colab_type": "code",
        "colab": {
          "base_uri": "https://localhost:8080/",
          "height": 485
        },
        "outputId": "2c24b1a3-a77b-4578-896a-47756d2863fc"
      },
      "source": [
        "data.groupby('기혼중고생')['연령대'].value_counts()"
      ],
      "execution_count": 457,
      "outputs": [
        {
          "output_type": "execute_result",
          "data": {
            "text/plain": [
              "기혼중고생  연령대\n",
              "1      E      30234\n",
              "       C        348\n",
              "2      C      46063\n",
              "       E      22008\n",
              "       D        111\n",
              "3      H      37111\n",
              "       C       9859\n",
              "       E       2332\n",
              "       B       1184\n",
              "       G        277\n",
              "       F        226\n",
              "       A        163\n",
              "       D          6\n",
              "4      D      38814\n",
              "6      A      58294\n",
              "       F      56923\n",
              "       G      48735\n",
              "       D      34562\n",
              "       B      33758\n",
              "9      A      13183\n",
              "       F      13002\n",
              "       D       2679\n",
              "       G       2083\n",
              "       B         83\n",
              "Name: 연령대, dtype: int64"
            ]
          },
          "metadata": {
            "tags": []
          },
          "execution_count": 457
        }
      ]
    },
    {
      "cell_type": "markdown",
      "metadata": {
        "id": "8xOrR_Xpiyat",
        "colab_type": "text"
      },
      "source": [
        "- 중고생 자녀를 둔 기혼자 중 높은 점수를 보여주는 그룹은 순서대로 A,F,D 이다"
      ]
    },
    {
      "cell_type": "code",
      "metadata": {
        "id": "atGtmNDuix_6",
        "colab_type": "code",
        "colab": {
          "base_uri": "https://localhost:8080/",
          "height": 539
        },
        "outputId": "68800a00-54b2-4314-d21b-a6cb3356cc32"
      },
      "source": [
        "data.groupby('기혼초등생')['연령대'].value_counts()"
      ],
      "execution_count": 458,
      "outputs": [
        {
          "output_type": "execute_result",
          "data": {
            "text/plain": [
              "기혼초등생  연령대\n",
              "1      E      30234\n",
              "       C         39\n",
              "2      E      22008\n",
              "       D       9399\n",
              "       C       4461\n",
              "3      H      37111\n",
              "       A      29189\n",
              "       D      16502\n",
              "       F      14745\n",
              "       G       3211\n",
              "       B       2359\n",
              "       E       2332\n",
              "       C       2283\n",
              "4      C      24818\n",
              "       D      20120\n",
              "6      F      36720\n",
              "       G      25763\n",
              "       A      24616\n",
              "       C      21842\n",
              "       D      20269\n",
              "       B      12353\n",
              "9      G      22121\n",
              "       B      20313\n",
              "       F      18686\n",
              "       A      17835\n",
              "       D       9882\n",
              "       C       2827\n",
              "Name: 연령대, dtype: int64"
            ]
          },
          "metadata": {
            "tags": []
          },
          "execution_count": 458
        }
      ]
    },
    {
      "cell_type": "markdown",
      "metadata": {
        "id": "fztYCxW6jHF-",
        "colab_type": "text"
      },
      "source": [
        "초등학생 자녀를 둔 기혼자 중 높은 점수를 보여주는 그룹은 순서대로 G, B, F 이다"
      ]
    },
    {
      "cell_type": "code",
      "metadata": {
        "id": "MENb6YgsjJkS",
        "colab_type": "code",
        "colab": {
          "base_uri": "https://localhost:8080/",
          "height": 503
        },
        "outputId": "9d2d90af-6abf-4d39-bbcf-cb12615558c0"
      },
      "source": [
        "data.groupby('기혼유아')['연령대'].value_counts()"
      ],
      "execution_count": 459,
      "outputs": [
        {
          "output_type": "execute_result",
          "data": {
            "text/plain": [
              "기혼유아  연령대\n",
              "1     E      17239\n",
              "      C         74\n",
              "2     E      14990\n",
              "      C       1384\n",
              "      D       1161\n",
              "3     F      63371\n",
              "      G      51095\n",
              "      H      37111\n",
              "      B      35025\n",
              "      A      24402\n",
              "      E        585\n",
              "      D        160\n",
              "4     C      37437\n",
              "      D      34163\n",
              "      E      17936\n",
              "6     A      44689\n",
              "      D      31299\n",
              "      C      13050\n",
              "      F       6771\n",
              "      E       3483\n",
              "9     D       9389\n",
              "      C       4325\n",
              "      A       2549\n",
              "      E        341\n",
              "      F          9\n",
              "Name: 연령대, dtype: int64"
            ]
          },
          "metadata": {
            "tags": []
          },
          "execution_count": 459
        }
      ]
    },
    {
      "cell_type": "code",
      "metadata": {
        "id": "QQPwIReVjfto",
        "colab_type": "code",
        "colab": {
          "base_uri": "https://localhost:8080/",
          "height": 287
        },
        "outputId": "3994e3e5-4364-4cbf-ac5b-0654d2302fd4"
      },
      "source": [
        "data.groupby('기혼스코어')['연령대'].value_counts()"
      ],
      "execution_count": 460,
      "outputs": [
        {
          "output_type": "execute_result",
          "data": {
            "text/plain": [
              "기혼스코어  연령대\n",
              "1      E      30234\n",
              "       C        348\n",
              "2      C      46063\n",
              "       D      39297\n",
              "       E      22008\n",
              "3      A      71640\n",
              "       F      70151\n",
              "       G      51095\n",
              "       H      37111\n",
              "       D      36875\n",
              "       B      35025\n",
              "       C       9859\n",
              "       E       2332\n",
              "Name: 연령대, dtype: int64"
            ]
          },
          "metadata": {
            "tags": []
          },
          "execution_count": 460
        }
      ]
    },
    {
      "cell_type": "markdown",
      "metadata": {
        "id": "ezxQNIyv1Py0",
        "colab_type": "text"
      },
      "source": [
        "- 위 자료를 토대로 임의 배정 했습니다.\n",
        "  + 20-24 : E\n",
        "  + 25-29 : C\n",
        "  + 30-34 : D\n",
        "  + 35-39 : B\n",
        "  + 40-44 : A\n",
        "  + 45-49 : F\n",
        "  + 50-54 : G\n",
        "  + 55-59 : H"
      ]
    },
    {
      "cell_type": "markdown",
      "metadata": {
        "id": "cotEuXGLKMSc",
        "colab_type": "text"
      },
      "source": [
        "- 추론된 나이대로 연령대 mapping "
      ]
    },
    {
      "cell_type": "code",
      "metadata": {
        "id": "Pjun1TRx3sJA",
        "colab_type": "code",
        "colab": {}
      },
      "source": [
        "Ages={\"A\":\"40-44\",\"B\":\"35-39\",\"C\":\"25-29\",\"D\":\"30-44\",\"E\":\"20-24\",\"F\":\"45-49\",\"G\":\"50-54\",\"H\":\"55-59\"}\n",
        "data['Age']=data['연령대'].map(Ages)"
      ],
      "execution_count": 461,
      "outputs": []
    },
    {
      "cell_type": "markdown",
      "metadata": {
        "id": "7Msn02k-2MtH",
        "colab_type": "text"
      },
      "source": [
        "#### 모자이크 플롯"
      ]
    },
    {
      "cell_type": "code",
      "metadata": {
        "id": "Et-wK9yI19qN",
        "colab_type": "code",
        "colab": {}
      },
      "source": [
        "import numpy as np\n",
        "import pandas as pd\n",
        "\n",
        "from statsmodels.graphics.mosaicplot import mosaic\n",
        "\n",
        "import matplotlib.pyplot as plt\n",
        "import seaborn as sns\n",
        "\n"
      ],
      "execution_count": 462,
      "outputs": []
    },
    {
      "cell_type": "code",
      "metadata": {
        "id": "5mfZ4X0f2Zkc",
        "colab_type": "code",
        "colab": {
          "base_uri": "https://localhost:8080/",
          "height": 606
        },
        "outputId": "34bbb317-82f2-4f1c-9152-a047fbbe3afb"
      },
      "source": [
        "mosaic(data.sort_values('Age'), ['Category', 'Age'], \n",
        "      title='연령대 별 카테고리')\n",
        "plt.show()"
      ],
      "execution_count": 463,
      "outputs": [
        {
          "output_type": "display_data",
          "data": {
            "image/png": "[encoded data removed]",
            "text/plain": [
              "<Figure size 1440x720 with 3 Axes>"
            ]
          },
          "metadata": {
            "tags": [],
            "needs_background": "light"
          }
        }
      ]
    },
    {
      "cell_type": "code",
      "metadata": {
        "id": "OLswEISru7d-",
        "colab_type": "code",
        "colab": {}
      },
      "source": [
        "data_2019= data[(data['YM']==201905) | (data['YM']==201904)]\n",
        "data_2020= data[(data['YM']==202005) | (data['YM']==202004)]"
      ],
      "execution_count": 464,
      "outputs": []
    },
    {
      "cell_type": "code",
      "metadata": {
        "id": "LJUR280-_L2E",
        "colab_type": "code",
        "colab": {
          "base_uri": "https://localhost:8080/",
          "height": 606
        },
        "outputId": "b100ede2-8020-40d0-f515-818ec7e732c5"
      },
      "source": [
        "mosaic(data_2019.sort_values('Age'), ['Category', 'Age'], \n",
        "      title='2019 연령대 별 카테고리')\n",
        "plt.show()"
      ],
      "execution_count": 465,
      "outputs": [
        {
          "output_type": "display_data",
          "data": {
            "image/png": "[encoded data removed]",
            "text/plain": [
              "<Figure size 1440x720 with 3 Axes>"
            ]
          },
          "metadata": {
            "tags": [],
            "needs_background": "light"
          }
        }
      ]
    },
    {
      "cell_type": "code",
      "metadata": {
        "id": "o7YTB2eA_S-f",
        "colab_type": "code",
        "colab": {
          "base_uri": "https://localhost:8080/",
          "height": 606
        },
        "outputId": "539118c9-bb2a-4472-cfac-e87a0570f353"
      },
      "source": [
        "mosaic(data_2020.sort_values('Age'), ['Category', 'Age'], \n",
        "      title='2020 연령대 별 카테고리')\n",
        "plt.show()"
      ],
      "execution_count": 466,
      "outputs": [
        {
          "output_type": "display_data",
          "data": {
            "image/png": "[encoded data removed]",
            "text/plain": [
              "<Figure size 1440x720 with 3 Axes>"
            ]
          },
          "metadata": {
            "tags": [],
            "needs_background": "light"
          }
        }
      ]
    },
    {
      "cell_type": "markdown",
      "metadata": {
        "id": "1c5GVpjDApsJ",
        "colab_type": "text"
      },
      "source": [
        "#### 20대 소비 패턴"
      ]
    },
    {
      "cell_type": "code",
      "metadata": {
        "id": "8Jrd0NWDGSio",
        "colab_type": "code",
        "colab": {
          "base_uri": "https://localhost:8080/",
          "height": 255
        },
        "outputId": "94599da9-3028-4c97-8c68-a791a49a91ec"
      },
      "source": [
        "data['YM']=data['YM'].astype('str')\n",
        "data['Y']=data['YM'].str.extract('(\\d{4})')\n",
        "data.head()"
      ],
      "execution_count": 467,
      "outputs": [
        {
          "output_type": "execute_result",
          "data": {
            "text/html": [
              "<div>\n",
              "<style scoped>\n",
              "    .dataframe tbody tr th:only-of-type {\n",
              "        vertical-align: middle;\n",
              "    }\n",
              "\n",
              "    .dataframe tbody tr th {\n",
              "        vertical-align: top;\n",
              "    }\n",
              "\n",
              "    .dataframe thead th {\n",
              "        text-align: right;\n",
              "    }\n",
              "</style>\n",
              "<table border=\"1\" class=\"dataframe\">\n",
              "  <thead>\n",
              "    <tr style=\"text-align: right;\">\n",
              "      <th></th>\n",
              "      <th>YM</th>\n",
              "      <th>Category</th>\n",
              "      <th>성별구분</th>\n",
              "      <th>연령대</th>\n",
              "      <th>기혼스코어</th>\n",
              "      <th>유아자녀스코어</th>\n",
              "      <th>초등학생자녀스코어</th>\n",
              "      <th>중고생자녀스코어</th>\n",
              "      <th>대학생자녀스코어</th>\n",
              "      <th>전업주부스코어</th>\n",
              "      <th>기혼대학생</th>\n",
              "      <th>기혼중고생</th>\n",
              "      <th>기혼초등생</th>\n",
              "      <th>기혼유아</th>\n",
              "      <th>Age</th>\n",
              "      <th>Y</th>\n",
              "    </tr>\n",
              "  </thead>\n",
              "  <tbody>\n",
              "    <tr>\n",
              "      <th>0</th>\n",
              "      <td>202005</td>\n",
              "      <td>할인점</td>\n",
              "      <td>0</td>\n",
              "      <td>F</td>\n",
              "      <td>3</td>\n",
              "      <td>1</td>\n",
              "      <td>3</td>\n",
              "      <td>2</td>\n",
              "      <td>1</td>\n",
              "      <td>1</td>\n",
              "      <td>3</td>\n",
              "      <td>6</td>\n",
              "      <td>9</td>\n",
              "      <td>3</td>\n",
              "      <td>45-49</td>\n",
              "      <td>2020</td>\n",
              "    </tr>\n",
              "    <tr>\n",
              "      <th>1</th>\n",
              "      <td>202005</td>\n",
              "      <td>취미</td>\n",
              "      <td>0</td>\n",
              "      <td>B</td>\n",
              "      <td>3</td>\n",
              "      <td>1</td>\n",
              "      <td>2</td>\n",
              "      <td>2</td>\n",
              "      <td>1</td>\n",
              "      <td>1</td>\n",
              "      <td>3</td>\n",
              "      <td>6</td>\n",
              "      <td>6</td>\n",
              "      <td>3</td>\n",
              "      <td>35-39</td>\n",
              "      <td>2020</td>\n",
              "    </tr>\n",
              "    <tr>\n",
              "      <th>2</th>\n",
              "      <td>202005</td>\n",
              "      <td>오픈마켓/소셜</td>\n",
              "      <td>1</td>\n",
              "      <td>D</td>\n",
              "      <td>2</td>\n",
              "      <td>2</td>\n",
              "      <td>2</td>\n",
              "      <td>2</td>\n",
              "      <td>1</td>\n",
              "      <td>2</td>\n",
              "      <td>2</td>\n",
              "      <td>4</td>\n",
              "      <td>4</td>\n",
              "      <td>4</td>\n",
              "      <td>30-44</td>\n",
              "      <td>2020</td>\n",
              "    </tr>\n",
              "    <tr>\n",
              "      <th>3</th>\n",
              "      <td>202005</td>\n",
              "      <td>뷰티</td>\n",
              "      <td>0</td>\n",
              "      <td>D</td>\n",
              "      <td>2</td>\n",
              "      <td>2</td>\n",
              "      <td>2</td>\n",
              "      <td>2</td>\n",
              "      <td>1</td>\n",
              "      <td>1</td>\n",
              "      <td>2</td>\n",
              "      <td>4</td>\n",
              "      <td>4</td>\n",
              "      <td>4</td>\n",
              "      <td>30-44</td>\n",
              "      <td>2020</td>\n",
              "    </tr>\n",
              "    <tr>\n",
              "      <th>4</th>\n",
              "      <td>202005</td>\n",
              "      <td>오픈마켓/소셜</td>\n",
              "      <td>0</td>\n",
              "      <td>G</td>\n",
              "      <td>3</td>\n",
              "      <td>1</td>\n",
              "      <td>2</td>\n",
              "      <td>2</td>\n",
              "      <td>2</td>\n",
              "      <td>1</td>\n",
              "      <td>6</td>\n",
              "      <td>6</td>\n",
              "      <td>6</td>\n",
              "      <td>3</td>\n",
              "      <td>50-54</td>\n",
              "      <td>2020</td>\n",
              "    </tr>\n",
              "  </tbody>\n",
              "</table>\n",
              "</div>"
            ],
            "text/plain": [
              "       YM Category  성별구분 연령대  기혼스코어  ...  기혼중고생  기혼초등생  기혼유아    Age     Y\n",
              "0  202005      할인점     0   F      3  ...      6      9     3  45-49  2020\n",
              "1  202005       취미     0   B      3  ...      6      6     3  35-39  2020\n",
              "2  202005  오픈마켓/소셜     1   D      2  ...      4      4     4  30-44  2020\n",
              "3  202005       뷰티     0   D      2  ...      4      4     4  30-44  2020\n",
              "4  202005  오픈마켓/소셜     0   G      3  ...      6      6     3  50-54  2020\n",
              "\n",
              "[5 rows x 16 columns]"
            ]
          },
          "metadata": {
            "tags": []
          },
          "execution_count": 467
        }
      ]
    },
    {
      "cell_type": "code",
      "metadata": {
        "id": "RZCi-czdAs-z",
        "colab_type": "code",
        "colab": {}
      },
      "source": [
        "twenties = data[(data['연령대']==\"E\")|(data['연령대']==\"C\")]"
      ],
      "execution_count": 468,
      "outputs": []
    },
    {
      "cell_type": "code",
      "metadata": {
        "id": "_ec5mQE5Kupo",
        "colab_type": "code",
        "colab": {
          "base_uri": "https://localhost:8080/",
          "height": 624
        },
        "outputId": "093dee62-4587-4bfb-9165-cb5eabe8fc3a"
      },
      "source": [
        "Y_twenties=twenties.groupby(['Category','Y'])['연령대'].count().unstack('Y')\n",
        "Y_twenties.plot(kind='barh', stacked=False, colormap='Set3', title=\"연도별 카테고리\")"
      ],
      "execution_count": 469,
      "outputs": [
        {
          "output_type": "execute_result",
          "data": {
            "text/plain": [
              "<matplotlib.axes._subplots.AxesSubplot at 0x7f6349b289e8>"
            ]
          },
          "metadata": {
            "tags": []
          },
          "execution_count": 469
        },
        {
          "output_type": "display_data",
          "data": {
            "image/png": "[encoded data removed]",
            "text/plain": [
              "<Figure size 1440x720 with 1 Axes>"
            ]
          },
          "metadata": {
            "tags": [],
            "needs_background": "light"
          }
        }
      ]
    },
    {
      "cell_type": "code",
      "metadata": {
        "id": "mCkSms2Mlylr",
        "colab_type": "code",
        "colab": {
          "base_uri": "https://localhost:8080/",
          "height": 624
        },
        "outputId": "db276eea-58dc-4a8f-9cd9-6782a1a41d56"
      },
      "source": [
        "G_twenties=twenties.groupby(['Category','성별구분'])['연령대'].count().unstack('성별구분')\n",
        "G_twenties.plot(kind='barh', stacked=False, colormap='Set2', title=\"성별 카테고리\")"
      ],
      "execution_count": 470,
      "outputs": [
        {
          "output_type": "execute_result",
          "data": {
            "text/plain": [
              "<matplotlib.axes._subplots.AxesSubplot at 0x7f634dd4b5f8>"
            ]
          },
          "metadata": {
            "tags": []
          },
          "execution_count": 470
        },
        {
          "output_type": "display_data",
          "data": {
            "image/png": "[encoded data removed]",
            "text/plain": [
              "<Figure size 1440x720 with 1 Axes>"
            ]
          },
          "metadata": {
            "tags": [],
            "needs_background": "light"
          }
        }
      ]
    },
    {
      "cell_type": "markdown",
      "metadata": {
        "id": "jEsyNvax7l_4",
        "colab_type": "text"
      },
      "source": [
        "#### 연령대 D 소비 패턴"
      ]
    },
    {
      "cell_type": "code",
      "metadata": {
        "id": "Ryon6S8S0iVG",
        "colab_type": "code",
        "colab": {
          "base_uri": "https://localhost:8080/",
          "height": 624
        },
        "outputId": "70f80dec-03ca-4c44-d67e-66cde1663bd1"
      },
      "source": [
        "Age_D = data[(data['연령대']==\"D\")]\n",
        "Age_D=twenties.groupby(['Category','Y'])['연령대'].count().unstack('Y')\n",
        "Age_D.plot(kind='barh', stacked=False, colormap='Set3', title=\"연도별 D 카테고리\")"
      ],
      "execution_count": 471,
      "outputs": [
        {
          "output_type": "execute_result",
          "data": {
            "text/plain": [
              "<matplotlib.axes._subplots.AxesSubplot at 0x7f634da47320>"
            ]
          },
          "metadata": {
            "tags": []
          },
          "execution_count": 471
        },
        {
          "output_type": "display_data",
          "data": {
            "image/png": "[encoded data removed]",
            "text/plain": [
              "<Figure size 1440x720 with 1 Axes>"
            ]
          },
          "metadata": {
            "tags": [],
            "needs_background": "light"
          }
        }
      ]
    },
    {
      "cell_type": "code",
      "metadata": {
        "id": "MG-cDyN-1qnt",
        "colab_type": "code",
        "colab": {
          "base_uri": "https://localhost:8080/",
          "height": 624
        },
        "outputId": "5b786769-b125-4724-e793-45704ebbc483"
      },
      "source": [
        "Gender_D = data[(data['연령대']==\"D\")]\n",
        "Gender_D=twenties.groupby(['Category','성별구분'])['연령대'].count().unstack('성별구분')\n",
        "Gender_D.plot(kind='barh', stacked=False, colormap='Set1', title=\"성별 카테고리\")"
      ],
      "execution_count": 472,
      "outputs": [
        {
          "output_type": "execute_result",
          "data": {
            "text/plain": [
              "<matplotlib.axes._subplots.AxesSubplot at 0x7f634d898b00>"
            ]
          },
          "metadata": {
            "tags": []
          },
          "execution_count": 472
        },
        {
          "output_type": "display_data",
          "data": {
            "image/png": "[encoded data removed]",
            "text/plain": [
              "<Figure size 1440x720 with 1 Axes>"
            ]
          },
          "metadata": {
            "tags": [],
            "needs_background": "light"
          }
        }
      ]
    },
    {
      "cell_type": "markdown",
      "metadata": {
        "id": "uK5x9pqnKkGb",
        "colab_type": "text"
      },
      "source": [
        "### (5) 피벗 테이블 만들기 "
      ]
    },
    {
      "cell_type": "code",
      "metadata": {
        "id": "iPy4gNEMBGmA",
        "colab_type": "code",
        "colab": {
          "base_uri": "https://localhost:8080/",
          "height": 390
        },
        "outputId": "9633090b-2e04-4141-c53f-a816d6998939"
      },
      "source": [
        "new_data2019 = data_2019.groupby(['Category','Age'])['Age'].count().unstack('Age')\n",
        "new_data2019"
      ],
      "execution_count": 474,
      "outputs": [
        {
          "output_type": "execute_result",
          "data": {
            "text/html": [
              "<div>\n",
              "<style scoped>\n",
              "    .dataframe tbody tr th:only-of-type {\n",
              "        vertical-align: middle;\n",
              "    }\n",
              "\n",
              "    .dataframe tbody tr th {\n",
              "        vertical-align: top;\n",
              "    }\n",
              "\n",
              "    .dataframe thead th {\n",
              "        text-align: right;\n",
              "    }\n",
              "</style>\n",
              "<table border=\"1\" class=\"dataframe\">\n",
              "  <thead>\n",
              "    <tr style=\"text-align: right;\">\n",
              "      <th>Age</th>\n",
              "      <th>20-24</th>\n",
              "      <th>25-29</th>\n",
              "      <th>30-44</th>\n",
              "      <th>35-39</th>\n",
              "      <th>40-44</th>\n",
              "      <th>45-49</th>\n",
              "      <th>50-54</th>\n",
              "      <th>55-59</th>\n",
              "    </tr>\n",
              "    <tr>\n",
              "      <th>Category</th>\n",
              "      <th></th>\n",
              "      <th></th>\n",
              "      <th></th>\n",
              "      <th></th>\n",
              "      <th></th>\n",
              "      <th></th>\n",
              "      <th></th>\n",
              "      <th></th>\n",
              "    </tr>\n",
              "  </thead>\n",
              "  <tbody>\n",
              "    <tr>\n",
              "      <th>디저트</th>\n",
              "      <td>6363</td>\n",
              "      <td>5682</td>\n",
              "      <td>7735</td>\n",
              "      <td>3438</td>\n",
              "      <td>7325</td>\n",
              "      <td>7445</td>\n",
              "      <td>5295</td>\n",
              "      <td>3455</td>\n",
              "    </tr>\n",
              "    <tr>\n",
              "      <th>면세점</th>\n",
              "      <td>242</td>\n",
              "      <td>270</td>\n",
              "      <td>288</td>\n",
              "      <td>188</td>\n",
              "      <td>237</td>\n",
              "      <td>263</td>\n",
              "      <td>224</td>\n",
              "      <td>161</td>\n",
              "    </tr>\n",
              "    <tr>\n",
              "      <th>뷰티</th>\n",
              "      <td>2592</td>\n",
              "      <td>1564</td>\n",
              "      <td>1490</td>\n",
              "      <td>861</td>\n",
              "      <td>1390</td>\n",
              "      <td>1699</td>\n",
              "      <td>1394</td>\n",
              "      <td>874</td>\n",
              "    </tr>\n",
              "    <tr>\n",
              "      <th>오픈마켓/소셜</th>\n",
              "      <td>5535</td>\n",
              "      <td>5932</td>\n",
              "      <td>8118</td>\n",
              "      <td>1802</td>\n",
              "      <td>6633</td>\n",
              "      <td>5546</td>\n",
              "      <td>3157</td>\n",
              "      <td>1386</td>\n",
              "    </tr>\n",
              "    <tr>\n",
              "      <th>전문몰</th>\n",
              "      <td>8347</td>\n",
              "      <td>8004</td>\n",
              "      <td>10858</td>\n",
              "      <td>4958</td>\n",
              "      <td>9818</td>\n",
              "      <td>9607</td>\n",
              "      <td>6873</td>\n",
              "      <td>4101</td>\n",
              "    </tr>\n",
              "    <tr>\n",
              "      <th>종합몰</th>\n",
              "      <td>986</td>\n",
              "      <td>1382</td>\n",
              "      <td>2068</td>\n",
              "      <td>313</td>\n",
              "      <td>1636</td>\n",
              "      <td>1138</td>\n",
              "      <td>579</td>\n",
              "      <td>262</td>\n",
              "    </tr>\n",
              "    <tr>\n",
              "      <th>취미</th>\n",
              "      <td>2076</td>\n",
              "      <td>1179</td>\n",
              "      <td>1438</td>\n",
              "      <td>1054</td>\n",
              "      <td>1361</td>\n",
              "      <td>1546</td>\n",
              "      <td>1312</td>\n",
              "      <td>1010</td>\n",
              "    </tr>\n",
              "    <tr>\n",
              "      <th>할인점</th>\n",
              "      <td>3476</td>\n",
              "      <td>4856</td>\n",
              "      <td>7952</td>\n",
              "      <td>5493</td>\n",
              "      <td>7862</td>\n",
              "      <td>8285</td>\n",
              "      <td>6654</td>\n",
              "      <td>7359</td>\n",
              "    </tr>\n",
              "    <tr>\n",
              "      <th>항공/여행사</th>\n",
              "      <td>640</td>\n",
              "      <td>566</td>\n",
              "      <td>782</td>\n",
              "      <td>330</td>\n",
              "      <td>596</td>\n",
              "      <td>585</td>\n",
              "      <td>485</td>\n",
              "      <td>313</td>\n",
              "    </tr>\n",
              "    <tr>\n",
              "      <th>호텔/숙박</th>\n",
              "      <td>847</td>\n",
              "      <td>621</td>\n",
              "      <td>803</td>\n",
              "      <td>351</td>\n",
              "      <td>679</td>\n",
              "      <td>660</td>\n",
              "      <td>468</td>\n",
              "      <td>417</td>\n",
              "    </tr>\n",
              "  </tbody>\n",
              "</table>\n",
              "</div>"
            ],
            "text/plain": [
              "Age       20-24  25-29  30-44  35-39  40-44  45-49  50-54  55-59\n",
              "Category                                                        \n",
              "디저트        6363   5682   7735   3438   7325   7445   5295   3455\n",
              "면세점         242    270    288    188    237    263    224    161\n",
              "뷰티         2592   1564   1490    861   1390   1699   1394    874\n",
              "오픈마켓/소셜    5535   5932   8118   1802   6633   5546   3157   1386\n",
              "전문몰        8347   8004  10858   4958   9818   9607   6873   4101\n",
              "종합몰         986   1382   2068    313   1636   1138    579    262\n",
              "취미         2076   1179   1438   1054   1361   1546   1312   1010\n",
              "할인점        3476   4856   7952   5493   7862   8285   6654   7359\n",
              "항공/여행사      640    566    782    330    596    585    485    313\n",
              "호텔/숙박       847    621    803    351    679    660    468    417"
            ]
          },
          "metadata": {
            "tags": []
          },
          "execution_count": 474
        }
      ]
    },
    {
      "cell_type": "code",
      "metadata": {
        "id": "9XRAzxP1BRVD",
        "colab_type": "code",
        "colab": {
          "base_uri": "https://localhost:8080/",
          "height": 390
        },
        "outputId": "576be826-e1d4-4e51-d744-d392c2d4ae20"
      },
      "source": [
        "new_data2020 = data_2020.groupby(['Category','Age'])['Age'].count().unstack('Age')\n",
        "new_data2020"
      ],
      "execution_count": 475,
      "outputs": [
        {
          "output_type": "execute_result",
          "data": {
            "text/html": [
              "<div>\n",
              "<style scoped>\n",
              "    .dataframe tbody tr th:only-of-type {\n",
              "        vertical-align: middle;\n",
              "    }\n",
              "\n",
              "    .dataframe tbody tr th {\n",
              "        vertical-align: top;\n",
              "    }\n",
              "\n",
              "    .dataframe thead th {\n",
              "        text-align: right;\n",
              "    }\n",
              "</style>\n",
              "<table border=\"1\" class=\"dataframe\">\n",
              "  <thead>\n",
              "    <tr style=\"text-align: right;\">\n",
              "      <th>Age</th>\n",
              "      <th>20-24</th>\n",
              "      <th>25-29</th>\n",
              "      <th>30-44</th>\n",
              "      <th>35-39</th>\n",
              "      <th>40-44</th>\n",
              "      <th>45-49</th>\n",
              "      <th>50-54</th>\n",
              "      <th>55-59</th>\n",
              "    </tr>\n",
              "    <tr>\n",
              "      <th>Category</th>\n",
              "      <th></th>\n",
              "      <th></th>\n",
              "      <th></th>\n",
              "      <th></th>\n",
              "      <th></th>\n",
              "      <th></th>\n",
              "      <th></th>\n",
              "      <th></th>\n",
              "    </tr>\n",
              "  </thead>\n",
              "  <tbody>\n",
              "    <tr>\n",
              "      <th>디저트</th>\n",
              "      <td>4888</td>\n",
              "      <td>5287</td>\n",
              "      <td>6871</td>\n",
              "      <td>3419</td>\n",
              "      <td>6761</td>\n",
              "      <td>6815</td>\n",
              "      <td>5361</td>\n",
              "      <td>3603</td>\n",
              "    </tr>\n",
              "    <tr>\n",
              "      <th>면세점</th>\n",
              "      <td>46</td>\n",
              "      <td>31</td>\n",
              "      <td>23</td>\n",
              "      <td>11</td>\n",
              "      <td>15</td>\n",
              "      <td>20</td>\n",
              "      <td>18</td>\n",
              "      <td>31</td>\n",
              "    </tr>\n",
              "    <tr>\n",
              "      <th>뷰티</th>\n",
              "      <td>1735</td>\n",
              "      <td>1203</td>\n",
              "      <td>1008</td>\n",
              "      <td>658</td>\n",
              "      <td>987</td>\n",
              "      <td>1222</td>\n",
              "      <td>1048</td>\n",
              "      <td>728</td>\n",
              "    </tr>\n",
              "    <tr>\n",
              "      <th>오픈마켓/소셜</th>\n",
              "      <td>5034</td>\n",
              "      <td>6064</td>\n",
              "      <td>8446</td>\n",
              "      <td>2272</td>\n",
              "      <td>7932</td>\n",
              "      <td>6765</td>\n",
              "      <td>4108</td>\n",
              "      <td>2012</td>\n",
              "    </tr>\n",
              "    <tr>\n",
              "      <th>전문몰</th>\n",
              "      <td>6918</td>\n",
              "      <td>7981</td>\n",
              "      <td>10414</td>\n",
              "      <td>5097</td>\n",
              "      <td>10331</td>\n",
              "      <td>10224</td>\n",
              "      <td>7507</td>\n",
              "      <td>5024</td>\n",
              "    </tr>\n",
              "    <tr>\n",
              "      <th>종합몰</th>\n",
              "      <td>555</td>\n",
              "      <td>1076</td>\n",
              "      <td>1794</td>\n",
              "      <td>352</td>\n",
              "      <td>1714</td>\n",
              "      <td>1281</td>\n",
              "      <td>688</td>\n",
              "      <td>295</td>\n",
              "    </tr>\n",
              "    <tr>\n",
              "      <th>취미</th>\n",
              "      <td>1347</td>\n",
              "      <td>869</td>\n",
              "      <td>834</td>\n",
              "      <td>685</td>\n",
              "      <td>835</td>\n",
              "      <td>1136</td>\n",
              "      <td>980</td>\n",
              "      <td>787</td>\n",
              "    </tr>\n",
              "    <tr>\n",
              "      <th>할인점</th>\n",
              "      <td>2178</td>\n",
              "      <td>3043</td>\n",
              "      <td>4538</td>\n",
              "      <td>3372</td>\n",
              "      <td>4919</td>\n",
              "      <td>5306</td>\n",
              "      <td>4439</td>\n",
              "      <td>4904</td>\n",
              "    </tr>\n",
              "    <tr>\n",
              "      <th>항공/여행사</th>\n",
              "      <td>228</td>\n",
              "      <td>208</td>\n",
              "      <td>224</td>\n",
              "      <td>134</td>\n",
              "      <td>203</td>\n",
              "      <td>186</td>\n",
              "      <td>168</td>\n",
              "      <td>113</td>\n",
              "    </tr>\n",
              "    <tr>\n",
              "      <th>호텔/숙박</th>\n",
              "      <td>541</td>\n",
              "      <td>452</td>\n",
              "      <td>488</td>\n",
              "      <td>237</td>\n",
              "      <td>406</td>\n",
              "      <td>422</td>\n",
              "      <td>337</td>\n",
              "      <td>276</td>\n",
              "    </tr>\n",
              "  </tbody>\n",
              "</table>\n",
              "</div>"
            ],
            "text/plain": [
              "Age       20-24  25-29  30-44  35-39  40-44  45-49  50-54  55-59\n",
              "Category                                                        \n",
              "디저트        4888   5287   6871   3419   6761   6815   5361   3603\n",
              "면세점          46     31     23     11     15     20     18     31\n",
              "뷰티         1735   1203   1008    658    987   1222   1048    728\n",
              "오픈마켓/소셜    5034   6064   8446   2272   7932   6765   4108   2012\n",
              "전문몰        6918   7981  10414   5097  10331  10224   7507   5024\n",
              "종합몰         555   1076   1794    352   1714   1281    688    295\n",
              "취미         1347    869    834    685    835   1136    980    787\n",
              "할인점        2178   3043   4538   3372   4919   5306   4439   4904\n",
              "항공/여행사      228    208    224    134    203    186    168    113\n",
              "호텔/숙박       541    452    488    237    406    422    337    276"
            ]
          },
          "metadata": {
            "tags": []
          },
          "execution_count": 475
        }
      ]
    },
    {
      "cell_type": "code",
      "metadata": {
        "id": "jNCBwJluB5Mu",
        "colab_type": "code",
        "colab": {
          "base_uri": "https://localhost:8080/",
          "height": 17
        },
        "outputId": "e39cfc1c-cb54-4ab1-c3df-b1d3cbf5fd0b"
      },
      "source": [
        "from google.colab import files\n",
        "\n",
        "new_data2019.to_csv('new_data2019.csv')\n",
        "files.download('new_data2019.csv')"
      ],
      "execution_count": null,
      "outputs": [
        {
          "output_type": "display_data",
          "data": {
            "application/javascript": [
              "\n",
              "    async function download(id, filename, size) {\n",
              "      if (!google.colab.kernel.accessAllowed) {\n",
              "        return;\n",
              "      }\n",
              "      const div = document.createElement('div');\n",
              "      const label = document.createElement('label');\n",
              "      label.textContent = `Downloading \"${filename}\": `;\n",
              "      div.appendChild(label);\n",
              "      const progress = document.createElement('progress');\n",
              "      progress.max = size;\n",
              "      div.appendChild(progress);\n",
              "      document.body.appendChild(div);\n",
              "\n",
              "      const buffers = [];\n",
              "      let downloaded = 0;\n",
              "\n",
              "      const channel = await google.colab.kernel.comms.open(id);\n",
              "      // Send a message to notify the kernel that we're ready.\n",
              "      channel.send({})\n",
              "\n",
              "      for await (const message of channel.messages) {\n",
              "        // Send a message to notify the kernel that we're ready.\n",
              "        channel.send({})\n",
              "        if (message.buffers) {\n",
              "          for (const buffer of message.buffers) {\n",
              "            buffers.push(buffer);\n",
              "            downloaded += buffer.byteLength;\n",
              "            progress.value = downloaded;\n",
              "          }\n",
              "        }\n",
              "      }\n",
              "      const blob = new Blob(buffers, {type: 'application/binary'});\n",
              "      const a = document.createElement('a');\n",
              "      a.href = window.URL.createObjectURL(blob);\n",
              "      a.download = filename;\n",
              "      div.appendChild(a);\n",
              "      a.click();\n",
              "      div.remove();\n",
              "    }\n",
              "  "
            ],
            "text/plain": [
              "<IPython.core.display.Javascript object>"
            ]
          },
          "metadata": {
            "tags": []
          }
        },
        {
          "output_type": "display_data",
          "data": {
            "application/javascript": [
              "download(\"download_eca56da1-f14d-42ad-884e-94b8fd8b7c44\", \"new_data2019.csv\", 543)"
            ],
            "text/plain": [
              "<IPython.core.display.Javascript object>"
            ]
          },
          "metadata": {
            "tags": []
          }
        }
      ]
    },
    {
      "cell_type": "code",
      "metadata": {
        "id": "7Za_XwxiGLtv",
        "colab_type": "code",
        "colab": {
          "base_uri": "https://localhost:8080/",
          "height": 306
        },
        "outputId": "98fe900d-351b-4a0a-9548-d21f7c59bfea"
      },
      "source": [
        "data_2004= data[data['YM']==\"202004\"]\n",
        "data_2004.head()\n"
      ],
      "execution_count": 480,
      "outputs": [
        {
          "output_type": "execute_result",
          "data": {
            "text/html": [
              "<div>\n",
              "<style scoped>\n",
              "    .dataframe tbody tr th:only-of-type {\n",
              "        vertical-align: middle;\n",
              "    }\n",
              "\n",
              "    .dataframe tbody tr th {\n",
              "        vertical-align: top;\n",
              "    }\n",
              "\n",
              "    .dataframe thead th {\n",
              "        text-align: right;\n",
              "    }\n",
              "</style>\n",
              "<table border=\"1\" class=\"dataframe\">\n",
              "  <thead>\n",
              "    <tr style=\"text-align: right;\">\n",
              "      <th></th>\n",
              "      <th>YM</th>\n",
              "      <th>Category</th>\n",
              "      <th>성별구분</th>\n",
              "      <th>연령대</th>\n",
              "      <th>기혼스코어</th>\n",
              "      <th>유아자녀스코어</th>\n",
              "      <th>초등학생자녀스코어</th>\n",
              "      <th>중고생자녀스코어</th>\n",
              "      <th>대학생자녀스코어</th>\n",
              "      <th>전업주부스코어</th>\n",
              "      <th>기혼대학생</th>\n",
              "      <th>기혼중고생</th>\n",
              "      <th>기혼초등생</th>\n",
              "      <th>기혼유아</th>\n",
              "      <th>Age</th>\n",
              "      <th>Y</th>\n",
              "    </tr>\n",
              "  </thead>\n",
              "  <tbody>\n",
              "    <tr>\n",
              "      <th>109094</th>\n",
              "      <td>202004</td>\n",
              "      <td>오픈마켓/소셜</td>\n",
              "      <td>1</td>\n",
              "      <td>D</td>\n",
              "      <td>2</td>\n",
              "      <td>2</td>\n",
              "      <td>1</td>\n",
              "      <td>2</td>\n",
              "      <td>1</td>\n",
              "      <td>1</td>\n",
              "      <td>2</td>\n",
              "      <td>4</td>\n",
              "      <td>2</td>\n",
              "      <td>4</td>\n",
              "      <td>30-44</td>\n",
              "      <td>2020</td>\n",
              "    </tr>\n",
              "    <tr>\n",
              "      <th>109095</th>\n",
              "      <td>202004</td>\n",
              "      <td>디저트</td>\n",
              "      <td>1</td>\n",
              "      <td>B</td>\n",
              "      <td>3</td>\n",
              "      <td>1</td>\n",
              "      <td>3</td>\n",
              "      <td>2</td>\n",
              "      <td>2</td>\n",
              "      <td>2</td>\n",
              "      <td>6</td>\n",
              "      <td>6</td>\n",
              "      <td>9</td>\n",
              "      <td>3</td>\n",
              "      <td>35-39</td>\n",
              "      <td>2020</td>\n",
              "    </tr>\n",
              "    <tr>\n",
              "      <th>109096</th>\n",
              "      <td>202004</td>\n",
              "      <td>전문몰</td>\n",
              "      <td>0</td>\n",
              "      <td>E</td>\n",
              "      <td>1</td>\n",
              "      <td>1</td>\n",
              "      <td>1</td>\n",
              "      <td>1</td>\n",
              "      <td>1</td>\n",
              "      <td>1</td>\n",
              "      <td>1</td>\n",
              "      <td>1</td>\n",
              "      <td>1</td>\n",
              "      <td>1</td>\n",
              "      <td>20-24</td>\n",
              "      <td>2020</td>\n",
              "    </tr>\n",
              "    <tr>\n",
              "      <th>109097</th>\n",
              "      <td>202004</td>\n",
              "      <td>전문몰</td>\n",
              "      <td>1</td>\n",
              "      <td>D</td>\n",
              "      <td>2</td>\n",
              "      <td>2</td>\n",
              "      <td>2</td>\n",
              "      <td>2</td>\n",
              "      <td>1</td>\n",
              "      <td>2</td>\n",
              "      <td>2</td>\n",
              "      <td>4</td>\n",
              "      <td>4</td>\n",
              "      <td>4</td>\n",
              "      <td>30-44</td>\n",
              "      <td>2020</td>\n",
              "    </tr>\n",
              "    <tr>\n",
              "      <th>109098</th>\n",
              "      <td>202004</td>\n",
              "      <td>오픈마켓/소셜</td>\n",
              "      <td>1</td>\n",
              "      <td>E</td>\n",
              "      <td>2</td>\n",
              "      <td>3</td>\n",
              "      <td>1</td>\n",
              "      <td>1</td>\n",
              "      <td>1</td>\n",
              "      <td>2</td>\n",
              "      <td>2</td>\n",
              "      <td>2</td>\n",
              "      <td>2</td>\n",
              "      <td>6</td>\n",
              "      <td>20-24</td>\n",
              "      <td>2020</td>\n",
              "    </tr>\n",
              "  </tbody>\n",
              "</table>\n",
              "</div>"
            ],
            "text/plain": [
              "            YM Category  성별구분 연령대  기혼스코어  ...  기혼중고생  기혼초등생  기혼유아    Age     Y\n",
              "109094  202004  오픈마켓/소셜     1   D      2  ...      4      2     4  30-44  2020\n",
              "109095  202004      디저트     1   B      3  ...      6      9     3  35-39  2020\n",
              "109096  202004      전문몰     0   E      1  ...      1      1     1  20-24  2020\n",
              "109097  202004      전문몰     1   D      2  ...      4      4     4  30-44  2020\n",
              "109098  202004  오픈마켓/소셜     1   E      2  ...      2      2     6  20-24  2020\n",
              "\n",
              "[5 rows x 16 columns]"
            ]
          },
          "metadata": {
            "tags": []
          },
          "execution_count": 480
        }
      ]
    },
    {
      "cell_type": "code",
      "metadata": {
        "id": "V0O9L0oaGoFn",
        "colab_type": "code",
        "colab": {
          "base_uri": "https://localhost:8080/",
          "height": 255
        },
        "outputId": "e2163be5-4ee5-4ac2-f97d-f659bf4a060b"
      },
      "source": [
        "data_2005= data[data['YM']==\"202005\"]\n",
        "data_2005.head()"
      ],
      "execution_count": 481,
      "outputs": [
        {
          "output_type": "execute_result",
          "data": {
            "text/html": [
              "<div>\n",
              "<style scoped>\n",
              "    .dataframe tbody tr th:only-of-type {\n",
              "        vertical-align: middle;\n",
              "    }\n",
              "\n",
              "    .dataframe tbody tr th {\n",
              "        vertical-align: top;\n",
              "    }\n",
              "\n",
              "    .dataframe thead th {\n",
              "        text-align: right;\n",
              "    }\n",
              "</style>\n",
              "<table border=\"1\" class=\"dataframe\">\n",
              "  <thead>\n",
              "    <tr style=\"text-align: right;\">\n",
              "      <th></th>\n",
              "      <th>YM</th>\n",
              "      <th>Category</th>\n",
              "      <th>성별구분</th>\n",
              "      <th>연령대</th>\n",
              "      <th>기혼스코어</th>\n",
              "      <th>유아자녀스코어</th>\n",
              "      <th>초등학생자녀스코어</th>\n",
              "      <th>중고생자녀스코어</th>\n",
              "      <th>대학생자녀스코어</th>\n",
              "      <th>전업주부스코어</th>\n",
              "      <th>기혼대학생</th>\n",
              "      <th>기혼중고생</th>\n",
              "      <th>기혼초등생</th>\n",
              "      <th>기혼유아</th>\n",
              "      <th>Age</th>\n",
              "      <th>Y</th>\n",
              "    </tr>\n",
              "  </thead>\n",
              "  <tbody>\n",
              "    <tr>\n",
              "      <th>0</th>\n",
              "      <td>202005</td>\n",
              "      <td>할인점</td>\n",
              "      <td>0</td>\n",
              "      <td>F</td>\n",
              "      <td>3</td>\n",
              "      <td>1</td>\n",
              "      <td>3</td>\n",
              "      <td>2</td>\n",
              "      <td>1</td>\n",
              "      <td>1</td>\n",
              "      <td>3</td>\n",
              "      <td>6</td>\n",
              "      <td>9</td>\n",
              "      <td>3</td>\n",
              "      <td>45-49</td>\n",
              "      <td>2020</td>\n",
              "    </tr>\n",
              "    <tr>\n",
              "      <th>1</th>\n",
              "      <td>202005</td>\n",
              "      <td>취미</td>\n",
              "      <td>0</td>\n",
              "      <td>B</td>\n",
              "      <td>3</td>\n",
              "      <td>1</td>\n",
              "      <td>2</td>\n",
              "      <td>2</td>\n",
              "      <td>1</td>\n",
              "      <td>1</td>\n",
              "      <td>3</td>\n",
              "      <td>6</td>\n",
              "      <td>6</td>\n",
              "      <td>3</td>\n",
              "      <td>35-39</td>\n",
              "      <td>2020</td>\n",
              "    </tr>\n",
              "    <tr>\n",
              "      <th>2</th>\n",
              "      <td>202005</td>\n",
              "      <td>오픈마켓/소셜</td>\n",
              "      <td>1</td>\n",
              "      <td>D</td>\n",
              "      <td>2</td>\n",
              "      <td>2</td>\n",
              "      <td>2</td>\n",
              "      <td>2</td>\n",
              "      <td>1</td>\n",
              "      <td>2</td>\n",
              "      <td>2</td>\n",
              "      <td>4</td>\n",
              "      <td>4</td>\n",
              "      <td>4</td>\n",
              "      <td>30-44</td>\n",
              "      <td>2020</td>\n",
              "    </tr>\n",
              "    <tr>\n",
              "      <th>3</th>\n",
              "      <td>202005</td>\n",
              "      <td>뷰티</td>\n",
              "      <td>0</td>\n",
              "      <td>D</td>\n",
              "      <td>2</td>\n",
              "      <td>2</td>\n",
              "      <td>2</td>\n",
              "      <td>2</td>\n",
              "      <td>1</td>\n",
              "      <td>1</td>\n",
              "      <td>2</td>\n",
              "      <td>4</td>\n",
              "      <td>4</td>\n",
              "      <td>4</td>\n",
              "      <td>30-44</td>\n",
              "      <td>2020</td>\n",
              "    </tr>\n",
              "    <tr>\n",
              "      <th>4</th>\n",
              "      <td>202005</td>\n",
              "      <td>오픈마켓/소셜</td>\n",
              "      <td>0</td>\n",
              "      <td>G</td>\n",
              "      <td>3</td>\n",
              "      <td>1</td>\n",
              "      <td>2</td>\n",
              "      <td>2</td>\n",
              "      <td>2</td>\n",
              "      <td>1</td>\n",
              "      <td>6</td>\n",
              "      <td>6</td>\n",
              "      <td>6</td>\n",
              "      <td>3</td>\n",
              "      <td>50-54</td>\n",
              "      <td>2020</td>\n",
              "    </tr>\n",
              "  </tbody>\n",
              "</table>\n",
              "</div>"
            ],
            "text/plain": [
              "       YM Category  성별구분 연령대  기혼스코어  ...  기혼중고생  기혼초등생  기혼유아    Age     Y\n",
              "0  202005      할인점     0   F      3  ...      6      9     3  45-49  2020\n",
              "1  202005       취미     0   B      3  ...      6      6     3  35-39  2020\n",
              "2  202005  오픈마켓/소셜     1   D      2  ...      4      4     4  30-44  2020\n",
              "3  202005       뷰티     0   D      2  ...      4      4     4  30-44  2020\n",
              "4  202005  오픈마켓/소셜     0   G      3  ...      6      6     3  50-54  2020\n",
              "\n",
              "[5 rows x 16 columns]"
            ]
          },
          "metadata": {
            "tags": []
          },
          "execution_count": 481
        }
      ]
    },
    {
      "cell_type": "code",
      "metadata": {
        "id": "EkBlfGT-GqlH",
        "colab_type": "code",
        "colab": {
          "base_uri": "https://localhost:8080/",
          "height": 221
        },
        "outputId": "9fe783c9-c38e-448f-c7bc-37a2f518b2c2"
      },
      "source": [
        "data_1904= data[data['YM']==\"201904\"]\n",
        "data_1904.head()"
      ],
      "execution_count": 482,
      "outputs": [
        {
          "output_type": "execute_result",
          "data": {
            "text/html": [
              "<div>\n",
              "<style scoped>\n",
              "    .dataframe tbody tr th:only-of-type {\n",
              "        vertical-align: middle;\n",
              "    }\n",
              "\n",
              "    .dataframe tbody tr th {\n",
              "        vertical-align: top;\n",
              "    }\n",
              "\n",
              "    .dataframe thead th {\n",
              "        text-align: right;\n",
              "    }\n",
              "</style>\n",
              "<table border=\"1\" class=\"dataframe\">\n",
              "  <thead>\n",
              "    <tr style=\"text-align: right;\">\n",
              "      <th></th>\n",
              "      <th>YM</th>\n",
              "      <th>Category</th>\n",
              "      <th>성별구분</th>\n",
              "      <th>연령대</th>\n",
              "      <th>기혼스코어</th>\n",
              "      <th>유아자녀스코어</th>\n",
              "      <th>초등학생자녀스코어</th>\n",
              "      <th>중고생자녀스코어</th>\n",
              "      <th>대학생자녀스코어</th>\n",
              "      <th>전업주부스코어</th>\n",
              "      <th>기혼대학생</th>\n",
              "      <th>기혼중고생</th>\n",
              "      <th>기혼초등생</th>\n",
              "      <th>기혼유아</th>\n",
              "      <th>Age</th>\n",
              "      <th>Y</th>\n",
              "    </tr>\n",
              "  </thead>\n",
              "  <tbody>\n",
              "    <tr>\n",
              "      <th>331919</th>\n",
              "      <td>201904</td>\n",
              "      <td>할인점</td>\n",
              "      <td>0</td>\n",
              "      <td>H</td>\n",
              "      <td>3</td>\n",
              "      <td>1</td>\n",
              "      <td>1</td>\n",
              "      <td>1</td>\n",
              "      <td>1</td>\n",
              "      <td>1</td>\n",
              "      <td>3</td>\n",
              "      <td>3</td>\n",
              "      <td>3</td>\n",
              "      <td>3</td>\n",
              "      <td>55-59</td>\n",
              "      <td>2019</td>\n",
              "    </tr>\n",
              "    <tr>\n",
              "      <th>331920</th>\n",
              "      <td>201904</td>\n",
              "      <td>할인점</td>\n",
              "      <td>0</td>\n",
              "      <td>E</td>\n",
              "      <td>1</td>\n",
              "      <td>1</td>\n",
              "      <td>1</td>\n",
              "      <td>1</td>\n",
              "      <td>1</td>\n",
              "      <td>1</td>\n",
              "      <td>1</td>\n",
              "      <td>1</td>\n",
              "      <td>1</td>\n",
              "      <td>1</td>\n",
              "      <td>20-24</td>\n",
              "      <td>2019</td>\n",
              "    </tr>\n",
              "    <tr>\n",
              "      <th>331921</th>\n",
              "      <td>201904</td>\n",
              "      <td>할인점</td>\n",
              "      <td>1</td>\n",
              "      <td>A</td>\n",
              "      <td>3</td>\n",
              "      <td>1</td>\n",
              "      <td>2</td>\n",
              "      <td>2</td>\n",
              "      <td>1</td>\n",
              "      <td>2</td>\n",
              "      <td>3</td>\n",
              "      <td>6</td>\n",
              "      <td>6</td>\n",
              "      <td>3</td>\n",
              "      <td>40-44</td>\n",
              "      <td>2019</td>\n",
              "    </tr>\n",
              "    <tr>\n",
              "      <th>331922</th>\n",
              "      <td>201904</td>\n",
              "      <td>전문몰</td>\n",
              "      <td>1</td>\n",
              "      <td>D</td>\n",
              "      <td>3</td>\n",
              "      <td>2</td>\n",
              "      <td>3</td>\n",
              "      <td>2</td>\n",
              "      <td>1</td>\n",
              "      <td>3</td>\n",
              "      <td>3</td>\n",
              "      <td>6</td>\n",
              "      <td>9</td>\n",
              "      <td>6</td>\n",
              "      <td>30-44</td>\n",
              "      <td>2019</td>\n",
              "    </tr>\n",
              "    <tr>\n",
              "      <th>331923</th>\n",
              "      <td>201904</td>\n",
              "      <td>취미</td>\n",
              "      <td>0</td>\n",
              "      <td>F</td>\n",
              "      <td>3</td>\n",
              "      <td>2</td>\n",
              "      <td>3</td>\n",
              "      <td>2</td>\n",
              "      <td>2</td>\n",
              "      <td>1</td>\n",
              "      <td>6</td>\n",
              "      <td>6</td>\n",
              "      <td>9</td>\n",
              "      <td>6</td>\n",
              "      <td>45-49</td>\n",
              "      <td>2019</td>\n",
              "    </tr>\n",
              "  </tbody>\n",
              "</table>\n",
              "</div>"
            ],
            "text/plain": [
              "            YM Category  성별구분 연령대  기혼스코어  ...  기혼중고생  기혼초등생  기혼유아    Age     Y\n",
              "331919  201904      할인점     0   H      3  ...      3      3     3  55-59  2019\n",
              "331920  201904      할인점     0   E      1  ...      1      1     1  20-24  2019\n",
              "331921  201904      할인점     1   A      3  ...      6      6     3  40-44  2019\n",
              "331922  201904      전문몰     1   D      3  ...      6      9     6  30-44  2019\n",
              "331923  201904       취미     0   F      3  ...      6      9     6  45-49  2019\n",
              "\n",
              "[5 rows x 16 columns]"
            ]
          },
          "metadata": {
            "tags": []
          },
          "execution_count": 482
        }
      ]
    },
    {
      "cell_type": "code",
      "metadata": {
        "id": "twKRBGngGtTd",
        "colab_type": "code",
        "colab": {
          "base_uri": "https://localhost:8080/",
          "height": 221
        },
        "outputId": "0c9ab446-3a2a-4718-b405-a34f0506299a"
      },
      "source": [
        "data_1905= data[data['YM']==\"201905\"]\n",
        "data_1905.head()"
      ],
      "execution_count": 483,
      "outputs": [
        {
          "output_type": "execute_result",
          "data": {
            "text/html": [
              "<div>\n",
              "<style scoped>\n",
              "    .dataframe tbody tr th:only-of-type {\n",
              "        vertical-align: middle;\n",
              "    }\n",
              "\n",
              "    .dataframe tbody tr th {\n",
              "        vertical-align: top;\n",
              "    }\n",
              "\n",
              "    .dataframe thead th {\n",
              "        text-align: right;\n",
              "    }\n",
              "</style>\n",
              "<table border=\"1\" class=\"dataframe\">\n",
              "  <thead>\n",
              "    <tr style=\"text-align: right;\">\n",
              "      <th></th>\n",
              "      <th>YM</th>\n",
              "      <th>Category</th>\n",
              "      <th>성별구분</th>\n",
              "      <th>연령대</th>\n",
              "      <th>기혼스코어</th>\n",
              "      <th>유아자녀스코어</th>\n",
              "      <th>초등학생자녀스코어</th>\n",
              "      <th>중고생자녀스코어</th>\n",
              "      <th>대학생자녀스코어</th>\n",
              "      <th>전업주부스코어</th>\n",
              "      <th>기혼대학생</th>\n",
              "      <th>기혼중고생</th>\n",
              "      <th>기혼초등생</th>\n",
              "      <th>기혼유아</th>\n",
              "      <th>Age</th>\n",
              "      <th>Y</th>\n",
              "    </tr>\n",
              "  </thead>\n",
              "  <tbody>\n",
              "    <tr>\n",
              "      <th>210468</th>\n",
              "      <td>201905</td>\n",
              "      <td>전문몰</td>\n",
              "      <td>1</td>\n",
              "      <td>E</td>\n",
              "      <td>1</td>\n",
              "      <td>1</td>\n",
              "      <td>1</td>\n",
              "      <td>1</td>\n",
              "      <td>1</td>\n",
              "      <td>2</td>\n",
              "      <td>1</td>\n",
              "      <td>1</td>\n",
              "      <td>1</td>\n",
              "      <td>1</td>\n",
              "      <td>20-24</td>\n",
              "      <td>2019</td>\n",
              "    </tr>\n",
              "    <tr>\n",
              "      <th>210469</th>\n",
              "      <td>201905</td>\n",
              "      <td>전문몰</td>\n",
              "      <td>1</td>\n",
              "      <td>E</td>\n",
              "      <td>2</td>\n",
              "      <td>2</td>\n",
              "      <td>1</td>\n",
              "      <td>1</td>\n",
              "      <td>1</td>\n",
              "      <td>2</td>\n",
              "      <td>2</td>\n",
              "      <td>2</td>\n",
              "      <td>2</td>\n",
              "      <td>4</td>\n",
              "      <td>20-24</td>\n",
              "      <td>2019</td>\n",
              "    </tr>\n",
              "    <tr>\n",
              "      <th>210470</th>\n",
              "      <td>201905</td>\n",
              "      <td>할인점</td>\n",
              "      <td>1</td>\n",
              "      <td>F</td>\n",
              "      <td>3</td>\n",
              "      <td>1</td>\n",
              "      <td>2</td>\n",
              "      <td>2</td>\n",
              "      <td>2</td>\n",
              "      <td>2</td>\n",
              "      <td>6</td>\n",
              "      <td>6</td>\n",
              "      <td>6</td>\n",
              "      <td>3</td>\n",
              "      <td>45-49</td>\n",
              "      <td>2019</td>\n",
              "    </tr>\n",
              "    <tr>\n",
              "      <th>210471</th>\n",
              "      <td>201905</td>\n",
              "      <td>전문몰</td>\n",
              "      <td>0</td>\n",
              "      <td>G</td>\n",
              "      <td>3</td>\n",
              "      <td>1</td>\n",
              "      <td>2</td>\n",
              "      <td>2</td>\n",
              "      <td>2</td>\n",
              "      <td>1</td>\n",
              "      <td>6</td>\n",
              "      <td>6</td>\n",
              "      <td>6</td>\n",
              "      <td>3</td>\n",
              "      <td>50-54</td>\n",
              "      <td>2019</td>\n",
              "    </tr>\n",
              "    <tr>\n",
              "      <th>210472</th>\n",
              "      <td>201905</td>\n",
              "      <td>전문몰</td>\n",
              "      <td>1</td>\n",
              "      <td>H</td>\n",
              "      <td>3</td>\n",
              "      <td>1</td>\n",
              "      <td>1</td>\n",
              "      <td>1</td>\n",
              "      <td>2</td>\n",
              "      <td>2</td>\n",
              "      <td>6</td>\n",
              "      <td>3</td>\n",
              "      <td>3</td>\n",
              "      <td>3</td>\n",
              "      <td>55-59</td>\n",
              "      <td>2019</td>\n",
              "    </tr>\n",
              "  </tbody>\n",
              "</table>\n",
              "</div>"
            ],
            "text/plain": [
              "            YM Category  성별구분 연령대  기혼스코어  ...  기혼중고생  기혼초등생  기혼유아    Age     Y\n",
              "210468  201905      전문몰     1   E      1  ...      1      1     1  20-24  2019\n",
              "210469  201905      전문몰     1   E      2  ...      2      2     4  20-24  2019\n",
              "210470  201905      할인점     1   F      3  ...      6      6     3  45-49  2019\n",
              "210471  201905      전문몰     0   G      3  ...      6      6     3  50-54  2019\n",
              "210472  201905      전문몰     1   H      3  ...      3      3     3  55-59  2019\n",
              "\n",
              "[5 rows x 16 columns]"
            ]
          },
          "metadata": {
            "tags": []
          },
          "execution_count": 483
        }
      ]
    },
    {
      "cell_type": "code",
      "metadata": {
        "id": "ZaBz9kScGyFT",
        "colab_type": "code",
        "colab": {
          "base_uri": "https://localhost:8080/",
          "height": 390
        },
        "outputId": "400db16c-3630-4ffb-ff57-e48ef9808530"
      },
      "source": [
        "new_data_2004 = data_2004.groupby(['Category','Age'])['Age'].count().unstack('Age')\n",
        "new_data_2004"
      ],
      "execution_count": 484,
      "outputs": [
        {
          "output_type": "execute_result",
          "data": {
            "text/html": [
              "<div>\n",
              "<style scoped>\n",
              "    .dataframe tbody tr th:only-of-type {\n",
              "        vertical-align: middle;\n",
              "    }\n",
              "\n",
              "    .dataframe tbody tr th {\n",
              "        vertical-align: top;\n",
              "    }\n",
              "\n",
              "    .dataframe thead th {\n",
              "        text-align: right;\n",
              "    }\n",
              "</style>\n",
              "<table border=\"1\" class=\"dataframe\">\n",
              "  <thead>\n",
              "    <tr style=\"text-align: right;\">\n",
              "      <th>Age</th>\n",
              "      <th>20-24</th>\n",
              "      <th>25-29</th>\n",
              "      <th>30-44</th>\n",
              "      <th>35-39</th>\n",
              "      <th>40-44</th>\n",
              "      <th>45-49</th>\n",
              "      <th>50-54</th>\n",
              "      <th>55-59</th>\n",
              "    </tr>\n",
              "    <tr>\n",
              "      <th>Category</th>\n",
              "      <th></th>\n",
              "      <th></th>\n",
              "      <th></th>\n",
              "      <th></th>\n",
              "      <th></th>\n",
              "      <th></th>\n",
              "      <th></th>\n",
              "      <th></th>\n",
              "    </tr>\n",
              "  </thead>\n",
              "  <tbody>\n",
              "    <tr>\n",
              "      <th>디저트</th>\n",
              "      <td>2317.0</td>\n",
              "      <td>2510.0</td>\n",
              "      <td>3270.0</td>\n",
              "      <td>1561.0</td>\n",
              "      <td>3170.0</td>\n",
              "      <td>3272.0</td>\n",
              "      <td>2507.0</td>\n",
              "      <td>1652.0</td>\n",
              "    </tr>\n",
              "    <tr>\n",
              "      <th>면세점</th>\n",
              "      <td>12.0</td>\n",
              "      <td>7.0</td>\n",
              "      <td>7.0</td>\n",
              "      <td>3.0</td>\n",
              "      <td>NaN</td>\n",
              "      <td>7.0</td>\n",
              "      <td>6.0</td>\n",
              "      <td>14.0</td>\n",
              "    </tr>\n",
              "    <tr>\n",
              "      <th>뷰티</th>\n",
              "      <td>814.0</td>\n",
              "      <td>545.0</td>\n",
              "      <td>450.0</td>\n",
              "      <td>318.0</td>\n",
              "      <td>433.0</td>\n",
              "      <td>581.0</td>\n",
              "      <td>475.0</td>\n",
              "      <td>362.0</td>\n",
              "    </tr>\n",
              "    <tr>\n",
              "      <th>오픈마켓/소셜</th>\n",
              "      <td>2517.0</td>\n",
              "      <td>2960.0</td>\n",
              "      <td>4142.0</td>\n",
              "      <td>1130.0</td>\n",
              "      <td>3891.0</td>\n",
              "      <td>3331.0</td>\n",
              "      <td>1954.0</td>\n",
              "      <td>984.0</td>\n",
              "    </tr>\n",
              "    <tr>\n",
              "      <th>전문몰</th>\n",
              "      <td>3383.0</td>\n",
              "      <td>3989.0</td>\n",
              "      <td>5216.0</td>\n",
              "      <td>2483.0</td>\n",
              "      <td>5057.0</td>\n",
              "      <td>4900.0</td>\n",
              "      <td>3685.0</td>\n",
              "      <td>2426.0</td>\n",
              "    </tr>\n",
              "    <tr>\n",
              "      <th>종합몰</th>\n",
              "      <td>293.0</td>\n",
              "      <td>592.0</td>\n",
              "      <td>916.0</td>\n",
              "      <td>188.0</td>\n",
              "      <td>909.0</td>\n",
              "      <td>658.0</td>\n",
              "      <td>362.0</td>\n",
              "      <td>155.0</td>\n",
              "    </tr>\n",
              "    <tr>\n",
              "      <th>취미</th>\n",
              "      <td>600.0</td>\n",
              "      <td>390.0</td>\n",
              "      <td>354.0</td>\n",
              "      <td>303.0</td>\n",
              "      <td>381.0</td>\n",
              "      <td>513.0</td>\n",
              "      <td>452.0</td>\n",
              "      <td>348.0</td>\n",
              "    </tr>\n",
              "    <tr>\n",
              "      <th>할인점</th>\n",
              "      <td>1140.0</td>\n",
              "      <td>1402.0</td>\n",
              "      <td>2084.0</td>\n",
              "      <td>1620.0</td>\n",
              "      <td>2311.0</td>\n",
              "      <td>2571.0</td>\n",
              "      <td>2229.0</td>\n",
              "      <td>2399.0</td>\n",
              "    </tr>\n",
              "    <tr>\n",
              "      <th>항공/여행사</th>\n",
              "      <td>98.0</td>\n",
              "      <td>96.0</td>\n",
              "      <td>96.0</td>\n",
              "      <td>59.0</td>\n",
              "      <td>66.0</td>\n",
              "      <td>82.0</td>\n",
              "      <td>47.0</td>\n",
              "      <td>45.0</td>\n",
              "    </tr>\n",
              "    <tr>\n",
              "      <th>호텔/숙박</th>\n",
              "      <td>233.0</td>\n",
              "      <td>200.0</td>\n",
              "      <td>186.0</td>\n",
              "      <td>103.0</td>\n",
              "      <td>148.0</td>\n",
              "      <td>159.0</td>\n",
              "      <td>131.0</td>\n",
              "      <td>114.0</td>\n",
              "    </tr>\n",
              "  </tbody>\n",
              "</table>\n",
              "</div>"
            ],
            "text/plain": [
              "Age        20-24   25-29   30-44   35-39   40-44   45-49   50-54   55-59\n",
              "Category                                                                \n",
              "디저트       2317.0  2510.0  3270.0  1561.0  3170.0  3272.0  2507.0  1652.0\n",
              "면세점         12.0     7.0     7.0     3.0     NaN     7.0     6.0    14.0\n",
              "뷰티         814.0   545.0   450.0   318.0   433.0   581.0   475.0   362.0\n",
              "오픈마켓/소셜   2517.0  2960.0  4142.0  1130.0  3891.0  3331.0  1954.0   984.0\n",
              "전문몰       3383.0  3989.0  5216.0  2483.0  5057.0  4900.0  3685.0  2426.0\n",
              "종합몰        293.0   592.0   916.0   188.0   909.0   658.0   362.0   155.0\n",
              "취미         600.0   390.0   354.0   303.0   381.0   513.0   452.0   348.0\n",
              "할인점       1140.0  1402.0  2084.0  1620.0  2311.0  2571.0  2229.0  2399.0\n",
              "항공/여행사      98.0    96.0    96.0    59.0    66.0    82.0    47.0    45.0\n",
              "호텔/숙박      233.0   200.0   186.0   103.0   148.0   159.0   131.0   114.0"
            ]
          },
          "metadata": {
            "tags": []
          },
          "execution_count": 484
        }
      ]
    },
    {
      "cell_type": "code",
      "metadata": {
        "id": "lW2Hne8jG18L",
        "colab_type": "code",
        "colab": {
          "base_uri": "https://localhost:8080/",
          "height": 390
        },
        "outputId": "5a0ddabc-f0d9-47c4-85fc-e55d93f0a3dc"
      },
      "source": [
        "new_data_2005 = data_2005.groupby(['Category','Age'])['Age'].count().unstack('Age')\n",
        "new_data_2005"
      ],
      "execution_count": 485,
      "outputs": [
        {
          "output_type": "execute_result",
          "data": {
            "text/html": [
              "<div>\n",
              "<style scoped>\n",
              "    .dataframe tbody tr th:only-of-type {\n",
              "        vertical-align: middle;\n",
              "    }\n",
              "\n",
              "    .dataframe tbody tr th {\n",
              "        vertical-align: top;\n",
              "    }\n",
              "\n",
              "    .dataframe thead th {\n",
              "        text-align: right;\n",
              "    }\n",
              "</style>\n",
              "<table border=\"1\" class=\"dataframe\">\n",
              "  <thead>\n",
              "    <tr style=\"text-align: right;\">\n",
              "      <th>Age</th>\n",
              "      <th>20-24</th>\n",
              "      <th>25-29</th>\n",
              "      <th>30-44</th>\n",
              "      <th>35-39</th>\n",
              "      <th>40-44</th>\n",
              "      <th>45-49</th>\n",
              "      <th>50-54</th>\n",
              "      <th>55-59</th>\n",
              "    </tr>\n",
              "    <tr>\n",
              "      <th>Category</th>\n",
              "      <th></th>\n",
              "      <th></th>\n",
              "      <th></th>\n",
              "      <th></th>\n",
              "      <th></th>\n",
              "      <th></th>\n",
              "      <th></th>\n",
              "      <th></th>\n",
              "    </tr>\n",
              "  </thead>\n",
              "  <tbody>\n",
              "    <tr>\n",
              "      <th>디저트</th>\n",
              "      <td>2571</td>\n",
              "      <td>2777</td>\n",
              "      <td>3601</td>\n",
              "      <td>1858</td>\n",
              "      <td>3591</td>\n",
              "      <td>3543</td>\n",
              "      <td>2854</td>\n",
              "      <td>1951</td>\n",
              "    </tr>\n",
              "    <tr>\n",
              "      <th>면세점</th>\n",
              "      <td>34</td>\n",
              "      <td>24</td>\n",
              "      <td>16</td>\n",
              "      <td>8</td>\n",
              "      <td>15</td>\n",
              "      <td>13</td>\n",
              "      <td>12</td>\n",
              "      <td>17</td>\n",
              "    </tr>\n",
              "    <tr>\n",
              "      <th>뷰티</th>\n",
              "      <td>921</td>\n",
              "      <td>658</td>\n",
              "      <td>558</td>\n",
              "      <td>340</td>\n",
              "      <td>554</td>\n",
              "      <td>641</td>\n",
              "      <td>573</td>\n",
              "      <td>366</td>\n",
              "    </tr>\n",
              "    <tr>\n",
              "      <th>오픈마켓/소셜</th>\n",
              "      <td>2517</td>\n",
              "      <td>3104</td>\n",
              "      <td>4304</td>\n",
              "      <td>1142</td>\n",
              "      <td>4041</td>\n",
              "      <td>3434</td>\n",
              "      <td>2154</td>\n",
              "      <td>1028</td>\n",
              "    </tr>\n",
              "    <tr>\n",
              "      <th>전문몰</th>\n",
              "      <td>3535</td>\n",
              "      <td>3992</td>\n",
              "      <td>5198</td>\n",
              "      <td>2614</td>\n",
              "      <td>5274</td>\n",
              "      <td>5324</td>\n",
              "      <td>3822</td>\n",
              "      <td>2598</td>\n",
              "    </tr>\n",
              "    <tr>\n",
              "      <th>종합몰</th>\n",
              "      <td>262</td>\n",
              "      <td>484</td>\n",
              "      <td>878</td>\n",
              "      <td>164</td>\n",
              "      <td>805</td>\n",
              "      <td>623</td>\n",
              "      <td>326</td>\n",
              "      <td>140</td>\n",
              "    </tr>\n",
              "    <tr>\n",
              "      <th>취미</th>\n",
              "      <td>747</td>\n",
              "      <td>479</td>\n",
              "      <td>480</td>\n",
              "      <td>382</td>\n",
              "      <td>454</td>\n",
              "      <td>623</td>\n",
              "      <td>528</td>\n",
              "      <td>439</td>\n",
              "    </tr>\n",
              "    <tr>\n",
              "      <th>할인점</th>\n",
              "      <td>1038</td>\n",
              "      <td>1641</td>\n",
              "      <td>2454</td>\n",
              "      <td>1752</td>\n",
              "      <td>2608</td>\n",
              "      <td>2735</td>\n",
              "      <td>2210</td>\n",
              "      <td>2505</td>\n",
              "    </tr>\n",
              "    <tr>\n",
              "      <th>항공/여행사</th>\n",
              "      <td>130</td>\n",
              "      <td>112</td>\n",
              "      <td>128</td>\n",
              "      <td>75</td>\n",
              "      <td>137</td>\n",
              "      <td>104</td>\n",
              "      <td>121</td>\n",
              "      <td>68</td>\n",
              "    </tr>\n",
              "    <tr>\n",
              "      <th>호텔/숙박</th>\n",
              "      <td>308</td>\n",
              "      <td>252</td>\n",
              "      <td>302</td>\n",
              "      <td>134</td>\n",
              "      <td>258</td>\n",
              "      <td>263</td>\n",
              "      <td>206</td>\n",
              "      <td>162</td>\n",
              "    </tr>\n",
              "  </tbody>\n",
              "</table>\n",
              "</div>"
            ],
            "text/plain": [
              "Age       20-24  25-29  30-44  35-39  40-44  45-49  50-54  55-59\n",
              "Category                                                        \n",
              "디저트        2571   2777   3601   1858   3591   3543   2854   1951\n",
              "면세점          34     24     16      8     15     13     12     17\n",
              "뷰티          921    658    558    340    554    641    573    366\n",
              "오픈마켓/소셜    2517   3104   4304   1142   4041   3434   2154   1028\n",
              "전문몰        3535   3992   5198   2614   5274   5324   3822   2598\n",
              "종합몰         262    484    878    164    805    623    326    140\n",
              "취미          747    479    480    382    454    623    528    439\n",
              "할인점        1038   1641   2454   1752   2608   2735   2210   2505\n",
              "항공/여행사      130    112    128     75    137    104    121     68\n",
              "호텔/숙박       308    252    302    134    258    263    206    162"
            ]
          },
          "metadata": {
            "tags": []
          },
          "execution_count": 485
        }
      ]
    },
    {
      "cell_type": "code",
      "metadata": {
        "id": "4vVAkqLJG3pg",
        "colab_type": "code",
        "colab": {
          "base_uri": "https://localhost:8080/",
          "height": 390
        },
        "outputId": "95164bf8-1dba-416b-910e-e82ccae27b16"
      },
      "source": [
        "new_data_1904 = data_1904.groupby(['Category','Age'])['Age'].count().unstack('Age')\n",
        "new_data_1904"
      ],
      "execution_count": 486,
      "outputs": [
        {
          "output_type": "execute_result",
          "data": {
            "text/html": [
              "<div>\n",
              "<style scoped>\n",
              "    .dataframe tbody tr th:only-of-type {\n",
              "        vertical-align: middle;\n",
              "    }\n",
              "\n",
              "    .dataframe tbody tr th {\n",
              "        vertical-align: top;\n",
              "    }\n",
              "\n",
              "    .dataframe thead th {\n",
              "        text-align: right;\n",
              "    }\n",
              "</style>\n",
              "<table border=\"1\" class=\"dataframe\">\n",
              "  <thead>\n",
              "    <tr style=\"text-align: right;\">\n",
              "      <th>Age</th>\n",
              "      <th>20-24</th>\n",
              "      <th>25-29</th>\n",
              "      <th>30-44</th>\n",
              "      <th>35-39</th>\n",
              "      <th>40-44</th>\n",
              "      <th>45-49</th>\n",
              "      <th>50-54</th>\n",
              "      <th>55-59</th>\n",
              "    </tr>\n",
              "    <tr>\n",
              "      <th>Category</th>\n",
              "      <th></th>\n",
              "      <th></th>\n",
              "      <th></th>\n",
              "      <th></th>\n",
              "      <th></th>\n",
              "      <th></th>\n",
              "      <th></th>\n",
              "      <th></th>\n",
              "    </tr>\n",
              "  </thead>\n",
              "  <tbody>\n",
              "    <tr>\n",
              "      <th>디저트</th>\n",
              "      <td>3130</td>\n",
              "      <td>2799</td>\n",
              "      <td>3802</td>\n",
              "      <td>1678</td>\n",
              "      <td>3574</td>\n",
              "      <td>3669</td>\n",
              "      <td>2534</td>\n",
              "      <td>1732</td>\n",
              "    </tr>\n",
              "    <tr>\n",
              "      <th>면세점</th>\n",
              "      <td>135</td>\n",
              "      <td>140</td>\n",
              "      <td>143</td>\n",
              "      <td>94</td>\n",
              "      <td>106</td>\n",
              "      <td>130</td>\n",
              "      <td>111</td>\n",
              "      <td>88</td>\n",
              "    </tr>\n",
              "    <tr>\n",
              "      <th>뷰티</th>\n",
              "      <td>1276</td>\n",
              "      <td>736</td>\n",
              "      <td>733</td>\n",
              "      <td>443</td>\n",
              "      <td>657</td>\n",
              "      <td>822</td>\n",
              "      <td>633</td>\n",
              "      <td>434</td>\n",
              "    </tr>\n",
              "    <tr>\n",
              "      <th>오픈마켓/소셜</th>\n",
              "      <td>2672</td>\n",
              "      <td>2951</td>\n",
              "      <td>4016</td>\n",
              "      <td>879</td>\n",
              "      <td>3242</td>\n",
              "      <td>2739</td>\n",
              "      <td>1584</td>\n",
              "      <td>683</td>\n",
              "    </tr>\n",
              "    <tr>\n",
              "      <th>전문몰</th>\n",
              "      <td>4125</td>\n",
              "      <td>3992</td>\n",
              "      <td>5376</td>\n",
              "      <td>2469</td>\n",
              "      <td>4812</td>\n",
              "      <td>4819</td>\n",
              "      <td>3370</td>\n",
              "      <td>1948</td>\n",
              "    </tr>\n",
              "    <tr>\n",
              "      <th>종합몰</th>\n",
              "      <td>499</td>\n",
              "      <td>720</td>\n",
              "      <td>1055</td>\n",
              "      <td>148</td>\n",
              "      <td>802</td>\n",
              "      <td>559</td>\n",
              "      <td>275</td>\n",
              "      <td>131</td>\n",
              "    </tr>\n",
              "    <tr>\n",
              "      <th>취미</th>\n",
              "      <td>1025</td>\n",
              "      <td>579</td>\n",
              "      <td>728</td>\n",
              "      <td>539</td>\n",
              "      <td>680</td>\n",
              "      <td>761</td>\n",
              "      <td>656</td>\n",
              "      <td>501</td>\n",
              "    </tr>\n",
              "    <tr>\n",
              "      <th>할인점</th>\n",
              "      <td>1686</td>\n",
              "      <td>2518</td>\n",
              "      <td>4036</td>\n",
              "      <td>2867</td>\n",
              "      <td>4068</td>\n",
              "      <td>4285</td>\n",
              "      <td>3426</td>\n",
              "      <td>3835</td>\n",
              "    </tr>\n",
              "    <tr>\n",
              "      <th>항공/여행사</th>\n",
              "      <td>339</td>\n",
              "      <td>292</td>\n",
              "      <td>372</td>\n",
              "      <td>161</td>\n",
              "      <td>298</td>\n",
              "      <td>280</td>\n",
              "      <td>252</td>\n",
              "      <td>138</td>\n",
              "    </tr>\n",
              "    <tr>\n",
              "      <th>호텔/숙박</th>\n",
              "      <td>391</td>\n",
              "      <td>305</td>\n",
              "      <td>392</td>\n",
              "      <td>161</td>\n",
              "      <td>301</td>\n",
              "      <td>329</td>\n",
              "      <td>242</td>\n",
              "      <td>211</td>\n",
              "    </tr>\n",
              "  </tbody>\n",
              "</table>\n",
              "</div>"
            ],
            "text/plain": [
              "Age       20-24  25-29  30-44  35-39  40-44  45-49  50-54  55-59\n",
              "Category                                                        \n",
              "디저트        3130   2799   3802   1678   3574   3669   2534   1732\n",
              "면세점         135    140    143     94    106    130    111     88\n",
              "뷰티         1276    736    733    443    657    822    633    434\n",
              "오픈마켓/소셜    2672   2951   4016    879   3242   2739   1584    683\n",
              "전문몰        4125   3992   5376   2469   4812   4819   3370   1948\n",
              "종합몰         499    720   1055    148    802    559    275    131\n",
              "취미         1025    579    728    539    680    761    656    501\n",
              "할인점        1686   2518   4036   2867   4068   4285   3426   3835\n",
              "항공/여행사      339    292    372    161    298    280    252    138\n",
              "호텔/숙박       391    305    392    161    301    329    242    211"
            ]
          },
          "metadata": {
            "tags": []
          },
          "execution_count": 486
        }
      ]
    },
    {
      "cell_type": "code",
      "metadata": {
        "id": "Sy-6X6C4G5FP",
        "colab_type": "code",
        "colab": {
          "base_uri": "https://localhost:8080/",
          "height": 390
        },
        "outputId": "9ed7cb94-ff25-4bc3-8106-1930c293a185"
      },
      "source": [
        "new_data_1905 = data_1905.groupby(['Category','Age'])['Age'].count().unstack('Age')\n",
        "new_data_1905"
      ],
      "execution_count": 487,
      "outputs": [
        {
          "output_type": "execute_result",
          "data": {
            "text/html": [
              "<div>\n",
              "<style scoped>\n",
              "    .dataframe tbody tr th:only-of-type {\n",
              "        vertical-align: middle;\n",
              "    }\n",
              "\n",
              "    .dataframe tbody tr th {\n",
              "        vertical-align: top;\n",
              "    }\n",
              "\n",
              "    .dataframe thead th {\n",
              "        text-align: right;\n",
              "    }\n",
              "</style>\n",
              "<table border=\"1\" class=\"dataframe\">\n",
              "  <thead>\n",
              "    <tr style=\"text-align: right;\">\n",
              "      <th>Age</th>\n",
              "      <th>20-24</th>\n",
              "      <th>25-29</th>\n",
              "      <th>30-44</th>\n",
              "      <th>35-39</th>\n",
              "      <th>40-44</th>\n",
              "      <th>45-49</th>\n",
              "      <th>50-54</th>\n",
              "      <th>55-59</th>\n",
              "    </tr>\n",
              "    <tr>\n",
              "      <th>Category</th>\n",
              "      <th></th>\n",
              "      <th></th>\n",
              "      <th></th>\n",
              "      <th></th>\n",
              "      <th></th>\n",
              "      <th></th>\n",
              "      <th></th>\n",
              "      <th></th>\n",
              "    </tr>\n",
              "  </thead>\n",
              "  <tbody>\n",
              "    <tr>\n",
              "      <th>디저트</th>\n",
              "      <td>3233</td>\n",
              "      <td>2883</td>\n",
              "      <td>3933</td>\n",
              "      <td>1760</td>\n",
              "      <td>3751</td>\n",
              "      <td>3776</td>\n",
              "      <td>2761</td>\n",
              "      <td>1723</td>\n",
              "    </tr>\n",
              "    <tr>\n",
              "      <th>면세점</th>\n",
              "      <td>107</td>\n",
              "      <td>130</td>\n",
              "      <td>145</td>\n",
              "      <td>94</td>\n",
              "      <td>131</td>\n",
              "      <td>133</td>\n",
              "      <td>113</td>\n",
              "      <td>73</td>\n",
              "    </tr>\n",
              "    <tr>\n",
              "      <th>뷰티</th>\n",
              "      <td>1316</td>\n",
              "      <td>828</td>\n",
              "      <td>757</td>\n",
              "      <td>418</td>\n",
              "      <td>733</td>\n",
              "      <td>877</td>\n",
              "      <td>761</td>\n",
              "      <td>440</td>\n",
              "    </tr>\n",
              "    <tr>\n",
              "      <th>오픈마켓/소셜</th>\n",
              "      <td>2863</td>\n",
              "      <td>2981</td>\n",
              "      <td>4102</td>\n",
              "      <td>923</td>\n",
              "      <td>3391</td>\n",
              "      <td>2807</td>\n",
              "      <td>1573</td>\n",
              "      <td>703</td>\n",
              "    </tr>\n",
              "    <tr>\n",
              "      <th>전문몰</th>\n",
              "      <td>4222</td>\n",
              "      <td>4012</td>\n",
              "      <td>5482</td>\n",
              "      <td>2489</td>\n",
              "      <td>5006</td>\n",
              "      <td>4788</td>\n",
              "      <td>3503</td>\n",
              "      <td>2153</td>\n",
              "    </tr>\n",
              "    <tr>\n",
              "      <th>종합몰</th>\n",
              "      <td>487</td>\n",
              "      <td>662</td>\n",
              "      <td>1013</td>\n",
              "      <td>165</td>\n",
              "      <td>834</td>\n",
              "      <td>579</td>\n",
              "      <td>304</td>\n",
              "      <td>131</td>\n",
              "    </tr>\n",
              "    <tr>\n",
              "      <th>취미</th>\n",
              "      <td>1051</td>\n",
              "      <td>600</td>\n",
              "      <td>710</td>\n",
              "      <td>515</td>\n",
              "      <td>681</td>\n",
              "      <td>785</td>\n",
              "      <td>656</td>\n",
              "      <td>509</td>\n",
              "    </tr>\n",
              "    <tr>\n",
              "      <th>할인점</th>\n",
              "      <td>1790</td>\n",
              "      <td>2338</td>\n",
              "      <td>3916</td>\n",
              "      <td>2626</td>\n",
              "      <td>3794</td>\n",
              "      <td>4000</td>\n",
              "      <td>3228</td>\n",
              "      <td>3524</td>\n",
              "    </tr>\n",
              "    <tr>\n",
              "      <th>항공/여행사</th>\n",
              "      <td>301</td>\n",
              "      <td>274</td>\n",
              "      <td>410</td>\n",
              "      <td>169</td>\n",
              "      <td>298</td>\n",
              "      <td>305</td>\n",
              "      <td>233</td>\n",
              "      <td>175</td>\n",
              "    </tr>\n",
              "    <tr>\n",
              "      <th>호텔/숙박</th>\n",
              "      <td>456</td>\n",
              "      <td>316</td>\n",
              "      <td>411</td>\n",
              "      <td>190</td>\n",
              "      <td>378</td>\n",
              "      <td>331</td>\n",
              "      <td>226</td>\n",
              "      <td>206</td>\n",
              "    </tr>\n",
              "  </tbody>\n",
              "</table>\n",
              "</div>"
            ],
            "text/plain": [
              "Age       20-24  25-29  30-44  35-39  40-44  45-49  50-54  55-59\n",
              "Category                                                        \n",
              "디저트        3233   2883   3933   1760   3751   3776   2761   1723\n",
              "면세점         107    130    145     94    131    133    113     73\n",
              "뷰티         1316    828    757    418    733    877    761    440\n",
              "오픈마켓/소셜    2863   2981   4102    923   3391   2807   1573    703\n",
              "전문몰        4222   4012   5482   2489   5006   4788   3503   2153\n",
              "종합몰         487    662   1013    165    834    579    304    131\n",
              "취미         1051    600    710    515    681    785    656    509\n",
              "할인점        1790   2338   3916   2626   3794   4000   3228   3524\n",
              "항공/여행사      301    274    410    169    298    305    233    175\n",
              "호텔/숙박       456    316    411    190    378    331    226    206"
            ]
          },
          "metadata": {
            "tags": []
          },
          "execution_count": 487
        }
      ]
    },
    {
      "cell_type": "markdown",
      "metadata": {
        "id": "BVT0FSqX90j6",
        "colab_type": "text"
      },
      "source": [
        "### (6) 만든 데이터 프레임 CSV 파일로 내려받기"
      ]
    },
    {
      "cell_type": "code",
      "metadata": {
        "id": "JOdRfHSi9olB",
        "colab_type": "code",
        "colab": {}
      },
      "source": [
        "from google.colab import files\n",
        "\n",
        "data.to_csv('new_data.csv')\n",
        "files.download('new_data.csv')"
      ],
      "execution_count": null,
      "outputs": []
    }
  ]
}