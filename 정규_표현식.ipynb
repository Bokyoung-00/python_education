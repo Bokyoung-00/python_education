{
  "nbformat": 4,
  "nbformat_minor": 0,
  "metadata": {
    "kernelspec": {
      "display_name": "Python 3",
      "language": "python",
      "name": "python3"
    },
    "language_info": {
      "codemirror_mode": {
        "name": "ipython",
        "version": 3
      },
      "file_extension": ".py",
      "mimetype": "text/x-python",
      "name": "python",
      "nbconvert_exporter": "python",
      "pygments_lexer": "ipython3",
      "version": "3.8.3"
    },
    "colab": {
      "name": "정규 표현식.ipynb",
      "provenance": [],
      "include_colab_link": true
    }
  },
  "cells": [
    {
      "cell_type": "markdown",
      "metadata": {
        "id": "view-in-github",
        "colab_type": "text"
      },
      "source": [
        "<a href=\"https://colab.research.google.com/github/Bokyoung-00/python_education/blob/master/%EC%A0%95%EA%B7%9C_%ED%91%9C%ED%98%84%EC%8B%9D.ipynb\" target=\"_parent\"><img src=\"https://colab.research.google.com/assets/colab-badge.svg\" alt=\"Open In Colab\"/></a>"
      ]
    },
    {
      "cell_type": "markdown",
      "metadata": {
        "id": "sp5jD1m72700",
        "colab_type": "text"
      },
      "source": [
        "## 정규표현식"
      ]
    },
    {
      "cell_type": "code",
      "metadata": {
        "id": "-5jJKMlV2702",
        "colab_type": "code",
        "colab": {}
      },
      "source": [
        "# https://docs.python.org/3/library/re.html\n",
        "# http://www.regexper.com/\n",
        "# https://www.w3schools.com/python/python_regex.asp\n",
        "# http://www.nextree.co.kr/p4327/"
      ],
      "execution_count": null,
      "outputs": []
    },
    {
      "cell_type": "markdown",
      "metadata": {
        "id": "ImY-AZ8x2708",
        "colab_type": "text"
      },
      "source": [
        "### (실습) 아래의 정보에서 주민등록에서 \n",
        "### 뒷자리 (7자리)를 800905-****로 만들어 출력하세요\n",
        "### (정규식 안쓰고 알고리즘으로 split(), for, if 처리)"
      ]
    },
    {
      "cell_type": "code",
      "metadata": {
        "id": "UhHafR5q2708",
        "colab_type": "code",
        "colab": {},
        "outputId": "d96975f5-3f79-4ef3-c87e-b0241e913f3c"
      },
      "source": [
        "data= \"\"\"\n",
        "park 800905-1049118\n",
        "kim 700905-1059119\n",
        "jang 920625-2049307\n",
        "\"\"\"\n",
        "\n",
        "# data=\"\"\"\n",
        "# 김보경 960813-4532157\n",
        "# 박지윤 654785-5477532\n",
        "# \"\"\"\n",
        "data"
      ],
      "execution_count": null,
      "outputs": [
        {
          "output_type": "execute_result",
          "data": {
            "text/plain": [
              "'\\npark 800905-1049118\\nkim 700905-1059119\\njang 920625-2049307\\n'"
            ]
          },
          "metadata": {
            "tags": []
          },
          "execution_count": 5
        }
      ]
    },
    {
      "cell_type": "code",
      "metadata": {
        "id": "wkKO8O9y271C",
        "colab_type": "code",
        "colab": {}
      },
      "source": [
        "a= data.split()"
      ],
      "execution_count": null,
      "outputs": []
    },
    {
      "cell_type": "code",
      "metadata": {
        "id": "5GP1gUft271G",
        "colab_type": "code",
        "colab": {},
        "outputId": "60631cab-8ee2-49a0-ffc0-91b8dabb09f4"
      },
      "source": [
        "len(a)"
      ],
      "execution_count": null,
      "outputs": [
        {
          "output_type": "execute_result",
          "data": {
            "text/plain": [
              "6"
            ]
          },
          "metadata": {
            "tags": []
          },
          "execution_count": 9
        }
      ]
    },
    {
      "cell_type": "code",
      "metadata": {
        "id": "B7yAumpP271J",
        "colab_type": "code",
        "colab": {},
        "outputId": "08aa60e7-85d6-4313-ac64-1850388a00f9"
      },
      "source": [
        "name=[]\n",
        "number=[]\n",
        "for i in range(len(a)):\n",
        "    if i%2==1:\n",
        "        number.append(a[i])\n",
        "    else:\n",
        "        name.append(a[i])\n",
        "print(name) \n",
        "print(number)"
      ],
      "execution_count": null,
      "outputs": [
        {
          "output_type": "stream",
          "text": [
            "['park', 'kim', 'jang']\n",
            "['800905-1049118', '700905-1059119', '920625-2049307']\n"
          ],
          "name": "stdout"
        }
      ]
    },
    {
      "cell_type": "code",
      "metadata": {
        "id": "yjTUzCBL271M",
        "colab_type": "code",
        "colab": {},
        "outputId": "cc6eaa15-9af7-465b-9f67-a60d99858884"
      },
      "source": [
        "new_num=[]\n",
        "for num in number:\n",
        "    new=num.split(\"-\")\n",
        "    new_num.append(new)\n",
        "    \n",
        "print(new_num)"
      ],
      "execution_count": null,
      "outputs": [
        {
          "output_type": "stream",
          "text": [
            "[['800905', '1049118'], ['700905', '1059119'], ['920625', '2049307']]\n"
          ],
          "name": "stdout"
        }
      ]
    },
    {
      "cell_type": "code",
      "metadata": {
        "id": "hAgNz-E2271O",
        "colab_type": "code",
        "colab": {},
        "outputId": "1b2e0c52-ffb1-498a-bb40-9f617f6d1330"
      },
      "source": [
        "ID_num=[]\n",
        "for i in range(len(new_num)):\n",
        "    ID= str(new_num[i][0]) + \"-*******\"\n",
        "    ID_num.append(ID)\n",
        "\n",
        "print(ID_num)"
      ],
      "execution_count": null,
      "outputs": [
        {
          "output_type": "stream",
          "text": [
            "['800905-*******', '700905-*******', '920625-*******']\n"
          ],
          "name": "stdout"
        }
      ]
    },
    {
      "cell_type": "code",
      "metadata": {
        "id": "3F1jBbkW271R",
        "colab_type": "code",
        "colab": {},
        "outputId": "ae1d85a5-91c2-4d26-e724-c69c101d6aa6"
      },
      "source": [
        "ID_final= [name,ID_num] ; ID_final"
      ],
      "execution_count": null,
      "outputs": [
        {
          "output_type": "execute_result",
          "data": {
            "text/plain": [
              "[['park', 'kim', 'jang'],\n",
              " ['800905-*******', '700905-*******', '920625-*******']]"
            ]
          },
          "metadata": {
            "tags": []
          },
          "execution_count": 27
        }
      ]
    },
    {
      "cell_type": "code",
      "metadata": {
        "id": "JgbFtrIk271T",
        "colab_type": "code",
        "colab": {},
        "outputId": "5dd2a6f0-ed54-42f7-a51a-bc5f7ca2d2ea"
      },
      "source": [
        "for i in range(len(ID_final)+1):\n",
        "    print(ID_final[0][i], ID_final[1][i])"
      ],
      "execution_count": null,
      "outputs": [
        {
          "output_type": "stream",
          "text": [
            "park 800905-*******\n",
            "kim 700905-*******\n",
            "jang 920625-*******\n"
          ],
          "name": "stdout"
        }
      ]
    },
    {
      "cell_type": "code",
      "metadata": {
        "id": "yraw64Xl271V",
        "colab_type": "code",
        "colab": {},
        "outputId": "cfba3f08-7993-4245-8569-303785b88ac4"
      },
      "source": [
        "#MY ANSWER\n",
        "\n",
        "name=[]\n",
        "number=[]\n",
        "ID_num=[]\n",
        "for i in range(len(a)):\n",
        "    if i%2==1:\n",
        "        number.append(a[i].split(\"-\"))\n",
        "    else:\n",
        "        name.append(a[i])\n",
        "\n",
        "for i in range(len(new_num)):\n",
        "    ID= str(new_num[i][0]) + \"-*******\"\n",
        "    ID_num.append(ID)\n",
        "\n",
        "ID_final= [name,ID_num]\n",
        "\n",
        "for i in range(len(ID_final)+1):\n",
        "    print(ID_final[0][i], ID_final[1][i])"
      ],
      "execution_count": null,
      "outputs": [
        {
          "output_type": "stream",
          "text": [
            "park 800905-*******\n",
            "kim 700905-*******\n",
            "jang 920625-*******\n"
          ],
          "name": "stdout"
        }
      ]
    },
    {
      "cell_type": "code",
      "metadata": {
        "id": "GHh8kbkJ271X",
        "colab_type": "code",
        "colab": {},
        "outputId": "d71570cf-80c2-453c-cd3f-92f0b32cfd71"
      },
      "source": [
        "result=[]\n",
        "for line in data.split('\\n'):\n",
        "    word_result=[]\n",
        "    for word in line.split(\" \"):\n",
        "        if len(word) ==14 and word[:6].isdigit() and word[7:].isdigit():\n",
        "            word=word[:6]+\"-\"+\"*******\"\n",
        "        word_result.append(word)\n",
        "    result.append(\" \".join(word_result))\n",
        "print(\"\\n\".join(result))"
      ],
      "execution_count": null,
      "outputs": [
        {
          "output_type": "stream",
          "text": [
            "\n",
            "park 800905-*******\n",
            "kim 700905-*******\n",
            "jang 920625-*******\n",
            "\n"
          ],
          "name": "stdout"
        }
      ]
    },
    {
      "cell_type": "code",
      "metadata": {
        "id": "D3PhvtFo271a",
        "colab_type": "code",
        "colab": {},
        "outputId": "607e4cf1-b8a6-4975-9c34-6880547d69d5"
      },
      "source": [
        "data"
      ],
      "execution_count": null,
      "outputs": [
        {
          "output_type": "execute_result",
          "data": {
            "text/plain": [
              "'\\npark 800905-1049118\\nkim 700905-1059119\\njang 920625-2049307\\n'"
            ]
          },
          "metadata": {
            "tags": []
          },
          "execution_count": 37
        }
      ]
    },
    {
      "cell_type": "code",
      "metadata": {
        "id": "zUe4txnx271c",
        "colab_type": "code",
        "colab": {},
        "outputId": "33530761-93bf-477c-858f-6a99ecc28d3a"
      },
      "source": [
        "data.split(\"\\n\")"
      ],
      "execution_count": null,
      "outputs": [
        {
          "output_type": "execute_result",
          "data": {
            "text/plain": [
              "['', 'park 800905-1049118', 'kim 700905-1059119', 'jang 920625-2049307', '']"
            ]
          },
          "metadata": {
            "tags": []
          },
          "execution_count": 38
        }
      ]
    },
    {
      "cell_type": "code",
      "metadata": {
        "id": "-8zhSMtq271e",
        "colab_type": "code",
        "colab": {},
        "outputId": "165ebdd8-6a7c-40c9-8d02-3b16d24f6172"
      },
      "source": [
        "import re\n",
        "pat= re.compile(\"(\\d{6})[-]\\d{7}\")\n",
        "pat"
      ],
      "execution_count": null,
      "outputs": [
        {
          "output_type": "execute_result",
          "data": {
            "text/plain": [
              "re.compile(r'(\\d{6})[-]\\d{7}', re.UNICODE)"
            ]
          },
          "metadata": {
            "tags": []
          },
          "execution_count": 40
        }
      ]
    },
    {
      "cell_type": "code",
      "metadata": {
        "id": "-wzQEgTm271h",
        "colab_type": "code",
        "colab": {},
        "outputId": "623a5e74-de78-485e-bee0-e2082444b438"
      },
      "source": [
        "result=pat.sub(\"\\g<1>-*******\",data)\n",
        "result"
      ],
      "execution_count": null,
      "outputs": [
        {
          "output_type": "execute_result",
          "data": {
            "text/plain": [
              "'\\npark 800905-*******\\nkim 700905-*******\\njang 920625-*******\\n'"
            ]
          },
          "metadata": {
            "tags": []
          },
          "execution_count": 42
        }
      ]
    },
    {
      "cell_type": "code",
      "metadata": {
        "id": "59LhzSlI271j",
        "colab_type": "code",
        "colab": {},
        "outputId": "d0d5a1e3-8bae-4493-efa3-fd5df25de21d"
      },
      "source": [
        "result.split()"
      ],
      "execution_count": null,
      "outputs": [
        {
          "output_type": "execute_result",
          "data": {
            "text/plain": [
              "['park', '800905-*******', 'kim', '700905-*******', 'jang', '920625-*******']"
            ]
          },
          "metadata": {
            "tags": []
          },
          "execution_count": 43
        }
      ]
    },
    {
      "cell_type": "code",
      "metadata": {
        "id": "uB8XWGtF271l",
        "colab_type": "code",
        "colab": {}
      },
      "source": [
        ""
      ],
      "execution_count": null,
      "outputs": []
    }
  ]
}