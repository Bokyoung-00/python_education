{
  "nbformat": 4,
  "nbformat_minor": 0,
  "metadata": {
    "kernelspec": {
      "display_name": "Python 3",
      "language": "python",
      "name": "python3"
    },
    "language_info": {
      "codemirror_mode": {
        "name": "ipython",
        "version": 3
      },
      "file_extension": ".py",
      "mimetype": "text/x-python",
      "name": "python",
      "nbconvert_exporter": "python",
      "pygments_lexer": "ipython3",
      "version": "3.8.3"
    },
    "colab": {
      "name": "Pandas.ipynb",
      "provenance": [],
      "include_colab_link": true
    }
  },
  "cells": [
    {
      "cell_type": "markdown",
      "metadata": {
        "id": "view-in-github",
        "colab_type": "text"
      },
      "source": [
        "<a href=\"https://colab.research.google.com/github/Bokyoung-00/python_education/blob/master/Pandas.ipynb\" target=\"_parent\"><img src=\"https://colab.research.google.com/assets/colab-badge.svg\" alt=\"Open In Colab\"/></a>"
      ]
    },
    {
      "cell_type": "code",
      "metadata": {
        "id": "YTuEuygIy8bq",
        "colab_type": "code",
        "colab": {}
      },
      "source": [
        "import pandas as pd"
      ],
      "execution_count": null,
      "outputs": []
    },
    {
      "cell_type": "code",
      "metadata": {
        "id": "0bkOjC35y8bz",
        "colab_type": "code",
        "colab": {}
      },
      "source": [
        "import numpy as np\n",
        "import matplotlib.pyplot as plt"
      ],
      "execution_count": null,
      "outputs": []
    },
    {
      "cell_type": "code",
      "metadata": {
        "id": "5YmdQ-_hy8b3",
        "colab_type": "code",
        "colab": {}
      },
      "source": [
        "s=pd.Series([1,3,5,np.nan,6,8])"
      ],
      "execution_count": null,
      "outputs": []
    },
    {
      "cell_type": "code",
      "metadata": {
        "id": "olRBSyQby8b7",
        "colab_type": "code",
        "colab": {},
        "outputId": "40409c19-22ec-49f0-99d3-117493944b9d"
      },
      "source": [
        "s"
      ],
      "execution_count": null,
      "outputs": [
        {
          "output_type": "execute_result",
          "data": {
            "text/plain": [
              "0    1.0\n",
              "1    3.0\n",
              "2    5.0\n",
              "3    NaN\n",
              "4    6.0\n",
              "5    8.0\n",
              "dtype: float64"
            ]
          },
          "metadata": {
            "tags": []
          },
          "execution_count": 4
        }
      ]
    },
    {
      "cell_type": "code",
      "metadata": {
        "id": "r6p_wW-4y8cB",
        "colab_type": "code",
        "colab": {}
      },
      "source": [
        "dates=pd.date_range('20130101',periods=6)"
      ],
      "execution_count": null,
      "outputs": []
    },
    {
      "cell_type": "code",
      "metadata": {
        "id": "21FFqXWTy8cF",
        "colab_type": "code",
        "colab": {},
        "outputId": "caf2b44e-391b-43af-e101-c9d004950dff"
      },
      "source": [
        "dates"
      ],
      "execution_count": null,
      "outputs": [
        {
          "output_type": "execute_result",
          "data": {
            "text/plain": [
              "DatetimeIndex(['2013-01-01', '2013-01-02', '2013-01-03', '2013-01-04',\n",
              "               '2013-01-05', '2013-01-06'],\n",
              "              dtype='datetime64[ns]', freq='D')"
            ]
          },
          "metadata": {
            "tags": []
          },
          "execution_count": 6
        }
      ]
    },
    {
      "cell_type": "code",
      "metadata": {
        "id": "3aEjn0JOy8cJ",
        "colab_type": "code",
        "colab": {}
      },
      "source": [
        "df=pd.DataFrame(np.random.randn(6,4),index=dates,columns=list('ABCD'))"
      ],
      "execution_count": null,
      "outputs": []
    },
    {
      "cell_type": "code",
      "metadata": {
        "id": "LMfdFZ6ny8cO",
        "colab_type": "code",
        "colab": {},
        "outputId": "dbe4c6ad-d575-45f0-da29-0881642f8c76"
      },
      "source": [
        "import matplotlib\n",
        "print(\"pandas ver =\", pd.__version__)\n",
        "print(\"numpy ver = {}\".format(np.__version__))\n",
        "print(\"matplotlib ver = %s\"% matplotlib.__version__)"
      ],
      "execution_count": null,
      "outputs": [
        {
          "output_type": "stream",
          "text": [
            "pandas ver = 1.0.5\n",
            "numpy ver = 1.18.5\n",
            "matplotlib ver = 3.2.2\n"
          ],
          "name": "stdout"
        }
      ]
    },
    {
      "cell_type": "code",
      "metadata": {
        "id": "AHpo96Gvy8cS",
        "colab_type": "code",
        "colab": {},
        "outputId": "6d2131e0-b851-45f0-b649-862dc28da7c3"
      },
      "source": [
        "df"
      ],
      "execution_count": null,
      "outputs": [
        {
          "output_type": "execute_result",
          "data": {
            "text/html": [
              "<div>\n",
              "<style scoped>\n",
              "    .dataframe tbody tr th:only-of-type {\n",
              "        vertical-align: middle;\n",
              "    }\n",
              "\n",
              "    .dataframe tbody tr th {\n",
              "        vertical-align: top;\n",
              "    }\n",
              "\n",
              "    .dataframe thead th {\n",
              "        text-align: right;\n",
              "    }\n",
              "</style>\n",
              "<table border=\"1\" class=\"dataframe\">\n",
              "  <thead>\n",
              "    <tr style=\"text-align: right;\">\n",
              "      <th></th>\n",
              "      <th>A</th>\n",
              "      <th>B</th>\n",
              "      <th>C</th>\n",
              "      <th>D</th>\n",
              "    </tr>\n",
              "  </thead>\n",
              "  <tbody>\n",
              "    <tr>\n",
              "      <th>2013-01-01</th>\n",
              "      <td>-0.557031</td>\n",
              "      <td>-2.039612</td>\n",
              "      <td>-0.502634</td>\n",
              "      <td>-0.761149</td>\n",
              "    </tr>\n",
              "    <tr>\n",
              "      <th>2013-01-02</th>\n",
              "      <td>0.335303</td>\n",
              "      <td>0.540824</td>\n",
              "      <td>-0.908645</td>\n",
              "      <td>0.616028</td>\n",
              "    </tr>\n",
              "    <tr>\n",
              "      <th>2013-01-03</th>\n",
              "      <td>0.427663</td>\n",
              "      <td>-0.065110</td>\n",
              "      <td>1.782883</td>\n",
              "      <td>0.978580</td>\n",
              "    </tr>\n",
              "    <tr>\n",
              "      <th>2013-01-04</th>\n",
              "      <td>-0.067047</td>\n",
              "      <td>-2.351899</td>\n",
              "      <td>-0.558563</td>\n",
              "      <td>1.779764</td>\n",
              "    </tr>\n",
              "    <tr>\n",
              "      <th>2013-01-05</th>\n",
              "      <td>-0.702530</td>\n",
              "      <td>-0.911078</td>\n",
              "      <td>-0.037988</td>\n",
              "      <td>0.041096</td>\n",
              "    </tr>\n",
              "    <tr>\n",
              "      <th>2013-01-06</th>\n",
              "      <td>-0.407555</td>\n",
              "      <td>0.523425</td>\n",
              "      <td>-1.666684</td>\n",
              "      <td>1.185564</td>\n",
              "    </tr>\n",
              "  </tbody>\n",
              "</table>\n",
              "</div>"
            ],
            "text/plain": [
              "                   A         B         C         D\n",
              "2013-01-01 -0.557031 -2.039612 -0.502634 -0.761149\n",
              "2013-01-02  0.335303  0.540824 -0.908645  0.616028\n",
              "2013-01-03  0.427663 -0.065110  1.782883  0.978580\n",
              "2013-01-04 -0.067047 -2.351899 -0.558563  1.779764\n",
              "2013-01-05 -0.702530 -0.911078 -0.037988  0.041096\n",
              "2013-01-06 -0.407555  0.523425 -1.666684  1.185564"
            ]
          },
          "metadata": {
            "tags": []
          },
          "execution_count": 16
        }
      ]
    },
    {
      "cell_type": "code",
      "metadata": {
        "id": "xmJe5S5cy8cU",
        "colab_type": "code",
        "colab": {}
      },
      "source": [
        "df2=pd.DataFrame({'A':1,\n",
        "                  'B':pd.Timestamp('20130102'),\n",
        "                  'C':pd.Series(1,index=list(range(4)),dtype='float32'),\n",
        "                  'D':np.array([3]*4, dtype='int32'),\n",
        "                  'E':pd.Categorical([\"test\",\"train\",\"test\",\"train\"]),\n",
        "                  'F':'foo'})"
      ],
      "execution_count": null,
      "outputs": []
    },
    {
      "cell_type": "code",
      "metadata": {
        "id": "ONnq-Pbiy8cW",
        "colab_type": "code",
        "colab": {},
        "outputId": "b2eb21b0-9348-4a8c-f445-34a7f8efc47e"
      },
      "source": [
        "df2"
      ],
      "execution_count": null,
      "outputs": [
        {
          "output_type": "execute_result",
          "data": {
            "text/html": [
              "<div>\n",
              "<style scoped>\n",
              "    .dataframe tbody tr th:only-of-type {\n",
              "        vertical-align: middle;\n",
              "    }\n",
              "\n",
              "    .dataframe tbody tr th {\n",
              "        vertical-align: top;\n",
              "    }\n",
              "\n",
              "    .dataframe thead th {\n",
              "        text-align: right;\n",
              "    }\n",
              "</style>\n",
              "<table border=\"1\" class=\"dataframe\">\n",
              "  <thead>\n",
              "    <tr style=\"text-align: right;\">\n",
              "      <th></th>\n",
              "      <th>A</th>\n",
              "      <th>B</th>\n",
              "      <th>C</th>\n",
              "      <th>D</th>\n",
              "      <th>E</th>\n",
              "      <th>F</th>\n",
              "    </tr>\n",
              "  </thead>\n",
              "  <tbody>\n",
              "    <tr>\n",
              "      <th>0</th>\n",
              "      <td>1</td>\n",
              "      <td>2013-01-02</td>\n",
              "      <td>1.0</td>\n",
              "      <td>3</td>\n",
              "      <td>test</td>\n",
              "      <td>foo</td>\n",
              "    </tr>\n",
              "    <tr>\n",
              "      <th>1</th>\n",
              "      <td>1</td>\n",
              "      <td>2013-01-02</td>\n",
              "      <td>1.0</td>\n",
              "      <td>3</td>\n",
              "      <td>train</td>\n",
              "      <td>foo</td>\n",
              "    </tr>\n",
              "    <tr>\n",
              "      <th>2</th>\n",
              "      <td>1</td>\n",
              "      <td>2013-01-02</td>\n",
              "      <td>1.0</td>\n",
              "      <td>3</td>\n",
              "      <td>test</td>\n",
              "      <td>foo</td>\n",
              "    </tr>\n",
              "    <tr>\n",
              "      <th>3</th>\n",
              "      <td>1</td>\n",
              "      <td>2013-01-02</td>\n",
              "      <td>1.0</td>\n",
              "      <td>3</td>\n",
              "      <td>train</td>\n",
              "      <td>foo</td>\n",
              "    </tr>\n",
              "  </tbody>\n",
              "</table>\n",
              "</div>"
            ],
            "text/plain": [
              "   A          B    C  D      E    F\n",
              "0  1 2013-01-02  1.0  3   test  foo\n",
              "1  1 2013-01-02  1.0  3  train  foo\n",
              "2  1 2013-01-02  1.0  3   test  foo\n",
              "3  1 2013-01-02  1.0  3  train  foo"
            ]
          },
          "metadata": {
            "tags": []
          },
          "execution_count": 20
        }
      ]
    },
    {
      "cell_type": "code",
      "metadata": {
        "id": "EVMFfXSNy8cY",
        "colab_type": "code",
        "colab": {},
        "outputId": "a06c9990-01c3-4171-9fb4-9900441ad9c5"
      },
      "source": [
        "df.head()"
      ],
      "execution_count": null,
      "outputs": [
        {
          "output_type": "execute_result",
          "data": {
            "text/html": [
              "<div>\n",
              "<style scoped>\n",
              "    .dataframe tbody tr th:only-of-type {\n",
              "        vertical-align: middle;\n",
              "    }\n",
              "\n",
              "    .dataframe tbody tr th {\n",
              "        vertical-align: top;\n",
              "    }\n",
              "\n",
              "    .dataframe thead th {\n",
              "        text-align: right;\n",
              "    }\n",
              "</style>\n",
              "<table border=\"1\" class=\"dataframe\">\n",
              "  <thead>\n",
              "    <tr style=\"text-align: right;\">\n",
              "      <th></th>\n",
              "      <th>A</th>\n",
              "      <th>B</th>\n",
              "      <th>C</th>\n",
              "      <th>D</th>\n",
              "    </tr>\n",
              "  </thead>\n",
              "  <tbody>\n",
              "    <tr>\n",
              "      <th>2013-01-01</th>\n",
              "      <td>-0.557031</td>\n",
              "      <td>-2.039612</td>\n",
              "      <td>-0.502634</td>\n",
              "      <td>-0.761149</td>\n",
              "    </tr>\n",
              "    <tr>\n",
              "      <th>2013-01-02</th>\n",
              "      <td>0.335303</td>\n",
              "      <td>0.540824</td>\n",
              "      <td>-0.908645</td>\n",
              "      <td>0.616028</td>\n",
              "    </tr>\n",
              "    <tr>\n",
              "      <th>2013-01-03</th>\n",
              "      <td>0.427663</td>\n",
              "      <td>-0.065110</td>\n",
              "      <td>1.782883</td>\n",
              "      <td>0.978580</td>\n",
              "    </tr>\n",
              "    <tr>\n",
              "      <th>2013-01-04</th>\n",
              "      <td>-0.067047</td>\n",
              "      <td>-2.351899</td>\n",
              "      <td>-0.558563</td>\n",
              "      <td>1.779764</td>\n",
              "    </tr>\n",
              "    <tr>\n",
              "      <th>2013-01-05</th>\n",
              "      <td>-0.702530</td>\n",
              "      <td>-0.911078</td>\n",
              "      <td>-0.037988</td>\n",
              "      <td>0.041096</td>\n",
              "    </tr>\n",
              "  </tbody>\n",
              "</table>\n",
              "</div>"
            ],
            "text/plain": [
              "                   A         B         C         D\n",
              "2013-01-01 -0.557031 -2.039612 -0.502634 -0.761149\n",
              "2013-01-02  0.335303  0.540824 -0.908645  0.616028\n",
              "2013-01-03  0.427663 -0.065110  1.782883  0.978580\n",
              "2013-01-04 -0.067047 -2.351899 -0.558563  1.779764\n",
              "2013-01-05 -0.702530 -0.911078 -0.037988  0.041096"
            ]
          },
          "metadata": {
            "tags": []
          },
          "execution_count": 21
        }
      ]
    },
    {
      "cell_type": "code",
      "metadata": {
        "id": "kRihJJFPy8cb",
        "colab_type": "code",
        "colab": {},
        "outputId": "bfd92980-5495-4d20-9cd3-af2c5442c0ee"
      },
      "source": [
        "df.tail(3)"
      ],
      "execution_count": null,
      "outputs": [
        {
          "output_type": "execute_result",
          "data": {
            "text/html": [
              "<div>\n",
              "<style scoped>\n",
              "    .dataframe tbody tr th:only-of-type {\n",
              "        vertical-align: middle;\n",
              "    }\n",
              "\n",
              "    .dataframe tbody tr th {\n",
              "        vertical-align: top;\n",
              "    }\n",
              "\n",
              "    .dataframe thead th {\n",
              "        text-align: right;\n",
              "    }\n",
              "</style>\n",
              "<table border=\"1\" class=\"dataframe\">\n",
              "  <thead>\n",
              "    <tr style=\"text-align: right;\">\n",
              "      <th></th>\n",
              "      <th>A</th>\n",
              "      <th>B</th>\n",
              "      <th>C</th>\n",
              "      <th>D</th>\n",
              "    </tr>\n",
              "  </thead>\n",
              "  <tbody>\n",
              "    <tr>\n",
              "      <th>2013-01-04</th>\n",
              "      <td>-0.067047</td>\n",
              "      <td>-2.351899</td>\n",
              "      <td>-0.558563</td>\n",
              "      <td>1.779764</td>\n",
              "    </tr>\n",
              "    <tr>\n",
              "      <th>2013-01-05</th>\n",
              "      <td>-0.702530</td>\n",
              "      <td>-0.911078</td>\n",
              "      <td>-0.037988</td>\n",
              "      <td>0.041096</td>\n",
              "    </tr>\n",
              "    <tr>\n",
              "      <th>2013-01-06</th>\n",
              "      <td>-0.407555</td>\n",
              "      <td>0.523425</td>\n",
              "      <td>-1.666684</td>\n",
              "      <td>1.185564</td>\n",
              "    </tr>\n",
              "  </tbody>\n",
              "</table>\n",
              "</div>"
            ],
            "text/plain": [
              "                   A         B         C         D\n",
              "2013-01-04 -0.067047 -2.351899 -0.558563  1.779764\n",
              "2013-01-05 -0.702530 -0.911078 -0.037988  0.041096\n",
              "2013-01-06 -0.407555  0.523425 -1.666684  1.185564"
            ]
          },
          "metadata": {
            "tags": []
          },
          "execution_count": 23
        }
      ]
    },
    {
      "cell_type": "code",
      "metadata": {
        "id": "t_qLHF8ty8cd",
        "colab_type": "code",
        "colab": {},
        "outputId": "beaf0a91-8e62-44b5-94fd-a8b26649039e"
      },
      "source": [
        "df.index"
      ],
      "execution_count": null,
      "outputs": [
        {
          "output_type": "execute_result",
          "data": {
            "text/plain": [
              "DatetimeIndex(['2013-01-01', '2013-01-02', '2013-01-03', '2013-01-04',\n",
              "               '2013-01-05', '2013-01-06'],\n",
              "              dtype='datetime64[ns]', freq='D')"
            ]
          },
          "metadata": {
            "tags": []
          },
          "execution_count": 24
        }
      ]
    },
    {
      "cell_type": "code",
      "metadata": {
        "id": "0Nvu3fP1y8cf",
        "colab_type": "code",
        "colab": {},
        "outputId": "a1b20ff3-552a-478e-e8d8-fe8836a822ea"
      },
      "source": [
        "df.columns"
      ],
      "execution_count": null,
      "outputs": [
        {
          "output_type": "execute_result",
          "data": {
            "text/plain": [
              "Index(['A', 'B', 'C', 'D'], dtype='object')"
            ]
          },
          "metadata": {
            "tags": []
          },
          "execution_count": 26
        }
      ]
    },
    {
      "cell_type": "code",
      "metadata": {
        "id": "22jlGQkLy8ch",
        "colab_type": "code",
        "colab": {},
        "outputId": "1d5bc90a-511b-4c0b-f5f4-96fa5705dbf1"
      },
      "source": [
        "df.values"
      ],
      "execution_count": null,
      "outputs": [
        {
          "output_type": "execute_result",
          "data": {
            "text/plain": [
              "array([[-0.557031  , -2.03961195, -0.50263405, -0.76114908],\n",
              "       [ 0.33530289,  0.54082391, -0.90864513,  0.61602765],\n",
              "       [ 0.42766332, -0.06511048,  1.78288281,  0.97858043],\n",
              "       [-0.06704682, -2.35189867, -0.55856307,  1.77976389],\n",
              "       [-0.7025304 , -0.91107835, -0.03798769,  0.04109583],\n",
              "       [-0.40755525,  0.52342523, -1.66668426,  1.18556389]])"
            ]
          },
          "metadata": {
            "tags": []
          },
          "execution_count": 27
        }
      ]
    },
    {
      "cell_type": "code",
      "metadata": {
        "id": "R9q88yLjy8cj",
        "colab_type": "code",
        "colab": {},
        "outputId": "0fdecff3-b01e-4fa4-b102-a6d3ad2f469f"
      },
      "source": [
        "df.describe()"
      ],
      "execution_count": null,
      "outputs": [
        {
          "output_type": "execute_result",
          "data": {
            "text/html": [
              "<div>\n",
              "<style scoped>\n",
              "    .dataframe tbody tr th:only-of-type {\n",
              "        vertical-align: middle;\n",
              "    }\n",
              "\n",
              "    .dataframe tbody tr th {\n",
              "        vertical-align: top;\n",
              "    }\n",
              "\n",
              "    .dataframe thead th {\n",
              "        text-align: right;\n",
              "    }\n",
              "</style>\n",
              "<table border=\"1\" class=\"dataframe\">\n",
              "  <thead>\n",
              "    <tr style=\"text-align: right;\">\n",
              "      <th></th>\n",
              "      <th>A</th>\n",
              "      <th>B</th>\n",
              "      <th>C</th>\n",
              "      <th>D</th>\n",
              "    </tr>\n",
              "  </thead>\n",
              "  <tbody>\n",
              "    <tr>\n",
              "      <th>count</th>\n",
              "      <td>6.000000</td>\n",
              "      <td>6.000000</td>\n",
              "      <td>6.000000</td>\n",
              "      <td>6.000000</td>\n",
              "    </tr>\n",
              "    <tr>\n",
              "      <th>mean</th>\n",
              "      <td>-0.161866</td>\n",
              "      <td>-0.717242</td>\n",
              "      <td>-0.315272</td>\n",
              "      <td>0.639980</td>\n",
              "    </tr>\n",
              "    <tr>\n",
              "      <th>std</th>\n",
              "      <td>0.471709</td>\n",
              "      <td>1.265354</td>\n",
              "      <td>1.162054</td>\n",
              "      <td>0.898200</td>\n",
              "    </tr>\n",
              "    <tr>\n",
              "      <th>min</th>\n",
              "      <td>-0.702530</td>\n",
              "      <td>-2.351899</td>\n",
              "      <td>-1.666684</td>\n",
              "      <td>-0.761149</td>\n",
              "    </tr>\n",
              "    <tr>\n",
              "      <th>25%</th>\n",
              "      <td>-0.519662</td>\n",
              "      <td>-1.757479</td>\n",
              "      <td>-0.821125</td>\n",
              "      <td>0.184829</td>\n",
              "    </tr>\n",
              "    <tr>\n",
              "      <th>50%</th>\n",
              "      <td>-0.237301</td>\n",
              "      <td>-0.488094</td>\n",
              "      <td>-0.530599</td>\n",
              "      <td>0.797304</td>\n",
              "    </tr>\n",
              "    <tr>\n",
              "      <th>75%</th>\n",
              "      <td>0.234715</td>\n",
              "      <td>0.376291</td>\n",
              "      <td>-0.154149</td>\n",
              "      <td>1.133818</td>\n",
              "    </tr>\n",
              "    <tr>\n",
              "      <th>max</th>\n",
              "      <td>0.427663</td>\n",
              "      <td>0.540824</td>\n",
              "      <td>1.782883</td>\n",
              "      <td>1.779764</td>\n",
              "    </tr>\n",
              "  </tbody>\n",
              "</table>\n",
              "</div>"
            ],
            "text/plain": [
              "              A         B         C         D\n",
              "count  6.000000  6.000000  6.000000  6.000000\n",
              "mean  -0.161866 -0.717242 -0.315272  0.639980\n",
              "std    0.471709  1.265354  1.162054  0.898200\n",
              "min   -0.702530 -2.351899 -1.666684 -0.761149\n",
              "25%   -0.519662 -1.757479 -0.821125  0.184829\n",
              "50%   -0.237301 -0.488094 -0.530599  0.797304\n",
              "75%    0.234715  0.376291 -0.154149  1.133818\n",
              "max    0.427663  0.540824  1.782883  1.779764"
            ]
          },
          "metadata": {
            "tags": []
          },
          "execution_count": 28
        }
      ]
    },
    {
      "cell_type": "code",
      "metadata": {
        "id": "Rw7m6nk9y8cl",
        "colab_type": "code",
        "colab": {},
        "outputId": "5ac2dfc9-63fc-4bae-fb3e-944045c20412"
      },
      "source": [
        "df.T"
      ],
      "execution_count": null,
      "outputs": [
        {
          "output_type": "execute_result",
          "data": {
            "text/html": [
              "<div>\n",
              "<style scoped>\n",
              "    .dataframe tbody tr th:only-of-type {\n",
              "        vertical-align: middle;\n",
              "    }\n",
              "\n",
              "    .dataframe tbody tr th {\n",
              "        vertical-align: top;\n",
              "    }\n",
              "\n",
              "    .dataframe thead th {\n",
              "        text-align: right;\n",
              "    }\n",
              "</style>\n",
              "<table border=\"1\" class=\"dataframe\">\n",
              "  <thead>\n",
              "    <tr style=\"text-align: right;\">\n",
              "      <th></th>\n",
              "      <th>2013-01-01</th>\n",
              "      <th>2013-01-02</th>\n",
              "      <th>2013-01-03</th>\n",
              "      <th>2013-01-04</th>\n",
              "      <th>2013-01-05</th>\n",
              "      <th>2013-01-06</th>\n",
              "    </tr>\n",
              "  </thead>\n",
              "  <tbody>\n",
              "    <tr>\n",
              "      <th>A</th>\n",
              "      <td>-0.557031</td>\n",
              "      <td>0.335303</td>\n",
              "      <td>0.427663</td>\n",
              "      <td>-0.067047</td>\n",
              "      <td>-0.702530</td>\n",
              "      <td>-0.407555</td>\n",
              "    </tr>\n",
              "    <tr>\n",
              "      <th>B</th>\n",
              "      <td>-2.039612</td>\n",
              "      <td>0.540824</td>\n",
              "      <td>-0.065110</td>\n",
              "      <td>-2.351899</td>\n",
              "      <td>-0.911078</td>\n",
              "      <td>0.523425</td>\n",
              "    </tr>\n",
              "    <tr>\n",
              "      <th>C</th>\n",
              "      <td>-0.502634</td>\n",
              "      <td>-0.908645</td>\n",
              "      <td>1.782883</td>\n",
              "      <td>-0.558563</td>\n",
              "      <td>-0.037988</td>\n",
              "      <td>-1.666684</td>\n",
              "    </tr>\n",
              "    <tr>\n",
              "      <th>D</th>\n",
              "      <td>-0.761149</td>\n",
              "      <td>0.616028</td>\n",
              "      <td>0.978580</td>\n",
              "      <td>1.779764</td>\n",
              "      <td>0.041096</td>\n",
              "      <td>1.185564</td>\n",
              "    </tr>\n",
              "  </tbody>\n",
              "</table>\n",
              "</div>"
            ],
            "text/plain": [
              "   2013-01-01  2013-01-02  2013-01-03  2013-01-04  2013-01-05  2013-01-06\n",
              "A   -0.557031    0.335303    0.427663   -0.067047   -0.702530   -0.407555\n",
              "B   -2.039612    0.540824   -0.065110   -2.351899   -0.911078    0.523425\n",
              "C   -0.502634   -0.908645    1.782883   -0.558563   -0.037988   -1.666684\n",
              "D   -0.761149    0.616028    0.978580    1.779764    0.041096    1.185564"
            ]
          },
          "metadata": {
            "tags": []
          },
          "execution_count": 29
        }
      ]
    },
    {
      "cell_type": "code",
      "metadata": {
        "id": "5ehJyB2wy8co",
        "colab_type": "code",
        "colab": {},
        "outputId": "f698e83d-1a93-44cf-f6ca-8c97b639904e"
      },
      "source": [
        "df.sort_index(axis=1,ascending=False)"
      ],
      "execution_count": null,
      "outputs": [
        {
          "output_type": "execute_result",
          "data": {
            "text/html": [
              "<div>\n",
              "<style scoped>\n",
              "    .dataframe tbody tr th:only-of-type {\n",
              "        vertical-align: middle;\n",
              "    }\n",
              "\n",
              "    .dataframe tbody tr th {\n",
              "        vertical-align: top;\n",
              "    }\n",
              "\n",
              "    .dataframe thead th {\n",
              "        text-align: right;\n",
              "    }\n",
              "</style>\n",
              "<table border=\"1\" class=\"dataframe\">\n",
              "  <thead>\n",
              "    <tr style=\"text-align: right;\">\n",
              "      <th></th>\n",
              "      <th>D</th>\n",
              "      <th>C</th>\n",
              "      <th>B</th>\n",
              "      <th>A</th>\n",
              "    </tr>\n",
              "  </thead>\n",
              "  <tbody>\n",
              "    <tr>\n",
              "      <th>2013-01-01</th>\n",
              "      <td>-0.761149</td>\n",
              "      <td>-0.502634</td>\n",
              "      <td>-2.039612</td>\n",
              "      <td>-0.557031</td>\n",
              "    </tr>\n",
              "    <tr>\n",
              "      <th>2013-01-02</th>\n",
              "      <td>0.616028</td>\n",
              "      <td>-0.908645</td>\n",
              "      <td>0.540824</td>\n",
              "      <td>0.335303</td>\n",
              "    </tr>\n",
              "    <tr>\n",
              "      <th>2013-01-03</th>\n",
              "      <td>0.978580</td>\n",
              "      <td>1.782883</td>\n",
              "      <td>-0.065110</td>\n",
              "      <td>0.427663</td>\n",
              "    </tr>\n",
              "    <tr>\n",
              "      <th>2013-01-04</th>\n",
              "      <td>1.779764</td>\n",
              "      <td>-0.558563</td>\n",
              "      <td>-2.351899</td>\n",
              "      <td>-0.067047</td>\n",
              "    </tr>\n",
              "    <tr>\n",
              "      <th>2013-01-05</th>\n",
              "      <td>0.041096</td>\n",
              "      <td>-0.037988</td>\n",
              "      <td>-0.911078</td>\n",
              "      <td>-0.702530</td>\n",
              "    </tr>\n",
              "    <tr>\n",
              "      <th>2013-01-06</th>\n",
              "      <td>1.185564</td>\n",
              "      <td>-1.666684</td>\n",
              "      <td>0.523425</td>\n",
              "      <td>-0.407555</td>\n",
              "    </tr>\n",
              "  </tbody>\n",
              "</table>\n",
              "</div>"
            ],
            "text/plain": [
              "                   D         C         B         A\n",
              "2013-01-01 -0.761149 -0.502634 -2.039612 -0.557031\n",
              "2013-01-02  0.616028 -0.908645  0.540824  0.335303\n",
              "2013-01-03  0.978580  1.782883 -0.065110  0.427663\n",
              "2013-01-04  1.779764 -0.558563 -2.351899 -0.067047\n",
              "2013-01-05  0.041096 -0.037988 -0.911078 -0.702530\n",
              "2013-01-06  1.185564 -1.666684  0.523425 -0.407555"
            ]
          },
          "metadata": {
            "tags": []
          },
          "execution_count": 30
        }
      ]
    },
    {
      "cell_type": "code",
      "metadata": {
        "id": "NiE5Qw4cy8cr",
        "colab_type": "code",
        "colab": {},
        "outputId": "fc187385-0a62-4070-e8cf-dab5feed6e14"
      },
      "source": [
        "df['A']"
      ],
      "execution_count": null,
      "outputs": [
        {
          "output_type": "execute_result",
          "data": {
            "text/plain": [
              "2013-01-01   -0.557031\n",
              "2013-01-02    0.335303\n",
              "2013-01-03    0.427663\n",
              "2013-01-04   -0.067047\n",
              "2013-01-05   -0.702530\n",
              "2013-01-06   -0.407555\n",
              "Freq: D, Name: A, dtype: float64"
            ]
          },
          "metadata": {
            "tags": []
          },
          "execution_count": 37
        }
      ]
    },
    {
      "cell_type": "markdown",
      "metadata": {
        "id": "hRCekL7Ny8cu",
        "colab_type": "text"
      },
      "source": [
        "df[0:3]"
      ]
    },
    {
      "cell_type": "code",
      "metadata": {
        "id": "WFRefVtby8cu",
        "colab_type": "code",
        "colab": {},
        "outputId": "1ac98db9-eb97-4c5d-f3dd-efc2ee1660d2"
      },
      "source": [
        "df[0:3]"
      ],
      "execution_count": null,
      "outputs": [
        {
          "output_type": "execute_result",
          "data": {
            "text/html": [
              "<div>\n",
              "<style scoped>\n",
              "    .dataframe tbody tr th:only-of-type {\n",
              "        vertical-align: middle;\n",
              "    }\n",
              "\n",
              "    .dataframe tbody tr th {\n",
              "        vertical-align: top;\n",
              "    }\n",
              "\n",
              "    .dataframe thead th {\n",
              "        text-align: right;\n",
              "    }\n",
              "</style>\n",
              "<table border=\"1\" class=\"dataframe\">\n",
              "  <thead>\n",
              "    <tr style=\"text-align: right;\">\n",
              "      <th></th>\n",
              "      <th>A</th>\n",
              "      <th>B</th>\n",
              "      <th>C</th>\n",
              "      <th>D</th>\n",
              "    </tr>\n",
              "  </thead>\n",
              "  <tbody>\n",
              "    <tr>\n",
              "      <th>2013-01-01</th>\n",
              "      <td>-0.557031</td>\n",
              "      <td>-2.039612</td>\n",
              "      <td>-0.502634</td>\n",
              "      <td>-0.761149</td>\n",
              "    </tr>\n",
              "    <tr>\n",
              "      <th>2013-01-02</th>\n",
              "      <td>0.335303</td>\n",
              "      <td>0.540824</td>\n",
              "      <td>-0.908645</td>\n",
              "      <td>0.616028</td>\n",
              "    </tr>\n",
              "    <tr>\n",
              "      <th>2013-01-03</th>\n",
              "      <td>0.427663</td>\n",
              "      <td>-0.065110</td>\n",
              "      <td>1.782883</td>\n",
              "      <td>0.978580</td>\n",
              "    </tr>\n",
              "  </tbody>\n",
              "</table>\n",
              "</div>"
            ],
            "text/plain": [
              "                   A         B         C         D\n",
              "2013-01-01 -0.557031 -2.039612 -0.502634 -0.761149\n",
              "2013-01-02  0.335303  0.540824 -0.908645  0.616028\n",
              "2013-01-03  0.427663 -0.065110  1.782883  0.978580"
            ]
          },
          "metadata": {
            "tags": []
          },
          "execution_count": 38
        }
      ]
    },
    {
      "cell_type": "code",
      "metadata": {
        "id": "ZyaR4iYIy8cw",
        "colab_type": "code",
        "colab": {},
        "outputId": "6fe26124-0bcb-42ff-b4f9-ad4527c2844a"
      },
      "source": [
        "df[['A','C']]"
      ],
      "execution_count": null,
      "outputs": [
        {
          "output_type": "execute_result",
          "data": {
            "text/html": [
              "<div>\n",
              "<style scoped>\n",
              "    .dataframe tbody tr th:only-of-type {\n",
              "        vertical-align: middle;\n",
              "    }\n",
              "\n",
              "    .dataframe tbody tr th {\n",
              "        vertical-align: top;\n",
              "    }\n",
              "\n",
              "    .dataframe thead th {\n",
              "        text-align: right;\n",
              "    }\n",
              "</style>\n",
              "<table border=\"1\" class=\"dataframe\">\n",
              "  <thead>\n",
              "    <tr style=\"text-align: right;\">\n",
              "      <th></th>\n",
              "      <th>A</th>\n",
              "      <th>C</th>\n",
              "    </tr>\n",
              "  </thead>\n",
              "  <tbody>\n",
              "    <tr>\n",
              "      <th>2013-01-01</th>\n",
              "      <td>-0.557031</td>\n",
              "      <td>-0.502634</td>\n",
              "    </tr>\n",
              "    <tr>\n",
              "      <th>2013-01-02</th>\n",
              "      <td>0.335303</td>\n",
              "      <td>-0.908645</td>\n",
              "    </tr>\n",
              "    <tr>\n",
              "      <th>2013-01-03</th>\n",
              "      <td>0.427663</td>\n",
              "      <td>1.782883</td>\n",
              "    </tr>\n",
              "    <tr>\n",
              "      <th>2013-01-04</th>\n",
              "      <td>-0.067047</td>\n",
              "      <td>-0.558563</td>\n",
              "    </tr>\n",
              "    <tr>\n",
              "      <th>2013-01-05</th>\n",
              "      <td>-0.702530</td>\n",
              "      <td>-0.037988</td>\n",
              "    </tr>\n",
              "    <tr>\n",
              "      <th>2013-01-06</th>\n",
              "      <td>-0.407555</td>\n",
              "      <td>-1.666684</td>\n",
              "    </tr>\n",
              "  </tbody>\n",
              "</table>\n",
              "</div>"
            ],
            "text/plain": [
              "                   A         C\n",
              "2013-01-01 -0.557031 -0.502634\n",
              "2013-01-02  0.335303 -0.908645\n",
              "2013-01-03  0.427663  1.782883\n",
              "2013-01-04 -0.067047 -0.558563\n",
              "2013-01-05 -0.702530 -0.037988\n",
              "2013-01-06 -0.407555 -1.666684"
            ]
          },
          "metadata": {
            "tags": []
          },
          "execution_count": 40
        }
      ]
    },
    {
      "cell_type": "code",
      "metadata": {
        "id": "SUwfKm3yy8cy",
        "colab_type": "code",
        "colab": {},
        "outputId": "d00e42f3-2a51-4d4b-fb1e-faa42a5c81e3"
      },
      "source": [
        "df['20130102':'20130104']"
      ],
      "execution_count": null,
      "outputs": [
        {
          "output_type": "execute_result",
          "data": {
            "text/html": [
              "<div>\n",
              "<style scoped>\n",
              "    .dataframe tbody tr th:only-of-type {\n",
              "        vertical-align: middle;\n",
              "    }\n",
              "\n",
              "    .dataframe tbody tr th {\n",
              "        vertical-align: top;\n",
              "    }\n",
              "\n",
              "    .dataframe thead th {\n",
              "        text-align: right;\n",
              "    }\n",
              "</style>\n",
              "<table border=\"1\" class=\"dataframe\">\n",
              "  <thead>\n",
              "    <tr style=\"text-align: right;\">\n",
              "      <th></th>\n",
              "      <th>A</th>\n",
              "      <th>B</th>\n",
              "      <th>C</th>\n",
              "      <th>D</th>\n",
              "    </tr>\n",
              "  </thead>\n",
              "  <tbody>\n",
              "    <tr>\n",
              "      <th>2013-01-02</th>\n",
              "      <td>0.335303</td>\n",
              "      <td>0.540824</td>\n",
              "      <td>-0.908645</td>\n",
              "      <td>0.616028</td>\n",
              "    </tr>\n",
              "    <tr>\n",
              "      <th>2013-01-03</th>\n",
              "      <td>0.427663</td>\n",
              "      <td>-0.065110</td>\n",
              "      <td>1.782883</td>\n",
              "      <td>0.978580</td>\n",
              "    </tr>\n",
              "    <tr>\n",
              "      <th>2013-01-04</th>\n",
              "      <td>-0.067047</td>\n",
              "      <td>-2.351899</td>\n",
              "      <td>-0.558563</td>\n",
              "      <td>1.779764</td>\n",
              "    </tr>\n",
              "  </tbody>\n",
              "</table>\n",
              "</div>"
            ],
            "text/plain": [
              "                   A         B         C         D\n",
              "2013-01-02  0.335303  0.540824 -0.908645  0.616028\n",
              "2013-01-03  0.427663 -0.065110  1.782883  0.978580\n",
              "2013-01-04 -0.067047 -2.351899 -0.558563  1.779764"
            ]
          },
          "metadata": {
            "tags": []
          },
          "execution_count": 42
        }
      ]
    },
    {
      "cell_type": "code",
      "metadata": {
        "id": "Gket7Oiqy8c0",
        "colab_type": "code",
        "colab": {},
        "outputId": "3e035c67-9658-445e-f572-7c8728bba040"
      },
      "source": [
        "df.loc[dates[0]]"
      ],
      "execution_count": null,
      "outputs": [
        {
          "output_type": "execute_result",
          "data": {
            "text/plain": [
              "A   -0.557031\n",
              "B   -2.039612\n",
              "C   -0.502634\n",
              "D   -0.761149\n",
              "Name: 2013-01-01 00:00:00, dtype: float64"
            ]
          },
          "metadata": {
            "tags": []
          },
          "execution_count": 43
        }
      ]
    },
    {
      "cell_type": "code",
      "metadata": {
        "id": "ifcgZQVly8c2",
        "colab_type": "code",
        "colab": {},
        "outputId": "88e5feec-cd1c-413a-fc9d-980f9e9a52ac"
      },
      "source": [
        "df.loc['20130102':'20130105',['A','B']]"
      ],
      "execution_count": null,
      "outputs": [
        {
          "output_type": "execute_result",
          "data": {
            "text/html": [
              "<div>\n",
              "<style scoped>\n",
              "    .dataframe tbody tr th:only-of-type {\n",
              "        vertical-align: middle;\n",
              "    }\n",
              "\n",
              "    .dataframe tbody tr th {\n",
              "        vertical-align: top;\n",
              "    }\n",
              "\n",
              "    .dataframe thead th {\n",
              "        text-align: right;\n",
              "    }\n",
              "</style>\n",
              "<table border=\"1\" class=\"dataframe\">\n",
              "  <thead>\n",
              "    <tr style=\"text-align: right;\">\n",
              "      <th></th>\n",
              "      <th>A</th>\n",
              "      <th>B</th>\n",
              "    </tr>\n",
              "  </thead>\n",
              "  <tbody>\n",
              "    <tr>\n",
              "      <th>2013-01-02</th>\n",
              "      <td>0.335303</td>\n",
              "      <td>0.540824</td>\n",
              "    </tr>\n",
              "    <tr>\n",
              "      <th>2013-01-03</th>\n",
              "      <td>0.427663</td>\n",
              "      <td>-0.065110</td>\n",
              "    </tr>\n",
              "    <tr>\n",
              "      <th>2013-01-04</th>\n",
              "      <td>-0.067047</td>\n",
              "      <td>-2.351899</td>\n",
              "    </tr>\n",
              "    <tr>\n",
              "      <th>2013-01-05</th>\n",
              "      <td>-0.702530</td>\n",
              "      <td>-0.911078</td>\n",
              "    </tr>\n",
              "  </tbody>\n",
              "</table>\n",
              "</div>"
            ],
            "text/plain": [
              "                   A         B\n",
              "2013-01-02  0.335303  0.540824\n",
              "2013-01-03  0.427663 -0.065110\n",
              "2013-01-04 -0.067047 -2.351899\n",
              "2013-01-05 -0.702530 -0.911078"
            ]
          },
          "metadata": {
            "tags": []
          },
          "execution_count": 49
        }
      ]
    },
    {
      "cell_type": "code",
      "metadata": {
        "id": "xmDtb-l5y8c4",
        "colab_type": "code",
        "colab": {}
      },
      "source": [
        ""
      ],
      "execution_count": null,
      "outputs": []
    },
    {
      "cell_type": "code",
      "metadata": {
        "id": "mMuH8Elry8c7",
        "colab_type": "code",
        "colab": {},
        "outputId": "4f489ecd-7dd0-461b-d9d4-c3c2f530e149"
      },
      "source": [
        "df.loc[dates[0],'A']"
      ],
      "execution_count": null,
      "outputs": [
        {
          "output_type": "execute_result",
          "data": {
            "text/plain": [
              "-0.5570310018056112"
            ]
          },
          "metadata": {
            "tags": []
          },
          "execution_count": 50
        }
      ]
    },
    {
      "cell_type": "code",
      "metadata": {
        "id": "5610GhNAy8c9",
        "colab_type": "code",
        "colab": {},
        "outputId": "1adb50c1-be74-415d-ea3b-a51559353a38"
      },
      "source": [
        "df.loc[dates[0:3],['A','B']]"
      ],
      "execution_count": null,
      "outputs": [
        {
          "output_type": "execute_result",
          "data": {
            "text/html": [
              "<div>\n",
              "<style scoped>\n",
              "    .dataframe tbody tr th:only-of-type {\n",
              "        vertical-align: middle;\n",
              "    }\n",
              "\n",
              "    .dataframe tbody tr th {\n",
              "        vertical-align: top;\n",
              "    }\n",
              "\n",
              "    .dataframe thead th {\n",
              "        text-align: right;\n",
              "    }\n",
              "</style>\n",
              "<table border=\"1\" class=\"dataframe\">\n",
              "  <thead>\n",
              "    <tr style=\"text-align: right;\">\n",
              "      <th></th>\n",
              "      <th>A</th>\n",
              "      <th>B</th>\n",
              "    </tr>\n",
              "  </thead>\n",
              "  <tbody>\n",
              "    <tr>\n",
              "      <th>2013-01-01</th>\n",
              "      <td>-0.557031</td>\n",
              "      <td>-2.039612</td>\n",
              "    </tr>\n",
              "    <tr>\n",
              "      <th>2013-01-02</th>\n",
              "      <td>0.335303</td>\n",
              "      <td>0.540824</td>\n",
              "    </tr>\n",
              "    <tr>\n",
              "      <th>2013-01-03</th>\n",
              "      <td>0.427663</td>\n",
              "      <td>-0.065110</td>\n",
              "    </tr>\n",
              "  </tbody>\n",
              "</table>\n",
              "</div>"
            ],
            "text/plain": [
              "                   A         B\n",
              "2013-01-01 -0.557031 -2.039612\n",
              "2013-01-02  0.335303  0.540824\n",
              "2013-01-03  0.427663 -0.065110"
            ]
          },
          "metadata": {
            "tags": []
          },
          "execution_count": 51
        }
      ]
    },
    {
      "cell_type": "code",
      "metadata": {
        "id": "uQ9GGLRxy8c_",
        "colab_type": "code",
        "colab": {},
        "outputId": "873acc15-3803-471e-9a5b-07460c418a3e"
      },
      "source": [
        "df.iloc[3]"
      ],
      "execution_count": null,
      "outputs": [
        {
          "output_type": "execute_result",
          "data": {
            "text/plain": [
              "A   -0.067047\n",
              "B   -2.351899\n",
              "C   -0.558563\n",
              "D    1.779764\n",
              "Name: 2013-01-04 00:00:00, dtype: float64"
            ]
          },
          "metadata": {
            "tags": []
          },
          "execution_count": 52
        }
      ]
    },
    {
      "cell_type": "code",
      "metadata": {
        "id": "xuoGkZTFy8dB",
        "colab_type": "code",
        "colab": {},
        "outputId": "f4651b15-1c8f-4dc3-cefa-308e1cfda012"
      },
      "source": [
        "df.iloc[3:5,0:2]"
      ],
      "execution_count": null,
      "outputs": [
        {
          "output_type": "execute_result",
          "data": {
            "text/html": [
              "<div>\n",
              "<style scoped>\n",
              "    .dataframe tbody tr th:only-of-type {\n",
              "        vertical-align: middle;\n",
              "    }\n",
              "\n",
              "    .dataframe tbody tr th {\n",
              "        vertical-align: top;\n",
              "    }\n",
              "\n",
              "    .dataframe thead th {\n",
              "        text-align: right;\n",
              "    }\n",
              "</style>\n",
              "<table border=\"1\" class=\"dataframe\">\n",
              "  <thead>\n",
              "    <tr style=\"text-align: right;\">\n",
              "      <th></th>\n",
              "      <th>A</th>\n",
              "      <th>B</th>\n",
              "    </tr>\n",
              "  </thead>\n",
              "  <tbody>\n",
              "    <tr>\n",
              "      <th>2013-01-04</th>\n",
              "      <td>-0.067047</td>\n",
              "      <td>-2.351899</td>\n",
              "    </tr>\n",
              "    <tr>\n",
              "      <th>2013-01-05</th>\n",
              "      <td>-0.702530</td>\n",
              "      <td>-0.911078</td>\n",
              "    </tr>\n",
              "  </tbody>\n",
              "</table>\n",
              "</div>"
            ],
            "text/plain": [
              "                   A         B\n",
              "2013-01-04 -0.067047 -2.351899\n",
              "2013-01-05 -0.702530 -0.911078"
            ]
          },
          "metadata": {
            "tags": []
          },
          "execution_count": 53
        }
      ]
    },
    {
      "cell_type": "code",
      "metadata": {
        "id": "2_8kH3Q7y8dD",
        "colab_type": "code",
        "colab": {},
        "outputId": "ec43b43e-cc34-4889-be8b-d2c197c9d954"
      },
      "source": [
        "df.iloc[1:3,:]"
      ],
      "execution_count": null,
      "outputs": [
        {
          "output_type": "execute_result",
          "data": {
            "text/html": [
              "<div>\n",
              "<style scoped>\n",
              "    .dataframe tbody tr th:only-of-type {\n",
              "        vertical-align: middle;\n",
              "    }\n",
              "\n",
              "    .dataframe tbody tr th {\n",
              "        vertical-align: top;\n",
              "    }\n",
              "\n",
              "    .dataframe thead th {\n",
              "        text-align: right;\n",
              "    }\n",
              "</style>\n",
              "<table border=\"1\" class=\"dataframe\">\n",
              "  <thead>\n",
              "    <tr style=\"text-align: right;\">\n",
              "      <th></th>\n",
              "      <th>A</th>\n",
              "      <th>B</th>\n",
              "      <th>C</th>\n",
              "      <th>D</th>\n",
              "    </tr>\n",
              "  </thead>\n",
              "  <tbody>\n",
              "    <tr>\n",
              "      <th>2013-01-02</th>\n",
              "      <td>0.335303</td>\n",
              "      <td>0.540824</td>\n",
              "      <td>-0.908645</td>\n",
              "      <td>0.616028</td>\n",
              "    </tr>\n",
              "    <tr>\n",
              "      <th>2013-01-03</th>\n",
              "      <td>0.427663</td>\n",
              "      <td>-0.065110</td>\n",
              "      <td>1.782883</td>\n",
              "      <td>0.978580</td>\n",
              "    </tr>\n",
              "  </tbody>\n",
              "</table>\n",
              "</div>"
            ],
            "text/plain": [
              "                   A         B         C         D\n",
              "2013-01-02  0.335303  0.540824 -0.908645  0.616028\n",
              "2013-01-03  0.427663 -0.065110  1.782883  0.978580"
            ]
          },
          "metadata": {
            "tags": []
          },
          "execution_count": 54
        }
      ]
    },
    {
      "cell_type": "code",
      "metadata": {
        "id": "BOc7Owaty8dF",
        "colab_type": "code",
        "colab": {},
        "outputId": "aa408b21-8643-432b-adbb-631aa59bd190"
      },
      "source": [
        "df.iloc[1,1]"
      ],
      "execution_count": null,
      "outputs": [
        {
          "output_type": "execute_result",
          "data": {
            "text/plain": [
              "0.5408239147595473"
            ]
          },
          "metadata": {
            "tags": []
          },
          "execution_count": 55
        }
      ]
    },
    {
      "cell_type": "code",
      "metadata": {
        "id": "Qxg5aNURy8dG",
        "colab_type": "code",
        "colab": {},
        "outputId": "982991a2-bc75-4337-83fc-f6c098e0f0e8"
      },
      "source": [
        "df.iat[1,1]"
      ],
      "execution_count": null,
      "outputs": [
        {
          "output_type": "execute_result",
          "data": {
            "text/plain": [
              "0.5408239147595473"
            ]
          },
          "metadata": {
            "tags": []
          },
          "execution_count": 56
        }
      ]
    },
    {
      "cell_type": "code",
      "metadata": {
        "id": "6K-FeSKTy8dI",
        "colab_type": "code",
        "colab": {},
        "outputId": "f321d153-7125-4b2c-be0b-43457cd6b3c7"
      },
      "source": [
        "df.A>0"
      ],
      "execution_count": null,
      "outputs": [
        {
          "output_type": "execute_result",
          "data": {
            "text/plain": [
              "2013-01-01    False\n",
              "2013-01-02     True\n",
              "2013-01-03     True\n",
              "2013-01-04    False\n",
              "2013-01-05    False\n",
              "2013-01-06    False\n",
              "Freq: D, Name: A, dtype: bool"
            ]
          },
          "metadata": {
            "tags": []
          },
          "execution_count": 57
        }
      ]
    },
    {
      "cell_type": "code",
      "metadata": {
        "id": "rb8ePykOy8dK",
        "colab_type": "code",
        "colab": {},
        "outputId": "e62d016a-3954-4561-a80e-91fc9a9d3e7b"
      },
      "source": [
        "df[df.A>0]"
      ],
      "execution_count": null,
      "outputs": [
        {
          "output_type": "execute_result",
          "data": {
            "text/html": [
              "<div>\n",
              "<style scoped>\n",
              "    .dataframe tbody tr th:only-of-type {\n",
              "        vertical-align: middle;\n",
              "    }\n",
              "\n",
              "    .dataframe tbody tr th {\n",
              "        vertical-align: top;\n",
              "    }\n",
              "\n",
              "    .dataframe thead th {\n",
              "        text-align: right;\n",
              "    }\n",
              "</style>\n",
              "<table border=\"1\" class=\"dataframe\">\n",
              "  <thead>\n",
              "    <tr style=\"text-align: right;\">\n",
              "      <th></th>\n",
              "      <th>A</th>\n",
              "      <th>B</th>\n",
              "      <th>C</th>\n",
              "      <th>D</th>\n",
              "    </tr>\n",
              "  </thead>\n",
              "  <tbody>\n",
              "    <tr>\n",
              "      <th>2013-01-02</th>\n",
              "      <td>0.335303</td>\n",
              "      <td>0.540824</td>\n",
              "      <td>-0.908645</td>\n",
              "      <td>0.616028</td>\n",
              "    </tr>\n",
              "    <tr>\n",
              "      <th>2013-01-03</th>\n",
              "      <td>0.427663</td>\n",
              "      <td>-0.065110</td>\n",
              "      <td>1.782883</td>\n",
              "      <td>0.978580</td>\n",
              "    </tr>\n",
              "  </tbody>\n",
              "</table>\n",
              "</div>"
            ],
            "text/plain": [
              "                   A         B         C         D\n",
              "2013-01-02  0.335303  0.540824 -0.908645  0.616028\n",
              "2013-01-03  0.427663 -0.065110  1.782883  0.978580"
            ]
          },
          "metadata": {
            "tags": []
          },
          "execution_count": 58
        }
      ]
    },
    {
      "cell_type": "code",
      "metadata": {
        "id": "mjtcxzIby8dM",
        "colab_type": "code",
        "colab": {},
        "outputId": "d3bbc140-8416-4170-d0d9-3204c282d537"
      },
      "source": [
        "df[df>0]"
      ],
      "execution_count": null,
      "outputs": [
        {
          "output_type": "execute_result",
          "data": {
            "text/html": [
              "<div>\n",
              "<style scoped>\n",
              "    .dataframe tbody tr th:only-of-type {\n",
              "        vertical-align: middle;\n",
              "    }\n",
              "\n",
              "    .dataframe tbody tr th {\n",
              "        vertical-align: top;\n",
              "    }\n",
              "\n",
              "    .dataframe thead th {\n",
              "        text-align: right;\n",
              "    }\n",
              "</style>\n",
              "<table border=\"1\" class=\"dataframe\">\n",
              "  <thead>\n",
              "    <tr style=\"text-align: right;\">\n",
              "      <th></th>\n",
              "      <th>A</th>\n",
              "      <th>B</th>\n",
              "      <th>C</th>\n",
              "      <th>D</th>\n",
              "    </tr>\n",
              "  </thead>\n",
              "  <tbody>\n",
              "    <tr>\n",
              "      <th>2013-01-01</th>\n",
              "      <td>NaN</td>\n",
              "      <td>NaN</td>\n",
              "      <td>NaN</td>\n",
              "      <td>NaN</td>\n",
              "    </tr>\n",
              "    <tr>\n",
              "      <th>2013-01-02</th>\n",
              "      <td>0.335303</td>\n",
              "      <td>0.540824</td>\n",
              "      <td>NaN</td>\n",
              "      <td>0.616028</td>\n",
              "    </tr>\n",
              "    <tr>\n",
              "      <th>2013-01-03</th>\n",
              "      <td>0.427663</td>\n",
              "      <td>NaN</td>\n",
              "      <td>1.782883</td>\n",
              "      <td>0.978580</td>\n",
              "    </tr>\n",
              "    <tr>\n",
              "      <th>2013-01-04</th>\n",
              "      <td>NaN</td>\n",
              "      <td>NaN</td>\n",
              "      <td>NaN</td>\n",
              "      <td>1.779764</td>\n",
              "    </tr>\n",
              "    <tr>\n",
              "      <th>2013-01-05</th>\n",
              "      <td>NaN</td>\n",
              "      <td>NaN</td>\n",
              "      <td>NaN</td>\n",
              "      <td>0.041096</td>\n",
              "    </tr>\n",
              "    <tr>\n",
              "      <th>2013-01-06</th>\n",
              "      <td>NaN</td>\n",
              "      <td>0.523425</td>\n",
              "      <td>NaN</td>\n",
              "      <td>1.185564</td>\n",
              "    </tr>\n",
              "  </tbody>\n",
              "</table>\n",
              "</div>"
            ],
            "text/plain": [
              "                   A         B         C         D\n",
              "2013-01-01       NaN       NaN       NaN       NaN\n",
              "2013-01-02  0.335303  0.540824       NaN  0.616028\n",
              "2013-01-03  0.427663       NaN  1.782883  0.978580\n",
              "2013-01-04       NaN       NaN       NaN  1.779764\n",
              "2013-01-05       NaN       NaN       NaN  0.041096\n",
              "2013-01-06       NaN  0.523425       NaN  1.185564"
            ]
          },
          "metadata": {
            "tags": []
          },
          "execution_count": 59
        }
      ]
    },
    {
      "cell_type": "code",
      "metadata": {
        "id": "IiiTQp-ey8dO",
        "colab_type": "code",
        "colab": {}
      },
      "source": [
        "df2=df.copy()"
      ],
      "execution_count": null,
      "outputs": []
    },
    {
      "cell_type": "code",
      "metadata": {
        "id": "wmnVguP7y8dQ",
        "colab_type": "code",
        "colab": {},
        "outputId": "4a2f3b70-882f-4ba6-8ffa-b10079ee7bf4"
      },
      "source": [
        "df2[\"E\"]=['one','one','two','three','four','three']; df2"
      ],
      "execution_count": null,
      "outputs": [
        {
          "output_type": "execute_result",
          "data": {
            "text/html": [
              "<div>\n",
              "<style scoped>\n",
              "    .dataframe tbody tr th:only-of-type {\n",
              "        vertical-align: middle;\n",
              "    }\n",
              "\n",
              "    .dataframe tbody tr th {\n",
              "        vertical-align: top;\n",
              "    }\n",
              "\n",
              "    .dataframe thead th {\n",
              "        text-align: right;\n",
              "    }\n",
              "</style>\n",
              "<table border=\"1\" class=\"dataframe\">\n",
              "  <thead>\n",
              "    <tr style=\"text-align: right;\">\n",
              "      <th></th>\n",
              "      <th>A</th>\n",
              "      <th>B</th>\n",
              "      <th>C</th>\n",
              "      <th>D</th>\n",
              "      <th>E</th>\n",
              "    </tr>\n",
              "  </thead>\n",
              "  <tbody>\n",
              "    <tr>\n",
              "      <th>2013-01-01</th>\n",
              "      <td>-0.557031</td>\n",
              "      <td>-2.039612</td>\n",
              "      <td>-0.502634</td>\n",
              "      <td>-0.761149</td>\n",
              "      <td>one</td>\n",
              "    </tr>\n",
              "    <tr>\n",
              "      <th>2013-01-02</th>\n",
              "      <td>0.335303</td>\n",
              "      <td>0.540824</td>\n",
              "      <td>-0.908645</td>\n",
              "      <td>0.616028</td>\n",
              "      <td>one</td>\n",
              "    </tr>\n",
              "    <tr>\n",
              "      <th>2013-01-03</th>\n",
              "      <td>0.427663</td>\n",
              "      <td>-0.065110</td>\n",
              "      <td>1.782883</td>\n",
              "      <td>0.978580</td>\n",
              "      <td>two</td>\n",
              "    </tr>\n",
              "    <tr>\n",
              "      <th>2013-01-04</th>\n",
              "      <td>-0.067047</td>\n",
              "      <td>-2.351899</td>\n",
              "      <td>-0.558563</td>\n",
              "      <td>1.779764</td>\n",
              "      <td>three</td>\n",
              "    </tr>\n",
              "    <tr>\n",
              "      <th>2013-01-05</th>\n",
              "      <td>-0.702530</td>\n",
              "      <td>-0.911078</td>\n",
              "      <td>-0.037988</td>\n",
              "      <td>0.041096</td>\n",
              "      <td>four</td>\n",
              "    </tr>\n",
              "    <tr>\n",
              "      <th>2013-01-06</th>\n",
              "      <td>-0.407555</td>\n",
              "      <td>0.523425</td>\n",
              "      <td>-1.666684</td>\n",
              "      <td>1.185564</td>\n",
              "      <td>three</td>\n",
              "    </tr>\n",
              "  </tbody>\n",
              "</table>\n",
              "</div>"
            ],
            "text/plain": [
              "                   A         B         C         D      E\n",
              "2013-01-01 -0.557031 -2.039612 -0.502634 -0.761149    one\n",
              "2013-01-02  0.335303  0.540824 -0.908645  0.616028    one\n",
              "2013-01-03  0.427663 -0.065110  1.782883  0.978580    two\n",
              "2013-01-04 -0.067047 -2.351899 -0.558563  1.779764  three\n",
              "2013-01-05 -0.702530 -0.911078 -0.037988  0.041096   four\n",
              "2013-01-06 -0.407555  0.523425 -1.666684  1.185564  three"
            ]
          },
          "metadata": {
            "tags": []
          },
          "execution_count": 61
        }
      ]
    },
    {
      "cell_type": "code",
      "metadata": {
        "id": "3jDaW-fby8dS",
        "colab_type": "code",
        "colab": {},
        "outputId": "f121e3ff-d12e-41ee-c93f-c3d1c8a49bcf"
      },
      "source": [
        "df2[df2['E'].isin(['two','four'])]"
      ],
      "execution_count": null,
      "outputs": [
        {
          "output_type": "execute_result",
          "data": {
            "text/html": [
              "<div>\n",
              "<style scoped>\n",
              "    .dataframe tbody tr th:only-of-type {\n",
              "        vertical-align: middle;\n",
              "    }\n",
              "\n",
              "    .dataframe tbody tr th {\n",
              "        vertical-align: top;\n",
              "    }\n",
              "\n",
              "    .dataframe thead th {\n",
              "        text-align: right;\n",
              "    }\n",
              "</style>\n",
              "<table border=\"1\" class=\"dataframe\">\n",
              "  <thead>\n",
              "    <tr style=\"text-align: right;\">\n",
              "      <th></th>\n",
              "      <th>A</th>\n",
              "      <th>B</th>\n",
              "      <th>C</th>\n",
              "      <th>D</th>\n",
              "      <th>E</th>\n",
              "    </tr>\n",
              "  </thead>\n",
              "  <tbody>\n",
              "    <tr>\n",
              "      <th>2013-01-03</th>\n",
              "      <td>0.427663</td>\n",
              "      <td>-0.065110</td>\n",
              "      <td>1.782883</td>\n",
              "      <td>0.978580</td>\n",
              "      <td>two</td>\n",
              "    </tr>\n",
              "    <tr>\n",
              "      <th>2013-01-05</th>\n",
              "      <td>-0.702530</td>\n",
              "      <td>-0.911078</td>\n",
              "      <td>-0.037988</td>\n",
              "      <td>0.041096</td>\n",
              "      <td>four</td>\n",
              "    </tr>\n",
              "  </tbody>\n",
              "</table>\n",
              "</div>"
            ],
            "text/plain": [
              "                   A         B         C         D     E\n",
              "2013-01-03  0.427663 -0.065110  1.782883  0.978580   two\n",
              "2013-01-05 -0.702530 -0.911078 -0.037988  0.041096  four"
            ]
          },
          "metadata": {
            "tags": []
          },
          "execution_count": 65
        }
      ]
    },
    {
      "cell_type": "code",
      "metadata": {
        "id": "PRLA-c7Ay8dT",
        "colab_type": "code",
        "colab": {},
        "outputId": "72853e99-f0ae-4af7-abd2-3856088047d3"
      },
      "source": [
        "s1=pd.Series([1,2,3,4,5,6],index=pd.date_range('20130102',periods=6)) ;s1"
      ],
      "execution_count": null,
      "outputs": [
        {
          "output_type": "execute_result",
          "data": {
            "text/plain": [
              "2013-01-02    1\n",
              "2013-01-03    2\n",
              "2013-01-04    3\n",
              "2013-01-05    4\n",
              "2013-01-06    5\n",
              "2013-01-07    6\n",
              "Freq: D, dtype: int64"
            ]
          },
          "metadata": {
            "tags": []
          },
          "execution_count": 66
        }
      ]
    },
    {
      "cell_type": "code",
      "metadata": {
        "id": "GylJhti1y8dW",
        "colab_type": "code",
        "colab": {}
      },
      "source": [
        "df['F']=s1"
      ],
      "execution_count": null,
      "outputs": []
    },
    {
      "cell_type": "code",
      "metadata": {
        "id": "FDKil9a8y8dY",
        "colab_type": "code",
        "colab": {}
      },
      "source": [
        "df.at[dates[0],'A']=0"
      ],
      "execution_count": null,
      "outputs": []
    },
    {
      "cell_type": "code",
      "metadata": {
        "id": "jS_bEiiky8da",
        "colab_type": "code",
        "colab": {},
        "outputId": "9f9e5515-620c-4796-be6d-3d4ed4aebdbb"
      },
      "source": [
        "df"
      ],
      "execution_count": null,
      "outputs": [
        {
          "output_type": "execute_result",
          "data": {
            "text/html": [
              "<div>\n",
              "<style scoped>\n",
              "    .dataframe tbody tr th:only-of-type {\n",
              "        vertical-align: middle;\n",
              "    }\n",
              "\n",
              "    .dataframe tbody tr th {\n",
              "        vertical-align: top;\n",
              "    }\n",
              "\n",
              "    .dataframe thead th {\n",
              "        text-align: right;\n",
              "    }\n",
              "</style>\n",
              "<table border=\"1\" class=\"dataframe\">\n",
              "  <thead>\n",
              "    <tr style=\"text-align: right;\">\n",
              "      <th></th>\n",
              "      <th>A</th>\n",
              "      <th>B</th>\n",
              "      <th>C</th>\n",
              "      <th>D</th>\n",
              "      <th>F</th>\n",
              "    </tr>\n",
              "  </thead>\n",
              "  <tbody>\n",
              "    <tr>\n",
              "      <th>2013-01-01</th>\n",
              "      <td>0.000000</td>\n",
              "      <td>-2.039612</td>\n",
              "      <td>-0.502634</td>\n",
              "      <td>-0.761149</td>\n",
              "      <td>NaN</td>\n",
              "    </tr>\n",
              "    <tr>\n",
              "      <th>2013-01-02</th>\n",
              "      <td>0.335303</td>\n",
              "      <td>0.540824</td>\n",
              "      <td>-0.908645</td>\n",
              "      <td>0.616028</td>\n",
              "      <td>1.0</td>\n",
              "    </tr>\n",
              "    <tr>\n",
              "      <th>2013-01-03</th>\n",
              "      <td>0.427663</td>\n",
              "      <td>-0.065110</td>\n",
              "      <td>1.782883</td>\n",
              "      <td>0.978580</td>\n",
              "      <td>2.0</td>\n",
              "    </tr>\n",
              "    <tr>\n",
              "      <th>2013-01-04</th>\n",
              "      <td>-0.067047</td>\n",
              "      <td>-2.351899</td>\n",
              "      <td>-0.558563</td>\n",
              "      <td>1.779764</td>\n",
              "      <td>3.0</td>\n",
              "    </tr>\n",
              "    <tr>\n",
              "      <th>2013-01-05</th>\n",
              "      <td>-0.702530</td>\n",
              "      <td>-0.911078</td>\n",
              "      <td>-0.037988</td>\n",
              "      <td>0.041096</td>\n",
              "      <td>4.0</td>\n",
              "    </tr>\n",
              "    <tr>\n",
              "      <th>2013-01-06</th>\n",
              "      <td>-0.407555</td>\n",
              "      <td>0.523425</td>\n",
              "      <td>-1.666684</td>\n",
              "      <td>1.185564</td>\n",
              "      <td>5.0</td>\n",
              "    </tr>\n",
              "  </tbody>\n",
              "</table>\n",
              "</div>"
            ],
            "text/plain": [
              "                   A         B         C         D    F\n",
              "2013-01-01  0.000000 -2.039612 -0.502634 -0.761149  NaN\n",
              "2013-01-02  0.335303  0.540824 -0.908645  0.616028  1.0\n",
              "2013-01-03  0.427663 -0.065110  1.782883  0.978580  2.0\n",
              "2013-01-04 -0.067047 -2.351899 -0.558563  1.779764  3.0\n",
              "2013-01-05 -0.702530 -0.911078 -0.037988  0.041096  4.0\n",
              "2013-01-06 -0.407555  0.523425 -1.666684  1.185564  5.0"
            ]
          },
          "metadata": {
            "tags": []
          },
          "execution_count": 69
        }
      ]
    },
    {
      "cell_type": "code",
      "metadata": {
        "id": "PkcIcJrty8dc",
        "colab_type": "code",
        "colab": {}
      },
      "source": [
        "df.loc[:,'D']=np.array([5]*len(df))"
      ],
      "execution_count": null,
      "outputs": []
    },
    {
      "cell_type": "code",
      "metadata": {
        "id": "PcdrYnn4y8df",
        "colab_type": "code",
        "colab": {},
        "outputId": "56af5a71-3719-44d6-b2b6-7f11e5d50212"
      },
      "source": [
        "df"
      ],
      "execution_count": null,
      "outputs": [
        {
          "output_type": "execute_result",
          "data": {
            "text/html": [
              "<div>\n",
              "<style scoped>\n",
              "    .dataframe tbody tr th:only-of-type {\n",
              "        vertical-align: middle;\n",
              "    }\n",
              "\n",
              "    .dataframe tbody tr th {\n",
              "        vertical-align: top;\n",
              "    }\n",
              "\n",
              "    .dataframe thead th {\n",
              "        text-align: right;\n",
              "    }\n",
              "</style>\n",
              "<table border=\"1\" class=\"dataframe\">\n",
              "  <thead>\n",
              "    <tr style=\"text-align: right;\">\n",
              "      <th></th>\n",
              "      <th>A</th>\n",
              "      <th>B</th>\n",
              "      <th>C</th>\n",
              "      <th>D</th>\n",
              "      <th>F</th>\n",
              "    </tr>\n",
              "  </thead>\n",
              "  <tbody>\n",
              "    <tr>\n",
              "      <th>2013-01-01</th>\n",
              "      <td>0.000000</td>\n",
              "      <td>-2.039612</td>\n",
              "      <td>-0.502634</td>\n",
              "      <td>5</td>\n",
              "      <td>NaN</td>\n",
              "    </tr>\n",
              "    <tr>\n",
              "      <th>2013-01-02</th>\n",
              "      <td>0.335303</td>\n",
              "      <td>0.540824</td>\n",
              "      <td>-0.908645</td>\n",
              "      <td>5</td>\n",
              "      <td>1.0</td>\n",
              "    </tr>\n",
              "    <tr>\n",
              "      <th>2013-01-03</th>\n",
              "      <td>0.427663</td>\n",
              "      <td>-0.065110</td>\n",
              "      <td>1.782883</td>\n",
              "      <td>5</td>\n",
              "      <td>2.0</td>\n",
              "    </tr>\n",
              "    <tr>\n",
              "      <th>2013-01-04</th>\n",
              "      <td>-0.067047</td>\n",
              "      <td>-2.351899</td>\n",
              "      <td>-0.558563</td>\n",
              "      <td>5</td>\n",
              "      <td>3.0</td>\n",
              "    </tr>\n",
              "    <tr>\n",
              "      <th>2013-01-05</th>\n",
              "      <td>-0.702530</td>\n",
              "      <td>-0.911078</td>\n",
              "      <td>-0.037988</td>\n",
              "      <td>5</td>\n",
              "      <td>4.0</td>\n",
              "    </tr>\n",
              "    <tr>\n",
              "      <th>2013-01-06</th>\n",
              "      <td>-0.407555</td>\n",
              "      <td>0.523425</td>\n",
              "      <td>-1.666684</td>\n",
              "      <td>5</td>\n",
              "      <td>5.0</td>\n",
              "    </tr>\n",
              "  </tbody>\n",
              "</table>\n",
              "</div>"
            ],
            "text/plain": [
              "                   A         B         C  D    F\n",
              "2013-01-01  0.000000 -2.039612 -0.502634  5  NaN\n",
              "2013-01-02  0.335303  0.540824 -0.908645  5  1.0\n",
              "2013-01-03  0.427663 -0.065110  1.782883  5  2.0\n",
              "2013-01-04 -0.067047 -2.351899 -0.558563  5  3.0\n",
              "2013-01-05 -0.702530 -0.911078 -0.037988  5  4.0\n",
              "2013-01-06 -0.407555  0.523425 -1.666684  5  5.0"
            ]
          },
          "metadata": {
            "tags": []
          },
          "execution_count": 71
        }
      ]
    },
    {
      "cell_type": "code",
      "metadata": {
        "id": "FS2OyXI2y8dh",
        "colab_type": "code",
        "colab": {},
        "outputId": "5f6288d1-3eac-4eeb-f411-93c66af74893"
      },
      "source": [
        "df2=df.copy()\n",
        "df2[df2>0]=-df2 ; df2"
      ],
      "execution_count": null,
      "outputs": [
        {
          "output_type": "execute_result",
          "data": {
            "text/html": [
              "<div>\n",
              "<style scoped>\n",
              "    .dataframe tbody tr th:only-of-type {\n",
              "        vertical-align: middle;\n",
              "    }\n",
              "\n",
              "    .dataframe tbody tr th {\n",
              "        vertical-align: top;\n",
              "    }\n",
              "\n",
              "    .dataframe thead th {\n",
              "        text-align: right;\n",
              "    }\n",
              "</style>\n",
              "<table border=\"1\" class=\"dataframe\">\n",
              "  <thead>\n",
              "    <tr style=\"text-align: right;\">\n",
              "      <th></th>\n",
              "      <th>A</th>\n",
              "      <th>B</th>\n",
              "      <th>C</th>\n",
              "      <th>D</th>\n",
              "      <th>F</th>\n",
              "    </tr>\n",
              "  </thead>\n",
              "  <tbody>\n",
              "    <tr>\n",
              "      <th>2013-01-01</th>\n",
              "      <td>0.000000</td>\n",
              "      <td>-2.039612</td>\n",
              "      <td>-0.502634</td>\n",
              "      <td>-5</td>\n",
              "      <td>NaN</td>\n",
              "    </tr>\n",
              "    <tr>\n",
              "      <th>2013-01-02</th>\n",
              "      <td>-0.335303</td>\n",
              "      <td>-0.540824</td>\n",
              "      <td>-0.908645</td>\n",
              "      <td>-5</td>\n",
              "      <td>-1.0</td>\n",
              "    </tr>\n",
              "    <tr>\n",
              "      <th>2013-01-03</th>\n",
              "      <td>-0.427663</td>\n",
              "      <td>-0.065110</td>\n",
              "      <td>-1.782883</td>\n",
              "      <td>-5</td>\n",
              "      <td>-2.0</td>\n",
              "    </tr>\n",
              "    <tr>\n",
              "      <th>2013-01-04</th>\n",
              "      <td>-0.067047</td>\n",
              "      <td>-2.351899</td>\n",
              "      <td>-0.558563</td>\n",
              "      <td>-5</td>\n",
              "      <td>-3.0</td>\n",
              "    </tr>\n",
              "    <tr>\n",
              "      <th>2013-01-05</th>\n",
              "      <td>-0.702530</td>\n",
              "      <td>-0.911078</td>\n",
              "      <td>-0.037988</td>\n",
              "      <td>-5</td>\n",
              "      <td>-4.0</td>\n",
              "    </tr>\n",
              "    <tr>\n",
              "      <th>2013-01-06</th>\n",
              "      <td>-0.407555</td>\n",
              "      <td>-0.523425</td>\n",
              "      <td>-1.666684</td>\n",
              "      <td>-5</td>\n",
              "      <td>-5.0</td>\n",
              "    </tr>\n",
              "  </tbody>\n",
              "</table>\n",
              "</div>"
            ],
            "text/plain": [
              "                   A         B         C  D    F\n",
              "2013-01-01  0.000000 -2.039612 -0.502634 -5  NaN\n",
              "2013-01-02 -0.335303 -0.540824 -0.908645 -5 -1.0\n",
              "2013-01-03 -0.427663 -0.065110 -1.782883 -5 -2.0\n",
              "2013-01-04 -0.067047 -2.351899 -0.558563 -5 -3.0\n",
              "2013-01-05 -0.702530 -0.911078 -0.037988 -5 -4.0\n",
              "2013-01-06 -0.407555 -0.523425 -1.666684 -5 -5.0"
            ]
          },
          "metadata": {
            "tags": []
          },
          "execution_count": 72
        }
      ]
    },
    {
      "cell_type": "code",
      "metadata": {
        "id": "XDevIGriy8dl",
        "colab_type": "code",
        "colab": {}
      },
      "source": [
        "df1=df.reindex(index=dates[0:4],columns=list(df.columns)+['E'])"
      ],
      "execution_count": null,
      "outputs": []
    },
    {
      "cell_type": "code",
      "metadata": {
        "id": "ARVJ0n6Ey8do",
        "colab_type": "code",
        "colab": {},
        "outputId": "51267cb0-c3cb-4912-c19e-c6860e5a001d"
      },
      "source": [
        "df1"
      ],
      "execution_count": null,
      "outputs": [
        {
          "output_type": "execute_result",
          "data": {
            "text/html": [
              "<div>\n",
              "<style scoped>\n",
              "    .dataframe tbody tr th:only-of-type {\n",
              "        vertical-align: middle;\n",
              "    }\n",
              "\n",
              "    .dataframe tbody tr th {\n",
              "        vertical-align: top;\n",
              "    }\n",
              "\n",
              "    .dataframe thead th {\n",
              "        text-align: right;\n",
              "    }\n",
              "</style>\n",
              "<table border=\"1\" class=\"dataframe\">\n",
              "  <thead>\n",
              "    <tr style=\"text-align: right;\">\n",
              "      <th></th>\n",
              "      <th>A</th>\n",
              "      <th>B</th>\n",
              "      <th>C</th>\n",
              "      <th>D</th>\n",
              "      <th>F</th>\n",
              "      <th>E</th>\n",
              "    </tr>\n",
              "  </thead>\n",
              "  <tbody>\n",
              "    <tr>\n",
              "      <th>2013-01-01</th>\n",
              "      <td>0.000000</td>\n",
              "      <td>-2.039612</td>\n",
              "      <td>-0.502634</td>\n",
              "      <td>5</td>\n",
              "      <td>NaN</td>\n",
              "      <td>NaN</td>\n",
              "    </tr>\n",
              "    <tr>\n",
              "      <th>2013-01-02</th>\n",
              "      <td>0.335303</td>\n",
              "      <td>0.540824</td>\n",
              "      <td>-0.908645</td>\n",
              "      <td>5</td>\n",
              "      <td>1.0</td>\n",
              "      <td>NaN</td>\n",
              "    </tr>\n",
              "    <tr>\n",
              "      <th>2013-01-03</th>\n",
              "      <td>0.427663</td>\n",
              "      <td>-0.065110</td>\n",
              "      <td>1.782883</td>\n",
              "      <td>5</td>\n",
              "      <td>2.0</td>\n",
              "      <td>NaN</td>\n",
              "    </tr>\n",
              "    <tr>\n",
              "      <th>2013-01-04</th>\n",
              "      <td>-0.067047</td>\n",
              "      <td>-2.351899</td>\n",
              "      <td>-0.558563</td>\n",
              "      <td>5</td>\n",
              "      <td>3.0</td>\n",
              "      <td>NaN</td>\n",
              "    </tr>\n",
              "  </tbody>\n",
              "</table>\n",
              "</div>"
            ],
            "text/plain": [
              "                   A         B         C  D    F   E\n",
              "2013-01-01  0.000000 -2.039612 -0.502634  5  NaN NaN\n",
              "2013-01-02  0.335303  0.540824 -0.908645  5  1.0 NaN\n",
              "2013-01-03  0.427663 -0.065110  1.782883  5  2.0 NaN\n",
              "2013-01-04 -0.067047 -2.351899 -0.558563  5  3.0 NaN"
            ]
          },
          "metadata": {
            "tags": []
          },
          "execution_count": 75
        }
      ]
    },
    {
      "cell_type": "code",
      "metadata": {
        "id": "Tp26xiYPy8dp",
        "colab_type": "code",
        "colab": {},
        "outputId": "4367d702-2e08-486c-d9a1-ece736cba7ea"
      },
      "source": [
        "df1.loc[dates[0]:dates[1],'E']=1 ;df1"
      ],
      "execution_count": null,
      "outputs": [
        {
          "output_type": "execute_result",
          "data": {
            "text/html": [
              "<div>\n",
              "<style scoped>\n",
              "    .dataframe tbody tr th:only-of-type {\n",
              "        vertical-align: middle;\n",
              "    }\n",
              "\n",
              "    .dataframe tbody tr th {\n",
              "        vertical-align: top;\n",
              "    }\n",
              "\n",
              "    .dataframe thead th {\n",
              "        text-align: right;\n",
              "    }\n",
              "</style>\n",
              "<table border=\"1\" class=\"dataframe\">\n",
              "  <thead>\n",
              "    <tr style=\"text-align: right;\">\n",
              "      <th></th>\n",
              "      <th>A</th>\n",
              "      <th>B</th>\n",
              "      <th>C</th>\n",
              "      <th>D</th>\n",
              "      <th>F</th>\n",
              "      <th>E</th>\n",
              "    </tr>\n",
              "  </thead>\n",
              "  <tbody>\n",
              "    <tr>\n",
              "      <th>2013-01-01</th>\n",
              "      <td>0.000000</td>\n",
              "      <td>-2.039612</td>\n",
              "      <td>-0.502634</td>\n",
              "      <td>5</td>\n",
              "      <td>NaN</td>\n",
              "      <td>1.0</td>\n",
              "    </tr>\n",
              "    <tr>\n",
              "      <th>2013-01-02</th>\n",
              "      <td>0.335303</td>\n",
              "      <td>0.540824</td>\n",
              "      <td>-0.908645</td>\n",
              "      <td>5</td>\n",
              "      <td>1.0</td>\n",
              "      <td>1.0</td>\n",
              "    </tr>\n",
              "    <tr>\n",
              "      <th>2013-01-03</th>\n",
              "      <td>0.427663</td>\n",
              "      <td>-0.065110</td>\n",
              "      <td>1.782883</td>\n",
              "      <td>5</td>\n",
              "      <td>2.0</td>\n",
              "      <td>NaN</td>\n",
              "    </tr>\n",
              "    <tr>\n",
              "      <th>2013-01-04</th>\n",
              "      <td>-0.067047</td>\n",
              "      <td>-2.351899</td>\n",
              "      <td>-0.558563</td>\n",
              "      <td>5</td>\n",
              "      <td>3.0</td>\n",
              "      <td>NaN</td>\n",
              "    </tr>\n",
              "  </tbody>\n",
              "</table>\n",
              "</div>"
            ],
            "text/plain": [
              "                   A         B         C  D    F    E\n",
              "2013-01-01  0.000000 -2.039612 -0.502634  5  NaN  1.0\n",
              "2013-01-02  0.335303  0.540824 -0.908645  5  1.0  1.0\n",
              "2013-01-03  0.427663 -0.065110  1.782883  5  2.0  NaN\n",
              "2013-01-04 -0.067047 -2.351899 -0.558563  5  3.0  NaN"
            ]
          },
          "metadata": {
            "tags": []
          },
          "execution_count": 76
        }
      ]
    },
    {
      "cell_type": "code",
      "metadata": {
        "id": "2b9qgXooy8dr",
        "colab_type": "code",
        "colab": {},
        "outputId": "f7f2f57e-69ed-461e-9ffa-cf24619433ad"
      },
      "source": [
        "df1.dropna(how='any')"
      ],
      "execution_count": null,
      "outputs": [
        {
          "output_type": "execute_result",
          "data": {
            "text/html": [
              "<div>\n",
              "<style scoped>\n",
              "    .dataframe tbody tr th:only-of-type {\n",
              "        vertical-align: middle;\n",
              "    }\n",
              "\n",
              "    .dataframe tbody tr th {\n",
              "        vertical-align: top;\n",
              "    }\n",
              "\n",
              "    .dataframe thead th {\n",
              "        text-align: right;\n",
              "    }\n",
              "</style>\n",
              "<table border=\"1\" class=\"dataframe\">\n",
              "  <thead>\n",
              "    <tr style=\"text-align: right;\">\n",
              "      <th></th>\n",
              "      <th>A</th>\n",
              "      <th>B</th>\n",
              "      <th>C</th>\n",
              "      <th>D</th>\n",
              "      <th>F</th>\n",
              "      <th>E</th>\n",
              "    </tr>\n",
              "  </thead>\n",
              "  <tbody>\n",
              "    <tr>\n",
              "      <th>2013-01-02</th>\n",
              "      <td>0.335303</td>\n",
              "      <td>0.540824</td>\n",
              "      <td>-0.908645</td>\n",
              "      <td>5</td>\n",
              "      <td>1.0</td>\n",
              "      <td>1.0</td>\n",
              "    </tr>\n",
              "  </tbody>\n",
              "</table>\n",
              "</div>"
            ],
            "text/plain": [
              "                   A         B         C  D    F    E\n",
              "2013-01-02  0.335303  0.540824 -0.908645  5  1.0  1.0"
            ]
          },
          "metadata": {
            "tags": []
          },
          "execution_count": 77
        }
      ]
    },
    {
      "cell_type": "code",
      "metadata": {
        "id": "bt0or32Ty8dt",
        "colab_type": "code",
        "colab": {},
        "outputId": "6903a2db-51c3-473b-e8c1-673ad60fa473"
      },
      "source": [
        "df1"
      ],
      "execution_count": null,
      "outputs": [
        {
          "output_type": "execute_result",
          "data": {
            "text/html": [
              "<div>\n",
              "<style scoped>\n",
              "    .dataframe tbody tr th:only-of-type {\n",
              "        vertical-align: middle;\n",
              "    }\n",
              "\n",
              "    .dataframe tbody tr th {\n",
              "        vertical-align: top;\n",
              "    }\n",
              "\n",
              "    .dataframe thead th {\n",
              "        text-align: right;\n",
              "    }\n",
              "</style>\n",
              "<table border=\"1\" class=\"dataframe\">\n",
              "  <thead>\n",
              "    <tr style=\"text-align: right;\">\n",
              "      <th></th>\n",
              "      <th>A</th>\n",
              "      <th>B</th>\n",
              "      <th>C</th>\n",
              "      <th>D</th>\n",
              "      <th>F</th>\n",
              "      <th>E</th>\n",
              "    </tr>\n",
              "  </thead>\n",
              "  <tbody>\n",
              "    <tr>\n",
              "      <th>2013-01-01</th>\n",
              "      <td>0.000000</td>\n",
              "      <td>-2.039612</td>\n",
              "      <td>-0.502634</td>\n",
              "      <td>5</td>\n",
              "      <td>NaN</td>\n",
              "      <td>1.0</td>\n",
              "    </tr>\n",
              "    <tr>\n",
              "      <th>2013-01-02</th>\n",
              "      <td>0.335303</td>\n",
              "      <td>0.540824</td>\n",
              "      <td>-0.908645</td>\n",
              "      <td>5</td>\n",
              "      <td>1.0</td>\n",
              "      <td>1.0</td>\n",
              "    </tr>\n",
              "    <tr>\n",
              "      <th>2013-01-03</th>\n",
              "      <td>0.427663</td>\n",
              "      <td>-0.065110</td>\n",
              "      <td>1.782883</td>\n",
              "      <td>5</td>\n",
              "      <td>2.0</td>\n",
              "      <td>NaN</td>\n",
              "    </tr>\n",
              "    <tr>\n",
              "      <th>2013-01-04</th>\n",
              "      <td>-0.067047</td>\n",
              "      <td>-2.351899</td>\n",
              "      <td>-0.558563</td>\n",
              "      <td>5</td>\n",
              "      <td>3.0</td>\n",
              "      <td>NaN</td>\n",
              "    </tr>\n",
              "  </tbody>\n",
              "</table>\n",
              "</div>"
            ],
            "text/plain": [
              "                   A         B         C  D    F    E\n",
              "2013-01-01  0.000000 -2.039612 -0.502634  5  NaN  1.0\n",
              "2013-01-02  0.335303  0.540824 -0.908645  5  1.0  1.0\n",
              "2013-01-03  0.427663 -0.065110  1.782883  5  2.0  NaN\n",
              "2013-01-04 -0.067047 -2.351899 -0.558563  5  3.0  NaN"
            ]
          },
          "metadata": {
            "tags": []
          },
          "execution_count": 78
        }
      ]
    },
    {
      "cell_type": "code",
      "metadata": {
        "id": "ZkFZAtAQy8dw",
        "colab_type": "code",
        "colab": {},
        "outputId": "38198931-2179-482e-cc91-457879865fd5"
      },
      "source": [
        "df1.fillna(value=5)"
      ],
      "execution_count": null,
      "outputs": [
        {
          "output_type": "execute_result",
          "data": {
            "text/html": [
              "<div>\n",
              "<style scoped>\n",
              "    .dataframe tbody tr th:only-of-type {\n",
              "        vertical-align: middle;\n",
              "    }\n",
              "\n",
              "    .dataframe tbody tr th {\n",
              "        vertical-align: top;\n",
              "    }\n",
              "\n",
              "    .dataframe thead th {\n",
              "        text-align: right;\n",
              "    }\n",
              "</style>\n",
              "<table border=\"1\" class=\"dataframe\">\n",
              "  <thead>\n",
              "    <tr style=\"text-align: right;\">\n",
              "      <th></th>\n",
              "      <th>A</th>\n",
              "      <th>B</th>\n",
              "      <th>C</th>\n",
              "      <th>D</th>\n",
              "      <th>F</th>\n",
              "      <th>E</th>\n",
              "    </tr>\n",
              "  </thead>\n",
              "  <tbody>\n",
              "    <tr>\n",
              "      <th>2013-01-01</th>\n",
              "      <td>0.000000</td>\n",
              "      <td>-2.039612</td>\n",
              "      <td>-0.502634</td>\n",
              "      <td>5</td>\n",
              "      <td>5.0</td>\n",
              "      <td>1.0</td>\n",
              "    </tr>\n",
              "    <tr>\n",
              "      <th>2013-01-02</th>\n",
              "      <td>0.335303</td>\n",
              "      <td>0.540824</td>\n",
              "      <td>-0.908645</td>\n",
              "      <td>5</td>\n",
              "      <td>1.0</td>\n",
              "      <td>1.0</td>\n",
              "    </tr>\n",
              "    <tr>\n",
              "      <th>2013-01-03</th>\n",
              "      <td>0.427663</td>\n",
              "      <td>-0.065110</td>\n",
              "      <td>1.782883</td>\n",
              "      <td>5</td>\n",
              "      <td>2.0</td>\n",
              "      <td>5.0</td>\n",
              "    </tr>\n",
              "    <tr>\n",
              "      <th>2013-01-04</th>\n",
              "      <td>-0.067047</td>\n",
              "      <td>-2.351899</td>\n",
              "      <td>-0.558563</td>\n",
              "      <td>5</td>\n",
              "      <td>3.0</td>\n",
              "      <td>5.0</td>\n",
              "    </tr>\n",
              "  </tbody>\n",
              "</table>\n",
              "</div>"
            ],
            "text/plain": [
              "                   A         B         C  D    F    E\n",
              "2013-01-01  0.000000 -2.039612 -0.502634  5  5.0  1.0\n",
              "2013-01-02  0.335303  0.540824 -0.908645  5  1.0  1.0\n",
              "2013-01-03  0.427663 -0.065110  1.782883  5  2.0  5.0\n",
              "2013-01-04 -0.067047 -2.351899 -0.558563  5  3.0  5.0"
            ]
          },
          "metadata": {
            "tags": []
          },
          "execution_count": 79
        }
      ]
    },
    {
      "cell_type": "code",
      "metadata": {
        "id": "R2O5sNAiy8d0",
        "colab_type": "code",
        "colab": {},
        "outputId": "760cfa20-58ca-4c6c-c448-4aa269f709b4"
      },
      "source": [
        "pd.isnull(df1)"
      ],
      "execution_count": null,
      "outputs": [
        {
          "output_type": "execute_result",
          "data": {
            "text/html": [
              "<div>\n",
              "<style scoped>\n",
              "    .dataframe tbody tr th:only-of-type {\n",
              "        vertical-align: middle;\n",
              "    }\n",
              "\n",
              "    .dataframe tbody tr th {\n",
              "        vertical-align: top;\n",
              "    }\n",
              "\n",
              "    .dataframe thead th {\n",
              "        text-align: right;\n",
              "    }\n",
              "</style>\n",
              "<table border=\"1\" class=\"dataframe\">\n",
              "  <thead>\n",
              "    <tr style=\"text-align: right;\">\n",
              "      <th></th>\n",
              "      <th>A</th>\n",
              "      <th>B</th>\n",
              "      <th>C</th>\n",
              "      <th>D</th>\n",
              "      <th>F</th>\n",
              "      <th>E</th>\n",
              "    </tr>\n",
              "  </thead>\n",
              "  <tbody>\n",
              "    <tr>\n",
              "      <th>2013-01-01</th>\n",
              "      <td>False</td>\n",
              "      <td>False</td>\n",
              "      <td>False</td>\n",
              "      <td>False</td>\n",
              "      <td>True</td>\n",
              "      <td>False</td>\n",
              "    </tr>\n",
              "    <tr>\n",
              "      <th>2013-01-02</th>\n",
              "      <td>False</td>\n",
              "      <td>False</td>\n",
              "      <td>False</td>\n",
              "      <td>False</td>\n",
              "      <td>False</td>\n",
              "      <td>False</td>\n",
              "    </tr>\n",
              "    <tr>\n",
              "      <th>2013-01-03</th>\n",
              "      <td>False</td>\n",
              "      <td>False</td>\n",
              "      <td>False</td>\n",
              "      <td>False</td>\n",
              "      <td>False</td>\n",
              "      <td>True</td>\n",
              "    </tr>\n",
              "    <tr>\n",
              "      <th>2013-01-04</th>\n",
              "      <td>False</td>\n",
              "      <td>False</td>\n",
              "      <td>False</td>\n",
              "      <td>False</td>\n",
              "      <td>False</td>\n",
              "      <td>True</td>\n",
              "    </tr>\n",
              "  </tbody>\n",
              "</table>\n",
              "</div>"
            ],
            "text/plain": [
              "                A      B      C      D      F      E\n",
              "2013-01-01  False  False  False  False   True  False\n",
              "2013-01-02  False  False  False  False  False  False\n",
              "2013-01-03  False  False  False  False  False   True\n",
              "2013-01-04  False  False  False  False  False   True"
            ]
          },
          "metadata": {
            "tags": []
          },
          "execution_count": 80
        }
      ]
    },
    {
      "cell_type": "code",
      "metadata": {
        "id": "fu37n21Jy8d1",
        "colab_type": "code",
        "colab": {},
        "outputId": "555f763c-78ca-4553-8f85-9364b6e6a2af"
      },
      "source": [
        "df.mean()"
      ],
      "execution_count": null,
      "outputs": [
        {
          "output_type": "execute_result",
          "data": {
            "text/plain": [
              "A   -0.069028\n",
              "B   -0.717242\n",
              "C   -0.315272\n",
              "D    5.000000\n",
              "F    3.000000\n",
              "dtype: float64"
            ]
          },
          "metadata": {
            "tags": []
          },
          "execution_count": 81
        }
      ]
    },
    {
      "cell_type": "code",
      "metadata": {
        "id": "inob4-Fpy8d3",
        "colab_type": "code",
        "colab": {},
        "outputId": "6c6d6250-6071-4e4d-e8f4-8dd7ce53ed48"
      },
      "source": [
        "df.mean(axis=1)"
      ],
      "execution_count": null,
      "outputs": [
        {
          "output_type": "execute_result",
          "data": {
            "text/plain": [
              "2013-01-01    0.614438\n",
              "2013-01-02    1.193496\n",
              "2013-01-03    1.829087\n",
              "2013-01-04    1.004498\n",
              "2013-01-05    1.469681\n",
              "2013-01-06    1.689837\n",
              "Freq: D, dtype: float64"
            ]
          },
          "metadata": {
            "tags": []
          },
          "execution_count": 82
        }
      ]
    },
    {
      "cell_type": "code",
      "metadata": {
        "id": "83j8UIyvy8d5",
        "colab_type": "code",
        "colab": {},
        "outputId": "73e27ea3-8325-4ae1-f081-9377c2f882a1"
      },
      "source": [
        "df"
      ],
      "execution_count": null,
      "outputs": [
        {
          "output_type": "execute_result",
          "data": {
            "text/html": [
              "<div>\n",
              "<style scoped>\n",
              "    .dataframe tbody tr th:only-of-type {\n",
              "        vertical-align: middle;\n",
              "    }\n",
              "\n",
              "    .dataframe tbody tr th {\n",
              "        vertical-align: top;\n",
              "    }\n",
              "\n",
              "    .dataframe thead th {\n",
              "        text-align: right;\n",
              "    }\n",
              "</style>\n",
              "<table border=\"1\" class=\"dataframe\">\n",
              "  <thead>\n",
              "    <tr style=\"text-align: right;\">\n",
              "      <th></th>\n",
              "      <th>A</th>\n",
              "      <th>B</th>\n",
              "      <th>C</th>\n",
              "      <th>D</th>\n",
              "      <th>F</th>\n",
              "    </tr>\n",
              "  </thead>\n",
              "  <tbody>\n",
              "    <tr>\n",
              "      <th>2013-01-01</th>\n",
              "      <td>0.000000</td>\n",
              "      <td>-2.039612</td>\n",
              "      <td>-0.502634</td>\n",
              "      <td>5</td>\n",
              "      <td>NaN</td>\n",
              "    </tr>\n",
              "    <tr>\n",
              "      <th>2013-01-02</th>\n",
              "      <td>0.335303</td>\n",
              "      <td>0.540824</td>\n",
              "      <td>-0.908645</td>\n",
              "      <td>5</td>\n",
              "      <td>1.0</td>\n",
              "    </tr>\n",
              "    <tr>\n",
              "      <th>2013-01-03</th>\n",
              "      <td>0.427663</td>\n",
              "      <td>-0.065110</td>\n",
              "      <td>1.782883</td>\n",
              "      <td>5</td>\n",
              "      <td>2.0</td>\n",
              "    </tr>\n",
              "    <tr>\n",
              "      <th>2013-01-04</th>\n",
              "      <td>-0.067047</td>\n",
              "      <td>-2.351899</td>\n",
              "      <td>-0.558563</td>\n",
              "      <td>5</td>\n",
              "      <td>3.0</td>\n",
              "    </tr>\n",
              "    <tr>\n",
              "      <th>2013-01-05</th>\n",
              "      <td>-0.702530</td>\n",
              "      <td>-0.911078</td>\n",
              "      <td>-0.037988</td>\n",
              "      <td>5</td>\n",
              "      <td>4.0</td>\n",
              "    </tr>\n",
              "    <tr>\n",
              "      <th>2013-01-06</th>\n",
              "      <td>-0.407555</td>\n",
              "      <td>0.523425</td>\n",
              "      <td>-1.666684</td>\n",
              "      <td>5</td>\n",
              "      <td>5.0</td>\n",
              "    </tr>\n",
              "  </tbody>\n",
              "</table>\n",
              "</div>"
            ],
            "text/plain": [
              "                   A         B         C  D    F\n",
              "2013-01-01  0.000000 -2.039612 -0.502634  5  NaN\n",
              "2013-01-02  0.335303  0.540824 -0.908645  5  1.0\n",
              "2013-01-03  0.427663 -0.065110  1.782883  5  2.0\n",
              "2013-01-04 -0.067047 -2.351899 -0.558563  5  3.0\n",
              "2013-01-05 -0.702530 -0.911078 -0.037988  5  4.0\n",
              "2013-01-06 -0.407555  0.523425 -1.666684  5  5.0"
            ]
          },
          "metadata": {
            "tags": []
          },
          "execution_count": 83
        }
      ]
    },
    {
      "cell_type": "code",
      "metadata": {
        "id": "H2gAa2ngy8d7",
        "colab_type": "code",
        "colab": {},
        "outputId": "2c589525-8599-4450-a4ed-d3e5da4e1d7e"
      },
      "source": [
        " s = pd.Series([1,3,5,np.nan,6,8],index=dates).shift(2) ;s"
      ],
      "execution_count": null,
      "outputs": [
        {
          "output_type": "execute_result",
          "data": {
            "text/plain": [
              "2013-01-01    NaN\n",
              "2013-01-02    NaN\n",
              "2013-01-03    1.0\n",
              "2013-01-04    3.0\n",
              "2013-01-05    5.0\n",
              "2013-01-06    NaN\n",
              "Freq: D, dtype: float64"
            ]
          },
          "metadata": {
            "tags": []
          },
          "execution_count": 85
        }
      ]
    },
    {
      "cell_type": "code",
      "metadata": {
        "id": "NTFwLtwPy8d-",
        "colab_type": "code",
        "colab": {},
        "outputId": "2cd6868c-6317-4f2e-f078-b359c010f093"
      },
      "source": [
        "df.sub(s,axis='index')"
      ],
      "execution_count": null,
      "outputs": [
        {
          "output_type": "execute_result",
          "data": {
            "text/html": [
              "<div>\n",
              "<style scoped>\n",
              "    .dataframe tbody tr th:only-of-type {\n",
              "        vertical-align: middle;\n",
              "    }\n",
              "\n",
              "    .dataframe tbody tr th {\n",
              "        vertical-align: top;\n",
              "    }\n",
              "\n",
              "    .dataframe thead th {\n",
              "        text-align: right;\n",
              "    }\n",
              "</style>\n",
              "<table border=\"1\" class=\"dataframe\">\n",
              "  <thead>\n",
              "    <tr style=\"text-align: right;\">\n",
              "      <th></th>\n",
              "      <th>A</th>\n",
              "      <th>B</th>\n",
              "      <th>C</th>\n",
              "      <th>D</th>\n",
              "      <th>F</th>\n",
              "    </tr>\n",
              "  </thead>\n",
              "  <tbody>\n",
              "    <tr>\n",
              "      <th>2013-01-01</th>\n",
              "      <td>NaN</td>\n",
              "      <td>NaN</td>\n",
              "      <td>NaN</td>\n",
              "      <td>NaN</td>\n",
              "      <td>NaN</td>\n",
              "    </tr>\n",
              "    <tr>\n",
              "      <th>2013-01-02</th>\n",
              "      <td>NaN</td>\n",
              "      <td>NaN</td>\n",
              "      <td>NaN</td>\n",
              "      <td>NaN</td>\n",
              "      <td>NaN</td>\n",
              "    </tr>\n",
              "    <tr>\n",
              "      <th>2013-01-03</th>\n",
              "      <td>-0.572337</td>\n",
              "      <td>-1.065110</td>\n",
              "      <td>0.782883</td>\n",
              "      <td>4.0</td>\n",
              "      <td>1.0</td>\n",
              "    </tr>\n",
              "    <tr>\n",
              "      <th>2013-01-04</th>\n",
              "      <td>-3.067047</td>\n",
              "      <td>-5.351899</td>\n",
              "      <td>-3.558563</td>\n",
              "      <td>2.0</td>\n",
              "      <td>0.0</td>\n",
              "    </tr>\n",
              "    <tr>\n",
              "      <th>2013-01-05</th>\n",
              "      <td>-5.702530</td>\n",
              "      <td>-5.911078</td>\n",
              "      <td>-5.037988</td>\n",
              "      <td>0.0</td>\n",
              "      <td>-1.0</td>\n",
              "    </tr>\n",
              "    <tr>\n",
              "      <th>2013-01-06</th>\n",
              "      <td>NaN</td>\n",
              "      <td>NaN</td>\n",
              "      <td>NaN</td>\n",
              "      <td>NaN</td>\n",
              "      <td>NaN</td>\n",
              "    </tr>\n",
              "  </tbody>\n",
              "</table>\n",
              "</div>"
            ],
            "text/plain": [
              "                   A         B         C    D    F\n",
              "2013-01-01       NaN       NaN       NaN  NaN  NaN\n",
              "2013-01-02       NaN       NaN       NaN  NaN  NaN\n",
              "2013-01-03 -0.572337 -1.065110  0.782883  4.0  1.0\n",
              "2013-01-04 -3.067047 -5.351899 -3.558563  2.0  0.0\n",
              "2013-01-05 -5.702530 -5.911078 -5.037988  0.0 -1.0\n",
              "2013-01-06       NaN       NaN       NaN  NaN  NaN"
            ]
          },
          "metadata": {
            "tags": []
          },
          "execution_count": 86
        }
      ]
    },
    {
      "cell_type": "code",
      "metadata": {
        "id": "vGe5cGaCy8eA",
        "colab_type": "code",
        "colab": {},
        "outputId": "a220121e-6ec4-4e2c-cb83-82d75a6a66f8"
      },
      "source": [
        "df"
      ],
      "execution_count": null,
      "outputs": [
        {
          "output_type": "execute_result",
          "data": {
            "text/html": [
              "<div>\n",
              "<style scoped>\n",
              "    .dataframe tbody tr th:only-of-type {\n",
              "        vertical-align: middle;\n",
              "    }\n",
              "\n",
              "    .dataframe tbody tr th {\n",
              "        vertical-align: top;\n",
              "    }\n",
              "\n",
              "    .dataframe thead th {\n",
              "        text-align: right;\n",
              "    }\n",
              "</style>\n",
              "<table border=\"1\" class=\"dataframe\">\n",
              "  <thead>\n",
              "    <tr style=\"text-align: right;\">\n",
              "      <th></th>\n",
              "      <th>A</th>\n",
              "      <th>B</th>\n",
              "      <th>C</th>\n",
              "      <th>D</th>\n",
              "      <th>F</th>\n",
              "    </tr>\n",
              "  </thead>\n",
              "  <tbody>\n",
              "    <tr>\n",
              "      <th>2013-01-01</th>\n",
              "      <td>0.000000</td>\n",
              "      <td>-2.039612</td>\n",
              "      <td>-0.502634</td>\n",
              "      <td>5</td>\n",
              "      <td>NaN</td>\n",
              "    </tr>\n",
              "    <tr>\n",
              "      <th>2013-01-02</th>\n",
              "      <td>0.335303</td>\n",
              "      <td>0.540824</td>\n",
              "      <td>-0.908645</td>\n",
              "      <td>5</td>\n",
              "      <td>1.0</td>\n",
              "    </tr>\n",
              "    <tr>\n",
              "      <th>2013-01-03</th>\n",
              "      <td>0.427663</td>\n",
              "      <td>-0.065110</td>\n",
              "      <td>1.782883</td>\n",
              "      <td>5</td>\n",
              "      <td>2.0</td>\n",
              "    </tr>\n",
              "    <tr>\n",
              "      <th>2013-01-04</th>\n",
              "      <td>-0.067047</td>\n",
              "      <td>-2.351899</td>\n",
              "      <td>-0.558563</td>\n",
              "      <td>5</td>\n",
              "      <td>3.0</td>\n",
              "    </tr>\n",
              "    <tr>\n",
              "      <th>2013-01-05</th>\n",
              "      <td>-0.702530</td>\n",
              "      <td>-0.911078</td>\n",
              "      <td>-0.037988</td>\n",
              "      <td>5</td>\n",
              "      <td>4.0</td>\n",
              "    </tr>\n",
              "    <tr>\n",
              "      <th>2013-01-06</th>\n",
              "      <td>-0.407555</td>\n",
              "      <td>0.523425</td>\n",
              "      <td>-1.666684</td>\n",
              "      <td>5</td>\n",
              "      <td>5.0</td>\n",
              "    </tr>\n",
              "  </tbody>\n",
              "</table>\n",
              "</div>"
            ],
            "text/plain": [
              "                   A         B         C  D    F\n",
              "2013-01-01  0.000000 -2.039612 -0.502634  5  NaN\n",
              "2013-01-02  0.335303  0.540824 -0.908645  5  1.0\n",
              "2013-01-03  0.427663 -0.065110  1.782883  5  2.0\n",
              "2013-01-04 -0.067047 -2.351899 -0.558563  5  3.0\n",
              "2013-01-05 -0.702530 -0.911078 -0.037988  5  4.0\n",
              "2013-01-06 -0.407555  0.523425 -1.666684  5  5.0"
            ]
          },
          "metadata": {
            "tags": []
          },
          "execution_count": 88
        }
      ]
    },
    {
      "cell_type": "code",
      "metadata": {
        "id": "rwvwwuYPy8eC",
        "colab_type": "code",
        "colab": {},
        "outputId": "a6792446-72a8-4548-ce2c-8710f6b33f92"
      },
      "source": [
        "df.apply(np.cumsum)"
      ],
      "execution_count": null,
      "outputs": [
        {
          "output_type": "execute_result",
          "data": {
            "text/html": [
              "<div>\n",
              "<style scoped>\n",
              "    .dataframe tbody tr th:only-of-type {\n",
              "        vertical-align: middle;\n",
              "    }\n",
              "\n",
              "    .dataframe tbody tr th {\n",
              "        vertical-align: top;\n",
              "    }\n",
              "\n",
              "    .dataframe thead th {\n",
              "        text-align: right;\n",
              "    }\n",
              "</style>\n",
              "<table border=\"1\" class=\"dataframe\">\n",
              "  <thead>\n",
              "    <tr style=\"text-align: right;\">\n",
              "      <th></th>\n",
              "      <th>A</th>\n",
              "      <th>B</th>\n",
              "      <th>C</th>\n",
              "      <th>D</th>\n",
              "      <th>F</th>\n",
              "    </tr>\n",
              "  </thead>\n",
              "  <tbody>\n",
              "    <tr>\n",
              "      <th>2013-01-01</th>\n",
              "      <td>0.000000</td>\n",
              "      <td>-2.039612</td>\n",
              "      <td>-0.502634</td>\n",
              "      <td>5</td>\n",
              "      <td>NaN</td>\n",
              "    </tr>\n",
              "    <tr>\n",
              "      <th>2013-01-02</th>\n",
              "      <td>0.335303</td>\n",
              "      <td>-1.498788</td>\n",
              "      <td>-1.411279</td>\n",
              "      <td>10</td>\n",
              "      <td>1.0</td>\n",
              "    </tr>\n",
              "    <tr>\n",
              "      <th>2013-01-03</th>\n",
              "      <td>0.762966</td>\n",
              "      <td>-1.563899</td>\n",
              "      <td>0.371604</td>\n",
              "      <td>15</td>\n",
              "      <td>3.0</td>\n",
              "    </tr>\n",
              "    <tr>\n",
              "      <th>2013-01-04</th>\n",
              "      <td>0.695919</td>\n",
              "      <td>-3.915797</td>\n",
              "      <td>-0.186959</td>\n",
              "      <td>20</td>\n",
              "      <td>6.0</td>\n",
              "    </tr>\n",
              "    <tr>\n",
              "      <th>2013-01-05</th>\n",
              "      <td>-0.006611</td>\n",
              "      <td>-4.826876</td>\n",
              "      <td>-0.224947</td>\n",
              "      <td>25</td>\n",
              "      <td>10.0</td>\n",
              "    </tr>\n",
              "    <tr>\n",
              "      <th>2013-01-06</th>\n",
              "      <td>-0.414166</td>\n",
              "      <td>-4.303450</td>\n",
              "      <td>-1.891631</td>\n",
              "      <td>30</td>\n",
              "      <td>15.0</td>\n",
              "    </tr>\n",
              "  </tbody>\n",
              "</table>\n",
              "</div>"
            ],
            "text/plain": [
              "                   A         B         C   D     F\n",
              "2013-01-01  0.000000 -2.039612 -0.502634   5   NaN\n",
              "2013-01-02  0.335303 -1.498788 -1.411279  10   1.0\n",
              "2013-01-03  0.762966 -1.563899  0.371604  15   3.0\n",
              "2013-01-04  0.695919 -3.915797 -0.186959  20   6.0\n",
              "2013-01-05 -0.006611 -4.826876 -0.224947  25  10.0\n",
              "2013-01-06 -0.414166 -4.303450 -1.891631  30  15.0"
            ]
          },
          "metadata": {
            "tags": []
          },
          "execution_count": 90
        }
      ]
    },
    {
      "cell_type": "code",
      "metadata": {
        "id": "uCj7rRfyy8eD",
        "colab_type": "code",
        "colab": {},
        "outputId": "c9186fe3-d7d6-418d-8acd-0ace17a2a461"
      },
      "source": [
        "df.apply(lambda x:x.max()-x.min())"
      ],
      "execution_count": null,
      "outputs": [
        {
          "output_type": "execute_result",
          "data": {
            "text/plain": [
              "A    1.130194\n",
              "B    2.892723\n",
              "C    3.449567\n",
              "D    0.000000\n",
              "F    4.000000\n",
              "dtype: float64"
            ]
          },
          "metadata": {
            "tags": []
          },
          "execution_count": 91
        }
      ]
    },
    {
      "cell_type": "markdown",
      "metadata": {
        "id": "AzcMTr-By8eF",
        "colab_type": "text"
      },
      "source": [
        "### 'lambda'는 런타임에 생성해서 사용할 수 있는 익명 함수\n",
        "###  filter(),map(),reduct() 와 함께 사용"
      ]
    },
    {
      "cell_type": "code",
      "metadata": {
        "id": "fRMMOrjZy8eF",
        "colab_type": "code",
        "colab": {},
        "outputId": "59b4041c-72a6-4aa6-8ff8-421c5dbe1cf0"
      },
      "source": [
        "lambdaAdd=lambda n,m : n+m\n",
        "print(lambdaAdd(2,3))"
      ],
      "execution_count": null,
      "outputs": [
        {
          "output_type": "stream",
          "text": [
            "5\n"
          ],
          "name": "stdout"
        }
      ]
    },
    {
      "cell_type": "code",
      "metadata": {
        "id": "69pG-WMUy8eH",
        "colab_type": "code",
        "colab": {},
        "outputId": "080fe67d-11c7-4b01-dc09-3576f0a40406"
      },
      "source": [
        "(lambda n,m:n if n%2==0 else m)(1,3)"
      ],
      "execution_count": null,
      "outputs": [
        {
          "output_type": "execute_result",
          "data": {
            "text/plain": [
              "3"
            ]
          },
          "metadata": {
            "tags": []
          },
          "execution_count": 94
        }
      ]
    },
    {
      "cell_type": "code",
      "metadata": {
        "id": "WDp_M967y8eI",
        "colab_type": "code",
        "colab": {},
        "outputId": "63c34e50-b124-457d-f246-c5ce20c31a04"
      },
      "source": [
        "(lambda n,m: n if n%2 else m)(5,3)"
      ],
      "execution_count": null,
      "outputs": [
        {
          "output_type": "execute_result",
          "data": {
            "text/plain": [
              "5"
            ]
          },
          "metadata": {
            "tags": []
          },
          "execution_count": 95
        }
      ]
    },
    {
      "cell_type": "code",
      "metadata": {
        "id": "w65HZAz7y8eK",
        "colab_type": "code",
        "colab": {},
        "outputId": "f1d4c330-aeda-486e-d5cd-c6a1dba9e714"
      },
      "source": [
        "a=[1,2,3,4]\n",
        "b=[17,12,11,10]\n",
        "list(map(lambda x,y: x+y, a, b))"
      ],
      "execution_count": null,
      "outputs": [
        {
          "output_type": "execute_result",
          "data": {
            "text/plain": [
              "[18, 14, 14, 14]"
            ]
          },
          "metadata": {
            "tags": []
          },
          "execution_count": 96
        }
      ]
    },
    {
      "cell_type": "code",
      "metadata": {
        "id": "h-tKNGeBy8eL",
        "colab_type": "code",
        "colab": {},
        "outputId": "2127bada-2f24-4744-bd4d-869a5cf04f3b"
      },
      "source": [
        "foo=[2,18,9,22,17,24,8,12,27]\n",
        "list(filter(lambda x: x%3==0, foo))"
      ],
      "execution_count": null,
      "outputs": [
        {
          "output_type": "execute_result",
          "data": {
            "text/plain": [
              "[18, 9, 24, 12, 27]"
            ]
          },
          "metadata": {
            "tags": []
          },
          "execution_count": 97
        }
      ]
    },
    {
      "cell_type": "code",
      "metadata": {
        "id": "MukihTUwy8eM",
        "colab_type": "code",
        "colab": {},
        "outputId": "620a6c13-816d-4f57-94ae-8f6b9677e0c5"
      },
      "source": [
        "from functools import reduce\n",
        "reduce(lambda x,y: x+y, [1,2,3,4,5])"
      ],
      "execution_count": null,
      "outputs": [
        {
          "output_type": "execute_result",
          "data": {
            "text/plain": [
              "15"
            ]
          },
          "metadata": {
            "tags": []
          },
          "execution_count": 98
        }
      ]
    },
    {
      "cell_type": "code",
      "metadata": {
        "id": "ImWORc6oy8eO",
        "colab_type": "code",
        "colab": {}
      },
      "source": [
        "g=lambda x:x**2"
      ],
      "execution_count": null,
      "outputs": []
    },
    {
      "cell_type": "code",
      "metadata": {
        "id": "FdfrTezBy8eP",
        "colab_type": "code",
        "colab": {},
        "outputId": "af7e58cd-5594-4faa-d741-7f1a3d6f8fce"
      },
      "source": [
        "print(g(8))"
      ],
      "execution_count": null,
      "outputs": [
        {
          "output_type": "stream",
          "text": [
            "64\n"
          ],
          "name": "stdout"
        }
      ]
    },
    {
      "cell_type": "code",
      "metadata": {
        "id": "0Z-276iay8eQ",
        "colab_type": "code",
        "colab": {},
        "outputId": "dd2e7d59-970b-42ad-9a6f-e9a4b92b2af2"
      },
      "source": [
        "def inc(n):\n",
        "    return lambda x:x+n\n",
        "\n",
        "f=inc(2)\n",
        "g=inc(4)\n",
        "\n",
        "print(f(12))"
      ],
      "execution_count": null,
      "outputs": [
        {
          "output_type": "stream",
          "text": [
            "14\n"
          ],
          "name": "stdout"
        }
      ]
    },
    {
      "cell_type": "code",
      "metadata": {
        "id": "hrzoL8N7y8eT",
        "colab_type": "code",
        "colab": {},
        "outputId": "88ec73cb-4477-4fc5-bdbc-d460b2a58f0c"
      },
      "source": [
        "a=list(range(1,11))\n",
        "print(a)"
      ],
      "execution_count": null,
      "outputs": [
        {
          "output_type": "stream",
          "text": [
            "[1, 2, 3, 4, 5, 6, 7, 8, 9, 10]\n"
          ],
          "name": "stdout"
        }
      ]
    },
    {
      "cell_type": "code",
      "metadata": {
        "id": "55EoFz1Yy8eV",
        "colab_type": "code",
        "colab": {},
        "outputId": "16b58248-7159-4458-abda-a08b6118ce6e"
      },
      "source": [
        "m=list(map(lambda n: n*n,a)) ;m"
      ],
      "execution_count": null,
      "outputs": [
        {
          "output_type": "execute_result",
          "data": {
            "text/plain": [
              "[1, 4, 9, 16, 25, 36, 49, 64, 81, 100]"
            ]
          },
          "metadata": {
            "tags": []
          },
          "execution_count": 104
        }
      ]
    },
    {
      "cell_type": "code",
      "metadata": {
        "id": "V0WVCuMty8eW",
        "colab_type": "code",
        "colab": {},
        "outputId": "f5773565-958c-48cb-dffc-906fa972e88d"
      },
      "source": [
        "df.apply(lambda x:x.max()-x.min())"
      ],
      "execution_count": null,
      "outputs": [
        {
          "output_type": "execute_result",
          "data": {
            "text/plain": [
              "A    1.130194\n",
              "B    2.892723\n",
              "C    3.449567\n",
              "D    0.000000\n",
              "F    4.000000\n",
              "dtype: float64"
            ]
          },
          "metadata": {
            "tags": []
          },
          "execution_count": 105
        }
      ]
    },
    {
      "cell_type": "code",
      "metadata": {
        "id": "Ra8goEgxy8eZ",
        "colab_type": "code",
        "colab": {}
      },
      "source": [
        "s=pd.Series(np.random.randint(0,7,size=10))"
      ],
      "execution_count": null,
      "outputs": []
    },
    {
      "cell_type": "code",
      "metadata": {
        "id": "nNu9rdFJy8ea",
        "colab_type": "code",
        "colab": {},
        "outputId": "8e154d19-6abf-4292-fbff-1cb531a84ff1"
      },
      "source": [
        "s"
      ],
      "execution_count": null,
      "outputs": [
        {
          "output_type": "execute_result",
          "data": {
            "text/plain": [
              "0    3\n",
              "1    1\n",
              "2    1\n",
              "3    5\n",
              "4    3\n",
              "5    3\n",
              "6    1\n",
              "7    5\n",
              "8    6\n",
              "9    0\n",
              "dtype: int32"
            ]
          },
          "metadata": {
            "tags": []
          },
          "execution_count": 107
        }
      ]
    },
    {
      "cell_type": "code",
      "metadata": {
        "id": "rgz4ppz4y8ec",
        "colab_type": "code",
        "colab": {},
        "outputId": "0aa2d95f-55b0-445f-a267-b16d5a5ecda4"
      },
      "source": [
        "s.value_counts()"
      ],
      "execution_count": null,
      "outputs": [
        {
          "output_type": "execute_result",
          "data": {
            "text/plain": [
              "3    3\n",
              "1    3\n",
              "5    2\n",
              "6    1\n",
              "0    1\n",
              "dtype: int64"
            ]
          },
          "metadata": {
            "tags": []
          },
          "execution_count": 108
        }
      ]
    },
    {
      "cell_type": "code",
      "metadata": {
        "id": "TRteTxlBy8ed",
        "colab_type": "code",
        "colab": {},
        "outputId": "cd334649-0c3a-48ed-ed32-8ed3142e3ed9"
      },
      "source": [
        "s = pd.Series(['A', 'B', 'C', 'Aaba', 'Baca', np.nan, 'CABA', 'dog', 'cat'])\n",
        "s"
      ],
      "execution_count": null,
      "outputs": [
        {
          "output_type": "execute_result",
          "data": {
            "text/plain": [
              "0       A\n",
              "1       B\n",
              "2       C\n",
              "3    Aaba\n",
              "4    Baca\n",
              "5     NaN\n",
              "6    CABA\n",
              "7     dog\n",
              "8     cat\n",
              "dtype: object"
            ]
          },
          "metadata": {
            "tags": []
          },
          "execution_count": 110
        }
      ]
    },
    {
      "cell_type": "code",
      "metadata": {
        "id": "9Xha3eWky8ee",
        "colab_type": "code",
        "colab": {},
        "outputId": "a4367445-cb54-4809-b49e-eca694902dfa"
      },
      "source": [
        "s.str.lower()"
      ],
      "execution_count": null,
      "outputs": [
        {
          "output_type": "execute_result",
          "data": {
            "text/plain": [
              "0       a\n",
              "1       b\n",
              "2       c\n",
              "3    aaba\n",
              "4    baca\n",
              "5     NaN\n",
              "6    caba\n",
              "7     dog\n",
              "8     cat\n",
              "dtype: object"
            ]
          },
          "metadata": {
            "tags": []
          },
          "execution_count": 111
        }
      ]
    },
    {
      "cell_type": "code",
      "metadata": {
        "id": "gn_1AvKxy8eg",
        "colab_type": "code",
        "colab": {}
      },
      "source": [
        "df = pd.DataFrame(np.random.randn(10, 4))"
      ],
      "execution_count": null,
      "outputs": []
    },
    {
      "cell_type": "code",
      "metadata": {
        "id": "9Wt73eJ8y8eh",
        "colab_type": "code",
        "colab": {},
        "outputId": "31a89245-6c8d-412b-a4ca-ecb58a852126"
      },
      "source": [
        "df"
      ],
      "execution_count": null,
      "outputs": [
        {
          "output_type": "execute_result",
          "data": {
            "text/html": [
              "<div>\n",
              "<style scoped>\n",
              "    .dataframe tbody tr th:only-of-type {\n",
              "        vertical-align: middle;\n",
              "    }\n",
              "\n",
              "    .dataframe tbody tr th {\n",
              "        vertical-align: top;\n",
              "    }\n",
              "\n",
              "    .dataframe thead th {\n",
              "        text-align: right;\n",
              "    }\n",
              "</style>\n",
              "<table border=\"1\" class=\"dataframe\">\n",
              "  <thead>\n",
              "    <tr style=\"text-align: right;\">\n",
              "      <th></th>\n",
              "      <th>0</th>\n",
              "      <th>1</th>\n",
              "      <th>2</th>\n",
              "      <th>3</th>\n",
              "    </tr>\n",
              "  </thead>\n",
              "  <tbody>\n",
              "    <tr>\n",
              "      <th>0</th>\n",
              "      <td>-0.447646</td>\n",
              "      <td>1.411453</td>\n",
              "      <td>0.787607</td>\n",
              "      <td>0.589666</td>\n",
              "    </tr>\n",
              "    <tr>\n",
              "      <th>1</th>\n",
              "      <td>-0.461636</td>\n",
              "      <td>0.104177</td>\n",
              "      <td>-0.481655</td>\n",
              "      <td>-1.068814</td>\n",
              "    </tr>\n",
              "    <tr>\n",
              "      <th>2</th>\n",
              "      <td>-0.419637</td>\n",
              "      <td>-0.382446</td>\n",
              "      <td>-0.813832</td>\n",
              "      <td>0.248428</td>\n",
              "    </tr>\n",
              "    <tr>\n",
              "      <th>3</th>\n",
              "      <td>0.121848</td>\n",
              "      <td>2.194811</td>\n",
              "      <td>-0.146866</td>\n",
              "      <td>-2.289031</td>\n",
              "    </tr>\n",
              "    <tr>\n",
              "      <th>4</th>\n",
              "      <td>-1.119873</td>\n",
              "      <td>-1.644369</td>\n",
              "      <td>-0.180885</td>\n",
              "      <td>0.699276</td>\n",
              "    </tr>\n",
              "    <tr>\n",
              "      <th>5</th>\n",
              "      <td>-0.614777</td>\n",
              "      <td>-0.659037</td>\n",
              "      <td>3.387925</td>\n",
              "      <td>0.699204</td>\n",
              "    </tr>\n",
              "    <tr>\n",
              "      <th>6</th>\n",
              "      <td>-0.874420</td>\n",
              "      <td>-1.568224</td>\n",
              "      <td>-0.127649</td>\n",
              "      <td>1.263908</td>\n",
              "    </tr>\n",
              "    <tr>\n",
              "      <th>7</th>\n",
              "      <td>0.118446</td>\n",
              "      <td>0.498683</td>\n",
              "      <td>-0.147892</td>\n",
              "      <td>-1.258060</td>\n",
              "    </tr>\n",
              "    <tr>\n",
              "      <th>8</th>\n",
              "      <td>0.607287</td>\n",
              "      <td>0.122493</td>\n",
              "      <td>-0.746357</td>\n",
              "      <td>-0.574265</td>\n",
              "    </tr>\n",
              "    <tr>\n",
              "      <th>9</th>\n",
              "      <td>-0.512614</td>\n",
              "      <td>-0.479271</td>\n",
              "      <td>0.007713</td>\n",
              "      <td>-0.796451</td>\n",
              "    </tr>\n",
              "  </tbody>\n",
              "</table>\n",
              "</div>"
            ],
            "text/plain": [
              "          0         1         2         3\n",
              "0 -0.447646  1.411453  0.787607  0.589666\n",
              "1 -0.461636  0.104177 -0.481655 -1.068814\n",
              "2 -0.419637 -0.382446 -0.813832  0.248428\n",
              "3  0.121848  2.194811 -0.146866 -2.289031\n",
              "4 -1.119873 -1.644369 -0.180885  0.699276\n",
              "5 -0.614777 -0.659037  3.387925  0.699204\n",
              "6 -0.874420 -1.568224 -0.127649  1.263908\n",
              "7  0.118446  0.498683 -0.147892 -1.258060\n",
              "8  0.607287  0.122493 -0.746357 -0.574265\n",
              "9 -0.512614 -0.479271  0.007713 -0.796451"
            ]
          },
          "metadata": {
            "tags": []
          },
          "execution_count": 113
        }
      ]
    },
    {
      "cell_type": "code",
      "metadata": {
        "id": "qESqJKKty8ej",
        "colab_type": "code",
        "colab": {}
      },
      "source": [
        "pieces=[df[:3], df[3:7], df[7:]]"
      ],
      "execution_count": null,
      "outputs": []
    },
    {
      "cell_type": "code",
      "metadata": {
        "id": "lVBbmGQ1y8ek",
        "colab_type": "code",
        "colab": {},
        "outputId": "11dc0fad-58c4-4087-87da-ad1104e7c54d"
      },
      "source": [
        "pieces"
      ],
      "execution_count": null,
      "outputs": [
        {
          "output_type": "execute_result",
          "data": {
            "text/plain": [
              "[          0         1         2         3\n",
              " 0 -0.447646  1.411453  0.787607  0.589666\n",
              " 1 -0.461636  0.104177 -0.481655 -1.068814\n",
              " 2 -0.419637 -0.382446 -0.813832  0.248428,\n",
              "           0         1         2         3\n",
              " 3  0.121848  2.194811 -0.146866 -2.289031\n",
              " 4 -1.119873 -1.644369 -0.180885  0.699276\n",
              " 5 -0.614777 -0.659037  3.387925  0.699204\n",
              " 6 -0.874420 -1.568224 -0.127649  1.263908,\n",
              "           0         1         2         3\n",
              " 7  0.118446  0.498683 -0.147892 -1.258060\n",
              " 8  0.607287  0.122493 -0.746357 -0.574265\n",
              " 9 -0.512614 -0.479271  0.007713 -0.796451]"
            ]
          },
          "metadata": {
            "tags": []
          },
          "execution_count": 115
        }
      ]
    },
    {
      "cell_type": "code",
      "metadata": {
        "id": "Y5bAXYCpy8el",
        "colab_type": "code",
        "colab": {},
        "outputId": "e9ea7e5e-8624-462d-a82b-735f97d68f92"
      },
      "source": [
        "pd.concat(pieces)"
      ],
      "execution_count": null,
      "outputs": [
        {
          "output_type": "execute_result",
          "data": {
            "text/html": [
              "<div>\n",
              "<style scoped>\n",
              "    .dataframe tbody tr th:only-of-type {\n",
              "        vertical-align: middle;\n",
              "    }\n",
              "\n",
              "    .dataframe tbody tr th {\n",
              "        vertical-align: top;\n",
              "    }\n",
              "\n",
              "    .dataframe thead th {\n",
              "        text-align: right;\n",
              "    }\n",
              "</style>\n",
              "<table border=\"1\" class=\"dataframe\">\n",
              "  <thead>\n",
              "    <tr style=\"text-align: right;\">\n",
              "      <th></th>\n",
              "      <th>0</th>\n",
              "      <th>1</th>\n",
              "      <th>2</th>\n",
              "      <th>3</th>\n",
              "    </tr>\n",
              "  </thead>\n",
              "  <tbody>\n",
              "    <tr>\n",
              "      <th>0</th>\n",
              "      <td>-0.447646</td>\n",
              "      <td>1.411453</td>\n",
              "      <td>0.787607</td>\n",
              "      <td>0.589666</td>\n",
              "    </tr>\n",
              "    <tr>\n",
              "      <th>1</th>\n",
              "      <td>-0.461636</td>\n",
              "      <td>0.104177</td>\n",
              "      <td>-0.481655</td>\n",
              "      <td>-1.068814</td>\n",
              "    </tr>\n",
              "    <tr>\n",
              "      <th>2</th>\n",
              "      <td>-0.419637</td>\n",
              "      <td>-0.382446</td>\n",
              "      <td>-0.813832</td>\n",
              "      <td>0.248428</td>\n",
              "    </tr>\n",
              "    <tr>\n",
              "      <th>3</th>\n",
              "      <td>0.121848</td>\n",
              "      <td>2.194811</td>\n",
              "      <td>-0.146866</td>\n",
              "      <td>-2.289031</td>\n",
              "    </tr>\n",
              "    <tr>\n",
              "      <th>4</th>\n",
              "      <td>-1.119873</td>\n",
              "      <td>-1.644369</td>\n",
              "      <td>-0.180885</td>\n",
              "      <td>0.699276</td>\n",
              "    </tr>\n",
              "    <tr>\n",
              "      <th>5</th>\n",
              "      <td>-0.614777</td>\n",
              "      <td>-0.659037</td>\n",
              "      <td>3.387925</td>\n",
              "      <td>0.699204</td>\n",
              "    </tr>\n",
              "    <tr>\n",
              "      <th>6</th>\n",
              "      <td>-0.874420</td>\n",
              "      <td>-1.568224</td>\n",
              "      <td>-0.127649</td>\n",
              "      <td>1.263908</td>\n",
              "    </tr>\n",
              "    <tr>\n",
              "      <th>7</th>\n",
              "      <td>0.118446</td>\n",
              "      <td>0.498683</td>\n",
              "      <td>-0.147892</td>\n",
              "      <td>-1.258060</td>\n",
              "    </tr>\n",
              "    <tr>\n",
              "      <th>8</th>\n",
              "      <td>0.607287</td>\n",
              "      <td>0.122493</td>\n",
              "      <td>-0.746357</td>\n",
              "      <td>-0.574265</td>\n",
              "    </tr>\n",
              "    <tr>\n",
              "      <th>9</th>\n",
              "      <td>-0.512614</td>\n",
              "      <td>-0.479271</td>\n",
              "      <td>0.007713</td>\n",
              "      <td>-0.796451</td>\n",
              "    </tr>\n",
              "  </tbody>\n",
              "</table>\n",
              "</div>"
            ],
            "text/plain": [
              "          0         1         2         3\n",
              "0 -0.447646  1.411453  0.787607  0.589666\n",
              "1 -0.461636  0.104177 -0.481655 -1.068814\n",
              "2 -0.419637 -0.382446 -0.813832  0.248428\n",
              "3  0.121848  2.194811 -0.146866 -2.289031\n",
              "4 -1.119873 -1.644369 -0.180885  0.699276\n",
              "5 -0.614777 -0.659037  3.387925  0.699204\n",
              "6 -0.874420 -1.568224 -0.127649  1.263908\n",
              "7  0.118446  0.498683 -0.147892 -1.258060\n",
              "8  0.607287  0.122493 -0.746357 -0.574265\n",
              "9 -0.512614 -0.479271  0.007713 -0.796451"
            ]
          },
          "metadata": {
            "tags": []
          },
          "execution_count": 118
        }
      ]
    },
    {
      "cell_type": "code",
      "metadata": {
        "id": "8CRsfDC4y8eo",
        "colab_type": "code",
        "colab": {}
      },
      "source": [
        "left=pd.DataFrame({'key':['foo','foo'], 'lval':[1,2]})\n",
        "right = pd.DataFrame({'key': ['foo', 'foo'], 'rval': [4, 5]})"
      ],
      "execution_count": null,
      "outputs": []
    },
    {
      "cell_type": "code",
      "metadata": {
        "id": "R6XgEUvWy8ep",
        "colab_type": "code",
        "colab": {},
        "outputId": "aa15f3b7-300b-4ae7-e151-22716804db24"
      },
      "source": [
        "left"
      ],
      "execution_count": null,
      "outputs": [
        {
          "output_type": "execute_result",
          "data": {
            "text/html": [
              "<div>\n",
              "<style scoped>\n",
              "    .dataframe tbody tr th:only-of-type {\n",
              "        vertical-align: middle;\n",
              "    }\n",
              "\n",
              "    .dataframe tbody tr th {\n",
              "        vertical-align: top;\n",
              "    }\n",
              "\n",
              "    .dataframe thead th {\n",
              "        text-align: right;\n",
              "    }\n",
              "</style>\n",
              "<table border=\"1\" class=\"dataframe\">\n",
              "  <thead>\n",
              "    <tr style=\"text-align: right;\">\n",
              "      <th></th>\n",
              "      <th>key</th>\n",
              "      <th>lval</th>\n",
              "    </tr>\n",
              "  </thead>\n",
              "  <tbody>\n",
              "    <tr>\n",
              "      <th>0</th>\n",
              "      <td>foo</td>\n",
              "      <td>1</td>\n",
              "    </tr>\n",
              "    <tr>\n",
              "      <th>1</th>\n",
              "      <td>foo</td>\n",
              "      <td>2</td>\n",
              "    </tr>\n",
              "  </tbody>\n",
              "</table>\n",
              "</div>"
            ],
            "text/plain": [
              "   key  lval\n",
              "0  foo     1\n",
              "1  foo     2"
            ]
          },
          "metadata": {
            "tags": []
          },
          "execution_count": 120
        }
      ]
    },
    {
      "cell_type": "code",
      "metadata": {
        "id": "2jjt79nQy8eq",
        "colab_type": "code",
        "colab": {},
        "outputId": "981c96f0-c782-421a-eaee-f23cb04b9f3c"
      },
      "source": [
        "right"
      ],
      "execution_count": null,
      "outputs": [
        {
          "output_type": "execute_result",
          "data": {
            "text/html": [
              "<div>\n",
              "<style scoped>\n",
              "    .dataframe tbody tr th:only-of-type {\n",
              "        vertical-align: middle;\n",
              "    }\n",
              "\n",
              "    .dataframe tbody tr th {\n",
              "        vertical-align: top;\n",
              "    }\n",
              "\n",
              "    .dataframe thead th {\n",
              "        text-align: right;\n",
              "    }\n",
              "</style>\n",
              "<table border=\"1\" class=\"dataframe\">\n",
              "  <thead>\n",
              "    <tr style=\"text-align: right;\">\n",
              "      <th></th>\n",
              "      <th>key</th>\n",
              "      <th>rval</th>\n",
              "    </tr>\n",
              "  </thead>\n",
              "  <tbody>\n",
              "    <tr>\n",
              "      <th>0</th>\n",
              "      <td>foo</td>\n",
              "      <td>4</td>\n",
              "    </tr>\n",
              "    <tr>\n",
              "      <th>1</th>\n",
              "      <td>foo</td>\n",
              "      <td>5</td>\n",
              "    </tr>\n",
              "  </tbody>\n",
              "</table>\n",
              "</div>"
            ],
            "text/plain": [
              "   key  rval\n",
              "0  foo     4\n",
              "1  foo     5"
            ]
          },
          "metadata": {
            "tags": []
          },
          "execution_count": 121
        }
      ]
    },
    {
      "cell_type": "code",
      "metadata": {
        "id": "Nlfcc69dy8es",
        "colab_type": "code",
        "colab": {},
        "outputId": "9eda309c-88fd-4f59-a2c1-e6bb47b8497a"
      },
      "source": [
        "pd.merge(left,right, on='key', how='inner')"
      ],
      "execution_count": null,
      "outputs": [
        {
          "output_type": "execute_result",
          "data": {
            "text/html": [
              "<div>\n",
              "<style scoped>\n",
              "    .dataframe tbody tr th:only-of-type {\n",
              "        vertical-align: middle;\n",
              "    }\n",
              "\n",
              "    .dataframe tbody tr th {\n",
              "        vertical-align: top;\n",
              "    }\n",
              "\n",
              "    .dataframe thead th {\n",
              "        text-align: right;\n",
              "    }\n",
              "</style>\n",
              "<table border=\"1\" class=\"dataframe\">\n",
              "  <thead>\n",
              "    <tr style=\"text-align: right;\">\n",
              "      <th></th>\n",
              "      <th>key</th>\n",
              "      <th>lval</th>\n",
              "      <th>rval</th>\n",
              "    </tr>\n",
              "  </thead>\n",
              "  <tbody>\n",
              "    <tr>\n",
              "      <th>0</th>\n",
              "      <td>foo</td>\n",
              "      <td>1</td>\n",
              "      <td>4</td>\n",
              "    </tr>\n",
              "    <tr>\n",
              "      <th>1</th>\n",
              "      <td>foo</td>\n",
              "      <td>1</td>\n",
              "      <td>5</td>\n",
              "    </tr>\n",
              "    <tr>\n",
              "      <th>2</th>\n",
              "      <td>foo</td>\n",
              "      <td>2</td>\n",
              "      <td>4</td>\n",
              "    </tr>\n",
              "    <tr>\n",
              "      <th>3</th>\n",
              "      <td>foo</td>\n",
              "      <td>2</td>\n",
              "      <td>5</td>\n",
              "    </tr>\n",
              "  </tbody>\n",
              "</table>\n",
              "</div>"
            ],
            "text/plain": [
              "   key  lval  rval\n",
              "0  foo     1     4\n",
              "1  foo     1     5\n",
              "2  foo     2     4\n",
              "3  foo     2     5"
            ]
          },
          "metadata": {
            "tags": []
          },
          "execution_count": 123
        }
      ]
    },
    {
      "cell_type": "code",
      "metadata": {
        "id": "cVr-ss6-y8et",
        "colab_type": "code",
        "colab": {},
        "outputId": "2a7e97ea-b145-4247-ac91-350058cea454"
      },
      "source": [
        "pd.merge(left,right, on='key', how='left')"
      ],
      "execution_count": null,
      "outputs": [
        {
          "output_type": "execute_result",
          "data": {
            "text/html": [
              "<div>\n",
              "<style scoped>\n",
              "    .dataframe tbody tr th:only-of-type {\n",
              "        vertical-align: middle;\n",
              "    }\n",
              "\n",
              "    .dataframe tbody tr th {\n",
              "        vertical-align: top;\n",
              "    }\n",
              "\n",
              "    .dataframe thead th {\n",
              "        text-align: right;\n",
              "    }\n",
              "</style>\n",
              "<table border=\"1\" class=\"dataframe\">\n",
              "  <thead>\n",
              "    <tr style=\"text-align: right;\">\n",
              "      <th></th>\n",
              "      <th>key</th>\n",
              "      <th>lval</th>\n",
              "      <th>rval</th>\n",
              "    </tr>\n",
              "  </thead>\n",
              "  <tbody>\n",
              "    <tr>\n",
              "      <th>0</th>\n",
              "      <td>foo</td>\n",
              "      <td>1</td>\n",
              "      <td>4</td>\n",
              "    </tr>\n",
              "    <tr>\n",
              "      <th>1</th>\n",
              "      <td>foo</td>\n",
              "      <td>1</td>\n",
              "      <td>5</td>\n",
              "    </tr>\n",
              "    <tr>\n",
              "      <th>2</th>\n",
              "      <td>foo</td>\n",
              "      <td>2</td>\n",
              "      <td>4</td>\n",
              "    </tr>\n",
              "    <tr>\n",
              "      <th>3</th>\n",
              "      <td>foo</td>\n",
              "      <td>2</td>\n",
              "      <td>5</td>\n",
              "    </tr>\n",
              "  </tbody>\n",
              "</table>\n",
              "</div>"
            ],
            "text/plain": [
              "   key  lval  rval\n",
              "0  foo     1     4\n",
              "1  foo     1     5\n",
              "2  foo     2     4\n",
              "3  foo     2     5"
            ]
          },
          "metadata": {
            "tags": []
          },
          "execution_count": 124
        }
      ]
    },
    {
      "cell_type": "code",
      "metadata": {
        "id": "QKB13lOoy8eu",
        "colab_type": "code",
        "colab": {},
        "outputId": "200deee6-7b15-462e-a3ae-bf3dddb0d24f"
      },
      "source": [
        "pd.merge(left,right, on='key', how='right')"
      ],
      "execution_count": null,
      "outputs": [
        {
          "output_type": "execute_result",
          "data": {
            "text/html": [
              "<div>\n",
              "<style scoped>\n",
              "    .dataframe tbody tr th:only-of-type {\n",
              "        vertical-align: middle;\n",
              "    }\n",
              "\n",
              "    .dataframe tbody tr th {\n",
              "        vertical-align: top;\n",
              "    }\n",
              "\n",
              "    .dataframe thead th {\n",
              "        text-align: right;\n",
              "    }\n",
              "</style>\n",
              "<table border=\"1\" class=\"dataframe\">\n",
              "  <thead>\n",
              "    <tr style=\"text-align: right;\">\n",
              "      <th></th>\n",
              "      <th>key</th>\n",
              "      <th>lval</th>\n",
              "      <th>rval</th>\n",
              "    </tr>\n",
              "  </thead>\n",
              "  <tbody>\n",
              "    <tr>\n",
              "      <th>0</th>\n",
              "      <td>foo</td>\n",
              "      <td>1</td>\n",
              "      <td>4</td>\n",
              "    </tr>\n",
              "    <tr>\n",
              "      <th>1</th>\n",
              "      <td>foo</td>\n",
              "      <td>2</td>\n",
              "      <td>4</td>\n",
              "    </tr>\n",
              "    <tr>\n",
              "      <th>2</th>\n",
              "      <td>foo</td>\n",
              "      <td>1</td>\n",
              "      <td>5</td>\n",
              "    </tr>\n",
              "    <tr>\n",
              "      <th>3</th>\n",
              "      <td>foo</td>\n",
              "      <td>2</td>\n",
              "      <td>5</td>\n",
              "    </tr>\n",
              "  </tbody>\n",
              "</table>\n",
              "</div>"
            ],
            "text/plain": [
              "   key  lval  rval\n",
              "0  foo     1     4\n",
              "1  foo     2     4\n",
              "2  foo     1     5\n",
              "3  foo     2     5"
            ]
          },
          "metadata": {
            "tags": []
          },
          "execution_count": 125
        }
      ]
    },
    {
      "cell_type": "code",
      "metadata": {
        "id": "dll0D7_-y8ew",
        "colab_type": "code",
        "colab": {},
        "outputId": "31b24a5e-eb76-4705-ddab-8c17c4321b20"
      },
      "source": [
        " df = pd.DataFrame(np.random.randn(8, 4), columns=['A','B','C','D']) ;df"
      ],
      "execution_count": null,
      "outputs": [
        {
          "output_type": "execute_result",
          "data": {
            "text/html": [
              "<div>\n",
              "<style scoped>\n",
              "    .dataframe tbody tr th:only-of-type {\n",
              "        vertical-align: middle;\n",
              "    }\n",
              "\n",
              "    .dataframe tbody tr th {\n",
              "        vertical-align: top;\n",
              "    }\n",
              "\n",
              "    .dataframe thead th {\n",
              "        text-align: right;\n",
              "    }\n",
              "</style>\n",
              "<table border=\"1\" class=\"dataframe\">\n",
              "  <thead>\n",
              "    <tr style=\"text-align: right;\">\n",
              "      <th></th>\n",
              "      <th>A</th>\n",
              "      <th>B</th>\n",
              "      <th>C</th>\n",
              "      <th>D</th>\n",
              "    </tr>\n",
              "  </thead>\n",
              "  <tbody>\n",
              "    <tr>\n",
              "      <th>0</th>\n",
              "      <td>-1.025621</td>\n",
              "      <td>0.713288</td>\n",
              "      <td>-0.114284</td>\n",
              "      <td>0.432962</td>\n",
              "    </tr>\n",
              "    <tr>\n",
              "      <th>1</th>\n",
              "      <td>-0.422670</td>\n",
              "      <td>-0.756348</td>\n",
              "      <td>1.200491</td>\n",
              "      <td>-0.784216</td>\n",
              "    </tr>\n",
              "    <tr>\n",
              "      <th>2</th>\n",
              "      <td>-0.620525</td>\n",
              "      <td>-0.047208</td>\n",
              "      <td>-0.673712</td>\n",
              "      <td>1.030097</td>\n",
              "    </tr>\n",
              "    <tr>\n",
              "      <th>3</th>\n",
              "      <td>0.175519</td>\n",
              "      <td>-0.404256</td>\n",
              "      <td>-1.124639</td>\n",
              "      <td>0.000736</td>\n",
              "    </tr>\n",
              "    <tr>\n",
              "      <th>4</th>\n",
              "      <td>1.127287</td>\n",
              "      <td>-1.213218</td>\n",
              "      <td>1.195772</td>\n",
              "      <td>-0.588115</td>\n",
              "    </tr>\n",
              "    <tr>\n",
              "      <th>5</th>\n",
              "      <td>0.026912</td>\n",
              "      <td>-1.056345</td>\n",
              "      <td>-1.483365</td>\n",
              "      <td>-1.428135</td>\n",
              "    </tr>\n",
              "    <tr>\n",
              "      <th>6</th>\n",
              "      <td>-2.420545</td>\n",
              "      <td>-0.689614</td>\n",
              "      <td>-0.119837</td>\n",
              "      <td>-0.369611</td>\n",
              "    </tr>\n",
              "    <tr>\n",
              "      <th>7</th>\n",
              "      <td>0.819543</td>\n",
              "      <td>0.483608</td>\n",
              "      <td>1.044243</td>\n",
              "      <td>0.217183</td>\n",
              "    </tr>\n",
              "  </tbody>\n",
              "</table>\n",
              "</div>"
            ],
            "text/plain": [
              "          A         B         C         D\n",
              "0 -1.025621  0.713288 -0.114284  0.432962\n",
              "1 -0.422670 -0.756348  1.200491 -0.784216\n",
              "2 -0.620525 -0.047208 -0.673712  1.030097\n",
              "3  0.175519 -0.404256 -1.124639  0.000736\n",
              "4  1.127287 -1.213218  1.195772 -0.588115\n",
              "5  0.026912 -1.056345 -1.483365 -1.428135\n",
              "6 -2.420545 -0.689614 -0.119837 -0.369611\n",
              "7  0.819543  0.483608  1.044243  0.217183"
            ]
          },
          "metadata": {
            "tags": []
          },
          "execution_count": 126
        }
      ]
    },
    {
      "cell_type": "code",
      "metadata": {
        "id": "23Ldvg64y8ex",
        "colab_type": "code",
        "colab": {}
      },
      "source": [
        "s=df.iloc[3]"
      ],
      "execution_count": null,
      "outputs": []
    },
    {
      "cell_type": "code",
      "metadata": {
        "id": "L-GKKQ1Ay8ey",
        "colab_type": "code",
        "colab": {},
        "outputId": "85780ce6-6ab3-4232-8f47-830b975da721"
      },
      "source": [
        "df.append(s, ignore_index=True)"
      ],
      "execution_count": null,
      "outputs": [
        {
          "output_type": "execute_result",
          "data": {
            "text/html": [
              "<div>\n",
              "<style scoped>\n",
              "    .dataframe tbody tr th:only-of-type {\n",
              "        vertical-align: middle;\n",
              "    }\n",
              "\n",
              "    .dataframe tbody tr th {\n",
              "        vertical-align: top;\n",
              "    }\n",
              "\n",
              "    .dataframe thead th {\n",
              "        text-align: right;\n",
              "    }\n",
              "</style>\n",
              "<table border=\"1\" class=\"dataframe\">\n",
              "  <thead>\n",
              "    <tr style=\"text-align: right;\">\n",
              "      <th></th>\n",
              "      <th>A</th>\n",
              "      <th>B</th>\n",
              "      <th>C</th>\n",
              "      <th>D</th>\n",
              "    </tr>\n",
              "  </thead>\n",
              "  <tbody>\n",
              "    <tr>\n",
              "      <th>0</th>\n",
              "      <td>-1.025621</td>\n",
              "      <td>0.713288</td>\n",
              "      <td>-0.114284</td>\n",
              "      <td>0.432962</td>\n",
              "    </tr>\n",
              "    <tr>\n",
              "      <th>1</th>\n",
              "      <td>-0.422670</td>\n",
              "      <td>-0.756348</td>\n",
              "      <td>1.200491</td>\n",
              "      <td>-0.784216</td>\n",
              "    </tr>\n",
              "    <tr>\n",
              "      <th>2</th>\n",
              "      <td>-0.620525</td>\n",
              "      <td>-0.047208</td>\n",
              "      <td>-0.673712</td>\n",
              "      <td>1.030097</td>\n",
              "    </tr>\n",
              "    <tr>\n",
              "      <th>3</th>\n",
              "      <td>0.175519</td>\n",
              "      <td>-0.404256</td>\n",
              "      <td>-1.124639</td>\n",
              "      <td>0.000736</td>\n",
              "    </tr>\n",
              "    <tr>\n",
              "      <th>4</th>\n",
              "      <td>1.127287</td>\n",
              "      <td>-1.213218</td>\n",
              "      <td>1.195772</td>\n",
              "      <td>-0.588115</td>\n",
              "    </tr>\n",
              "    <tr>\n",
              "      <th>5</th>\n",
              "      <td>0.026912</td>\n",
              "      <td>-1.056345</td>\n",
              "      <td>-1.483365</td>\n",
              "      <td>-1.428135</td>\n",
              "    </tr>\n",
              "    <tr>\n",
              "      <th>6</th>\n",
              "      <td>-2.420545</td>\n",
              "      <td>-0.689614</td>\n",
              "      <td>-0.119837</td>\n",
              "      <td>-0.369611</td>\n",
              "    </tr>\n",
              "    <tr>\n",
              "      <th>7</th>\n",
              "      <td>0.819543</td>\n",
              "      <td>0.483608</td>\n",
              "      <td>1.044243</td>\n",
              "      <td>0.217183</td>\n",
              "    </tr>\n",
              "    <tr>\n",
              "      <th>8</th>\n",
              "      <td>0.175519</td>\n",
              "      <td>-0.404256</td>\n",
              "      <td>-1.124639</td>\n",
              "      <td>0.000736</td>\n",
              "    </tr>\n",
              "  </tbody>\n",
              "</table>\n",
              "</div>"
            ],
            "text/plain": [
              "          A         B         C         D\n",
              "0 -1.025621  0.713288 -0.114284  0.432962\n",
              "1 -0.422670 -0.756348  1.200491 -0.784216\n",
              "2 -0.620525 -0.047208 -0.673712  1.030097\n",
              "3  0.175519 -0.404256 -1.124639  0.000736\n",
              "4  1.127287 -1.213218  1.195772 -0.588115\n",
              "5  0.026912 -1.056345 -1.483365 -1.428135\n",
              "6 -2.420545 -0.689614 -0.119837 -0.369611\n",
              "7  0.819543  0.483608  1.044243  0.217183\n",
              "8  0.175519 -0.404256 -1.124639  0.000736"
            ]
          },
          "metadata": {
            "tags": []
          },
          "execution_count": 128
        }
      ]
    },
    {
      "cell_type": "code",
      "metadata": {
        "id": "jsdQaMv2y8ez",
        "colab_type": "code",
        "colab": {}
      },
      "source": [
        "df = pd.DataFrame({'A' : ['foo', 'bar', 'foo', 'bar','foo', 'bar', 'foo', 'foo'],\n",
        "                   'B' : ['one', 'one', 'two', 'three',\n",
        "                             'two', 'two', 'one', 'three'],\n",
        "                   'C' : np.random.randn(8),\n",
        "                   'D' : np.random.randn(8)})"
      ],
      "execution_count": null,
      "outputs": []
    },
    {
      "cell_type": "code",
      "metadata": {
        "id": "YzqV17MDy8e0",
        "colab_type": "code",
        "colab": {},
        "outputId": "deb8142e-6eef-465a-d7c2-eebd22bd2c77"
      },
      "source": [
        "df.groupby('A').sum()"
      ],
      "execution_count": null,
      "outputs": [
        {
          "output_type": "execute_result",
          "data": {
            "text/html": [
              "<div>\n",
              "<style scoped>\n",
              "    .dataframe tbody tr th:only-of-type {\n",
              "        vertical-align: middle;\n",
              "    }\n",
              "\n",
              "    .dataframe tbody tr th {\n",
              "        vertical-align: top;\n",
              "    }\n",
              "\n",
              "    .dataframe thead th {\n",
              "        text-align: right;\n",
              "    }\n",
              "</style>\n",
              "<table border=\"1\" class=\"dataframe\">\n",
              "  <thead>\n",
              "    <tr style=\"text-align: right;\">\n",
              "      <th></th>\n",
              "      <th>C</th>\n",
              "      <th>D</th>\n",
              "    </tr>\n",
              "    <tr>\n",
              "      <th>A</th>\n",
              "      <th></th>\n",
              "      <th></th>\n",
              "    </tr>\n",
              "  </thead>\n",
              "  <tbody>\n",
              "    <tr>\n",
              "      <th>bar</th>\n",
              "      <td>0.948155</td>\n",
              "      <td>-0.913499</td>\n",
              "    </tr>\n",
              "    <tr>\n",
              "      <th>foo</th>\n",
              "      <td>1.352155</td>\n",
              "      <td>-0.290617</td>\n",
              "    </tr>\n",
              "  </tbody>\n",
              "</table>\n",
              "</div>"
            ],
            "text/plain": [
              "            C         D\n",
              "A                      \n",
              "bar  0.948155 -0.913499\n",
              "foo  1.352155 -0.290617"
            ]
          },
          "metadata": {
            "tags": []
          },
          "execution_count": 130
        }
      ]
    },
    {
      "cell_type": "code",
      "metadata": {
        "id": "5xfoXLjQy8e2",
        "colab_type": "code",
        "colab": {},
        "outputId": "391abde1-29d3-4f36-ebee-8d39304ab2b5"
      },
      "source": [
        "rng=pd.date_range('3/6/2012', periods=5, freq='D')\n",
        "ts=pd.Series(np.random.randn(len(rng)), index=rng)\n",
        "ts"
      ],
      "execution_count": null,
      "outputs": [
        {
          "output_type": "execute_result",
          "data": {
            "text/plain": [
              "2012-03-06    0.253681\n",
              "2012-03-07   -0.503713\n",
              "2012-03-08    0.126319\n",
              "2012-03-09   -0.932326\n",
              "2012-03-10   -0.667190\n",
              "Freq: D, dtype: float64"
            ]
          },
          "metadata": {
            "tags": []
          },
          "execution_count": 133
        }
      ]
    },
    {
      "cell_type": "code",
      "metadata": {
        "id": "MSi1WfO5y8e3",
        "colab_type": "code",
        "colab": {},
        "outputId": "dc77807b-8fed-4899-f828-3ad51ef3f184"
      },
      "source": [
        "ts_utc=ts.tz_localize('UTC')\n",
        "ts_utc"
      ],
      "execution_count": null,
      "outputs": [
        {
          "output_type": "execute_result",
          "data": {
            "text/plain": [
              "2012-03-06 00:00:00+00:00    0.253681\n",
              "2012-03-07 00:00:00+00:00   -0.503713\n",
              "2012-03-08 00:00:00+00:00    0.126319\n",
              "2012-03-09 00:00:00+00:00   -0.932326\n",
              "2012-03-10 00:00:00+00:00   -0.667190\n",
              "Freq: D, dtype: float64"
            ]
          },
          "metadata": {
            "tags": []
          },
          "execution_count": 135
        }
      ]
    },
    {
      "cell_type": "code",
      "metadata": {
        "id": "GhjiulpBy8e4",
        "colab_type": "code",
        "colab": {},
        "outputId": "2beddfa1-9a96-4194-cd8f-05f0416beb84"
      },
      "source": [
        "rng = pd.date_range('1/1/2012', periods=5, freq='M')\n",
        "ts = pd.Series(np.random.randn(len(rng)), index=rng) ; ts"
      ],
      "execution_count": null,
      "outputs": [
        {
          "output_type": "execute_result",
          "data": {
            "text/plain": [
              "2012-01-31   -0.901121\n",
              "2012-02-29    0.007797\n",
              "2012-03-31   -0.443726\n",
              "2012-04-30   -2.447966\n",
              "2012-05-31   -0.756875\n",
              "Freq: M, dtype: float64"
            ]
          },
          "metadata": {
            "tags": []
          },
          "execution_count": 136
        }
      ]
    },
    {
      "cell_type": "code",
      "metadata": {
        "id": "1klrf-K6y8e5",
        "colab_type": "code",
        "colab": {},
        "outputId": "9353d02b-c3d7-4d01-d5c0-d0e83def0521"
      },
      "source": [
        "ps=ts.to_period();ps"
      ],
      "execution_count": null,
      "outputs": [
        {
          "output_type": "execute_result",
          "data": {
            "text/plain": [
              "2012-01   -0.901121\n",
              "2012-02    0.007797\n",
              "2012-03   -0.443726\n",
              "2012-04   -2.447966\n",
              "2012-05   -0.756875\n",
              "Freq: M, dtype: float64"
            ]
          },
          "metadata": {
            "tags": []
          },
          "execution_count": 139
        }
      ]
    },
    {
      "cell_type": "code",
      "metadata": {
        "id": "sGXdo71-y8e8",
        "colab_type": "code",
        "colab": {},
        "outputId": "d09bf9b7-362c-446d-fc75-fad586dda30f"
      },
      "source": [
        "ps.to_timestamp()"
      ],
      "execution_count": null,
      "outputs": [
        {
          "output_type": "execute_result",
          "data": {
            "text/plain": [
              "2012-01-01   -0.901121\n",
              "2012-02-01    0.007797\n",
              "2012-03-01   -0.443726\n",
              "2012-04-01   -2.447966\n",
              "2012-05-01   -0.756875\n",
              "Freq: MS, dtype: float64"
            ]
          },
          "metadata": {
            "tags": []
          },
          "execution_count": 140
        }
      ]
    },
    {
      "cell_type": "code",
      "metadata": {
        "id": "gPrgqJgNy8e-",
        "colab_type": "code",
        "colab": {},
        "outputId": "a299c4d7-afa2-426f-9782-b67d7be43cd6"
      },
      "source": [
        "prng=pd.period_range('1990Q1','2000Q4', freq='Q-NOV')\n",
        "ts = pd.Series(np.random.randn(len(prng)), prng)\n",
        "ts.index = (prng.asfreq('M', 'e') + 1).asfreq('H', 's') + 9\n",
        "ts.head()"
      ],
      "execution_count": null,
      "outputs": [
        {
          "output_type": "execute_result",
          "data": {
            "text/plain": [
              "1990-03-01 09:00    0.257264\n",
              "1990-06-01 09:00   -1.091232\n",
              "1990-09-01 09:00    0.508134\n",
              "1990-12-01 09:00   -0.711206\n",
              "1991-03-01 09:00    0.575486\n",
              "Freq: H, dtype: float64"
            ]
          },
          "metadata": {
            "tags": []
          },
          "execution_count": 142
        }
      ]
    },
    {
      "cell_type": "code",
      "metadata": {
        "id": "IvLrmEa7y8e_",
        "colab_type": "code",
        "colab": {}
      },
      "source": [
        " df = pd.DataFrame({\"id\":[1,2,3,4,5,6], \"raw_grade\":['a', 'b', 'b', 'a', 'a', 'e']})"
      ],
      "execution_count": null,
      "outputs": []
    },
    {
      "cell_type": "code",
      "metadata": {
        "id": "tM5r1WYQy8fB",
        "colab_type": "code",
        "colab": {},
        "outputId": "d3e5311e-3b3a-4bfe-ab99-7f375d1865e9"
      },
      "source": [
        "df"
      ],
      "execution_count": null,
      "outputs": [
        {
          "output_type": "execute_result",
          "data": {
            "text/html": [
              "<div>\n",
              "<style scoped>\n",
              "    .dataframe tbody tr th:only-of-type {\n",
              "        vertical-align: middle;\n",
              "    }\n",
              "\n",
              "    .dataframe tbody tr th {\n",
              "        vertical-align: top;\n",
              "    }\n",
              "\n",
              "    .dataframe thead th {\n",
              "        text-align: right;\n",
              "    }\n",
              "</style>\n",
              "<table border=\"1\" class=\"dataframe\">\n",
              "  <thead>\n",
              "    <tr style=\"text-align: right;\">\n",
              "      <th></th>\n",
              "      <th>id</th>\n",
              "      <th>raw_grade</th>\n",
              "    </tr>\n",
              "  </thead>\n",
              "  <tbody>\n",
              "    <tr>\n",
              "      <th>0</th>\n",
              "      <td>1</td>\n",
              "      <td>a</td>\n",
              "    </tr>\n",
              "    <tr>\n",
              "      <th>1</th>\n",
              "      <td>2</td>\n",
              "      <td>b</td>\n",
              "    </tr>\n",
              "    <tr>\n",
              "      <th>2</th>\n",
              "      <td>3</td>\n",
              "      <td>b</td>\n",
              "    </tr>\n",
              "    <tr>\n",
              "      <th>3</th>\n",
              "      <td>4</td>\n",
              "      <td>a</td>\n",
              "    </tr>\n",
              "    <tr>\n",
              "      <th>4</th>\n",
              "      <td>5</td>\n",
              "      <td>a</td>\n",
              "    </tr>\n",
              "    <tr>\n",
              "      <th>5</th>\n",
              "      <td>6</td>\n",
              "      <td>e</td>\n",
              "    </tr>\n",
              "  </tbody>\n",
              "</table>\n",
              "</div>"
            ],
            "text/plain": [
              "   id raw_grade\n",
              "0   1         a\n",
              "1   2         b\n",
              "2   3         b\n",
              "3   4         a\n",
              "4   5         a\n",
              "5   6         e"
            ]
          },
          "metadata": {
            "tags": []
          },
          "execution_count": 144
        }
      ]
    },
    {
      "cell_type": "code",
      "metadata": {
        "id": "B0Vieg1Ey8fD",
        "colab_type": "code",
        "colab": {},
        "outputId": "cc9b5812-9bc7-4c95-876e-9eca2cad3e05"
      },
      "source": [
        "df[\"grade\"]=df[\"raw_grade\"].astype(\"category\");df[\"grade\"]"
      ],
      "execution_count": null,
      "outputs": [
        {
          "output_type": "execute_result",
          "data": {
            "text/plain": [
              "0    a\n",
              "1    b\n",
              "2    b\n",
              "3    a\n",
              "4    a\n",
              "5    e\n",
              "Name: grade, dtype: category\n",
              "Categories (3, object): [a, b, e]"
            ]
          },
          "metadata": {
            "tags": []
          },
          "execution_count": 145
        }
      ]
    },
    {
      "cell_type": "code",
      "metadata": {
        "id": "FQBtcTYTy8fE",
        "colab_type": "code",
        "colab": {},
        "outputId": "5e112221-0147-42b2-a92d-6361d44290e3"
      },
      "source": [
        "#범주에 이름 붙이기\n",
        "df[\"grade\"].cat.categories=[\"very good\",\"good\",\"very bad\"] ; df[\"grade\"]"
      ],
      "execution_count": null,
      "outputs": [
        {
          "output_type": "execute_result",
          "data": {
            "text/plain": [
              "0    very good\n",
              "1         good\n",
              "2         good\n",
              "3    very good\n",
              "4    very good\n",
              "5     very bad\n",
              "Name: grade, dtype: category\n",
              "Categories (3, object): [very good, good, very bad]"
            ]
          },
          "metadata": {
            "tags": []
          },
          "execution_count": 146
        }
      ]
    },
    {
      "cell_type": "code",
      "metadata": {
        "id": "lYjSCN4fy8fF",
        "colab_type": "code",
        "colab": {},
        "outputId": "07c8321c-8a0e-4f87-cc67-0a8d510e85d9"
      },
      "source": [
        "df.groupby(\"grade\").size()"
      ],
      "execution_count": null,
      "outputs": [
        {
          "output_type": "execute_result",
          "data": {
            "text/plain": [
              "grade\n",
              "very good    3\n",
              "good         2\n",
              "very bad     1\n",
              "dtype: int64"
            ]
          },
          "metadata": {
            "tags": []
          },
          "execution_count": 148
        }
      ]
    },
    {
      "cell_type": "code",
      "metadata": {
        "id": "5bt3oPDfy8fG",
        "colab_type": "code",
        "colab": {}
      },
      "source": [
        "### 범주 추가하기\n",
        "df[\"grade\"] = df[\"grade\"].cat.set_categories([\"very bad\", \"bad\", \"medium\", \"good\", \"very good\"])"
      ],
      "execution_count": null,
      "outputs": []
    },
    {
      "cell_type": "code",
      "metadata": {
        "id": "NR55Sg36y8fH",
        "colab_type": "code",
        "colab": {},
        "outputId": "1ed1d6bf-7a45-4046-e468-74ec286b51ea"
      },
      "source": [
        "ts = pd.Series(np.random.randn(1000), index=pd.date_range('1/1/2000', periods=1000))\n",
        "ts=ts.cumsum()\n",
        "ts.plot()\n"
      ],
      "execution_count": null,
      "outputs": [
        {
          "output_type": "execute_result",
          "data": {
            "text/plain": [
              "<matplotlib.axes._subplots.AxesSubplot at 0x2334a910cd0>"
            ]
          },
          "metadata": {
            "tags": []
          },
          "execution_count": 150
        },
        {
          "output_type": "display_data",
          "data": {
            "image/png": "[encoded data removed]",
            "text/plain": [
              "<Figure size 432x288 with 1 Axes>"
            ]
          },
          "metadata": {
            "tags": [],
            "needs_background": "light"
          }
        }
      ]
    },
    {
      "cell_type": "code",
      "metadata": {
        "id": "wwL3K1nEy8fJ",
        "colab_type": "code",
        "colab": {},
        "outputId": "16ae1e29-a247-40b7-cdbc-379d345d9ad8"
      },
      "source": [
        "ts = pd.Series(np.random.randn(1000), index=pd.date_range('1/1/2000', periods=1000))\n",
        "df = pd.DataFrame(np.random.randn(1000, 4), index=ts.index,columns=['A', 'B', 'C', 'D'])\n",
        "df = df.cumsum()\n",
        "plt.figure(); df.plot(); plt.legend(loc='best')"
      ],
      "execution_count": null,
      "outputs": [
        {
          "output_type": "execute_result",
          "data": {
            "text/plain": [
              "<matplotlib.legend.Legend at 0x2334a2486d0>"
            ]
          },
          "metadata": {
            "tags": []
          },
          "execution_count": 152
        },
        {
          "output_type": "display_data",
          "data": {
            "text/plain": [
              "<Figure size 432x288 with 0 Axes>"
            ]
          },
          "metadata": {
            "tags": []
          }
        },
        {
          "output_type": "display_data",
          "data": {
            "image/png": "[encoded data removed]",
            "text/plain": [
              "<Figure size 432x288 with 1 Axes>"
            ]
          },
          "metadata": {
            "tags": [],
            "needs_background": "light"
          }
        }
      ]
    },
    {
      "cell_type": "code",
      "metadata": {
        "id": "AZCE_pu3y8fK",
        "colab_type": "code",
        "colab": {},
        "outputId": "601afbe1-dbbd-4996-b576-0dbe9814519f"
      },
      "source": [
        "df"
      ],
      "execution_count": null,
      "outputs": [
        {
          "output_type": "execute_result",
          "data": {
            "text/html": [
              "<div>\n",
              "<style scoped>\n",
              "    .dataframe tbody tr th:only-of-type {\n",
              "        vertical-align: middle;\n",
              "    }\n",
              "\n",
              "    .dataframe tbody tr th {\n",
              "        vertical-align: top;\n",
              "    }\n",
              "\n",
              "    .dataframe thead th {\n",
              "        text-align: right;\n",
              "    }\n",
              "</style>\n",
              "<table border=\"1\" class=\"dataframe\">\n",
              "  <thead>\n",
              "    <tr style=\"text-align: right;\">\n",
              "      <th></th>\n",
              "      <th>A</th>\n",
              "      <th>B</th>\n",
              "      <th>C</th>\n",
              "      <th>D</th>\n",
              "    </tr>\n",
              "  </thead>\n",
              "  <tbody>\n",
              "    <tr>\n",
              "      <th>2000-01-01</th>\n",
              "      <td>0.391329</td>\n",
              "      <td>0.420669</td>\n",
              "      <td>0.834010</td>\n",
              "      <td>1.807788</td>\n",
              "    </tr>\n",
              "    <tr>\n",
              "      <th>2000-01-02</th>\n",
              "      <td>-0.090361</td>\n",
              "      <td>1.650677</td>\n",
              "      <td>1.533836</td>\n",
              "      <td>0.415887</td>\n",
              "    </tr>\n",
              "    <tr>\n",
              "      <th>2000-01-03</th>\n",
              "      <td>-2.699526</td>\n",
              "      <td>0.959632</td>\n",
              "      <td>1.368697</td>\n",
              "      <td>0.844887</td>\n",
              "    </tr>\n",
              "    <tr>\n",
              "      <th>2000-01-04</th>\n",
              "      <td>-3.079569</td>\n",
              "      <td>-1.409973</td>\n",
              "      <td>0.135734</td>\n",
              "      <td>3.268626</td>\n",
              "    </tr>\n",
              "    <tr>\n",
              "      <th>2000-01-05</th>\n",
              "      <td>-3.245239</td>\n",
              "      <td>-0.928902</td>\n",
              "      <td>-1.472490</td>\n",
              "      <td>4.346999</td>\n",
              "    </tr>\n",
              "    <tr>\n",
              "      <th>...</th>\n",
              "      <td>...</td>\n",
              "      <td>...</td>\n",
              "      <td>...</td>\n",
              "      <td>...</td>\n",
              "    </tr>\n",
              "    <tr>\n",
              "      <th>2002-09-22</th>\n",
              "      <td>80.306180</td>\n",
              "      <td>8.874837</td>\n",
              "      <td>7.425312</td>\n",
              "      <td>10.637751</td>\n",
              "    </tr>\n",
              "    <tr>\n",
              "      <th>2002-09-23</th>\n",
              "      <td>79.237690</td>\n",
              "      <td>8.789152</td>\n",
              "      <td>7.151330</td>\n",
              "      <td>9.213397</td>\n",
              "    </tr>\n",
              "    <tr>\n",
              "      <th>2002-09-24</th>\n",
              "      <td>79.454008</td>\n",
              "      <td>8.905690</td>\n",
              "      <td>7.780809</td>\n",
              "      <td>8.508380</td>\n",
              "    </tr>\n",
              "    <tr>\n",
              "      <th>2002-09-25</th>\n",
              "      <td>79.842150</td>\n",
              "      <td>9.272578</td>\n",
              "      <td>7.741115</td>\n",
              "      <td>10.008670</td>\n",
              "    </tr>\n",
              "    <tr>\n",
              "      <th>2002-09-26</th>\n",
              "      <td>80.851893</td>\n",
              "      <td>8.801442</td>\n",
              "      <td>7.608156</td>\n",
              "      <td>9.245959</td>\n",
              "    </tr>\n",
              "  </tbody>\n",
              "</table>\n",
              "<p>1000 rows × 4 columns</p>\n",
              "</div>"
            ],
            "text/plain": [
              "                    A         B         C          D\n",
              "2000-01-01   0.391329  0.420669  0.834010   1.807788\n",
              "2000-01-02  -0.090361  1.650677  1.533836   0.415887\n",
              "2000-01-03  -2.699526  0.959632  1.368697   0.844887\n",
              "2000-01-04  -3.079569 -1.409973  0.135734   3.268626\n",
              "2000-01-05  -3.245239 -0.928902 -1.472490   4.346999\n",
              "...               ...       ...       ...        ...\n",
              "2002-09-22  80.306180  8.874837  7.425312  10.637751\n",
              "2002-09-23  79.237690  8.789152  7.151330   9.213397\n",
              "2002-09-24  79.454008  8.905690  7.780809   8.508380\n",
              "2002-09-25  79.842150  9.272578  7.741115  10.008670\n",
              "2002-09-26  80.851893  8.801442  7.608156   9.245959\n",
              "\n",
              "[1000 rows x 4 columns]"
            ]
          },
          "metadata": {
            "tags": []
          },
          "execution_count": 153
        }
      ]
    },
    {
      "cell_type": "code",
      "metadata": {
        "id": "ooV1-FTDy8fM",
        "colab_type": "code",
        "colab": {}
      },
      "source": [
        "german=pd.read_csv(\"http://freakonometrics.free.fr/german_credit.csv\")"
      ],
      "execution_count": null,
      "outputs": []
    },
    {
      "cell_type": "code",
      "metadata": {
        "id": "onVzVpsAy8fO",
        "colab_type": "code",
        "colab": {},
        "outputId": "aa221c24-d892-427f-b2a8-f9e35beb35d8"
      },
      "source": [
        "german.head(3)"
      ],
      "execution_count": null,
      "outputs": [
        {
          "output_type": "execute_result",
          "data": {
            "text/html": [
              "<div>\n",
              "<style scoped>\n",
              "    .dataframe tbody tr th:only-of-type {\n",
              "        vertical-align: middle;\n",
              "    }\n",
              "\n",
              "    .dataframe tbody tr th {\n",
              "        vertical-align: top;\n",
              "    }\n",
              "\n",
              "    .dataframe thead th {\n",
              "        text-align: right;\n",
              "    }\n",
              "</style>\n",
              "<table border=\"1\" class=\"dataframe\">\n",
              "  <thead>\n",
              "    <tr style=\"text-align: right;\">\n",
              "      <th></th>\n",
              "      <th>Creditability</th>\n",
              "      <th>Account Balance</th>\n",
              "      <th>Duration of Credit (month)</th>\n",
              "      <th>Payment Status of Previous Credit</th>\n",
              "      <th>Purpose</th>\n",
              "      <th>Credit Amount</th>\n",
              "      <th>Value Savings/Stocks</th>\n",
              "      <th>Length of current employment</th>\n",
              "      <th>Instalment per cent</th>\n",
              "      <th>Sex &amp; Marital Status</th>\n",
              "      <th>...</th>\n",
              "      <th>Duration in Current address</th>\n",
              "      <th>Most valuable available asset</th>\n",
              "      <th>Age (years)</th>\n",
              "      <th>Concurrent Credits</th>\n",
              "      <th>Type of apartment</th>\n",
              "      <th>No of Credits at this Bank</th>\n",
              "      <th>Occupation</th>\n",
              "      <th>No of dependents</th>\n",
              "      <th>Telephone</th>\n",
              "      <th>Foreign Worker</th>\n",
              "    </tr>\n",
              "  </thead>\n",
              "  <tbody>\n",
              "    <tr>\n",
              "      <th>0</th>\n",
              "      <td>1</td>\n",
              "      <td>1</td>\n",
              "      <td>18</td>\n",
              "      <td>4</td>\n",
              "      <td>2</td>\n",
              "      <td>1049</td>\n",
              "      <td>1</td>\n",
              "      <td>2</td>\n",
              "      <td>4</td>\n",
              "      <td>2</td>\n",
              "      <td>...</td>\n",
              "      <td>4</td>\n",
              "      <td>2</td>\n",
              "      <td>21</td>\n",
              "      <td>3</td>\n",
              "      <td>1</td>\n",
              "      <td>1</td>\n",
              "      <td>3</td>\n",
              "      <td>1</td>\n",
              "      <td>1</td>\n",
              "      <td>1</td>\n",
              "    </tr>\n",
              "    <tr>\n",
              "      <th>1</th>\n",
              "      <td>1</td>\n",
              "      <td>1</td>\n",
              "      <td>9</td>\n",
              "      <td>4</td>\n",
              "      <td>0</td>\n",
              "      <td>2799</td>\n",
              "      <td>1</td>\n",
              "      <td>3</td>\n",
              "      <td>2</td>\n",
              "      <td>3</td>\n",
              "      <td>...</td>\n",
              "      <td>2</td>\n",
              "      <td>1</td>\n",
              "      <td>36</td>\n",
              "      <td>3</td>\n",
              "      <td>1</td>\n",
              "      <td>2</td>\n",
              "      <td>3</td>\n",
              "      <td>2</td>\n",
              "      <td>1</td>\n",
              "      <td>1</td>\n",
              "    </tr>\n",
              "    <tr>\n",
              "      <th>2</th>\n",
              "      <td>1</td>\n",
              "      <td>2</td>\n",
              "      <td>12</td>\n",
              "      <td>2</td>\n",
              "      <td>9</td>\n",
              "      <td>841</td>\n",
              "      <td>2</td>\n",
              "      <td>4</td>\n",
              "      <td>2</td>\n",
              "      <td>2</td>\n",
              "      <td>...</td>\n",
              "      <td>4</td>\n",
              "      <td>1</td>\n",
              "      <td>23</td>\n",
              "      <td>3</td>\n",
              "      <td>1</td>\n",
              "      <td>1</td>\n",
              "      <td>2</td>\n",
              "      <td>1</td>\n",
              "      <td>1</td>\n",
              "      <td>1</td>\n",
              "    </tr>\n",
              "  </tbody>\n",
              "</table>\n",
              "<p>3 rows × 21 columns</p>\n",
              "</div>"
            ],
            "text/plain": [
              "   Creditability  Account Balance  Duration of Credit (month)  \\\n",
              "0              1                1                          18   \n",
              "1              1                1                           9   \n",
              "2              1                2                          12   \n",
              "\n",
              "   Payment Status of Previous Credit  Purpose  Credit Amount  \\\n",
              "0                                  4        2           1049   \n",
              "1                                  4        0           2799   \n",
              "2                                  2        9            841   \n",
              "\n",
              "   Value Savings/Stocks  Length of current employment  Instalment per cent  \\\n",
              "0                     1                             2                    4   \n",
              "1                     1                             3                    2   \n",
              "2                     2                             4                    2   \n",
              "\n",
              "   Sex & Marital Status  ...  Duration in Current address  \\\n",
              "0                     2  ...                            4   \n",
              "1                     3  ...                            2   \n",
              "2                     2  ...                            4   \n",
              "\n",
              "   Most valuable available asset  Age (years)  Concurrent Credits  \\\n",
              "0                              2           21                   3   \n",
              "1                              1           36                   3   \n",
              "2                              1           23                   3   \n",
              "\n",
              "   Type of apartment  No of Credits at this Bank  Occupation  \\\n",
              "0                  1                           1           3   \n",
              "1                  1                           2           3   \n",
              "2                  1                           1           2   \n",
              "\n",
              "   No of dependents  Telephone  Foreign Worker  \n",
              "0                 1          1               1  \n",
              "1                 2          1               1  \n",
              "2                 1          1               1  \n",
              "\n",
              "[3 rows x 21 columns]"
            ]
          },
          "metadata": {
            "tags": []
          },
          "execution_count": 157
        }
      ]
    },
    {
      "cell_type": "code",
      "metadata": {
        "id": "mrmOv1iOy8fP",
        "colab_type": "code",
        "colab": {},
        "outputId": "cb983cd7-51ef-41be-af22-6b4d1ed3f5e7"
      },
      "source": [
        "german.tail()"
      ],
      "execution_count": null,
      "outputs": [
        {
          "output_type": "execute_result",
          "data": {
            "text/html": [
              "<div>\n",
              "<style scoped>\n",
              "    .dataframe tbody tr th:only-of-type {\n",
              "        vertical-align: middle;\n",
              "    }\n",
              "\n",
              "    .dataframe tbody tr th {\n",
              "        vertical-align: top;\n",
              "    }\n",
              "\n",
              "    .dataframe thead th {\n",
              "        text-align: right;\n",
              "    }\n",
              "</style>\n",
              "<table border=\"1\" class=\"dataframe\">\n",
              "  <thead>\n",
              "    <tr style=\"text-align: right;\">\n",
              "      <th></th>\n",
              "      <th>Creditability</th>\n",
              "      <th>Account Balance</th>\n",
              "      <th>Duration of Credit (month)</th>\n",
              "      <th>Payment Status of Previous Credit</th>\n",
              "      <th>Purpose</th>\n",
              "      <th>Credit Amount</th>\n",
              "      <th>Value Savings/Stocks</th>\n",
              "      <th>Length of current employment</th>\n",
              "      <th>Instalment per cent</th>\n",
              "      <th>Sex &amp; Marital Status</th>\n",
              "      <th>...</th>\n",
              "      <th>Duration in Current address</th>\n",
              "      <th>Most valuable available asset</th>\n",
              "      <th>Age (years)</th>\n",
              "      <th>Concurrent Credits</th>\n",
              "      <th>Type of apartment</th>\n",
              "      <th>No of Credits at this Bank</th>\n",
              "      <th>Occupation</th>\n",
              "      <th>No of dependents</th>\n",
              "      <th>Telephone</th>\n",
              "      <th>Foreign Worker</th>\n",
              "    </tr>\n",
              "  </thead>\n",
              "  <tbody>\n",
              "    <tr>\n",
              "      <th>995</th>\n",
              "      <td>0</td>\n",
              "      <td>1</td>\n",
              "      <td>24</td>\n",
              "      <td>2</td>\n",
              "      <td>3</td>\n",
              "      <td>1987</td>\n",
              "      <td>1</td>\n",
              "      <td>3</td>\n",
              "      <td>2</td>\n",
              "      <td>3</td>\n",
              "      <td>...</td>\n",
              "      <td>4</td>\n",
              "      <td>1</td>\n",
              "      <td>21</td>\n",
              "      <td>3</td>\n",
              "      <td>1</td>\n",
              "      <td>1</td>\n",
              "      <td>2</td>\n",
              "      <td>2</td>\n",
              "      <td>1</td>\n",
              "      <td>1</td>\n",
              "    </tr>\n",
              "    <tr>\n",
              "      <th>996</th>\n",
              "      <td>0</td>\n",
              "      <td>1</td>\n",
              "      <td>24</td>\n",
              "      <td>2</td>\n",
              "      <td>0</td>\n",
              "      <td>2303</td>\n",
              "      <td>1</td>\n",
              "      <td>5</td>\n",
              "      <td>4</td>\n",
              "      <td>3</td>\n",
              "      <td>...</td>\n",
              "      <td>1</td>\n",
              "      <td>1</td>\n",
              "      <td>45</td>\n",
              "      <td>3</td>\n",
              "      <td>2</td>\n",
              "      <td>1</td>\n",
              "      <td>3</td>\n",
              "      <td>1</td>\n",
              "      <td>1</td>\n",
              "      <td>1</td>\n",
              "    </tr>\n",
              "    <tr>\n",
              "      <th>997</th>\n",
              "      <td>0</td>\n",
              "      <td>4</td>\n",
              "      <td>21</td>\n",
              "      <td>4</td>\n",
              "      <td>0</td>\n",
              "      <td>12680</td>\n",
              "      <td>5</td>\n",
              "      <td>5</td>\n",
              "      <td>4</td>\n",
              "      <td>3</td>\n",
              "      <td>...</td>\n",
              "      <td>4</td>\n",
              "      <td>4</td>\n",
              "      <td>30</td>\n",
              "      <td>3</td>\n",
              "      <td>3</td>\n",
              "      <td>1</td>\n",
              "      <td>4</td>\n",
              "      <td>1</td>\n",
              "      <td>2</td>\n",
              "      <td>1</td>\n",
              "    </tr>\n",
              "    <tr>\n",
              "      <th>998</th>\n",
              "      <td>0</td>\n",
              "      <td>2</td>\n",
              "      <td>12</td>\n",
              "      <td>2</td>\n",
              "      <td>3</td>\n",
              "      <td>6468</td>\n",
              "      <td>5</td>\n",
              "      <td>1</td>\n",
              "      <td>2</td>\n",
              "      <td>3</td>\n",
              "      <td>...</td>\n",
              "      <td>1</td>\n",
              "      <td>4</td>\n",
              "      <td>52</td>\n",
              "      <td>3</td>\n",
              "      <td>2</td>\n",
              "      <td>1</td>\n",
              "      <td>4</td>\n",
              "      <td>1</td>\n",
              "      <td>2</td>\n",
              "      <td>1</td>\n",
              "    </tr>\n",
              "    <tr>\n",
              "      <th>999</th>\n",
              "      <td>0</td>\n",
              "      <td>1</td>\n",
              "      <td>30</td>\n",
              "      <td>2</td>\n",
              "      <td>2</td>\n",
              "      <td>6350</td>\n",
              "      <td>5</td>\n",
              "      <td>5</td>\n",
              "      <td>4</td>\n",
              "      <td>3</td>\n",
              "      <td>...</td>\n",
              "      <td>4</td>\n",
              "      <td>2</td>\n",
              "      <td>31</td>\n",
              "      <td>3</td>\n",
              "      <td>2</td>\n",
              "      <td>1</td>\n",
              "      <td>3</td>\n",
              "      <td>1</td>\n",
              "      <td>1</td>\n",
              "      <td>1</td>\n",
              "    </tr>\n",
              "  </tbody>\n",
              "</table>\n",
              "<p>5 rows × 21 columns</p>\n",
              "</div>"
            ],
            "text/plain": [
              "     Creditability  Account Balance  Duration of Credit (month)  \\\n",
              "995              0                1                          24   \n",
              "996              0                1                          24   \n",
              "997              0                4                          21   \n",
              "998              0                2                          12   \n",
              "999              0                1                          30   \n",
              "\n",
              "     Payment Status of Previous Credit  Purpose  Credit Amount  \\\n",
              "995                                  2        3           1987   \n",
              "996                                  2        0           2303   \n",
              "997                                  4        0          12680   \n",
              "998                                  2        3           6468   \n",
              "999                                  2        2           6350   \n",
              "\n",
              "     Value Savings/Stocks  Length of current employment  Instalment per cent  \\\n",
              "995                     1                             3                    2   \n",
              "996                     1                             5                    4   \n",
              "997                     5                             5                    4   \n",
              "998                     5                             1                    2   \n",
              "999                     5                             5                    4   \n",
              "\n",
              "     Sex & Marital Status  ...  Duration in Current address  \\\n",
              "995                     3  ...                            4   \n",
              "996                     3  ...                            1   \n",
              "997                     3  ...                            4   \n",
              "998                     3  ...                            1   \n",
              "999                     3  ...                            4   \n",
              "\n",
              "     Most valuable available asset  Age (years)  Concurrent Credits  \\\n",
              "995                              1           21                   3   \n",
              "996                              1           45                   3   \n",
              "997                              4           30                   3   \n",
              "998                              4           52                   3   \n",
              "999                              2           31                   3   \n",
              "\n",
              "     Type of apartment  No of Credits at this Bank  Occupation  \\\n",
              "995                  1                           1           2   \n",
              "996                  2                           1           3   \n",
              "997                  3                           1           4   \n",
              "998                  2                           1           4   \n",
              "999                  2                           1           3   \n",
              "\n",
              "     No of dependents  Telephone  Foreign Worker  \n",
              "995                 2          1               1  \n",
              "996                 1          1               1  \n",
              "997                 1          2               1  \n",
              "998                 1          2               1  \n",
              "999                 1          1               1  \n",
              "\n",
              "[5 rows x 21 columns]"
            ]
          },
          "metadata": {
            "tags": []
          },
          "execution_count": 160
        }
      ]
    },
    {
      "cell_type": "code",
      "metadata": {
        "id": "0QF1Z3vby8fQ",
        "colab_type": "code",
        "colab": {},
        "outputId": "dd924b19-6289-4719-d946-954d72edb598"
      },
      "source": [
        "german.index.values"
      ],
      "execution_count": null,
      "outputs": [
        {
          "output_type": "execute_result",
          "data": {
            "text/plain": [
              "array([  0,   1,   2,   3,   4,   5,   6,   7,   8,   9,  10,  11,  12,\n",
              "        13,  14,  15,  16,  17,  18,  19,  20,  21,  22,  23,  24,  25,\n",
              "        26,  27,  28,  29,  30,  31,  32,  33,  34,  35,  36,  37,  38,\n",
              "        39,  40,  41,  42,  43,  44,  45,  46,  47,  48,  49,  50,  51,\n",
              "        52,  53,  54,  55,  56,  57,  58,  59,  60,  61,  62,  63,  64,\n",
              "        65,  66,  67,  68,  69,  70,  71,  72,  73,  74,  75,  76,  77,\n",
              "        78,  79,  80,  81,  82,  83,  84,  85,  86,  87,  88,  89,  90,\n",
              "        91,  92,  93,  94,  95,  96,  97,  98,  99, 100, 101, 102, 103,\n",
              "       104, 105, 106, 107, 108, 109, 110, 111, 112, 113, 114, 115, 116,\n",
              "       117, 118, 119, 120, 121, 122, 123, 124, 125, 126, 127, 128, 129,\n",
              "       130, 131, 132, 133, 134, 135, 136, 137, 138, 139, 140, 141, 142,\n",
              "       143, 144, 145, 146, 147, 148, 149, 150, 151, 152, 153, 154, 155,\n",
              "       156, 157, 158, 159, 160, 161, 162, 163, 164, 165, 166, 167, 168,\n",
              "       169, 170, 171, 172, 173, 174, 175, 176, 177, 178, 179, 180, 181,\n",
              "       182, 183, 184, 185, 186, 187, 188, 189, 190, 191, 192, 193, 194,\n",
              "       195, 196, 197, 198, 199, 200, 201, 202, 203, 204, 205, 206, 207,\n",
              "       208, 209, 210, 211, 212, 213, 214, 215, 216, 217, 218, 219, 220,\n",
              "       221, 222, 223, 224, 225, 226, 227, 228, 229, 230, 231, 232, 233,\n",
              "       234, 235, 236, 237, 238, 239, 240, 241, 242, 243, 244, 245, 246,\n",
              "       247, 248, 249, 250, 251, 252, 253, 254, 255, 256, 257, 258, 259,\n",
              "       260, 261, 262, 263, 264, 265, 266, 267, 268, 269, 270, 271, 272,\n",
              "       273, 274, 275, 276, 277, 278, 279, 280, 281, 282, 283, 284, 285,\n",
              "       286, 287, 288, 289, 290, 291, 292, 293, 294, 295, 296, 297, 298,\n",
              "       299, 300, 301, 302, 303, 304, 305, 306, 307, 308, 309, 310, 311,\n",
              "       312, 313, 314, 315, 316, 317, 318, 319, 320, 321, 322, 323, 324,\n",
              "       325, 326, 327, 328, 329, 330, 331, 332, 333, 334, 335, 336, 337,\n",
              "       338, 339, 340, 341, 342, 343, 344, 345, 346, 347, 348, 349, 350,\n",
              "       351, 352, 353, 354, 355, 356, 357, 358, 359, 360, 361, 362, 363,\n",
              "       364, 365, 366, 367, 368, 369, 370, 371, 372, 373, 374, 375, 376,\n",
              "       377, 378, 379, 380, 381, 382, 383, 384, 385, 386, 387, 388, 389,\n",
              "       390, 391, 392, 393, 394, 395, 396, 397, 398, 399, 400, 401, 402,\n",
              "       403, 404, 405, 406, 407, 408, 409, 410, 411, 412, 413, 414, 415,\n",
              "       416, 417, 418, 419, 420, 421, 422, 423, 424, 425, 426, 427, 428,\n",
              "       429, 430, 431, 432, 433, 434, 435, 436, 437, 438, 439, 440, 441,\n",
              "       442, 443, 444, 445, 446, 447, 448, 449, 450, 451, 452, 453, 454,\n",
              "       455, 456, 457, 458, 459, 460, 461, 462, 463, 464, 465, 466, 467,\n",
              "       468, 469, 470, 471, 472, 473, 474, 475, 476, 477, 478, 479, 480,\n",
              "       481, 482, 483, 484, 485, 486, 487, 488, 489, 490, 491, 492, 493,\n",
              "       494, 495, 496, 497, 498, 499, 500, 501, 502, 503, 504, 505, 506,\n",
              "       507, 508, 509, 510, 511, 512, 513, 514, 515, 516, 517, 518, 519,\n",
              "       520, 521, 522, 523, 524, 525, 526, 527, 528, 529, 530, 531, 532,\n",
              "       533, 534, 535, 536, 537, 538, 539, 540, 541, 542, 543, 544, 545,\n",
              "       546, 547, 548, 549, 550, 551, 552, 553, 554, 555, 556, 557, 558,\n",
              "       559, 560, 561, 562, 563, 564, 565, 566, 567, 568, 569, 570, 571,\n",
              "       572, 573, 574, 575, 576, 577, 578, 579, 580, 581, 582, 583, 584,\n",
              "       585, 586, 587, 588, 589, 590, 591, 592, 593, 594, 595, 596, 597,\n",
              "       598, 599, 600, 601, 602, 603, 604, 605, 606, 607, 608, 609, 610,\n",
              "       611, 612, 613, 614, 615, 616, 617, 618, 619, 620, 621, 622, 623,\n",
              "       624, 625, 626, 627, 628, 629, 630, 631, 632, 633, 634, 635, 636,\n",
              "       637, 638, 639, 640, 641, 642, 643, 644, 645, 646, 647, 648, 649,\n",
              "       650, 651, 652, 653, 654, 655, 656, 657, 658, 659, 660, 661, 662,\n",
              "       663, 664, 665, 666, 667, 668, 669, 670, 671, 672, 673, 674, 675,\n",
              "       676, 677, 678, 679, 680, 681, 682, 683, 684, 685, 686, 687, 688,\n",
              "       689, 690, 691, 692, 693, 694, 695, 696, 697, 698, 699, 700, 701,\n",
              "       702, 703, 704, 705, 706, 707, 708, 709, 710, 711, 712, 713, 714,\n",
              "       715, 716, 717, 718, 719, 720, 721, 722, 723, 724, 725, 726, 727,\n",
              "       728, 729, 730, 731, 732, 733, 734, 735, 736, 737, 738, 739, 740,\n",
              "       741, 742, 743, 744, 745, 746, 747, 748, 749, 750, 751, 752, 753,\n",
              "       754, 755, 756, 757, 758, 759, 760, 761, 762, 763, 764, 765, 766,\n",
              "       767, 768, 769, 770, 771, 772, 773, 774, 775, 776, 777, 778, 779,\n",
              "       780, 781, 782, 783, 784, 785, 786, 787, 788, 789, 790, 791, 792,\n",
              "       793, 794, 795, 796, 797, 798, 799, 800, 801, 802, 803, 804, 805,\n",
              "       806, 807, 808, 809, 810, 811, 812, 813, 814, 815, 816, 817, 818,\n",
              "       819, 820, 821, 822, 823, 824, 825, 826, 827, 828, 829, 830, 831,\n",
              "       832, 833, 834, 835, 836, 837, 838, 839, 840, 841, 842, 843, 844,\n",
              "       845, 846, 847, 848, 849, 850, 851, 852, 853, 854, 855, 856, 857,\n",
              "       858, 859, 860, 861, 862, 863, 864, 865, 866, 867, 868, 869, 870,\n",
              "       871, 872, 873, 874, 875, 876, 877, 878, 879, 880, 881, 882, 883,\n",
              "       884, 885, 886, 887, 888, 889, 890, 891, 892, 893, 894, 895, 896,\n",
              "       897, 898, 899, 900, 901, 902, 903, 904, 905, 906, 907, 908, 909,\n",
              "       910, 911, 912, 913, 914, 915, 916, 917, 918, 919, 920, 921, 922,\n",
              "       923, 924, 925, 926, 927, 928, 929, 930, 931, 932, 933, 934, 935,\n",
              "       936, 937, 938, 939, 940, 941, 942, 943, 944, 945, 946, 947, 948,\n",
              "       949, 950, 951, 952, 953, 954, 955, 956, 957, 958, 959, 960, 961,\n",
              "       962, 963, 964, 965, 966, 967, 968, 969, 970, 971, 972, 973, 974,\n",
              "       975, 976, 977, 978, 979, 980, 981, 982, 983, 984, 985, 986, 987,\n",
              "       988, 989, 990, 991, 992, 993, 994, 995, 996, 997, 998, 999],\n",
              "      dtype=int64)"
            ]
          },
          "metadata": {
            "tags": []
          },
          "execution_count": 172
        }
      ]
    },
    {
      "cell_type": "code",
      "metadata": {
        "id": "h1qHIXLpy8fR",
        "colab_type": "code",
        "colab": {},
        "outputId": "c415013d-f31d-4d6d-f76d-49cf80ab755a"
      },
      "source": [
        "german.columns"
      ],
      "execution_count": null,
      "outputs": [
        {
          "output_type": "execute_result",
          "data": {
            "text/plain": [
              "Index(['Creditability', 'Account Balance', 'Duration of Credit (month)',\n",
              "       'Payment Status of Previous Credit', 'Purpose', 'Credit Amount',\n",
              "       'Value Savings/Stocks', 'Length of current employment',\n",
              "       'Instalment per cent', 'Sex & Marital Status', 'Guarantors',\n",
              "       'Duration in Current address', 'Most valuable available asset',\n",
              "       'Age (years)', 'Concurrent Credits', 'Type of apartment',\n",
              "       'No of Credits at this Bank', 'Occupation', 'No of dependents',\n",
              "       'Telephone', 'Foreign Worker'],\n",
              "      dtype='object')"
            ]
          },
          "metadata": {
            "tags": []
          },
          "execution_count": 166
        }
      ]
    },
    {
      "cell_type": "code",
      "metadata": {
        "id": "gjCSB0bFy8fU",
        "colab_type": "code",
        "colab": {},
        "outputId": "d4c3800a-fba5-4222-bcb1-79f7ed6993c0"
      },
      "source": [
        "german.describe()"
      ],
      "execution_count": null,
      "outputs": [
        {
          "output_type": "execute_result",
          "data": {
            "text/html": [
              "<div>\n",
              "<style scoped>\n",
              "    .dataframe tbody tr th:only-of-type {\n",
              "        vertical-align: middle;\n",
              "    }\n",
              "\n",
              "    .dataframe tbody tr th {\n",
              "        vertical-align: top;\n",
              "    }\n",
              "\n",
              "    .dataframe thead th {\n",
              "        text-align: right;\n",
              "    }\n",
              "</style>\n",
              "<table border=\"1\" class=\"dataframe\">\n",
              "  <thead>\n",
              "    <tr style=\"text-align: right;\">\n",
              "      <th></th>\n",
              "      <th>Creditability</th>\n",
              "      <th>Account Balance</th>\n",
              "      <th>Duration of Credit (month)</th>\n",
              "      <th>Payment Status of Previous Credit</th>\n",
              "      <th>Purpose</th>\n",
              "      <th>Credit Amount</th>\n",
              "      <th>Value Savings/Stocks</th>\n",
              "      <th>Length of current employment</th>\n",
              "      <th>Instalment per cent</th>\n",
              "      <th>Sex &amp; Marital Status</th>\n",
              "      <th>...</th>\n",
              "      <th>Duration in Current address</th>\n",
              "      <th>Most valuable available asset</th>\n",
              "      <th>Age (years)</th>\n",
              "      <th>Concurrent Credits</th>\n",
              "      <th>Type of apartment</th>\n",
              "      <th>No of Credits at this Bank</th>\n",
              "      <th>Occupation</th>\n",
              "      <th>No of dependents</th>\n",
              "      <th>Telephone</th>\n",
              "      <th>Foreign Worker</th>\n",
              "    </tr>\n",
              "  </thead>\n",
              "  <tbody>\n",
              "    <tr>\n",
              "      <th>count</th>\n",
              "      <td>1000.000000</td>\n",
              "      <td>1000.000000</td>\n",
              "      <td>1000.000000</td>\n",
              "      <td>1000.00000</td>\n",
              "      <td>1000.000000</td>\n",
              "      <td>1000.00000</td>\n",
              "      <td>1000.000000</td>\n",
              "      <td>1000.000000</td>\n",
              "      <td>1000.000000</td>\n",
              "      <td>1000.00000</td>\n",
              "      <td>...</td>\n",
              "      <td>1000.000000</td>\n",
              "      <td>1000.000000</td>\n",
              "      <td>1000.00000</td>\n",
              "      <td>1000.000000</td>\n",
              "      <td>1000.000000</td>\n",
              "      <td>1000.000000</td>\n",
              "      <td>1000.000000</td>\n",
              "      <td>1000.000000</td>\n",
              "      <td>1000.000000</td>\n",
              "      <td>1000.000000</td>\n",
              "    </tr>\n",
              "    <tr>\n",
              "      <th>mean</th>\n",
              "      <td>0.700000</td>\n",
              "      <td>2.577000</td>\n",
              "      <td>20.903000</td>\n",
              "      <td>2.54500</td>\n",
              "      <td>2.828000</td>\n",
              "      <td>3271.24800</td>\n",
              "      <td>2.105000</td>\n",
              "      <td>3.384000</td>\n",
              "      <td>2.973000</td>\n",
              "      <td>2.68200</td>\n",
              "      <td>...</td>\n",
              "      <td>2.845000</td>\n",
              "      <td>2.358000</td>\n",
              "      <td>35.54200</td>\n",
              "      <td>2.675000</td>\n",
              "      <td>1.928000</td>\n",
              "      <td>1.407000</td>\n",
              "      <td>2.904000</td>\n",
              "      <td>1.155000</td>\n",
              "      <td>1.404000</td>\n",
              "      <td>1.037000</td>\n",
              "    </tr>\n",
              "    <tr>\n",
              "      <th>std</th>\n",
              "      <td>0.458487</td>\n",
              "      <td>1.257638</td>\n",
              "      <td>12.058814</td>\n",
              "      <td>1.08312</td>\n",
              "      <td>2.744439</td>\n",
              "      <td>2822.75176</td>\n",
              "      <td>1.580023</td>\n",
              "      <td>1.208306</td>\n",
              "      <td>1.118715</td>\n",
              "      <td>0.70808</td>\n",
              "      <td>...</td>\n",
              "      <td>1.103718</td>\n",
              "      <td>1.050209</td>\n",
              "      <td>11.35267</td>\n",
              "      <td>0.705601</td>\n",
              "      <td>0.530186</td>\n",
              "      <td>0.577654</td>\n",
              "      <td>0.653614</td>\n",
              "      <td>0.362086</td>\n",
              "      <td>0.490943</td>\n",
              "      <td>0.188856</td>\n",
              "    </tr>\n",
              "    <tr>\n",
              "      <th>min</th>\n",
              "      <td>0.000000</td>\n",
              "      <td>1.000000</td>\n",
              "      <td>4.000000</td>\n",
              "      <td>0.00000</td>\n",
              "      <td>0.000000</td>\n",
              "      <td>250.00000</td>\n",
              "      <td>1.000000</td>\n",
              "      <td>1.000000</td>\n",
              "      <td>1.000000</td>\n",
              "      <td>1.00000</td>\n",
              "      <td>...</td>\n",
              "      <td>1.000000</td>\n",
              "      <td>1.000000</td>\n",
              "      <td>19.00000</td>\n",
              "      <td>1.000000</td>\n",
              "      <td>1.000000</td>\n",
              "      <td>1.000000</td>\n",
              "      <td>1.000000</td>\n",
              "      <td>1.000000</td>\n",
              "      <td>1.000000</td>\n",
              "      <td>1.000000</td>\n",
              "    </tr>\n",
              "    <tr>\n",
              "      <th>25%</th>\n",
              "      <td>0.000000</td>\n",
              "      <td>1.000000</td>\n",
              "      <td>12.000000</td>\n",
              "      <td>2.00000</td>\n",
              "      <td>1.000000</td>\n",
              "      <td>1365.50000</td>\n",
              "      <td>1.000000</td>\n",
              "      <td>3.000000</td>\n",
              "      <td>2.000000</td>\n",
              "      <td>2.00000</td>\n",
              "      <td>...</td>\n",
              "      <td>2.000000</td>\n",
              "      <td>1.000000</td>\n",
              "      <td>27.00000</td>\n",
              "      <td>3.000000</td>\n",
              "      <td>2.000000</td>\n",
              "      <td>1.000000</td>\n",
              "      <td>3.000000</td>\n",
              "      <td>1.000000</td>\n",
              "      <td>1.000000</td>\n",
              "      <td>1.000000</td>\n",
              "    </tr>\n",
              "    <tr>\n",
              "      <th>50%</th>\n",
              "      <td>1.000000</td>\n",
              "      <td>2.000000</td>\n",
              "      <td>18.000000</td>\n",
              "      <td>2.00000</td>\n",
              "      <td>2.000000</td>\n",
              "      <td>2319.50000</td>\n",
              "      <td>1.000000</td>\n",
              "      <td>3.000000</td>\n",
              "      <td>3.000000</td>\n",
              "      <td>3.00000</td>\n",
              "      <td>...</td>\n",
              "      <td>3.000000</td>\n",
              "      <td>2.000000</td>\n",
              "      <td>33.00000</td>\n",
              "      <td>3.000000</td>\n",
              "      <td>2.000000</td>\n",
              "      <td>1.000000</td>\n",
              "      <td>3.000000</td>\n",
              "      <td>1.000000</td>\n",
              "      <td>1.000000</td>\n",
              "      <td>1.000000</td>\n",
              "    </tr>\n",
              "    <tr>\n",
              "      <th>75%</th>\n",
              "      <td>1.000000</td>\n",
              "      <td>4.000000</td>\n",
              "      <td>24.000000</td>\n",
              "      <td>4.00000</td>\n",
              "      <td>3.000000</td>\n",
              "      <td>3972.25000</td>\n",
              "      <td>3.000000</td>\n",
              "      <td>5.000000</td>\n",
              "      <td>4.000000</td>\n",
              "      <td>3.00000</td>\n",
              "      <td>...</td>\n",
              "      <td>4.000000</td>\n",
              "      <td>3.000000</td>\n",
              "      <td>42.00000</td>\n",
              "      <td>3.000000</td>\n",
              "      <td>2.000000</td>\n",
              "      <td>2.000000</td>\n",
              "      <td>3.000000</td>\n",
              "      <td>1.000000</td>\n",
              "      <td>2.000000</td>\n",
              "      <td>1.000000</td>\n",
              "    </tr>\n",
              "    <tr>\n",
              "      <th>max</th>\n",
              "      <td>1.000000</td>\n",
              "      <td>4.000000</td>\n",
              "      <td>72.000000</td>\n",
              "      <td>4.00000</td>\n",
              "      <td>10.000000</td>\n",
              "      <td>18424.00000</td>\n",
              "      <td>5.000000</td>\n",
              "      <td>5.000000</td>\n",
              "      <td>4.000000</td>\n",
              "      <td>4.00000</td>\n",
              "      <td>...</td>\n",
              "      <td>4.000000</td>\n",
              "      <td>4.000000</td>\n",
              "      <td>75.00000</td>\n",
              "      <td>3.000000</td>\n",
              "      <td>3.000000</td>\n",
              "      <td>4.000000</td>\n",
              "      <td>4.000000</td>\n",
              "      <td>2.000000</td>\n",
              "      <td>2.000000</td>\n",
              "      <td>2.000000</td>\n",
              "    </tr>\n",
              "  </tbody>\n",
              "</table>\n",
              "<p>8 rows × 21 columns</p>\n",
              "</div>"
            ],
            "text/plain": [
              "       Creditability  Account Balance  Duration of Credit (month)  \\\n",
              "count    1000.000000      1000.000000                 1000.000000   \n",
              "mean        0.700000         2.577000                   20.903000   \n",
              "std         0.458487         1.257638                   12.058814   \n",
              "min         0.000000         1.000000                    4.000000   \n",
              "25%         0.000000         1.000000                   12.000000   \n",
              "50%         1.000000         2.000000                   18.000000   \n",
              "75%         1.000000         4.000000                   24.000000   \n",
              "max         1.000000         4.000000                   72.000000   \n",
              "\n",
              "       Payment Status of Previous Credit      Purpose  Credit Amount  \\\n",
              "count                         1000.00000  1000.000000     1000.00000   \n",
              "mean                             2.54500     2.828000     3271.24800   \n",
              "std                              1.08312     2.744439     2822.75176   \n",
              "min                              0.00000     0.000000      250.00000   \n",
              "25%                              2.00000     1.000000     1365.50000   \n",
              "50%                              2.00000     2.000000     2319.50000   \n",
              "75%                              4.00000     3.000000     3972.25000   \n",
              "max                              4.00000    10.000000    18424.00000   \n",
              "\n",
              "       Value Savings/Stocks  Length of current employment  \\\n",
              "count           1000.000000                   1000.000000   \n",
              "mean               2.105000                      3.384000   \n",
              "std                1.580023                      1.208306   \n",
              "min                1.000000                      1.000000   \n",
              "25%                1.000000                      3.000000   \n",
              "50%                1.000000                      3.000000   \n",
              "75%                3.000000                      5.000000   \n",
              "max                5.000000                      5.000000   \n",
              "\n",
              "       Instalment per cent  Sex & Marital Status  ...  \\\n",
              "count          1000.000000            1000.00000  ...   \n",
              "mean              2.973000               2.68200  ...   \n",
              "std               1.118715               0.70808  ...   \n",
              "min               1.000000               1.00000  ...   \n",
              "25%               2.000000               2.00000  ...   \n",
              "50%               3.000000               3.00000  ...   \n",
              "75%               4.000000               3.00000  ...   \n",
              "max               4.000000               4.00000  ...   \n",
              "\n",
              "       Duration in Current address  Most valuable available asset  \\\n",
              "count                  1000.000000                    1000.000000   \n",
              "mean                      2.845000                       2.358000   \n",
              "std                       1.103718                       1.050209   \n",
              "min                       1.000000                       1.000000   \n",
              "25%                       2.000000                       1.000000   \n",
              "50%                       3.000000                       2.000000   \n",
              "75%                       4.000000                       3.000000   \n",
              "max                       4.000000                       4.000000   \n",
              "\n",
              "       Age (years)  Concurrent Credits  Type of apartment  \\\n",
              "count   1000.00000         1000.000000        1000.000000   \n",
              "mean      35.54200            2.675000           1.928000   \n",
              "std       11.35267            0.705601           0.530186   \n",
              "min       19.00000            1.000000           1.000000   \n",
              "25%       27.00000            3.000000           2.000000   \n",
              "50%       33.00000            3.000000           2.000000   \n",
              "75%       42.00000            3.000000           2.000000   \n",
              "max       75.00000            3.000000           3.000000   \n",
              "\n",
              "       No of Credits at this Bank   Occupation  No of dependents    Telephone  \\\n",
              "count                 1000.000000  1000.000000       1000.000000  1000.000000   \n",
              "mean                     1.407000     2.904000          1.155000     1.404000   \n",
              "std                      0.577654     0.653614          0.362086     0.490943   \n",
              "min                      1.000000     1.000000          1.000000     1.000000   \n",
              "25%                      1.000000     3.000000          1.000000     1.000000   \n",
              "50%                      1.000000     3.000000          1.000000     1.000000   \n",
              "75%                      2.000000     3.000000          1.000000     2.000000   \n",
              "max                      4.000000     4.000000          2.000000     2.000000   \n",
              "\n",
              "       Foreign Worker  \n",
              "count     1000.000000  \n",
              "mean         1.037000  \n",
              "std          0.188856  \n",
              "min          1.000000  \n",
              "25%          1.000000  \n",
              "50%          1.000000  \n",
              "75%          1.000000  \n",
              "max          2.000000  \n",
              "\n",
              "[8 rows x 21 columns]"
            ]
          },
          "metadata": {
            "tags": []
          },
          "execution_count": 168
        }
      ]
    },
    {
      "cell_type": "code",
      "metadata": {
        "id": "bxNDdz0Oy8fV",
        "colab_type": "code",
        "colab": {},
        "outputId": "9e5e9b27-0f9a-4868-fecf-9ca6f92ce8ba"
      },
      "source": [
        "german.info"
      ],
      "execution_count": null,
      "outputs": [
        {
          "output_type": "execute_result",
          "data": {
            "text/plain": [
              "<bound method DataFrame.info of      Creditability  Account Balance  Duration of Credit (month)  \\\n",
              "0                1                1                          18   \n",
              "1                1                1                           9   \n",
              "2                1                2                          12   \n",
              "3                1                1                          12   \n",
              "4                1                1                          12   \n",
              "..             ...              ...                         ...   \n",
              "995              0                1                          24   \n",
              "996              0                1                          24   \n",
              "997              0                4                          21   \n",
              "998              0                2                          12   \n",
              "999              0                1                          30   \n",
              "\n",
              "     Payment Status of Previous Credit  Purpose  Credit Amount  \\\n",
              "0                                    4        2           1049   \n",
              "1                                    4        0           2799   \n",
              "2                                    2        9            841   \n",
              "3                                    4        0           2122   \n",
              "4                                    4        0           2171   \n",
              "..                                 ...      ...            ...   \n",
              "995                                  2        3           1987   \n",
              "996                                  2        0           2303   \n",
              "997                                  4        0          12680   \n",
              "998                                  2        3           6468   \n",
              "999                                  2        2           6350   \n",
              "\n",
              "     Value Savings/Stocks  Length of current employment  Instalment per cent  \\\n",
              "0                       1                             2                    4   \n",
              "1                       1                             3                    2   \n",
              "2                       2                             4                    2   \n",
              "3                       1                             3                    3   \n",
              "4                       1                             3                    4   \n",
              "..                    ...                           ...                  ...   \n",
              "995                     1                             3                    2   \n",
              "996                     1                             5                    4   \n",
              "997                     5                             5                    4   \n",
              "998                     5                             1                    2   \n",
              "999                     5                             5                    4   \n",
              "\n",
              "     Sex & Marital Status  ...  Duration in Current address  \\\n",
              "0                       2  ...                            4   \n",
              "1                       3  ...                            2   \n",
              "2                       2  ...                            4   \n",
              "3                       3  ...                            2   \n",
              "4                       3  ...                            4   \n",
              "..                    ...  ...                          ...   \n",
              "995                     3  ...                            4   \n",
              "996                     3  ...                            1   \n",
              "997                     3  ...                            4   \n",
              "998                     3  ...                            1   \n",
              "999                     3  ...                            4   \n",
              "\n",
              "     Most valuable available asset  Age (years)  Concurrent Credits  \\\n",
              "0                                2           21                   3   \n",
              "1                                1           36                   3   \n",
              "2                                1           23                   3   \n",
              "3                                1           39                   3   \n",
              "4                                2           38                   1   \n",
              "..                             ...          ...                 ...   \n",
              "995                              1           21                   3   \n",
              "996                              1           45                   3   \n",
              "997                              4           30                   3   \n",
              "998                              4           52                   3   \n",
              "999                              2           31                   3   \n",
              "\n",
              "     Type of apartment  No of Credits at this Bank  Occupation  \\\n",
              "0                    1                           1           3   \n",
              "1                    1                           2           3   \n",
              "2                    1                           1           2   \n",
              "3                    1                           2           2   \n",
              "4                    2                           2           2   \n",
              "..                 ...                         ...         ...   \n",
              "995                  1                           1           2   \n",
              "996                  2                           1           3   \n",
              "997                  3                           1           4   \n",
              "998                  2                           1           4   \n",
              "999                  2                           1           3   \n",
              "\n",
              "     No of dependents  Telephone  Foreign Worker  \n",
              "0                   1          1               1  \n",
              "1                   2          1               1  \n",
              "2                   1          1               1  \n",
              "3                   2          1               2  \n",
              "4                   1          1               2  \n",
              "..                ...        ...             ...  \n",
              "995                 2          1               1  \n",
              "996                 1          1               1  \n",
              "997                 1          2               1  \n",
              "998                 1          2               1  \n",
              "999                 1          1               1  \n",
              "\n",
              "[1000 rows x 21 columns]>"
            ]
          },
          "metadata": {
            "tags": []
          },
          "execution_count": 169
        }
      ]
    },
    {
      "cell_type": "code",
      "metadata": {
        "id": "iS6ntsAty8fW",
        "colab_type": "code",
        "colab": {},
        "outputId": "a8e7f58e-4ad6-46bc-b204-7f7ff2c4607f"
      },
      "source": [
        "german.shape"
      ],
      "execution_count": null,
      "outputs": [
        {
          "output_type": "execute_result",
          "data": {
            "text/plain": [
              "(1000, 21)"
            ]
          },
          "metadata": {
            "tags": []
          },
          "execution_count": 170
        }
      ]
    },
    {
      "cell_type": "code",
      "metadata": {
        "id": "eYdJxgBgy8fX",
        "colab_type": "code",
        "colab": {},
        "outputId": "ba7d2936-eb53-4358-897b-b295b560f37b"
      },
      "source": [
        "df2=german[['Creditability','Purpose','Occupation','Telephone']] ;df2"
      ],
      "execution_count": null,
      "outputs": [
        {
          "output_type": "execute_result",
          "data": {
            "text/html": [
              "<div>\n",
              "<style scoped>\n",
              "    .dataframe tbody tr th:only-of-type {\n",
              "        vertical-align: middle;\n",
              "    }\n",
              "\n",
              "    .dataframe tbody tr th {\n",
              "        vertical-align: top;\n",
              "    }\n",
              "\n",
              "    .dataframe thead th {\n",
              "        text-align: right;\n",
              "    }\n",
              "</style>\n",
              "<table border=\"1\" class=\"dataframe\">\n",
              "  <thead>\n",
              "    <tr style=\"text-align: right;\">\n",
              "      <th></th>\n",
              "      <th>Creditability</th>\n",
              "      <th>Purpose</th>\n",
              "      <th>Occupation</th>\n",
              "      <th>Telephone</th>\n",
              "    </tr>\n",
              "  </thead>\n",
              "  <tbody>\n",
              "    <tr>\n",
              "      <th>0</th>\n",
              "      <td>1</td>\n",
              "      <td>2</td>\n",
              "      <td>3</td>\n",
              "      <td>1</td>\n",
              "    </tr>\n",
              "    <tr>\n",
              "      <th>1</th>\n",
              "      <td>1</td>\n",
              "      <td>0</td>\n",
              "      <td>3</td>\n",
              "      <td>1</td>\n",
              "    </tr>\n",
              "    <tr>\n",
              "      <th>2</th>\n",
              "      <td>1</td>\n",
              "      <td>9</td>\n",
              "      <td>2</td>\n",
              "      <td>1</td>\n",
              "    </tr>\n",
              "    <tr>\n",
              "      <th>3</th>\n",
              "      <td>1</td>\n",
              "      <td>0</td>\n",
              "      <td>2</td>\n",
              "      <td>1</td>\n",
              "    </tr>\n",
              "    <tr>\n",
              "      <th>4</th>\n",
              "      <td>1</td>\n",
              "      <td>0</td>\n",
              "      <td>2</td>\n",
              "      <td>1</td>\n",
              "    </tr>\n",
              "    <tr>\n",
              "      <th>...</th>\n",
              "      <td>...</td>\n",
              "      <td>...</td>\n",
              "      <td>...</td>\n",
              "      <td>...</td>\n",
              "    </tr>\n",
              "    <tr>\n",
              "      <th>995</th>\n",
              "      <td>0</td>\n",
              "      <td>3</td>\n",
              "      <td>2</td>\n",
              "      <td>1</td>\n",
              "    </tr>\n",
              "    <tr>\n",
              "      <th>996</th>\n",
              "      <td>0</td>\n",
              "      <td>0</td>\n",
              "      <td>3</td>\n",
              "      <td>1</td>\n",
              "    </tr>\n",
              "    <tr>\n",
              "      <th>997</th>\n",
              "      <td>0</td>\n",
              "      <td>0</td>\n",
              "      <td>4</td>\n",
              "      <td>2</td>\n",
              "    </tr>\n",
              "    <tr>\n",
              "      <th>998</th>\n",
              "      <td>0</td>\n",
              "      <td>3</td>\n",
              "      <td>4</td>\n",
              "      <td>2</td>\n",
              "    </tr>\n",
              "    <tr>\n",
              "      <th>999</th>\n",
              "      <td>0</td>\n",
              "      <td>2</td>\n",
              "      <td>3</td>\n",
              "      <td>1</td>\n",
              "    </tr>\n",
              "  </tbody>\n",
              "</table>\n",
              "<p>1000 rows × 4 columns</p>\n",
              "</div>"
            ],
            "text/plain": [
              "     Creditability  Purpose  Occupation  Telephone\n",
              "0                1        2           3          1\n",
              "1                1        0           3          1\n",
              "2                1        9           2          1\n",
              "3                1        0           2          1\n",
              "4                1        0           2          1\n",
              "..             ...      ...         ...        ...\n",
              "995              0        3           2          1\n",
              "996              0        0           3          1\n",
              "997              0        0           4          2\n",
              "998              0        3           4          2\n",
              "999              0        2           3          1\n",
              "\n",
              "[1000 rows x 4 columns]"
            ]
          },
          "metadata": {
            "tags": []
          },
          "execution_count": 171
        }
      ]
    },
    {
      "cell_type": "code",
      "metadata": {
        "id": "NppIFM5Ny8fY",
        "colab_type": "code",
        "colab": {},
        "outputId": "36cb1caa-6e48-4217-d0e0-45f23f373e46"
      },
      "source": [
        "german.isnull().sum()"
      ],
      "execution_count": null,
      "outputs": [
        {
          "output_type": "execute_result",
          "data": {
            "text/plain": [
              "Creditability                        0\n",
              "Account Balance                      0\n",
              "Duration of Credit (month)           0\n",
              "Payment Status of Previous Credit    0\n",
              "Purpose                              0\n",
              "Credit Amount                        0\n",
              "Value Savings/Stocks                 0\n",
              "Length of current employment         0\n",
              "Instalment per cent                  0\n",
              "Sex & Marital Status                 0\n",
              "Guarantors                           0\n",
              "Duration in Current address          0\n",
              "Most valuable available asset        0\n",
              "Age (years)                          0\n",
              "Concurrent Credits                   0\n",
              "Type of apartment                    0\n",
              "No of Credits at this Bank           0\n",
              "Occupation                           0\n",
              "No of dependents                     0\n",
              "Telephone                            0\n",
              "Foreign Worker                       0\n",
              "dtype: int64"
            ]
          },
          "metadata": {
            "tags": []
          },
          "execution_count": 173
        }
      ]
    },
    {
      "cell_type": "markdown",
      "metadata": {
        "id": "JYr51Kkny8fZ",
        "colab_type": "text"
      },
      "source": [
        "### df.to_excel('foo.xlsx',sheet_name='Sheet1')"
      ]
    },
    {
      "cell_type": "code",
      "metadata": {
        "id": "3OM1SL0Vy8fZ",
        "colab_type": "code",
        "colab": {},
        "outputId": "8af296f2-2014-4c09-eddd-769afb266eab"
      },
      "source": [
        "df=pd.DataFrame({'AAA':[4,5,6,7],'BBB':[10,20,30,40],'CCC':[100,50,-30,-50]}) ;df"
      ],
      "execution_count": null,
      "outputs": [
        {
          "output_type": "execute_result",
          "data": {
            "text/html": [
              "<div>\n",
              "<style scoped>\n",
              "    .dataframe tbody tr th:only-of-type {\n",
              "        vertical-align: middle;\n",
              "    }\n",
              "\n",
              "    .dataframe tbody tr th {\n",
              "        vertical-align: top;\n",
              "    }\n",
              "\n",
              "    .dataframe thead th {\n",
              "        text-align: right;\n",
              "    }\n",
              "</style>\n",
              "<table border=\"1\" class=\"dataframe\">\n",
              "  <thead>\n",
              "    <tr style=\"text-align: right;\">\n",
              "      <th></th>\n",
              "      <th>AAA</th>\n",
              "      <th>BBB</th>\n",
              "      <th>CCC</th>\n",
              "    </tr>\n",
              "  </thead>\n",
              "  <tbody>\n",
              "    <tr>\n",
              "      <th>0</th>\n",
              "      <td>4</td>\n",
              "      <td>10</td>\n",
              "      <td>100</td>\n",
              "    </tr>\n",
              "    <tr>\n",
              "      <th>1</th>\n",
              "      <td>5</td>\n",
              "      <td>20</td>\n",
              "      <td>50</td>\n",
              "    </tr>\n",
              "    <tr>\n",
              "      <th>2</th>\n",
              "      <td>6</td>\n",
              "      <td>30</td>\n",
              "      <td>-30</td>\n",
              "    </tr>\n",
              "    <tr>\n",
              "      <th>3</th>\n",
              "      <td>7</td>\n",
              "      <td>40</td>\n",
              "      <td>-50</td>\n",
              "    </tr>\n",
              "  </tbody>\n",
              "</table>\n",
              "</div>"
            ],
            "text/plain": [
              "   AAA  BBB  CCC\n",
              "0    4   10  100\n",
              "1    5   20   50\n",
              "2    6   30  -30\n",
              "3    7   40  -50"
            ]
          },
          "metadata": {
            "tags": []
          },
          "execution_count": 176
        }
      ]
    },
    {
      "cell_type": "code",
      "metadata": {
        "id": "2EXZRJiNy8fa",
        "colab_type": "code",
        "colab": {},
        "outputId": "1d42dfe2-0ba6-4adf-f2ff-6dec85e292f8"
      },
      "source": [
        "df.at[df.AAA>=5,'BBB']=-1 ;df"
      ],
      "execution_count": null,
      "outputs": [
        {
          "output_type": "execute_result",
          "data": {
            "text/html": [
              "<div>\n",
              "<style scoped>\n",
              "    .dataframe tbody tr th:only-of-type {\n",
              "        vertical-align: middle;\n",
              "    }\n",
              "\n",
              "    .dataframe tbody tr th {\n",
              "        vertical-align: top;\n",
              "    }\n",
              "\n",
              "    .dataframe thead th {\n",
              "        text-align: right;\n",
              "    }\n",
              "</style>\n",
              "<table border=\"1\" class=\"dataframe\">\n",
              "  <thead>\n",
              "    <tr style=\"text-align: right;\">\n",
              "      <th></th>\n",
              "      <th>AAA</th>\n",
              "      <th>BBB</th>\n",
              "      <th>CCC</th>\n",
              "    </tr>\n",
              "  </thead>\n",
              "  <tbody>\n",
              "    <tr>\n",
              "      <th>0</th>\n",
              "      <td>4</td>\n",
              "      <td>10</td>\n",
              "      <td>100</td>\n",
              "    </tr>\n",
              "    <tr>\n",
              "      <th>1</th>\n",
              "      <td>5</td>\n",
              "      <td>-1</td>\n",
              "      <td>50</td>\n",
              "    </tr>\n",
              "    <tr>\n",
              "      <th>2</th>\n",
              "      <td>6</td>\n",
              "      <td>-1</td>\n",
              "      <td>-30</td>\n",
              "    </tr>\n",
              "    <tr>\n",
              "      <th>3</th>\n",
              "      <td>7</td>\n",
              "      <td>-1</td>\n",
              "      <td>-50</td>\n",
              "    </tr>\n",
              "  </tbody>\n",
              "</table>\n",
              "</div>"
            ],
            "text/plain": [
              "   AAA  BBB  CCC\n",
              "0    4   10  100\n",
              "1    5   -1   50\n",
              "2    6   -1  -30\n",
              "3    7   -1  -50"
            ]
          },
          "metadata": {
            "tags": []
          },
          "execution_count": 181
        }
      ]
    },
    {
      "cell_type": "code",
      "metadata": {
        "id": "OiqgMIqDy8fb",
        "colab_type": "code",
        "colab": {},
        "outputId": "4f167c36-0869-44ff-e083-1de303168e78"
      },
      "source": [
        "df.at[df.AAA>=5,['BBB','CCC']]=555; df"
      ],
      "execution_count": null,
      "outputs": [
        {
          "output_type": "execute_result",
          "data": {
            "text/html": [
              "<div>\n",
              "<style scoped>\n",
              "    .dataframe tbody tr th:only-of-type {\n",
              "        vertical-align: middle;\n",
              "    }\n",
              "\n",
              "    .dataframe tbody tr th {\n",
              "        vertical-align: top;\n",
              "    }\n",
              "\n",
              "    .dataframe thead th {\n",
              "        text-align: right;\n",
              "    }\n",
              "</style>\n",
              "<table border=\"1\" class=\"dataframe\">\n",
              "  <thead>\n",
              "    <tr style=\"text-align: right;\">\n",
              "      <th></th>\n",
              "      <th>AAA</th>\n",
              "      <th>BBB</th>\n",
              "      <th>CCC</th>\n",
              "    </tr>\n",
              "  </thead>\n",
              "  <tbody>\n",
              "    <tr>\n",
              "      <th>0</th>\n",
              "      <td>4</td>\n",
              "      <td>10</td>\n",
              "      <td>100</td>\n",
              "    </tr>\n",
              "    <tr>\n",
              "      <th>1</th>\n",
              "      <td>5</td>\n",
              "      <td>555</td>\n",
              "      <td>555</td>\n",
              "    </tr>\n",
              "    <tr>\n",
              "      <th>2</th>\n",
              "      <td>6</td>\n",
              "      <td>555</td>\n",
              "      <td>555</td>\n",
              "    </tr>\n",
              "    <tr>\n",
              "      <th>3</th>\n",
              "      <td>7</td>\n",
              "      <td>555</td>\n",
              "      <td>555</td>\n",
              "    </tr>\n",
              "  </tbody>\n",
              "</table>\n",
              "</div>"
            ],
            "text/plain": [
              "   AAA  BBB  CCC\n",
              "0    4   10  100\n",
              "1    5  555  555\n",
              "2    6  555  555\n",
              "3    7  555  555"
            ]
          },
          "metadata": {
            "tags": []
          },
          "execution_count": 182
        }
      ]
    },
    {
      "cell_type": "code",
      "metadata": {
        "id": "YIixb1XVy8fc",
        "colab_type": "code",
        "colab": {},
        "outputId": "482de54d-d53e-453c-f68d-625adfc4091f"
      },
      "source": [
        "df.at[df.AAA<5,['BBB','CCC']]=2000; df"
      ],
      "execution_count": null,
      "outputs": [
        {
          "output_type": "execute_result",
          "data": {
            "text/html": [
              "<div>\n",
              "<style scoped>\n",
              "    .dataframe tbody tr th:only-of-type {\n",
              "        vertical-align: middle;\n",
              "    }\n",
              "\n",
              "    .dataframe tbody tr th {\n",
              "        vertical-align: top;\n",
              "    }\n",
              "\n",
              "    .dataframe thead th {\n",
              "        text-align: right;\n",
              "    }\n",
              "</style>\n",
              "<table border=\"1\" class=\"dataframe\">\n",
              "  <thead>\n",
              "    <tr style=\"text-align: right;\">\n",
              "      <th></th>\n",
              "      <th>AAA</th>\n",
              "      <th>BBB</th>\n",
              "      <th>CCC</th>\n",
              "    </tr>\n",
              "  </thead>\n",
              "  <tbody>\n",
              "    <tr>\n",
              "      <th>0</th>\n",
              "      <td>4</td>\n",
              "      <td>2000</td>\n",
              "      <td>2000</td>\n",
              "    </tr>\n",
              "    <tr>\n",
              "      <th>1</th>\n",
              "      <td>5</td>\n",
              "      <td>555</td>\n",
              "      <td>555</td>\n",
              "    </tr>\n",
              "    <tr>\n",
              "      <th>2</th>\n",
              "      <td>6</td>\n",
              "      <td>555</td>\n",
              "      <td>555</td>\n",
              "    </tr>\n",
              "    <tr>\n",
              "      <th>3</th>\n",
              "      <td>7</td>\n",
              "      <td>555</td>\n",
              "      <td>555</td>\n",
              "    </tr>\n",
              "  </tbody>\n",
              "</table>\n",
              "</div>"
            ],
            "text/plain": [
              "   AAA   BBB   CCC\n",
              "0    4  2000  2000\n",
              "1    5   555   555\n",
              "2    6   555   555\n",
              "3    7   555   555"
            ]
          },
          "metadata": {
            "tags": []
          },
          "execution_count": 183
        }
      ]
    },
    {
      "cell_type": "code",
      "metadata": {
        "id": "Bik-OsNOy8fd",
        "colab_type": "code",
        "colab": {},
        "outputId": "e027b32d-1066-413d-bd9a-da79bcf6da7b"
      },
      "source": [
        "df_mask=pd.DataFrame({'AAA':[True]*4,'BBB':[False]*4,'CCC':[True,False]*2})\n",
        "df.where(df_mask,-1000)"
      ],
      "execution_count": null,
      "outputs": [
        {
          "output_type": "execute_result",
          "data": {
            "text/html": [
              "<div>\n",
              "<style scoped>\n",
              "    .dataframe tbody tr th:only-of-type {\n",
              "        vertical-align: middle;\n",
              "    }\n",
              "\n",
              "    .dataframe tbody tr th {\n",
              "        vertical-align: top;\n",
              "    }\n",
              "\n",
              "    .dataframe thead th {\n",
              "        text-align: right;\n",
              "    }\n",
              "</style>\n",
              "<table border=\"1\" class=\"dataframe\">\n",
              "  <thead>\n",
              "    <tr style=\"text-align: right;\">\n",
              "      <th></th>\n",
              "      <th>AAA</th>\n",
              "      <th>BBB</th>\n",
              "      <th>CCC</th>\n",
              "    </tr>\n",
              "  </thead>\n",
              "  <tbody>\n",
              "    <tr>\n",
              "      <th>0</th>\n",
              "      <td>4</td>\n",
              "      <td>-1000</td>\n",
              "      <td>2000</td>\n",
              "    </tr>\n",
              "    <tr>\n",
              "      <th>1</th>\n",
              "      <td>5</td>\n",
              "      <td>-1000</td>\n",
              "      <td>-1000</td>\n",
              "    </tr>\n",
              "    <tr>\n",
              "      <th>2</th>\n",
              "      <td>6</td>\n",
              "      <td>-1000</td>\n",
              "      <td>555</td>\n",
              "    </tr>\n",
              "    <tr>\n",
              "      <th>3</th>\n",
              "      <td>7</td>\n",
              "      <td>-1000</td>\n",
              "      <td>-1000</td>\n",
              "    </tr>\n",
              "  </tbody>\n",
              "</table>\n",
              "</div>"
            ],
            "text/plain": [
              "   AAA   BBB   CCC\n",
              "0    4 -1000  2000\n",
              "1    5 -1000 -1000\n",
              "2    6 -1000   555\n",
              "3    7 -1000 -1000"
            ]
          },
          "metadata": {
            "tags": []
          },
          "execution_count": 184
        }
      ]
    },
    {
      "cell_type": "code",
      "metadata": {
        "id": "CY5hmz84y8ff",
        "colab_type": "code",
        "colab": {}
      },
      "source": [
        "import pandas as pd\n",
        "import numpy as np\n",
        "import matplotlib.pyplot as plt\n"
      ],
      "execution_count": null,
      "outputs": []
    },
    {
      "cell_type": "code",
      "metadata": {
        "id": "xZ2NzrzYy8fg",
        "colab_type": "code",
        "colab": {},
        "outputId": "396e7a7f-380e-4b89-edd3-7057d3b8cdb0"
      },
      "source": [
        "df=pd.DataFrame({'AAA':[4,5,6,7],'BBB':[10,20,30,40],'CCC':[100,50,-30,-50]}) ; df"
      ],
      "execution_count": null,
      "outputs": [
        {
          "output_type": "execute_result",
          "data": {
            "text/html": [
              "<div>\n",
              "<style scoped>\n",
              "    .dataframe tbody tr th:only-of-type {\n",
              "        vertical-align: middle;\n",
              "    }\n",
              "\n",
              "    .dataframe tbody tr th {\n",
              "        vertical-align: top;\n",
              "    }\n",
              "\n",
              "    .dataframe thead th {\n",
              "        text-align: right;\n",
              "    }\n",
              "</style>\n",
              "<table border=\"1\" class=\"dataframe\">\n",
              "  <thead>\n",
              "    <tr style=\"text-align: right;\">\n",
              "      <th></th>\n",
              "      <th>AAA</th>\n",
              "      <th>BBB</th>\n",
              "      <th>CCC</th>\n",
              "    </tr>\n",
              "  </thead>\n",
              "  <tbody>\n",
              "    <tr>\n",
              "      <th>0</th>\n",
              "      <td>4</td>\n",
              "      <td>10</td>\n",
              "      <td>100</td>\n",
              "    </tr>\n",
              "    <tr>\n",
              "      <th>1</th>\n",
              "      <td>5</td>\n",
              "      <td>20</td>\n",
              "      <td>50</td>\n",
              "    </tr>\n",
              "    <tr>\n",
              "      <th>2</th>\n",
              "      <td>6</td>\n",
              "      <td>30</td>\n",
              "      <td>-30</td>\n",
              "    </tr>\n",
              "    <tr>\n",
              "      <th>3</th>\n",
              "      <td>7</td>\n",
              "      <td>40</td>\n",
              "      <td>-50</td>\n",
              "    </tr>\n",
              "  </tbody>\n",
              "</table>\n",
              "</div>"
            ],
            "text/plain": [
              "   AAA  BBB  CCC\n",
              "0    4   10  100\n",
              "1    5   20   50\n",
              "2    6   30  -30\n",
              "3    7   40  -50"
            ]
          },
          "metadata": {
            "tags": []
          },
          "execution_count": 6
        }
      ]
    },
    {
      "cell_type": "code",
      "metadata": {
        "id": "xf9BW4exy8fh",
        "colab_type": "code",
        "colab": {},
        "outputId": "0c039891-b178-4857-f7c6-196f88e05860"
      },
      "source": [
        "df['logic']=np.where(df['AAA']>5,'high','low') ; df"
      ],
      "execution_count": null,
      "outputs": [
        {
          "output_type": "execute_result",
          "data": {
            "text/html": [
              "<div>\n",
              "<style scoped>\n",
              "    .dataframe tbody tr th:only-of-type {\n",
              "        vertical-align: middle;\n",
              "    }\n",
              "\n",
              "    .dataframe tbody tr th {\n",
              "        vertical-align: top;\n",
              "    }\n",
              "\n",
              "    .dataframe thead th {\n",
              "        text-align: right;\n",
              "    }\n",
              "</style>\n",
              "<table border=\"1\" class=\"dataframe\">\n",
              "  <thead>\n",
              "    <tr style=\"text-align: right;\">\n",
              "      <th></th>\n",
              "      <th>AAA</th>\n",
              "      <th>BBB</th>\n",
              "      <th>CCC</th>\n",
              "      <th>logic</th>\n",
              "    </tr>\n",
              "  </thead>\n",
              "  <tbody>\n",
              "    <tr>\n",
              "      <th>0</th>\n",
              "      <td>4</td>\n",
              "      <td>10</td>\n",
              "      <td>100</td>\n",
              "      <td>low</td>\n",
              "    </tr>\n",
              "    <tr>\n",
              "      <th>1</th>\n",
              "      <td>5</td>\n",
              "      <td>20</td>\n",
              "      <td>50</td>\n",
              "      <td>low</td>\n",
              "    </tr>\n",
              "    <tr>\n",
              "      <th>2</th>\n",
              "      <td>6</td>\n",
              "      <td>30</td>\n",
              "      <td>-30</td>\n",
              "      <td>high</td>\n",
              "    </tr>\n",
              "    <tr>\n",
              "      <th>3</th>\n",
              "      <td>7</td>\n",
              "      <td>40</td>\n",
              "      <td>-50</td>\n",
              "      <td>high</td>\n",
              "    </tr>\n",
              "  </tbody>\n",
              "</table>\n",
              "</div>"
            ],
            "text/plain": [
              "   AAA  BBB  CCC logic\n",
              "0    4   10  100   low\n",
              "1    5   20   50   low\n",
              "2    6   30  -30  high\n",
              "3    7   40  -50  high"
            ]
          },
          "metadata": {
            "tags": []
          },
          "execution_count": 7
        }
      ]
    },
    {
      "cell_type": "code",
      "metadata": {
        "id": "Pwhqd6K6y8fi",
        "colab_type": "code",
        "colab": {},
        "outputId": "17fbdfef-e330-435c-a76a-a8bb205619cc"
      },
      "source": [
        "df=pd.DataFrame({'AAA':[4,5,6,7],'BBB':[10,20,30,40],'CCC':[100,50,-30,-50]}) \n",
        "df[df.AAA<=5]"
      ],
      "execution_count": null,
      "outputs": [
        {
          "output_type": "execute_result",
          "data": {
            "text/html": [
              "<div>\n",
              "<style scoped>\n",
              "    .dataframe tbody tr th:only-of-type {\n",
              "        vertical-align: middle;\n",
              "    }\n",
              "\n",
              "    .dataframe tbody tr th {\n",
              "        vertical-align: top;\n",
              "    }\n",
              "\n",
              "    .dataframe thead th {\n",
              "        text-align: right;\n",
              "    }\n",
              "</style>\n",
              "<table border=\"1\" class=\"dataframe\">\n",
              "  <thead>\n",
              "    <tr style=\"text-align: right;\">\n",
              "      <th></th>\n",
              "      <th>AAA</th>\n",
              "      <th>BBB</th>\n",
              "      <th>CCC</th>\n",
              "    </tr>\n",
              "  </thead>\n",
              "  <tbody>\n",
              "    <tr>\n",
              "      <th>0</th>\n",
              "      <td>4</td>\n",
              "      <td>10</td>\n",
              "      <td>100</td>\n",
              "    </tr>\n",
              "    <tr>\n",
              "      <th>1</th>\n",
              "      <td>5</td>\n",
              "      <td>20</td>\n",
              "      <td>50</td>\n",
              "    </tr>\n",
              "  </tbody>\n",
              "</table>\n",
              "</div>"
            ],
            "text/plain": [
              "   AAA  BBB  CCC\n",
              "0    4   10  100\n",
              "1    5   20   50"
            ]
          },
          "metadata": {
            "tags": []
          },
          "execution_count": 8
        }
      ]
    },
    {
      "cell_type": "code",
      "metadata": {
        "id": "3nTNYdHny8fj",
        "colab_type": "code",
        "colab": {},
        "outputId": "7f10c89f-a5b8-4935-c5a9-cb89212137cf"
      },
      "source": [
        "df[df.AAA>5]"
      ],
      "execution_count": null,
      "outputs": [
        {
          "output_type": "execute_result",
          "data": {
            "text/html": [
              "<div>\n",
              "<style scoped>\n",
              "    .dataframe tbody tr th:only-of-type {\n",
              "        vertical-align: middle;\n",
              "    }\n",
              "\n",
              "    .dataframe tbody tr th {\n",
              "        vertical-align: top;\n",
              "    }\n",
              "\n",
              "    .dataframe thead th {\n",
              "        text-align: right;\n",
              "    }\n",
              "</style>\n",
              "<table border=\"1\" class=\"dataframe\">\n",
              "  <thead>\n",
              "    <tr style=\"text-align: right;\">\n",
              "      <th></th>\n",
              "      <th>AAA</th>\n",
              "      <th>BBB</th>\n",
              "      <th>CCC</th>\n",
              "    </tr>\n",
              "  </thead>\n",
              "  <tbody>\n",
              "    <tr>\n",
              "      <th>2</th>\n",
              "      <td>6</td>\n",
              "      <td>30</td>\n",
              "      <td>-30</td>\n",
              "    </tr>\n",
              "    <tr>\n",
              "      <th>3</th>\n",
              "      <td>7</td>\n",
              "      <td>40</td>\n",
              "      <td>-50</td>\n",
              "    </tr>\n",
              "  </tbody>\n",
              "</table>\n",
              "</div>"
            ],
            "text/plain": [
              "   AAA  BBB  CCC\n",
              "2    6   30  -30\n",
              "3    7   40  -50"
            ]
          },
          "metadata": {
            "tags": []
          },
          "execution_count": 9
        }
      ]
    },
    {
      "cell_type": "code",
      "metadata": {
        "id": "ODvR3oMGy8fm",
        "colab_type": "code",
        "colab": {},
        "outputId": "9fa366ed-788b-41a0-badd-144fc3123b4e"
      },
      "source": [
        "df=pd.DataFrame({'AAA':[4,5,6,7],'BBB':[10,20,30,40],'CCC':[100,50,-30,-50]}) \n",
        "df.loc[(df['BBB']<25)&df['CCC']>=40,'AAA']"
      ],
      "execution_count": null,
      "outputs": [
        {
          "output_type": "execute_result",
          "data": {
            "text/plain": [
              "Series([], Name: AAA, dtype: int64)"
            ]
          },
          "metadata": {
            "tags": []
          },
          "execution_count": 11
        }
      ]
    },
    {
      "cell_type": "code",
      "metadata": {
        "id": "xwYQrZJoy8fn",
        "colab_type": "code",
        "colab": {}
      },
      "source": [
        ""
      ],
      "execution_count": null,
      "outputs": []
    }
  ]
}