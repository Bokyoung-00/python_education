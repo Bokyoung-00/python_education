{
  "nbformat": 4,
  "nbformat_minor": 0,
  "metadata": {
    "kernelspec": {
      "display_name": "Python 3",
      "language": "python",
      "name": "python3"
    },
    "language_info": {
      "codemirror_mode": {
        "name": "ipython",
        "version": 3
      },
      "file_extension": ".py",
      "mimetype": "text/x-python",
      "name": "python",
      "nbconvert_exporter": "python",
      "pygments_lexer": "ipython3",
      "version": "3.8.3"
    },
    "colab": {
      "name": "국민 정원 Pandas.ipynb",
      "provenance": [],
      "include_colab_link": true
    }
  },
  "cells": [
    {
      "cell_type": "markdown",
      "metadata": {
        "id": "view-in-github",
        "colab_type": "text"
      },
      "source": [
        "<a href=\"https://colab.research.google.com/github/Bokyoung-00/python_education/blob/master/%EA%B5%AD%EB%AF%BC_%EC%A0%95%EC%9B%90_Pandas.ipynb\" target=\"_parent\"><img src=\"https://colab.research.google.com/assets/colab-badge.svg\" alt=\"Open In Colab\"/></a>"
      ]
    },
    {
      "cell_type": "markdown",
      "metadata": {
        "id": "OJl6OgnC2gyH",
        "colab_type": "text"
      },
      "source": [
        "## Pandas로 국민청원 데이터 분석"
      ]
    },
    {
      "cell_type": "code",
      "metadata": {
        "id": "hW0zamPq2gyI",
        "colab_type": "code",
        "colab": {}
      },
      "source": [
        "import pandas as pd\n",
        "import numpy as np"
      ],
      "execution_count": null,
      "outputs": []
    },
    {
      "cell_type": "code",
      "metadata": {
        "id": "2oeZBRQC2gyN",
        "colab_type": "code",
        "colab": {}
      },
      "source": [
        "df=pd.read_csv(\"C:/bkk/petition.csv\", parse_dates=['start','end'])"
      ],
      "execution_count": null,
      "outputs": []
    },
    {
      "cell_type": "code",
      "metadata": {
        "id": "ffzzejtg2gyQ",
        "colab_type": "code",
        "colab": {},
        "outputId": "3fb0a124-10fa-41b1-f6de-a9752734f497"
      },
      "source": [
        "df.shape"
      ],
      "execution_count": null,
      "outputs": [
        {
          "output_type": "execute_result",
          "data": {
            "text/plain": [
              "(395547, 8)"
            ]
          },
          "metadata": {
            "tags": []
          },
          "execution_count": 33
        }
      ]
    },
    {
      "cell_type": "code",
      "metadata": {
        "id": "por5U5Wl2gyU",
        "colab_type": "code",
        "colab": {},
        "outputId": "10b11a65-adfa-45bc-a5dd-180ccc606f54"
      },
      "source": [
        "df.head()"
      ],
      "execution_count": null,
      "outputs": [
        {
          "output_type": "execute_result",
          "data": {
            "text/html": [
              "<div>\n",
              "<style scoped>\n",
              "    .dataframe tbody tr th:only-of-type {\n",
              "        vertical-align: middle;\n",
              "    }\n",
              "\n",
              "    .dataframe tbody tr th {\n",
              "        vertical-align: top;\n",
              "    }\n",
              "\n",
              "    .dataframe thead th {\n",
              "        text-align: right;\n",
              "    }\n",
              "</style>\n",
              "<table border=\"1\" class=\"dataframe\">\n",
              "  <thead>\n",
              "    <tr style=\"text-align: right;\">\n",
              "      <th></th>\n",
              "      <th>article_id</th>\n",
              "      <th>start</th>\n",
              "      <th>end</th>\n",
              "      <th>answered</th>\n",
              "      <th>votes</th>\n",
              "      <th>category</th>\n",
              "      <th>title</th>\n",
              "      <th>content</th>\n",
              "    </tr>\n",
              "  </thead>\n",
              "  <tbody>\n",
              "    <tr>\n",
              "      <th>0</th>\n",
              "      <td>21</td>\n",
              "      <td>2017-08-19</td>\n",
              "      <td>2017-11-17</td>\n",
              "      <td>0</td>\n",
              "      <td>9</td>\n",
              "      <td>안전/환경</td>\n",
              "      <td>스텔라 데이지호에 대한 제안입니다.</td>\n",
              "      <td>스텔라 데이지호에 대한 제안입니다.\\n3월31일 스텔라 데이지호가 침몰하고 5달째가...</td>\n",
              "    </tr>\n",
              "    <tr>\n",
              "      <th>1</th>\n",
              "      <td>22</td>\n",
              "      <td>2017-08-19</td>\n",
              "      <td>2017-11-17</td>\n",
              "      <td>0</td>\n",
              "      <td>17</td>\n",
              "      <td>기타</td>\n",
              "      <td>비리제보처를 만들어주세요.</td>\n",
              "      <td>현 정부에 국민들이 가장 원하는 것은 부패척결입니다.  우리 사회에 각종 비리들이 ...</td>\n",
              "    </tr>\n",
              "    <tr>\n",
              "      <th>2</th>\n",
              "      <td>23</td>\n",
              "      <td>2017-08-19</td>\n",
              "      <td>2017-09-03</td>\n",
              "      <td>0</td>\n",
              "      <td>0</td>\n",
              "      <td>미래</td>\n",
              "      <td>제2의 개성공단</td>\n",
              "      <td>만일 하시는 대통령님 및 각 부처 장관님,주무관님들 안녕하세요!!\\n전남 목포에서 ...</td>\n",
              "    </tr>\n",
              "    <tr>\n",
              "      <th>3</th>\n",
              "      <td>24</td>\n",
              "      <td>2017-08-19</td>\n",
              "      <td>2017-08-26</td>\n",
              "      <td>0</td>\n",
              "      <td>53</td>\n",
              "      <td>일자리</td>\n",
              "      <td>공공기관 무조건적인 정규직전환을 반대합니다.</td>\n",
              "      <td>현정부에서 정규직 일자리를 늘리는 것에 찬성합니다. 그런데 공공기관 비정규직들은 인...</td>\n",
              "    </tr>\n",
              "    <tr>\n",
              "      <th>4</th>\n",
              "      <td>25</td>\n",
              "      <td>2017-08-19</td>\n",
              "      <td>2017-09-03</td>\n",
              "      <td>0</td>\n",
              "      <td>0</td>\n",
              "      <td>미래</td>\n",
              "      <td>제2의 개성공단</td>\n",
              "      <td>만일 하시는 대통령님 및 각 부처 장관님,주무관님들 안녕하세요!!\\n전남 목포에서 ...</td>\n",
              "    </tr>\n",
              "  </tbody>\n",
              "</table>\n",
              "</div>"
            ],
            "text/plain": [
              "   article_id      start        end  answered  votes category  \\\n",
              "0          21 2017-08-19 2017-11-17         0      9    안전/환경   \n",
              "1          22 2017-08-19 2017-11-17         0     17       기타   \n",
              "2          23 2017-08-19 2017-09-03         0      0       미래   \n",
              "3          24 2017-08-19 2017-08-26         0     53      일자리   \n",
              "4          25 2017-08-19 2017-09-03         0      0       미래   \n",
              "\n",
              "                      title                                            content  \n",
              "0       스텔라 데이지호에 대한 제안입니다.  스텔라 데이지호에 대한 제안입니다.\\n3월31일 스텔라 데이지호가 침몰하고 5달째가...  \n",
              "1            비리제보처를 만들어주세요.  현 정부에 국민들이 가장 원하는 것은 부패척결입니다.  우리 사회에 각종 비리들이 ...  \n",
              "2                  제2의 개성공단  만일 하시는 대통령님 및 각 부처 장관님,주무관님들 안녕하세요!!\\n전남 목포에서 ...  \n",
              "3  공공기관 무조건적인 정규직전환을 반대합니다.  현정부에서 정규직 일자리를 늘리는 것에 찬성합니다. 그런데 공공기관 비정규직들은 인...  \n",
              "4                  제2의 개성공단  만일 하시는 대통령님 및 각 부처 장관님,주무관님들 안녕하세요!!\\n전남 목포에서 ...  "
            ]
          },
          "metadata": {
            "tags": []
          },
          "execution_count": 34
        }
      ]
    },
    {
      "cell_type": "code",
      "metadata": {
        "id": "7KrKQ-BX2gyX",
        "colab_type": "code",
        "colab": {},
        "outputId": "9f64b60b-3841-4500-855f-f1237d7d462e"
      },
      "source": [
        "df.tail()"
      ],
      "execution_count": null,
      "outputs": [
        {
          "output_type": "execute_result",
          "data": {
            "text/html": [
              "<div>\n",
              "<style scoped>\n",
              "    .dataframe tbody tr th:only-of-type {\n",
              "        vertical-align: middle;\n",
              "    }\n",
              "\n",
              "    .dataframe tbody tr th {\n",
              "        vertical-align: top;\n",
              "    }\n",
              "\n",
              "    .dataframe thead th {\n",
              "        text-align: right;\n",
              "    }\n",
              "</style>\n",
              "<table border=\"1\" class=\"dataframe\">\n",
              "  <thead>\n",
              "    <tr style=\"text-align: right;\">\n",
              "      <th></th>\n",
              "      <th>article_id</th>\n",
              "      <th>start</th>\n",
              "      <th>end</th>\n",
              "      <th>answered</th>\n",
              "      <th>votes</th>\n",
              "      <th>category</th>\n",
              "      <th>title</th>\n",
              "      <th>content</th>\n",
              "    </tr>\n",
              "  </thead>\n",
              "  <tbody>\n",
              "    <tr>\n",
              "      <th>395542</th>\n",
              "      <td>517117</td>\n",
              "      <td>2019-02-04</td>\n",
              "      <td>2019-03-06</td>\n",
              "      <td>0</td>\n",
              "      <td>3</td>\n",
              "      <td>보건복지</td>\n",
              "      <td>명절연휴 고속도로 무료반대</td>\n",
              "      <td>명절고속도로 무료보단 대다수의 서민들이 이용하는 대중교통 무료와 명절기간 증차로 했...</td>\n",
              "    </tr>\n",
              "    <tr>\n",
              "      <th>395543</th>\n",
              "      <td>517119</td>\n",
              "      <td>2019-02-04</td>\n",
              "      <td>2019-03-06</td>\n",
              "      <td>0</td>\n",
              "      <td>23</td>\n",
              "      <td>보건복지</td>\n",
              "      <td>광주사태 가짜 유공자들 정수기로 걸려내야함</td>\n",
              "      <td>광주사태 유공자들 차고 넘치는데 이래 많은 유공자들 그냥놓아두면 재앙이다.\\n김대중...</td>\n",
              "    </tr>\n",
              "    <tr>\n",
              "      <th>395544</th>\n",
              "      <td>517120</td>\n",
              "      <td>2019-02-04</td>\n",
              "      <td>2019-03-06</td>\n",
              "      <td>0</td>\n",
              "      <td>0</td>\n",
              "      <td>안전/환경</td>\n",
              "      <td>환경문제</td>\n",
              "      <td>명절이면 후로 제일문제는 쓰레기 문제 입니다.\\n제일문제는 선물세트와 농산물세트 입...</td>\n",
              "    </tr>\n",
              "    <tr>\n",
              "      <th>395545</th>\n",
              "      <td>517121</td>\n",
              "      <td>2019-02-04</td>\n",
              "      <td>2019-03-06</td>\n",
              "      <td>0</td>\n",
              "      <td>20</td>\n",
              "      <td>정치개혁</td>\n",
              "      <td>청화대,더불어민주당, 당장 답하라,,,,,,</td>\n",
              "      <td>좌파 더불어민주당, 좌파 정권 청화대는 선한 국민들을 더는 기망하지 말고 담장 답하...</td>\n",
              "    </tr>\n",
              "    <tr>\n",
              "      <th>395546</th>\n",
              "      <td>517122</td>\n",
              "      <td>2019-02-04</td>\n",
              "      <td>2019-03-06</td>\n",
              "      <td>0</td>\n",
              "      <td>16</td>\n",
              "      <td>인권/성평등</td>\n",
              "      <td>여성부 폐지</td>\n",
              "      <td>국민들이 원합니다\\n폐지 좀 시키세요;</td>\n",
              "    </tr>\n",
              "  </tbody>\n",
              "</table>\n",
              "</div>"
            ],
            "text/plain": [
              "        article_id      start        end  answered  votes category  \\\n",
              "395542      517117 2019-02-04 2019-03-06         0      3     보건복지   \n",
              "395543      517119 2019-02-04 2019-03-06         0     23     보건복지   \n",
              "395544      517120 2019-02-04 2019-03-06         0      0    안전/환경   \n",
              "395545      517121 2019-02-04 2019-03-06         0     20     정치개혁   \n",
              "395546      517122 2019-02-04 2019-03-06         0     16   인권/성평등   \n",
              "\n",
              "                           title  \\\n",
              "395542            명절연휴 고속도로 무료반대   \n",
              "395543   광주사태 가짜 유공자들 정수기로 걸려내야함   \n",
              "395544                      환경문제   \n",
              "395545  청화대,더불어민주당, 당장 답하라,,,,,,   \n",
              "395546                    여성부 폐지   \n",
              "\n",
              "                                                  content  \n",
              "395542  명절고속도로 무료보단 대다수의 서민들이 이용하는 대중교통 무료와 명절기간 증차로 했...  \n",
              "395543  광주사태 유공자들 차고 넘치는데 이래 많은 유공자들 그냥놓아두면 재앙이다.\\n김대중...  \n",
              "395544  명절이면 후로 제일문제는 쓰레기 문제 입니다.\\n제일문제는 선물세트와 농산물세트 입...  \n",
              "395545  좌파 더불어민주당, 좌파 정권 청화대는 선한 국민들을 더는 기망하지 말고 담장 답하...  \n",
              "395546                              국민들이 원합니다\\n폐지 좀 시키세요;  "
            ]
          },
          "metadata": {
            "tags": []
          },
          "execution_count": 35
        }
      ]
    },
    {
      "cell_type": "code",
      "metadata": {
        "id": "Tx22FxYU2gya",
        "colab_type": "code",
        "colab": {},
        "outputId": "cc8bba8f-c91e-4533-f188-d612af0a2ae9"
      },
      "source": [
        "df.describe()"
      ],
      "execution_count": null,
      "outputs": [
        {
          "output_type": "execute_result",
          "data": {
            "text/html": [
              "<div>\n",
              "<style scoped>\n",
              "    .dataframe tbody tr th:only-of-type {\n",
              "        vertical-align: middle;\n",
              "    }\n",
              "\n",
              "    .dataframe tbody tr th {\n",
              "        vertical-align: top;\n",
              "    }\n",
              "\n",
              "    .dataframe thead th {\n",
              "        text-align: right;\n",
              "    }\n",
              "</style>\n",
              "<table border=\"1\" class=\"dataframe\">\n",
              "  <thead>\n",
              "    <tr style=\"text-align: right;\">\n",
              "      <th></th>\n",
              "      <th>article_id</th>\n",
              "      <th>answered</th>\n",
              "      <th>votes</th>\n",
              "    </tr>\n",
              "  </thead>\n",
              "  <tbody>\n",
              "    <tr>\n",
              "      <th>count</th>\n",
              "      <td>395547.000000</td>\n",
              "      <td>395547.000000</td>\n",
              "      <td>395547.000000</td>\n",
              "    </tr>\n",
              "    <tr>\n",
              "      <th>mean</th>\n",
              "      <td>251608.934635</td>\n",
              "      <td>0.000073</td>\n",
              "      <td>150.118818</td>\n",
              "    </tr>\n",
              "    <tr>\n",
              "      <th>std</th>\n",
              "      <td>153219.216242</td>\n",
              "      <td>0.008562</td>\n",
              "      <td>4802.582992</td>\n",
              "    </tr>\n",
              "    <tr>\n",
              "      <th>min</th>\n",
              "      <td>21.000000</td>\n",
              "      <td>0.000000</td>\n",
              "      <td>0.000000</td>\n",
              "    </tr>\n",
              "    <tr>\n",
              "      <th>25%</th>\n",
              "      <td>115236.500000</td>\n",
              "      <td>0.000000</td>\n",
              "      <td>2.000000</td>\n",
              "    </tr>\n",
              "    <tr>\n",
              "      <th>50%</th>\n",
              "      <td>253682.000000</td>\n",
              "      <td>0.000000</td>\n",
              "      <td>5.000000</td>\n",
              "    </tr>\n",
              "    <tr>\n",
              "      <th>75%</th>\n",
              "      <td>386137.500000</td>\n",
              "      <td>0.000000</td>\n",
              "      <td>15.000000</td>\n",
              "    </tr>\n",
              "    <tr>\n",
              "      <th>max</th>\n",
              "      <td>517122.000000</td>\n",
              "      <td>1.000000</td>\n",
              "      <td>1192049.000000</td>\n",
              "    </tr>\n",
              "  </tbody>\n",
              "</table>\n",
              "</div>"
            ],
            "text/plain": [
              "         article_id      answered          votes\n",
              "count 395547.000000 395547.000000  395547.000000\n",
              "mean  251608.934635      0.000073     150.118818\n",
              "std   153219.216242      0.008562    4802.582992\n",
              "min       21.000000      0.000000       0.000000\n",
              "25%   115236.500000      0.000000       2.000000\n",
              "50%   253682.000000      0.000000       5.000000\n",
              "75%   386137.500000      0.000000      15.000000\n",
              "max   517122.000000      1.000000 1192049.000000"
            ]
          },
          "metadata": {
            "tags": []
          },
          "execution_count": 54
        }
      ]
    },
    {
      "cell_type": "code",
      "metadata": {
        "id": "GRd5_Thg2gyd",
        "colab_type": "code",
        "colab": {},
        "outputId": "f5a456d0-be14-4670-c185-e1f699062b05"
      },
      "source": [
        "df.isnull().sum()"
      ],
      "execution_count": null,
      "outputs": [
        {
          "output_type": "execute_result",
          "data": {
            "text/plain": [
              "article_id    0\n",
              "start         0\n",
              "end           0\n",
              "answered      0\n",
              "votes         0\n",
              "category      0\n",
              "title         0\n",
              "content       1\n",
              "dtype: int64"
            ]
          },
          "metadata": {
            "tags": []
          },
          "execution_count": 37
        }
      ]
    },
    {
      "cell_type": "code",
      "metadata": {
        "id": "eh6-OI512gyg",
        "colab_type": "code",
        "colab": {},
        "outputId": "4b5c4de7-a6e0-46c9-b6fe-b5a253187319"
      },
      "source": [
        "df.info()"
      ],
      "execution_count": null,
      "outputs": [
        {
          "output_type": "stream",
          "text": [
            "<class 'pandas.core.frame.DataFrame'>\n",
            "RangeIndex: 395547 entries, 0 to 395546\n",
            "Data columns (total 8 columns):\n",
            " #   Column      Non-Null Count   Dtype         \n",
            "---  ------      --------------   -----         \n",
            " 0   article_id  395547 non-null  int64         \n",
            " 1   start       395547 non-null  datetime64[ns]\n",
            " 2   end         395547 non-null  datetime64[ns]\n",
            " 3   answered    395547 non-null  int64         \n",
            " 4   votes       395547 non-null  int64         \n",
            " 5   category    395547 non-null  object        \n",
            " 6   title       395547 non-null  object        \n",
            " 7   content     395546 non-null  object        \n",
            "dtypes: datetime64[ns](2), int64(3), object(3)\n",
            "memory usage: 24.1+ MB\n"
          ],
          "name": "stdout"
        }
      ]
    },
    {
      "cell_type": "code",
      "metadata": {
        "id": "g1WXPN1s2gyj",
        "colab_type": "code",
        "colab": {},
        "outputId": "4a8da5c5-b919-4609-a6b5-50598e33afd0"
      },
      "source": [
        "df.dtypes"
      ],
      "execution_count": null,
      "outputs": [
        {
          "output_type": "execute_result",
          "data": {
            "text/plain": [
              "article_id             int64\n",
              "start         datetime64[ns]\n",
              "end           datetime64[ns]\n",
              "answered               int64\n",
              "votes                  int64\n",
              "category              object\n",
              "title                 object\n",
              "content               object\n",
              "dtype: object"
            ]
          },
          "metadata": {
            "tags": []
          },
          "execution_count": 39
        }
      ]
    },
    {
      "cell_type": "code",
      "metadata": {
        "id": "3JNO_jMd2gyl",
        "colab_type": "code",
        "colab": {},
        "outputId": "e33405ed-f509-4e15-c95d-e7dc5524c669"
      },
      "source": [
        "df.columns\n",
        "##컬럼명 바꿀 때 필요함"
      ],
      "execution_count": null,
      "outputs": [
        {
          "output_type": "execute_result",
          "data": {
            "text/plain": [
              "Index(['article_id', 'start', 'end', 'answered', 'votes', 'category', 'title',\n",
              "       'content'],\n",
              "      dtype='object')"
            ]
          },
          "metadata": {
            "tags": []
          },
          "execution_count": 40
        }
      ]
    },
    {
      "cell_type": "code",
      "metadata": {
        "scrolled": false,
        "id": "RsYFVpRg2gyn",
        "colab_type": "code",
        "colab": {}
      },
      "source": [
        "# votes 숫자 \n",
        "pd.set_option(\"float_format\",'{:f}'.format)"
      ],
      "execution_count": null,
      "outputs": []
    },
    {
      "cell_type": "code",
      "metadata": {
        "id": "dVoHgPZb2gyp",
        "colab_type": "code",
        "colab": {},
        "outputId": "654dc300-ee9d-4a6c-adc5-c7ed20cb67cb"
      },
      "source": [
        "df.describe(include=np.object)"
      ],
      "execution_count": null,
      "outputs": [
        {
          "output_type": "execute_result",
          "data": {
            "text/html": [
              "<div>\n",
              "<style scoped>\n",
              "    .dataframe tbody tr th:only-of-type {\n",
              "        vertical-align: middle;\n",
              "    }\n",
              "\n",
              "    .dataframe tbody tr th {\n",
              "        vertical-align: top;\n",
              "    }\n",
              "\n",
              "    .dataframe thead th {\n",
              "        text-align: right;\n",
              "    }\n",
              "</style>\n",
              "<table border=\"1\" class=\"dataframe\">\n",
              "  <thead>\n",
              "    <tr style=\"text-align: right;\">\n",
              "      <th></th>\n",
              "      <th>category</th>\n",
              "      <th>title</th>\n",
              "      <th>content</th>\n",
              "    </tr>\n",
              "  </thead>\n",
              "  <tbody>\n",
              "    <tr>\n",
              "      <th>count</th>\n",
              "      <td>395547</td>\n",
              "      <td>395547</td>\n",
              "      <td>395546</td>\n",
              "    </tr>\n",
              "    <tr>\n",
              "      <th>unique</th>\n",
              "      <td>17</td>\n",
              "      <td>346524</td>\n",
              "      <td>375224</td>\n",
              "    </tr>\n",
              "    <tr>\n",
              "      <th>top</th>\n",
              "      <td>정치개혁</td>\n",
              "      <td>이명박 출국금지</td>\n",
              "      <td>이명박 출국금지</td>\n",
              "    </tr>\n",
              "    <tr>\n",
              "      <th>freq</th>\n",
              "      <td>62750</td>\n",
              "      <td>3018</td>\n",
              "      <td>597</td>\n",
              "    </tr>\n",
              "  </tbody>\n",
              "</table>\n",
              "</div>"
            ],
            "text/plain": [
              "       category     title   content\n",
              "count    395547    395547    395546\n",
              "unique       17    346524    375224\n",
              "top        정치개혁  이명박 출국금지  이명박 출국금지\n",
              "freq      62750      3018       597"
            ]
          },
          "metadata": {
            "tags": []
          },
          "execution_count": 53
        }
      ]
    },
    {
      "cell_type": "markdown",
      "metadata": {
        "id": "V-D1XUo72gys",
        "colab_type": "text"
      },
      "source": [
        "### 20만건 이상 투표를 받으면 답변 대상 청원이 됩니다.\n",
        "### 20만건 이상 청원 받은 내용으로 데이터 프레임 만들기\n",
        "### 20만건 이상 투표를 받은 청원의 갯수를 세어보세요\n"
      ]
    },
    {
      "cell_type": "code",
      "metadata": {
        "id": "l3iflHcI2gyt",
        "colab_type": "code",
        "colab": {},
        "outputId": "2351b4ee-fb90-496b-eb1b-6851760edd58"
      },
      "source": [
        "df_20=df[df['votes'] >200000] ; df_20.head()"
      ],
      "execution_count": null,
      "outputs": [
        {
          "output_type": "execute_result",
          "data": {
            "text/html": [
              "<div>\n",
              "<style scoped>\n",
              "    .dataframe tbody tr th:only-of-type {\n",
              "        vertical-align: middle;\n",
              "    }\n",
              "\n",
              "    .dataframe tbody tr th {\n",
              "        vertical-align: top;\n",
              "    }\n",
              "\n",
              "    .dataframe thead th {\n",
              "        text-align: right;\n",
              "    }\n",
              "</style>\n",
              "<table border=\"1\" class=\"dataframe\">\n",
              "  <thead>\n",
              "    <tr style=\"text-align: right;\">\n",
              "      <th></th>\n",
              "      <th>article_id</th>\n",
              "      <th>start</th>\n",
              "      <th>end</th>\n",
              "      <th>answered</th>\n",
              "      <th>votes</th>\n",
              "      <th>category</th>\n",
              "      <th>title</th>\n",
              "      <th>content</th>\n",
              "      <th>answer</th>\n",
              "    </tr>\n",
              "  </thead>\n",
              "  <tbody>\n",
              "    <tr>\n",
              "      <th>1752</th>\n",
              "      <td>1785</td>\n",
              "      <td>2017-09-03</td>\n",
              "      <td>2017-11-02</td>\n",
              "      <td>1</td>\n",
              "      <td>296330</td>\n",
              "      <td>인권/성평등</td>\n",
              "      <td>청소년이란 이유로 보호법을 악용하는 잔인무도한 청소년들이 늘어나고있습니다. 반드시 ...</td>\n",
              "      <td>안녕하십니까. 청소년보호법이란 명목하에 나쁜짓을 일삼는 청소년들이 너무나 많아지고 ...</td>\n",
              "      <td>1</td>\n",
              "    </tr>\n",
              "    <tr>\n",
              "      <th>10894</th>\n",
              "      <td>10949</td>\n",
              "      <td>2017-09-06</td>\n",
              "      <td>2017-12-05</td>\n",
              "      <td>1</td>\n",
              "      <td>615354</td>\n",
              "      <td>미래</td>\n",
              "      <td>조두순 출소반대</td>\n",
              "      <td>제발 조두순 재심다시해서 무기징역으로 해야됩니다!!!</td>\n",
              "      <td>1</td>\n",
              "    </tr>\n",
              "    <tr>\n",
              "      <th>18111</th>\n",
              "      <td>18278</td>\n",
              "      <td>2017-09-30</td>\n",
              "      <td>2017-10-30</td>\n",
              "      <td>1</td>\n",
              "      <td>235372</td>\n",
              "      <td>인권/성평등</td>\n",
              "      <td>낙태죄 폐지와 자연유산 유도약(미프진) 합법화 및 도입을 부탁드립니다.</td>\n",
              "      <td>안녕하세요. 존경하는 대통령님 의원님\\n낙태죄 폐지를 청원합니다.\\n현재 대한민국은...</td>\n",
              "      <td>1</td>\n",
              "    </tr>\n",
              "    <tr>\n",
              "      <th>25032</th>\n",
              "      <td>26024</td>\n",
              "      <td>2017-11-04</td>\n",
              "      <td>2017-12-04</td>\n",
              "      <td>1</td>\n",
              "      <td>216774</td>\n",
              "      <td>안전/환경</td>\n",
              "      <td>'주취감형(술을 먹으면 형벌 감형)' 폐지를 건의(청원)합니다.</td>\n",
              "      <td>'주취감형'이란, 술을 먹고 범행을 저지를 때, 심신미약 (이성이 없고 우발적)이라...</td>\n",
              "      <td>1</td>\n",
              "    </tr>\n",
              "    <tr>\n",
              "      <th>43992</th>\n",
              "      <td>45581</td>\n",
              "      <td>2017-11-17</td>\n",
              "      <td>2017-12-17</td>\n",
              "      <td>1</td>\n",
              "      <td>281985</td>\n",
              "      <td>보건복지</td>\n",
              "      <td>권역외상센터 (이국종 교수님) 추가적, 제도적, 환경적, 인력 지원</td>\n",
              "      <td>청원사항)\\n중증외상분야의 추가적, 제도적, 환경적, 인력 지원 방안마련\\n현 의료...</td>\n",
              "      <td>1</td>\n",
              "    </tr>\n",
              "  </tbody>\n",
              "</table>\n",
              "</div>"
            ],
            "text/plain": [
              "       article_id      start        end  answered   votes category  \\\n",
              "1752         1785 2017-09-03 2017-11-02         1  296330   인권/성평등   \n",
              "10894       10949 2017-09-06 2017-12-05         1  615354       미래   \n",
              "18111       18278 2017-09-30 2017-10-30         1  235372   인권/성평등   \n",
              "25032       26024 2017-11-04 2017-12-04         1  216774    안전/환경   \n",
              "43992       45581 2017-11-17 2017-12-17         1  281985     보건복지   \n",
              "\n",
              "                                                   title  \\\n",
              "1752   청소년이란 이유로 보호법을 악용하는 잔인무도한 청소년들이 늘어나고있습니다. 반드시 ...   \n",
              "10894                                           조두순 출소반대   \n",
              "18111            낙태죄 폐지와 자연유산 유도약(미프진) 합법화 및 도입을 부탁드립니다.   \n",
              "25032                '주취감형(술을 먹으면 형벌 감형)' 폐지를 건의(청원)합니다.   \n",
              "43992              권역외상센터 (이국종 교수님) 추가적, 제도적, 환경적, 인력 지원   \n",
              "\n",
              "                                                 content  answer  \n",
              "1752   안녕하십니까. 청소년보호법이란 명목하에 나쁜짓을 일삼는 청소년들이 너무나 많아지고 ...       1  \n",
              "10894                      제발 조두순 재심다시해서 무기징역으로 해야됩니다!!!       1  \n",
              "18111  안녕하세요. 존경하는 대통령님 의원님\\n낙태죄 폐지를 청원합니다.\\n현재 대한민국은...       1  \n",
              "25032  '주취감형'이란, 술을 먹고 범행을 저지를 때, 심신미약 (이성이 없고 우발적)이라...       1  \n",
              "43992  청원사항)\\n중증외상분야의 추가적, 제도적, 환경적, 인력 지원 방안마련\\n현 의료...       1  "
            ]
          },
          "metadata": {
            "tags": []
          },
          "execution_count": 96
        }
      ]
    },
    {
      "cell_type": "code",
      "metadata": {
        "id": "qa04nOgM2gyv",
        "colab_type": "code",
        "colab": {},
        "outputId": "20a38f80-8a27-4831-bacc-da788fdeeb14"
      },
      "source": [
        "df_20.shape"
      ],
      "execution_count": null,
      "outputs": [
        {
          "output_type": "execute_result",
          "data": {
            "text/plain": [
              "(80, 9)"
            ]
          },
          "metadata": {
            "tags": []
          },
          "execution_count": 97
        }
      ]
    },
    {
      "cell_type": "code",
      "metadata": {
        "id": "jclaLC-b2gyx",
        "colab_type": "code",
        "colab": {},
        "outputId": "1f31e178-0198-4197-bbb2-b280bfa426d6"
      },
      "source": [
        "df_1000=df[df['votes'] >1000] ; df_1000.shape"
      ],
      "execution_count": null,
      "outputs": [
        {
          "output_type": "execute_result",
          "data": {
            "text/plain": [
              "(3472, 9)"
            ]
          },
          "metadata": {
            "tags": []
          },
          "execution_count": 98
        }
      ]
    },
    {
      "cell_type": "code",
      "metadata": {
        "id": "uoJTzYej2gyz",
        "colab_type": "code",
        "colab": {},
        "outputId": "bc8969d4-c41c-4a26-e034-21faef3aeed2"
      },
      "source": [
        "df_1000.head()"
      ],
      "execution_count": null,
      "outputs": [
        {
          "output_type": "execute_result",
          "data": {
            "text/html": [
              "<div>\n",
              "<style scoped>\n",
              "    .dataframe tbody tr th:only-of-type {\n",
              "        vertical-align: middle;\n",
              "    }\n",
              "\n",
              "    .dataframe tbody tr th {\n",
              "        vertical-align: top;\n",
              "    }\n",
              "\n",
              "    .dataframe thead th {\n",
              "        text-align: right;\n",
              "    }\n",
              "</style>\n",
              "<table border=\"1\" class=\"dataframe\">\n",
              "  <thead>\n",
              "    <tr style=\"text-align: right;\">\n",
              "      <th></th>\n",
              "      <th>article_id</th>\n",
              "      <th>start</th>\n",
              "      <th>end</th>\n",
              "      <th>answered</th>\n",
              "      <th>votes</th>\n",
              "      <th>category</th>\n",
              "      <th>title</th>\n",
              "      <th>content</th>\n",
              "      <th>answer</th>\n",
              "    </tr>\n",
              "  </thead>\n",
              "  <tbody>\n",
              "    <tr>\n",
              "      <th>7</th>\n",
              "      <td>28</td>\n",
              "      <td>2017-08-19</td>\n",
              "      <td>2017-08-26</td>\n",
              "      <td>0</td>\n",
              "      <td>2137</td>\n",
              "      <td>경제민주화</td>\n",
              "      <td>소액주주를 보호해주십시오</td>\n",
              "      <td>**  존경하옵는 문재인대통령님께\\n저는 중국원양자원이라는 KOSPI상장사의 소액 ...</td>\n",
              "      <td>0</td>\n",
              "    </tr>\n",
              "    <tr>\n",
              "      <th>21</th>\n",
              "      <td>43</td>\n",
              "      <td>2017-08-19</td>\n",
              "      <td>2017-09-18</td>\n",
              "      <td>0</td>\n",
              "      <td>11293</td>\n",
              "      <td>육아/교육</td>\n",
              "      <td>기간제 교사의 정규직화를 반대합니다.</td>\n",
              "      <td>대통령님, 안녕하세요. 저는 임용을 준비하고 수험생입니다. 처음 기간제 정규직화 된...</td>\n",
              "      <td>0</td>\n",
              "    </tr>\n",
              "    <tr>\n",
              "      <th>24</th>\n",
              "      <td>46</td>\n",
              "      <td>2017-08-19</td>\n",
              "      <td>2017-09-18</td>\n",
              "      <td>0</td>\n",
              "      <td>1933</td>\n",
              "      <td>육아/교육</td>\n",
              "      <td>기간제교사의 정규직화를 반대합니다.</td>\n",
              "      <td>대통령님, 안녕하세요. 저는 임용을 준비하고 수험생입니다. 처음 기간제 정규직화 된...</td>\n",
              "      <td>0</td>\n",
              "    </tr>\n",
              "    <tr>\n",
              "      <th>28</th>\n",
              "      <td>50</td>\n",
              "      <td>2017-08-19</td>\n",
              "      <td>2017-10-18</td>\n",
              "      <td>0</td>\n",
              "      <td>1251</td>\n",
              "      <td>일자리</td>\n",
              "      <td>치과위생사 국가고시 날짜 변경 억울합니다</td>\n",
              "      <td>안녕하십니까? 대통령님 간단하게 제소개 부터 하겠습니다. 저는 치위생과 3학년 학생...</td>\n",
              "      <td>0</td>\n",
              "    </tr>\n",
              "    <tr>\n",
              "      <th>38</th>\n",
              "      <td>61</td>\n",
              "      <td>2017-08-19</td>\n",
              "      <td>2017-08-26</td>\n",
              "      <td>0</td>\n",
              "      <td>1185</td>\n",
              "      <td>일자리</td>\n",
              "      <td>영어회화전문강사제도는 유지되어야합니다.</td>\n",
              "      <td>1. 영전강의고용안정을 원합니다\\n2.1년단위계약직으로 임신 출산육아 매우 곤란합니...</td>\n",
              "      <td>0</td>\n",
              "    </tr>\n",
              "  </tbody>\n",
              "</table>\n",
              "</div>"
            ],
            "text/plain": [
              "    article_id      start        end  answered  votes category  \\\n",
              "7           28 2017-08-19 2017-08-26         0   2137    경제민주화   \n",
              "21          43 2017-08-19 2017-09-18         0  11293    육아/교육   \n",
              "24          46 2017-08-19 2017-09-18         0   1933    육아/교육   \n",
              "28          50 2017-08-19 2017-10-18         0   1251      일자리   \n",
              "38          61 2017-08-19 2017-08-26         0   1185      일자리   \n",
              "\n",
              "                     title                                            content  \\\n",
              "7            소액주주를 보호해주십시오  **  존경하옵는 문재인대통령님께\\n저는 중국원양자원이라는 KOSPI상장사의 소액 ...   \n",
              "21    기간제 교사의 정규직화를 반대합니다.  대통령님, 안녕하세요. 저는 임용을 준비하고 수험생입니다. 처음 기간제 정규직화 된...   \n",
              "24     기간제교사의 정규직화를 반대합니다.  대통령님, 안녕하세요. 저는 임용을 준비하고 수험생입니다. 처음 기간제 정규직화 된...   \n",
              "28  치과위생사 국가고시 날짜 변경 억울합니다  안녕하십니까? 대통령님 간단하게 제소개 부터 하겠습니다. 저는 치위생과 3학년 학생...   \n",
              "38   영어회화전문강사제도는 유지되어야합니다.  1. 영전강의고용안정을 원합니다\\n2.1년단위계약직으로 임신 출산육아 매우 곤란합니...   \n",
              "\n",
              "    answer  \n",
              "7        0  \n",
              "21       0  \n",
              "24       0  \n",
              "28       0  \n",
              "38       0  "
            ]
          },
          "metadata": {
            "tags": []
          },
          "execution_count": 99
        }
      ]
    },
    {
      "cell_type": "code",
      "metadata": {
        "id": "qehc2y8H2gy1",
        "colab_type": "code",
        "colab": {},
        "outputId": "17fcdf54-8a7e-44c0-f1d9-3bda34d99875"
      },
      "source": [
        "df[df['votes'] >1000].count()"
      ],
      "execution_count": null,
      "outputs": [
        {
          "output_type": "execute_result",
          "data": {
            "text/plain": [
              "article_id    3472\n",
              "start         3472\n",
              "end           3472\n",
              "answered      3472\n",
              "votes         3472\n",
              "category      3472\n",
              "title         3472\n",
              "content       3472\n",
              "answer        3472\n",
              "dtype: int64"
            ]
          },
          "metadata": {
            "tags": []
          },
          "execution_count": 100
        }
      ]
    },
    {
      "cell_type": "code",
      "metadata": {
        "id": "kXdMVJ8X2gy5",
        "colab_type": "code",
        "colab": {},
        "outputId": "75409329-2485-4122-9155-61e296f6a82f"
      },
      "source": [
        "df_20.category.value_counts()"
      ],
      "execution_count": null,
      "outputs": [
        {
          "output_type": "execute_result",
          "data": {
            "text/plain": [
              "인권/성평등         24\n",
              "안전/환경          10\n",
              "기타              8\n",
              "정치개혁            8\n",
              "문화/예술/체육/언론     7\n",
              "외교/통일/국방        4\n",
              "반려동물            4\n",
              "보건복지            3\n",
              "교통/건축/국토        3\n",
              "육아/교육           3\n",
              "성장동력            2\n",
              "경제민주화           2\n",
              "행정              1\n",
              "미래              1\n",
              "Name: category, dtype: int64"
            ]
          },
          "metadata": {
            "tags": []
          },
          "execution_count": 101
        }
      ]
    },
    {
      "cell_type": "code",
      "metadata": {
        "id": "jHansKNr2gy7",
        "colab_type": "code",
        "colab": {},
        "outputId": "ccf703c2-16fa-4c1c-e825-d8ae4dd42b09"
      },
      "source": [
        "df_20[\"category\"].value_counts()"
      ],
      "execution_count": null,
      "outputs": [
        {
          "output_type": "execute_result",
          "data": {
            "text/plain": [
              "인권/성평등         24\n",
              "안전/환경          10\n",
              "기타              8\n",
              "정치개혁            8\n",
              "문화/예술/체육/언론     7\n",
              "외교/통일/국방        4\n",
              "반려동물            4\n",
              "보건복지            3\n",
              "교통/건축/국토        3\n",
              "육아/교육           3\n",
              "성장동력            2\n",
              "경제민주화           2\n",
              "행정              1\n",
              "미래              1\n",
              "Name: category, dtype: int64"
            ]
          },
          "metadata": {
            "tags": []
          },
          "execution_count": 102
        }
      ]
    },
    {
      "cell_type": "code",
      "metadata": {
        "id": "wvca2Fj72gy-",
        "colab_type": "code",
        "colab": {}
      },
      "source": [
        "df_20_new=df_20[[\"title\",\"content\",\"votes\"]]"
      ],
      "execution_count": null,
      "outputs": []
    },
    {
      "cell_type": "code",
      "metadata": {
        "id": "cVFVYlT22gzA",
        "colab_type": "code",
        "colab": {},
        "outputId": "c7742dd6-a0e6-472e-896f-bd6c80f33b2c"
      },
      "source": [
        "df_20_new.head()"
      ],
      "execution_count": null,
      "outputs": [
        {
          "output_type": "execute_result",
          "data": {
            "text/html": [
              "<div>\n",
              "<style scoped>\n",
              "    .dataframe tbody tr th:only-of-type {\n",
              "        vertical-align: middle;\n",
              "    }\n",
              "\n",
              "    .dataframe tbody tr th {\n",
              "        vertical-align: top;\n",
              "    }\n",
              "\n",
              "    .dataframe thead th {\n",
              "        text-align: right;\n",
              "    }\n",
              "</style>\n",
              "<table border=\"1\" class=\"dataframe\">\n",
              "  <thead>\n",
              "    <tr style=\"text-align: right;\">\n",
              "      <th></th>\n",
              "      <th>title</th>\n",
              "      <th>content</th>\n",
              "      <th>votes</th>\n",
              "    </tr>\n",
              "  </thead>\n",
              "  <tbody>\n",
              "    <tr>\n",
              "      <th>1752</th>\n",
              "      <td>청소년이란 이유로 보호법을 악용하는 잔인무도한 청소년들이 늘어나고있습니다. 반드시 ...</td>\n",
              "      <td>안녕하십니까. 청소년보호법이란 명목하에 나쁜짓을 일삼는 청소년들이 너무나 많아지고 ...</td>\n",
              "      <td>296330</td>\n",
              "    </tr>\n",
              "    <tr>\n",
              "      <th>10894</th>\n",
              "      <td>조두순 출소반대</td>\n",
              "      <td>제발 조두순 재심다시해서 무기징역으로 해야됩니다!!!</td>\n",
              "      <td>615354</td>\n",
              "    </tr>\n",
              "    <tr>\n",
              "      <th>18111</th>\n",
              "      <td>낙태죄 폐지와 자연유산 유도약(미프진) 합법화 및 도입을 부탁드립니다.</td>\n",
              "      <td>안녕하세요. 존경하는 대통령님 의원님\\n낙태죄 폐지를 청원합니다.\\n현재 대한민국은...</td>\n",
              "      <td>235372</td>\n",
              "    </tr>\n",
              "    <tr>\n",
              "      <th>25032</th>\n",
              "      <td>'주취감형(술을 먹으면 형벌 감형)' 폐지를 건의(청원)합니다.</td>\n",
              "      <td>'주취감형'이란, 술을 먹고 범행을 저지를 때, 심신미약 (이성이 없고 우발적)이라...</td>\n",
              "      <td>216774</td>\n",
              "    </tr>\n",
              "    <tr>\n",
              "      <th>43992</th>\n",
              "      <td>권역외상센터 (이국종 교수님) 추가적, 제도적, 환경적, 인력 지원</td>\n",
              "      <td>청원사항)\\n중증외상분야의 추가적, 제도적, 환경적, 인력 지원 방안마련\\n현 의료...</td>\n",
              "      <td>281985</td>\n",
              "    </tr>\n",
              "  </tbody>\n",
              "</table>\n",
              "</div>"
            ],
            "text/plain": [
              "                                                   title  \\\n",
              "1752   청소년이란 이유로 보호법을 악용하는 잔인무도한 청소년들이 늘어나고있습니다. 반드시 ...   \n",
              "10894                                           조두순 출소반대   \n",
              "18111            낙태죄 폐지와 자연유산 유도약(미프진) 합법화 및 도입을 부탁드립니다.   \n",
              "25032                '주취감형(술을 먹으면 형벌 감형)' 폐지를 건의(청원)합니다.   \n",
              "43992              권역외상센터 (이국종 교수님) 추가적, 제도적, 환경적, 인력 지원   \n",
              "\n",
              "                                                 content   votes  \n",
              "1752   안녕하십니까. 청소년보호법이란 명목하에 나쁜짓을 일삼는 청소년들이 너무나 많아지고 ...  296330  \n",
              "10894                      제발 조두순 재심다시해서 무기징역으로 해야됩니다!!!  615354  \n",
              "18111  안녕하세요. 존경하는 대통령님 의원님\\n낙태죄 폐지를 청원합니다.\\n현재 대한민국은...  235372  \n",
              "25032  '주취감형'이란, 술을 먹고 범행을 저지를 때, 심신미약 (이성이 없고 우발적)이라...  216774  \n",
              "43992  청원사항)\\n중증외상분야의 추가적, 제도적, 환경적, 인력 지원 방안마련\\n현 의료...  281985  "
            ]
          },
          "metadata": {
            "tags": []
          },
          "execution_count": 104
        }
      ]
    },
    {
      "cell_type": "code",
      "metadata": {
        "id": "leX8tvfr2gzC",
        "colab_type": "code",
        "colab": {},
        "outputId": "f9d1aa3f-a5f6-4a71-cdfa-0ed1c0a9dc35"
      },
      "source": [
        "df_20.sort_values(by=\"votes\", ascending=False).head(5)"
      ],
      "execution_count": null,
      "outputs": [
        {
          "output_type": "execute_result",
          "data": {
            "text/html": [
              "<div>\n",
              "<style scoped>\n",
              "    .dataframe tbody tr th:only-of-type {\n",
              "        vertical-align: middle;\n",
              "    }\n",
              "\n",
              "    .dataframe tbody tr th {\n",
              "        vertical-align: top;\n",
              "    }\n",
              "\n",
              "    .dataframe thead th {\n",
              "        text-align: right;\n",
              "    }\n",
              "</style>\n",
              "<table border=\"1\" class=\"dataframe\">\n",
              "  <thead>\n",
              "    <tr style=\"text-align: right;\">\n",
              "      <th></th>\n",
              "      <th>article_id</th>\n",
              "      <th>start</th>\n",
              "      <th>end</th>\n",
              "      <th>answered</th>\n",
              "      <th>votes</th>\n",
              "      <th>category</th>\n",
              "      <th>title</th>\n",
              "      <th>content</th>\n",
              "      <th>answer</th>\n",
              "    </tr>\n",
              "  </thead>\n",
              "  <tbody>\n",
              "    <tr>\n",
              "      <th>313314</th>\n",
              "      <td>408609</td>\n",
              "      <td>2018-10-17</td>\n",
              "      <td>2018-11-16</td>\n",
              "      <td>1</td>\n",
              "      <td>1192049</td>\n",
              "      <td>안전/환경</td>\n",
              "      <td>강서구 피시방 살인 사건. 또 심신미약 피의자입니다.</td>\n",
              "      <td>2018년 10월 14일 엊그제 일어난 강서구 피시방 살인사건에 대한 청원입니다.\\...</td>\n",
              "      <td>1</td>\n",
              "    </tr>\n",
              "    <tr>\n",
              "      <th>208597</th>\n",
              "      <td>269548</td>\n",
              "      <td>2018-06-13</td>\n",
              "      <td>2018-07-13</td>\n",
              "      <td>1</td>\n",
              "      <td>714875</td>\n",
              "      <td>외교/통일/국방</td>\n",
              "      <td>제주도 불법 난민 신청 문제에 따른 난민법, 무사증 입국, 난민신청허가 폐지/개헌 ...</td>\n",
              "      <td>2012년 난민법 제정으로 인해 외국인은 한달 무비자로 입국할 수 있으나 난민신청자...</td>\n",
              "      <td>1</td>\n",
              "    </tr>\n",
              "    <tr>\n",
              "      <th>10894</th>\n",
              "      <td>10949</td>\n",
              "      <td>2017-09-06</td>\n",
              "      <td>2017-12-05</td>\n",
              "      <td>1</td>\n",
              "      <td>615354</td>\n",
              "      <td>미래</td>\n",
              "      <td>조두순 출소반대</td>\n",
              "      <td>제발 조두순 재심다시해서 무기징역으로 해야됩니다!!!</td>\n",
              "      <td>1</td>\n",
              "    </tr>\n",
              "    <tr>\n",
              "      <th>118970</th>\n",
              "      <td>142600</td>\n",
              "      <td>2018-02-19</td>\n",
              "      <td>2018-03-21</td>\n",
              "      <td>1</td>\n",
              "      <td>614127</td>\n",
              "      <td>문화/예술/체육/언론</td>\n",
              "      <td>김보름, 박지우 선수의 자격박탈과 적폐 빙상연맹의 엄중 처벌을 청원합니다</td>\n",
              "      <td>오늘 여자 단체전 팀추월에서 김보름, 박지우 선수는 팀전인데도 불구하고 개인의 영달...</td>\n",
              "      <td>1</td>\n",
              "    </tr>\n",
              "    <tr>\n",
              "      <th>183791</th>\n",
              "      <td>230552</td>\n",
              "      <td>2018-05-11</td>\n",
              "      <td>2018-06-10</td>\n",
              "      <td>1</td>\n",
              "      <td>419006</td>\n",
              "      <td>인권/성평등</td>\n",
              "      <td>여성도 대한민국 국민입니다. 성별 관계없는 국가의 보호를 요청합니다.</td>\n",
              "      <td>최근 홍대 누드크로키 모델의 불법촬영 사건이 있었습니다.\\n사건은 굉장히 빠르게 처...</td>\n",
              "      <td>1</td>\n",
              "    </tr>\n",
              "  </tbody>\n",
              "</table>\n",
              "</div>"
            ],
            "text/plain": [
              "        article_id      start        end  answered    votes     category  \\\n",
              "313314      408609 2018-10-17 2018-11-16         1  1192049        안전/환경   \n",
              "208597      269548 2018-06-13 2018-07-13         1   714875     외교/통일/국방   \n",
              "10894        10949 2017-09-06 2017-12-05         1   615354           미래   \n",
              "118970      142600 2018-02-19 2018-03-21         1   614127  문화/예술/체육/언론   \n",
              "183791      230552 2018-05-11 2018-06-10         1   419006       인권/성평등   \n",
              "\n",
              "                                                    title  \\\n",
              "313314                      강서구 피시방 살인 사건. 또 심신미약 피의자입니다.   \n",
              "208597  제주도 불법 난민 신청 문제에 따른 난민법, 무사증 입국, 난민신청허가 폐지/개헌 ...   \n",
              "10894                                            조두순 출소반대   \n",
              "118970           김보름, 박지우 선수의 자격박탈과 적폐 빙상연맹의 엄중 처벌을 청원합니다   \n",
              "183791             여성도 대한민국 국민입니다. 성별 관계없는 국가의 보호를 요청합니다.   \n",
              "\n",
              "                                                  content  answer  \n",
              "313314  2018년 10월 14일 엊그제 일어난 강서구 피시방 살인사건에 대한 청원입니다.\\...       1  \n",
              "208597  2012년 난민법 제정으로 인해 외국인은 한달 무비자로 입국할 수 있으나 난민신청자...       1  \n",
              "10894                       제발 조두순 재심다시해서 무기징역으로 해야됩니다!!!       1  \n",
              "118970  오늘 여자 단체전 팀추월에서 김보름, 박지우 선수는 팀전인데도 불구하고 개인의 영달...       1  \n",
              "183791  최근 홍대 누드크로키 모델의 불법촬영 사건이 있었습니다.\\n사건은 굉장히 빠르게 처...       1  "
            ]
          },
          "metadata": {
            "tags": []
          },
          "execution_count": 105
        }
      ]
    },
    {
      "cell_type": "markdown",
      "metadata": {
        "id": "jtXI4USK2gzE",
        "colab_type": "text"
      },
      "source": [
        "## 20만건 이상 투표 받은 청원을 별도의 칼럼을 만들어줍니다. 칼럼 이름은 answer로 합니다. \n",
        "## True/ False"
      ]
    },
    {
      "cell_type": "code",
      "metadata": {
        "id": "1SSlFw-O2gzE",
        "colab_type": "code",
        "colab": {}
      },
      "source": [
        "df[\"answer\"]= df['votes'] >200000"
      ],
      "execution_count": null,
      "outputs": []
    },
    {
      "cell_type": "code",
      "metadata": {
        "id": "b57-AOK22gzH",
        "colab_type": "code",
        "colab": {},
        "outputId": "4e06f325-4db7-4e07-86d7-c5726e4d4c3d"
      },
      "source": [
        "df.tail()"
      ],
      "execution_count": null,
      "outputs": [
        {
          "output_type": "execute_result",
          "data": {
            "text/html": [
              "<div>\n",
              "<style scoped>\n",
              "    .dataframe tbody tr th:only-of-type {\n",
              "        vertical-align: middle;\n",
              "    }\n",
              "\n",
              "    .dataframe tbody tr th {\n",
              "        vertical-align: top;\n",
              "    }\n",
              "\n",
              "    .dataframe thead th {\n",
              "        text-align: right;\n",
              "    }\n",
              "</style>\n",
              "<table border=\"1\" class=\"dataframe\">\n",
              "  <thead>\n",
              "    <tr style=\"text-align: right;\">\n",
              "      <th></th>\n",
              "      <th>article_id</th>\n",
              "      <th>start</th>\n",
              "      <th>end</th>\n",
              "      <th>answered</th>\n",
              "      <th>votes</th>\n",
              "      <th>category</th>\n",
              "      <th>title</th>\n",
              "      <th>content</th>\n",
              "      <th>answer</th>\n",
              "    </tr>\n",
              "  </thead>\n",
              "  <tbody>\n",
              "    <tr>\n",
              "      <th>395542</th>\n",
              "      <td>517117</td>\n",
              "      <td>2019-02-04</td>\n",
              "      <td>2019-03-06</td>\n",
              "      <td>0</td>\n",
              "      <td>3</td>\n",
              "      <td>보건복지</td>\n",
              "      <td>명절연휴 고속도로 무료반대</td>\n",
              "      <td>명절고속도로 무료보단 대다수의 서민들이 이용하는 대중교통 무료와 명절기간 증차로 했...</td>\n",
              "      <td>False</td>\n",
              "    </tr>\n",
              "    <tr>\n",
              "      <th>395543</th>\n",
              "      <td>517119</td>\n",
              "      <td>2019-02-04</td>\n",
              "      <td>2019-03-06</td>\n",
              "      <td>0</td>\n",
              "      <td>23</td>\n",
              "      <td>보건복지</td>\n",
              "      <td>광주사태 가짜 유공자들 정수기로 걸려내야함</td>\n",
              "      <td>광주사태 유공자들 차고 넘치는데 이래 많은 유공자들 그냥놓아두면 재앙이다.\\n김대중...</td>\n",
              "      <td>False</td>\n",
              "    </tr>\n",
              "    <tr>\n",
              "      <th>395544</th>\n",
              "      <td>517120</td>\n",
              "      <td>2019-02-04</td>\n",
              "      <td>2019-03-06</td>\n",
              "      <td>0</td>\n",
              "      <td>0</td>\n",
              "      <td>안전/환경</td>\n",
              "      <td>환경문제</td>\n",
              "      <td>명절이면 후로 제일문제는 쓰레기 문제 입니다.\\n제일문제는 선물세트와 농산물세트 입...</td>\n",
              "      <td>False</td>\n",
              "    </tr>\n",
              "    <tr>\n",
              "      <th>395545</th>\n",
              "      <td>517121</td>\n",
              "      <td>2019-02-04</td>\n",
              "      <td>2019-03-06</td>\n",
              "      <td>0</td>\n",
              "      <td>20</td>\n",
              "      <td>정치개혁</td>\n",
              "      <td>청화대,더불어민주당, 당장 답하라,,,,,,</td>\n",
              "      <td>좌파 더불어민주당, 좌파 정권 청화대는 선한 국민들을 더는 기망하지 말고 담장 답하...</td>\n",
              "      <td>False</td>\n",
              "    </tr>\n",
              "    <tr>\n",
              "      <th>395546</th>\n",
              "      <td>517122</td>\n",
              "      <td>2019-02-04</td>\n",
              "      <td>2019-03-06</td>\n",
              "      <td>0</td>\n",
              "      <td>16</td>\n",
              "      <td>인권/성평등</td>\n",
              "      <td>여성부 폐지</td>\n",
              "      <td>국민들이 원합니다\\n폐지 좀 시키세요;</td>\n",
              "      <td>False</td>\n",
              "    </tr>\n",
              "  </tbody>\n",
              "</table>\n",
              "</div>"
            ],
            "text/plain": [
              "        article_id      start        end  answered  votes category  \\\n",
              "395542      517117 2019-02-04 2019-03-06         0      3     보건복지   \n",
              "395543      517119 2019-02-04 2019-03-06         0     23     보건복지   \n",
              "395544      517120 2019-02-04 2019-03-06         0      0    안전/환경   \n",
              "395545      517121 2019-02-04 2019-03-06         0     20     정치개혁   \n",
              "395546      517122 2019-02-04 2019-03-06         0     16   인권/성평등   \n",
              "\n",
              "                           title  \\\n",
              "395542            명절연휴 고속도로 무료반대   \n",
              "395543   광주사태 가짜 유공자들 정수기로 걸려내야함   \n",
              "395544                      환경문제   \n",
              "395545  청화대,더불어민주당, 당장 답하라,,,,,,   \n",
              "395546                    여성부 폐지   \n",
              "\n",
              "                                                  content  answer  \n",
              "395542  명절고속도로 무료보단 대다수의 서민들이 이용하는 대중교통 무료와 명절기간 증차로 했...   False  \n",
              "395543  광주사태 유공자들 차고 넘치는데 이래 많은 유공자들 그냥놓아두면 재앙이다.\\n김대중...   False  \n",
              "395544  명절이면 후로 제일문제는 쓰레기 문제 입니다.\\n제일문제는 선물세트와 농산물세트 입...   False  \n",
              "395545  좌파 더불어민주당, 좌파 정권 청화대는 선한 국민들을 더는 기망하지 말고 담장 답하...   False  \n",
              "395546                              국민들이 원합니다\\n폐지 좀 시키세요;   False  "
            ]
          },
          "metadata": {
            "tags": []
          },
          "execution_count": 125
        }
      ]
    },
    {
      "cell_type": "code",
      "metadata": {
        "id": "objJ12Uo2gzJ",
        "colab_type": "code",
        "colab": {},
        "outputId": "dfcdaa2a-1779-4fb5-90e2-64e9880a9656"
      },
      "source": [
        "df.answer.value_counts()"
      ],
      "execution_count": null,
      "outputs": [
        {
          "output_type": "execute_result",
          "data": {
            "text/plain": [
              "0    395467\n",
              "1        80\n",
              "Name: answer, dtype: int64"
            ]
          },
          "metadata": {
            "tags": []
          },
          "execution_count": 139
        }
      ]
    },
    {
      "cell_type": "code",
      "metadata": {
        "id": "evJZIL772gzM",
        "colab_type": "code",
        "colab": {},
        "outputId": "90c0eaa2-8ee7-4085-fdeb-b5bd97d7ddb9"
      },
      "source": [
        "df.shape"
      ],
      "execution_count": null,
      "outputs": [
        {
          "output_type": "execute_result",
          "data": {
            "text/plain": [
              "(395547, 9)"
            ]
          },
          "metadata": {
            "tags": []
          },
          "execution_count": 127
        }
      ]
    },
    {
      "cell_type": "code",
      "metadata": {
        "id": "3gWWuAMn2gzO",
        "colab_type": "code",
        "colab": {},
        "outputId": "3180ae6b-7372-484e-995e-63d3f5e14660"
      },
      "source": [
        "df.answer.dtypes"
      ],
      "execution_count": null,
      "outputs": [
        {
          "output_type": "execute_result",
          "data": {
            "text/plain": [
              "dtype('bool')"
            ]
          },
          "metadata": {
            "tags": []
          },
          "execution_count": 128
        }
      ]
    },
    {
      "cell_type": "code",
      "metadata": {
        "id": "yHwuqixd2gzQ",
        "colab_type": "code",
        "colab": {}
      },
      "source": [
        "df[\"answer\"]= df[\"answer\"].astype(\"int\")"
      ],
      "execution_count": null,
      "outputs": []
    },
    {
      "cell_type": "code",
      "metadata": {
        "id": "2X9Gy9Cg2gzS",
        "colab_type": "code",
        "colab": {},
        "outputId": "08492a7f-5b8c-44f4-b656-f5ca9e8a75cb"
      },
      "source": [
        "df.head()"
      ],
      "execution_count": null,
      "outputs": [
        {
          "output_type": "execute_result",
          "data": {
            "text/html": [
              "<div>\n",
              "<style scoped>\n",
              "    .dataframe tbody tr th:only-of-type {\n",
              "        vertical-align: middle;\n",
              "    }\n",
              "\n",
              "    .dataframe tbody tr th {\n",
              "        vertical-align: top;\n",
              "    }\n",
              "\n",
              "    .dataframe thead th {\n",
              "        text-align: right;\n",
              "    }\n",
              "</style>\n",
              "<table border=\"1\" class=\"dataframe\">\n",
              "  <thead>\n",
              "    <tr style=\"text-align: right;\">\n",
              "      <th></th>\n",
              "      <th>article_id</th>\n",
              "      <th>start</th>\n",
              "      <th>end</th>\n",
              "      <th>answered</th>\n",
              "      <th>votes</th>\n",
              "      <th>category</th>\n",
              "      <th>title</th>\n",
              "      <th>content</th>\n",
              "      <th>answer</th>\n",
              "    </tr>\n",
              "  </thead>\n",
              "  <tbody>\n",
              "    <tr>\n",
              "      <th>0</th>\n",
              "      <td>21</td>\n",
              "      <td>2017-08-19</td>\n",
              "      <td>2017-11-17</td>\n",
              "      <td>0</td>\n",
              "      <td>9</td>\n",
              "      <td>안전/환경</td>\n",
              "      <td>스텔라 데이지호에 대한 제안입니다.</td>\n",
              "      <td>스텔라 데이지호에 대한 제안입니다.\\n3월31일 스텔라 데이지호가 침몰하고 5달째가...</td>\n",
              "      <td>0</td>\n",
              "    </tr>\n",
              "    <tr>\n",
              "      <th>1</th>\n",
              "      <td>22</td>\n",
              "      <td>2017-08-19</td>\n",
              "      <td>2017-11-17</td>\n",
              "      <td>0</td>\n",
              "      <td>17</td>\n",
              "      <td>기타</td>\n",
              "      <td>비리제보처를 만들어주세요.</td>\n",
              "      <td>현 정부에 국민들이 가장 원하는 것은 부패척결입니다.  우리 사회에 각종 비리들이 ...</td>\n",
              "      <td>0</td>\n",
              "    </tr>\n",
              "    <tr>\n",
              "      <th>2</th>\n",
              "      <td>23</td>\n",
              "      <td>2017-08-19</td>\n",
              "      <td>2017-09-03</td>\n",
              "      <td>0</td>\n",
              "      <td>0</td>\n",
              "      <td>미래</td>\n",
              "      <td>제2의 개성공단</td>\n",
              "      <td>만일 하시는 대통령님 및 각 부처 장관님,주무관님들 안녕하세요!!\\n전남 목포에서 ...</td>\n",
              "      <td>0</td>\n",
              "    </tr>\n",
              "    <tr>\n",
              "      <th>3</th>\n",
              "      <td>24</td>\n",
              "      <td>2017-08-19</td>\n",
              "      <td>2017-08-26</td>\n",
              "      <td>0</td>\n",
              "      <td>53</td>\n",
              "      <td>일자리</td>\n",
              "      <td>공공기관 무조건적인 정규직전환을 반대합니다.</td>\n",
              "      <td>현정부에서 정규직 일자리를 늘리는 것에 찬성합니다. 그런데 공공기관 비정규직들은 인...</td>\n",
              "      <td>0</td>\n",
              "    </tr>\n",
              "    <tr>\n",
              "      <th>4</th>\n",
              "      <td>25</td>\n",
              "      <td>2017-08-19</td>\n",
              "      <td>2017-09-03</td>\n",
              "      <td>0</td>\n",
              "      <td>0</td>\n",
              "      <td>미래</td>\n",
              "      <td>제2의 개성공단</td>\n",
              "      <td>만일 하시는 대통령님 및 각 부처 장관님,주무관님들 안녕하세요!!\\n전남 목포에서 ...</td>\n",
              "      <td>0</td>\n",
              "    </tr>\n",
              "  </tbody>\n",
              "</table>\n",
              "</div>"
            ],
            "text/plain": [
              "   article_id      start        end  answered  votes category  \\\n",
              "0          21 2017-08-19 2017-11-17         0      9    안전/환경   \n",
              "1          22 2017-08-19 2017-11-17         0     17       기타   \n",
              "2          23 2017-08-19 2017-09-03         0      0       미래   \n",
              "3          24 2017-08-19 2017-08-26         0     53      일자리   \n",
              "4          25 2017-08-19 2017-09-03         0      0       미래   \n",
              "\n",
              "                      title  \\\n",
              "0       스텔라 데이지호에 대한 제안입니다.   \n",
              "1            비리제보처를 만들어주세요.   \n",
              "2                  제2의 개성공단   \n",
              "3  공공기관 무조건적인 정규직전환을 반대합니다.   \n",
              "4                  제2의 개성공단   \n",
              "\n",
              "                                             content  answer  \n",
              "0  스텔라 데이지호에 대한 제안입니다.\\n3월31일 스텔라 데이지호가 침몰하고 5달째가...       0  \n",
              "1  현 정부에 국민들이 가장 원하는 것은 부패척결입니다.  우리 사회에 각종 비리들이 ...       0  \n",
              "2  만일 하시는 대통령님 및 각 부처 장관님,주무관님들 안녕하세요!!\\n전남 목포에서 ...       0  \n",
              "3  현정부에서 정규직 일자리를 늘리는 것에 찬성합니다. 그런데 공공기관 비정규직들은 인...       0  \n",
              "4  만일 하시는 대통령님 및 각 부처 장관님,주무관님들 안녕하세요!!\\n전남 목포에서 ...       0  "
            ]
          },
          "metadata": {
            "tags": []
          },
          "execution_count": 130
        }
      ]
    },
    {
      "cell_type": "code",
      "metadata": {
        "id": "-LsYaAAd2gzU",
        "colab_type": "code",
        "colab": {},
        "outputId": "98382171-c0e5-41cc-e905-019781b95350"
      },
      "source": [
        "df.dtypes"
      ],
      "execution_count": null,
      "outputs": [
        {
          "output_type": "execute_result",
          "data": {
            "text/plain": [
              "article_id             int64\n",
              "start         datetime64[ns]\n",
              "end           datetime64[ns]\n",
              "answered               int32\n",
              "votes                  int64\n",
              "category              object\n",
              "title                 object\n",
              "content               object\n",
              "answer                 int32\n",
              "dtype: object"
            ]
          },
          "metadata": {
            "tags": []
          },
          "execution_count": 136
        }
      ]
    },
    {
      "cell_type": "code",
      "metadata": {
        "id": "T_JfAoQT2gzW",
        "colab_type": "code",
        "colab": {},
        "outputId": "1294fc3c-d1e2-46cd-ffcf-f32de0375918"
      },
      "source": [
        "df[df[\"answer\"]==1][\"answered\"].value_counts()"
      ],
      "execution_count": null,
      "outputs": [
        {
          "output_type": "execute_result",
          "data": {
            "text/plain": [
              "1    80\n",
              "Name: answered, dtype: int64"
            ]
          },
          "metadata": {
            "tags": []
          },
          "execution_count": 145
        }
      ]
    },
    {
      "cell_type": "code",
      "metadata": {
        "id": "f6XnEB4E2gzY",
        "colab_type": "code",
        "colab": {},
        "outputId": "36bb1c9f-5cc1-4e20-ff79-aab310c41733"
      },
      "source": [
        "answered_df=df[df[\"answer\"]==1]\n",
        "type(answered_df)"
      ],
      "execution_count": null,
      "outputs": [
        {
          "output_type": "execute_result",
          "data": {
            "text/plain": [
              "pandas.core.frame.DataFrame"
            ]
          },
          "metadata": {
            "tags": []
          },
          "execution_count": 132
        }
      ]
    },
    {
      "cell_type": "code",
      "metadata": {
        "id": "xxZm0ce92gza",
        "colab_type": "code",
        "colab": {},
        "outputId": "68ec82e0-6117-49e3-80aa-269236fcad22"
      },
      "source": [
        "df[\"category\"].value_counts().sort_values(ascending=False)"
      ],
      "execution_count": null,
      "outputs": [
        {
          "output_type": "execute_result",
          "data": {
            "text/plain": [
              "정치개혁           62750\n",
              "기타             48682\n",
              "인권/성평등         34993\n",
              "안전/환경          30638\n",
              "교통/건축/국토       28184\n",
              "외교/통일/국방       26626\n",
              "육아/교육          25537\n",
              "보건복지           24848\n",
              "일자리            23225\n",
              "행정             20268\n",
              "문화/예술/체육/언론    18207\n",
              "미래             18000\n",
              "경제민주화          16793\n",
              "성장동력            7253\n",
              "반려동물            4057\n",
              "저출산/고령화대책       3584\n",
              "농산어촌            1902\n",
              "Name: category, dtype: int64"
            ]
          },
          "metadata": {
            "tags": []
          },
          "execution_count": 148
        }
      ]
    },
    {
      "cell_type": "code",
      "metadata": {
        "id": "dnPmx3yd2gzc",
        "colab_type": "code",
        "colab": {},
        "outputId": "1b81fea8-2fbe-4ffd-f6ae-b352c3bbca8e"
      },
      "source": [
        "category=(df[\"category\"].value_counts()).reset_index()\n",
        "category"
      ],
      "execution_count": null,
      "outputs": [
        {
          "output_type": "execute_result",
          "data": {
            "text/html": [
              "<div>\n",
              "<style scoped>\n",
              "    .dataframe tbody tr th:only-of-type {\n",
              "        vertical-align: middle;\n",
              "    }\n",
              "\n",
              "    .dataframe tbody tr th {\n",
              "        vertical-align: top;\n",
              "    }\n",
              "\n",
              "    .dataframe thead th {\n",
              "        text-align: right;\n",
              "    }\n",
              "</style>\n",
              "<table border=\"1\" class=\"dataframe\">\n",
              "  <thead>\n",
              "    <tr style=\"text-align: right;\">\n",
              "      <th></th>\n",
              "      <th>index</th>\n",
              "      <th>category</th>\n",
              "    </tr>\n",
              "  </thead>\n",
              "  <tbody>\n",
              "    <tr>\n",
              "      <th>0</th>\n",
              "      <td>정치개혁</td>\n",
              "      <td>62750</td>\n",
              "    </tr>\n",
              "    <tr>\n",
              "      <th>1</th>\n",
              "      <td>기타</td>\n",
              "      <td>48682</td>\n",
              "    </tr>\n",
              "    <tr>\n",
              "      <th>2</th>\n",
              "      <td>인권/성평등</td>\n",
              "      <td>34993</td>\n",
              "    </tr>\n",
              "    <tr>\n",
              "      <th>3</th>\n",
              "      <td>안전/환경</td>\n",
              "      <td>30638</td>\n",
              "    </tr>\n",
              "    <tr>\n",
              "      <th>4</th>\n",
              "      <td>교통/건축/국토</td>\n",
              "      <td>28184</td>\n",
              "    </tr>\n",
              "    <tr>\n",
              "      <th>5</th>\n",
              "      <td>외교/통일/국방</td>\n",
              "      <td>26626</td>\n",
              "    </tr>\n",
              "    <tr>\n",
              "      <th>6</th>\n",
              "      <td>육아/교육</td>\n",
              "      <td>25537</td>\n",
              "    </tr>\n",
              "    <tr>\n",
              "      <th>7</th>\n",
              "      <td>보건복지</td>\n",
              "      <td>24848</td>\n",
              "    </tr>\n",
              "    <tr>\n",
              "      <th>8</th>\n",
              "      <td>일자리</td>\n",
              "      <td>23225</td>\n",
              "    </tr>\n",
              "    <tr>\n",
              "      <th>9</th>\n",
              "      <td>행정</td>\n",
              "      <td>20268</td>\n",
              "    </tr>\n",
              "    <tr>\n",
              "      <th>10</th>\n",
              "      <td>문화/예술/체육/언론</td>\n",
              "      <td>18207</td>\n",
              "    </tr>\n",
              "    <tr>\n",
              "      <th>11</th>\n",
              "      <td>미래</td>\n",
              "      <td>18000</td>\n",
              "    </tr>\n",
              "    <tr>\n",
              "      <th>12</th>\n",
              "      <td>경제민주화</td>\n",
              "      <td>16793</td>\n",
              "    </tr>\n",
              "    <tr>\n",
              "      <th>13</th>\n",
              "      <td>성장동력</td>\n",
              "      <td>7253</td>\n",
              "    </tr>\n",
              "    <tr>\n",
              "      <th>14</th>\n",
              "      <td>반려동물</td>\n",
              "      <td>4057</td>\n",
              "    </tr>\n",
              "    <tr>\n",
              "      <th>15</th>\n",
              "      <td>저출산/고령화대책</td>\n",
              "      <td>3584</td>\n",
              "    </tr>\n",
              "    <tr>\n",
              "      <th>16</th>\n",
              "      <td>농산어촌</td>\n",
              "      <td>1902</td>\n",
              "    </tr>\n",
              "  </tbody>\n",
              "</table>\n",
              "</div>"
            ],
            "text/plain": [
              "          index  category\n",
              "0          정치개혁     62750\n",
              "1            기타     48682\n",
              "2        인권/성평등     34993\n",
              "3         안전/환경     30638\n",
              "4      교통/건축/국토     28184\n",
              "5      외교/통일/국방     26626\n",
              "6         육아/교육     25537\n",
              "7          보건복지     24848\n",
              "8           일자리     23225\n",
              "9            행정     20268\n",
              "10  문화/예술/체육/언론     18207\n",
              "11           미래     18000\n",
              "12        경제민주화     16793\n",
              "13         성장동력      7253\n",
              "14         반려동물      4057\n",
              "15    저출산/고령화대책      3584\n",
              "16         농산어촌      1902"
            ]
          },
          "metadata": {
            "tags": []
          },
          "execution_count": 149
        }
      ]
    },
    {
      "cell_type": "code",
      "metadata": {
        "id": "W8YloONW2gze",
        "colab_type": "code",
        "colab": {},
        "outputId": "43010de7-7104-487d-b286-10a4584acc3c"
      },
      "source": [
        "category.columns=[\"category\",\"counts\"]\n",
        "category.head(3)"
      ],
      "execution_count": null,
      "outputs": [
        {
          "output_type": "execute_result",
          "data": {
            "text/html": [
              "<div>\n",
              "<style scoped>\n",
              "    .dataframe tbody tr th:only-of-type {\n",
              "        vertical-align: middle;\n",
              "    }\n",
              "\n",
              "    .dataframe tbody tr th {\n",
              "        vertical-align: top;\n",
              "    }\n",
              "\n",
              "    .dataframe thead th {\n",
              "        text-align: right;\n",
              "    }\n",
              "</style>\n",
              "<table border=\"1\" class=\"dataframe\">\n",
              "  <thead>\n",
              "    <tr style=\"text-align: right;\">\n",
              "      <th></th>\n",
              "      <th>category</th>\n",
              "      <th>counts</th>\n",
              "    </tr>\n",
              "  </thead>\n",
              "  <tbody>\n",
              "    <tr>\n",
              "      <th>0</th>\n",
              "      <td>정치개혁</td>\n",
              "      <td>62750</td>\n",
              "    </tr>\n",
              "    <tr>\n",
              "      <th>1</th>\n",
              "      <td>기타</td>\n",
              "      <td>48682</td>\n",
              "    </tr>\n",
              "    <tr>\n",
              "      <th>2</th>\n",
              "      <td>인권/성평등</td>\n",
              "      <td>34993</td>\n",
              "    </tr>\n",
              "  </tbody>\n",
              "</table>\n",
              "</div>"
            ],
            "text/plain": [
              "  category  counts\n",
              "0     정치개혁   62750\n",
              "1       기타   48682\n",
              "2   인권/성평등   34993"
            ]
          },
          "metadata": {
            "tags": []
          },
          "execution_count": 150
        }
      ]
    },
    {
      "cell_type": "markdown",
      "metadata": {
        "id": "H_zVEg5X2gzf",
        "colab_type": "text"
      },
      "source": [
        "### 시계열 데이터\n",
        "#### - 월별 청원수 집계\n",
        "#### - 청원이 가장 많이 들어온 달?\n",
        "#### - 요일별 청원수?"
      ]
    },
    {
      "cell_type": "code",
      "metadata": {
        "id": "L4wPiBh52gzg",
        "colab_type": "code",
        "colab": {}
      },
      "source": [
        "df[\"Date\"]= pd.to_datetime(df['start'])"
      ],
      "execution_count": null,
      "outputs": []
    },
    {
      "cell_type": "code",
      "metadata": {
        "id": "ankNNKph2gzi",
        "colab_type": "code",
        "colab": {},
        "outputId": "34d62a5e-6256-442d-fb19-d540b8dcb3ab"
      },
      "source": [
        "df.head()"
      ],
      "execution_count": null,
      "outputs": [
        {
          "output_type": "execute_result",
          "data": {
            "text/html": [
              "<div>\n",
              "<style scoped>\n",
              "    .dataframe tbody tr th:only-of-type {\n",
              "        vertical-align: middle;\n",
              "    }\n",
              "\n",
              "    .dataframe tbody tr th {\n",
              "        vertical-align: top;\n",
              "    }\n",
              "\n",
              "    .dataframe thead th {\n",
              "        text-align: right;\n",
              "    }\n",
              "</style>\n",
              "<table border=\"1\" class=\"dataframe\">\n",
              "  <thead>\n",
              "    <tr style=\"text-align: right;\">\n",
              "      <th></th>\n",
              "      <th>article_id</th>\n",
              "      <th>start</th>\n",
              "      <th>end</th>\n",
              "      <th>answered</th>\n",
              "      <th>votes</th>\n",
              "      <th>category</th>\n",
              "      <th>title</th>\n",
              "      <th>content</th>\n",
              "      <th>answer</th>\n",
              "      <th>Date</th>\n",
              "      <th>Day</th>\n",
              "      <th>Month</th>\n",
              "    </tr>\n",
              "  </thead>\n",
              "  <tbody>\n",
              "    <tr>\n",
              "      <th>0</th>\n",
              "      <td>21</td>\n",
              "      <td>2017-08-19</td>\n",
              "      <td>2017-11-17</td>\n",
              "      <td>0</td>\n",
              "      <td>9</td>\n",
              "      <td>안전/환경</td>\n",
              "      <td>스텔라 데이지호에 대한 제안입니다.</td>\n",
              "      <td>스텔라 데이지호에 대한 제안입니다.\\n3월31일 스텔라 데이지호가 침몰하고 5달째가...</td>\n",
              "      <td>0</td>\n",
              "      <td>2017-08-19</td>\n",
              "      <td>5</td>\n",
              "      <td>8</td>\n",
              "    </tr>\n",
              "    <tr>\n",
              "      <th>1</th>\n",
              "      <td>22</td>\n",
              "      <td>2017-08-19</td>\n",
              "      <td>2017-11-17</td>\n",
              "      <td>0</td>\n",
              "      <td>17</td>\n",
              "      <td>기타</td>\n",
              "      <td>비리제보처를 만들어주세요.</td>\n",
              "      <td>현 정부에 국민들이 가장 원하는 것은 부패척결입니다.  우리 사회에 각종 비리들이 ...</td>\n",
              "      <td>0</td>\n",
              "      <td>2017-08-19</td>\n",
              "      <td>5</td>\n",
              "      <td>8</td>\n",
              "    </tr>\n",
              "    <tr>\n",
              "      <th>2</th>\n",
              "      <td>23</td>\n",
              "      <td>2017-08-19</td>\n",
              "      <td>2017-09-03</td>\n",
              "      <td>0</td>\n",
              "      <td>0</td>\n",
              "      <td>미래</td>\n",
              "      <td>제2의 개성공단</td>\n",
              "      <td>만일 하시는 대통령님 및 각 부처 장관님,주무관님들 안녕하세요!!\\n전남 목포에서 ...</td>\n",
              "      <td>0</td>\n",
              "      <td>2017-08-19</td>\n",
              "      <td>5</td>\n",
              "      <td>8</td>\n",
              "    </tr>\n",
              "    <tr>\n",
              "      <th>3</th>\n",
              "      <td>24</td>\n",
              "      <td>2017-08-19</td>\n",
              "      <td>2017-08-26</td>\n",
              "      <td>0</td>\n",
              "      <td>53</td>\n",
              "      <td>일자리</td>\n",
              "      <td>공공기관 무조건적인 정규직전환을 반대합니다.</td>\n",
              "      <td>현정부에서 정규직 일자리를 늘리는 것에 찬성합니다. 그런데 공공기관 비정규직들은 인...</td>\n",
              "      <td>0</td>\n",
              "      <td>2017-08-19</td>\n",
              "      <td>5</td>\n",
              "      <td>8</td>\n",
              "    </tr>\n",
              "    <tr>\n",
              "      <th>4</th>\n",
              "      <td>25</td>\n",
              "      <td>2017-08-19</td>\n",
              "      <td>2017-09-03</td>\n",
              "      <td>0</td>\n",
              "      <td>0</td>\n",
              "      <td>미래</td>\n",
              "      <td>제2의 개성공단</td>\n",
              "      <td>만일 하시는 대통령님 및 각 부처 장관님,주무관님들 안녕하세요!!\\n전남 목포에서 ...</td>\n",
              "      <td>0</td>\n",
              "      <td>2017-08-19</td>\n",
              "      <td>5</td>\n",
              "      <td>8</td>\n",
              "    </tr>\n",
              "  </tbody>\n",
              "</table>\n",
              "</div>"
            ],
            "text/plain": [
              "   article_id      start        end  answered  votes category  \\\n",
              "0          21 2017-08-19 2017-11-17         0      9    안전/환경   \n",
              "1          22 2017-08-19 2017-11-17         0     17       기타   \n",
              "2          23 2017-08-19 2017-09-03         0      0       미래   \n",
              "3          24 2017-08-19 2017-08-26         0     53      일자리   \n",
              "4          25 2017-08-19 2017-09-03         0      0       미래   \n",
              "\n",
              "                      title  \\\n",
              "0       스텔라 데이지호에 대한 제안입니다.   \n",
              "1            비리제보처를 만들어주세요.   \n",
              "2                  제2의 개성공단   \n",
              "3  공공기관 무조건적인 정규직전환을 반대합니다.   \n",
              "4                  제2의 개성공단   \n",
              "\n",
              "                                             content  answer       Date  Day  \\\n",
              "0  스텔라 데이지호에 대한 제안입니다.\\n3월31일 스텔라 데이지호가 침몰하고 5달째가...       0 2017-08-19    5   \n",
              "1  현 정부에 국민들이 가장 원하는 것은 부패척결입니다.  우리 사회에 각종 비리들이 ...       0 2017-08-19    5   \n",
              "2  만일 하시는 대통령님 및 각 부처 장관님,주무관님들 안녕하세요!!\\n전남 목포에서 ...       0 2017-08-19    5   \n",
              "3  현정부에서 정규직 일자리를 늘리는 것에 찬성합니다. 그런데 공공기관 비정규직들은 인...       0 2017-08-19    5   \n",
              "4  만일 하시는 대통령님 및 각 부처 장관님,주무관님들 안녕하세요!!\\n전남 목포에서 ...       0 2017-08-19    5   \n",
              "\n",
              "   Month  \n",
              "0      8  \n",
              "1      8  \n",
              "2      8  \n",
              "3      8  \n",
              "4      8  "
            ]
          },
          "metadata": {
            "tags": []
          },
          "execution_count": 202
        }
      ]
    },
    {
      "cell_type": "code",
      "metadata": {
        "id": "9ao4GP7N2gzj",
        "colab_type": "code",
        "colab": {}
      },
      "source": [
        "df[\"Day\"]=df[\"Date\"].dt.dayofweek"
      ],
      "execution_count": null,
      "outputs": []
    },
    {
      "cell_type": "code",
      "metadata": {
        "id": "oYBVNr7k2gzl",
        "colab_type": "code",
        "colab": {}
      },
      "source": [
        "df[\"Month\"]= df['Date'].dt.month"
      ],
      "execution_count": null,
      "outputs": []
    },
    {
      "cell_type": "code",
      "metadata": {
        "id": "SC4bT4Pr2gzn",
        "colab_type": "code",
        "colab": {},
        "outputId": "a6541d90-1591-4de4-a56a-866c0fcd659f"
      },
      "source": [
        "df.shape"
      ],
      "execution_count": null,
      "outputs": [
        {
          "output_type": "execute_result",
          "data": {
            "text/plain": [
              "(395547, 12)"
            ]
          },
          "metadata": {
            "tags": []
          },
          "execution_count": 201
        }
      ]
    },
    {
      "cell_type": "code",
      "metadata": {
        "id": "jl0mo8CA2gzp",
        "colab_type": "code",
        "colab": {},
        "outputId": "c9e213c5-cc54-4b5b-f760-ff03b0839a44"
      },
      "source": [
        "df[\"Month\"].value_counts().sort_index()"
      ],
      "execution_count": null,
      "outputs": [
        {
          "output_type": "execute_result",
          "data": {
            "text/plain": [
              "1     52941\n",
              "2     28117\n",
              "3     21795\n",
              "4     23227\n",
              "5     25499\n",
              "6     25483\n",
              "7     25714\n",
              "8     28851\n",
              "9     40888\n",
              "10    31687\n",
              "11    52847\n",
              "12    38498\n",
              "Name: Month, dtype: int64"
            ]
          },
          "metadata": {
            "tags": []
          },
          "execution_count": 205
        }
      ]
    },
    {
      "cell_type": "code",
      "metadata": {
        "id": "ydRAOhsc2gzs",
        "colab_type": "code",
        "colab": {},
        "outputId": "39d2bd53-b862-4c14-bcd6-c430472724b5"
      },
      "source": [
        "df['Day'].value_counts().sort_index()"
      ],
      "execution_count": null,
      "outputs": [
        {
          "output_type": "execute_result",
          "data": {
            "text/plain": [
              "0    54234\n",
              "1    65229\n",
              "2    61966\n",
              "3    63072\n",
              "4    56646\n",
              "5    50984\n",
              "6    43416\n",
              "Name: Day, dtype: int64"
            ]
          },
          "metadata": {
            "tags": []
          },
          "execution_count": 204
        }
      ]
    },
    {
      "cell_type": "code",
      "metadata": {
        "id": "qaKxfIE-2gzw",
        "colab_type": "code",
        "colab": {},
        "outputId": "4e83a328-354a-49ea-9644-e5a0e5126eaf"
      },
      "source": [
        "import re\n",
        "p=r'.*(돌봄|아이|초등|보육).*'\n",
        "care= df[df['title'].str.match(p) |\n",
        "        df['content'].str.match(p, flags=re.MULTILINE)]\n",
        "\n",
        "care.shape"
      ],
      "execution_count": null,
      "outputs": [
        {
          "output_type": "execute_result",
          "data": {
            "text/plain": [
              "(47490, 12)"
            ]
          },
          "metadata": {
            "tags": []
          },
          "execution_count": 206
        }
      ]
    },
    {
      "cell_type": "code",
      "metadata": {
        "id": "gSkQlAS82gzz",
        "colab_type": "code",
        "colab": {},
        "outputId": "cae0213b-3c5f-41ac-ff36-6ebfd767c28f"
      },
      "source": [
        "care.head"
      ],
      "execution_count": null,
      "outputs": [
        {
          "output_type": "execute_result",
          "data": {
            "text/plain": [
              "<bound method NDFrame.head of         article_id      start        end  answered  votes category  \\\n",
              "3               24 2017-08-19 2017-08-26         0     53      일자리   \n",
              "15              36 2017-08-19 2017-08-26         0      1   인권/성평등   \n",
              "20              42 2017-08-19 2017-09-18         0    173    육아/교육   \n",
              "21              43 2017-08-19 2017-09-18         0  11293    육아/교육   \n",
              "23              45 2017-08-19 2017-11-17         0      0    육아/교육   \n",
              "...            ...        ...        ...       ...    ...      ...   \n",
              "395509      517064 2019-02-04 2019-03-06         0      6     보건복지   \n",
              "395512      517070 2019-02-04 2019-03-06         0      3      일자리   \n",
              "395523      517090 2019-02-04 2019-03-06         0      3     성장동력   \n",
              "395527      517096 2019-02-04 2019-03-06         0      7    육아/교육   \n",
              "395539      517112 2019-02-04 2019-03-06         0      7     보건복지   \n",
              "\n",
              "                                                   title  \\\n",
              "3                               공공기관 무조건적인 정규직전환을 반대합니다.   \n",
              "15         한국채식인구 100만명. 학교 급식 및 군대에서 현미채식 선택권을 보장해주십시오!   \n",
              "20                                  기간제 교사의 정규직화를 반대합니다.   \n",
              "21                                  기간제 교사의 정규직화를 반대합니다.   \n",
              "23                                 초등학교 교사 임용 시험 관련 해결방안   \n",
              "...                                                  ...   \n",
              "395509                               못배운 사람은 이렇게 살아야합니까?   \n",
              "395512  전국 보훈병원  경비,청소,콜센터  계약직 직원 정규직 전환을 빨리 해주었으면 합니다.   \n",
              "395523                 미세먼지 근본 피해 대책으로 1조원 투입 청원 합니다~!!!   \n",
              "395527                                 예비고3이 보는 학생부 종합전형   \n",
              "395539                               보육원생 자립지원 관심이 필요합니다   \n",
              "\n",
              "                                                  content  answer       Date  \\\n",
              "3       현정부에서 정규직 일자리를 늘리는 것에 찬성합니다. 그런데 공공기관 비정규직들은 인...       0 2017-08-19   \n",
              "15      문재인 대통령님과 각 정부 인사분들께 마음속 깊이 존경과 감사를 표합니다. 대한민국...       0 2017-08-19   \n",
              "20      대통령님, 안녕하세요. 저는 임용을 준비하고 수험생입니다. 처음 기간제 정규직화 된...       0 2017-08-19   \n",
              "21      대통령님, 안녕하세요. 저는 임용을 준비하고 수험생입니다. 처음 기간제 정규직화 된...       0 2017-08-19   \n",
              "23      초등학교 교사 임용 시험을 수능 시험 처럼 전국 단위로 실시하고난 후에\\n1지망 2...       0 2017-08-19   \n",
              "...                                                   ...     ...        ...   \n",
              "395509  안녕하십니까?\\n도와주세요 제가 말주변이 없어 뭐라고 적어야 될지 모르겠지만 한번 ...       0 2019-02-04   \n",
              "395512  의료계에서는 국립대병원 10곳에서 총 3366명에 대한 전환 결정이 이뤄졌고, 건강...       0 2019-02-04   \n",
              "395523  안녕하세요~!!\\n미세먼지의 심각성에 대한 국민청원을 해 볼까 합니다~!!\\n현제 ...       0 2019-02-04   \n",
              "395527  국민청원에 올려야할 이야기가 아니라는 것은 잘 알고 있지만, 여기만큼 교육에 관심이...       0 2019-02-04   \n",
              "395539  보육원에서 자라난 아이들이\\n18세에 500만원 손에 쥐고 자립해야하다니요?\\n돈만...       0 2019-02-04   \n",
              "\n",
              "        Day  Month  \n",
              "3         5      8  \n",
              "15        5      8  \n",
              "20        5      8  \n",
              "21        5      8  \n",
              "23        5      8  \n",
              "...     ...    ...  \n",
              "395509    0      2  \n",
              "395512    0      2  \n",
              "395523    0      2  \n",
              "395527    0      2  \n",
              "395539    0      2  \n",
              "\n",
              "[47490 rows x 12 columns]>"
            ]
          },
          "metadata": {
            "tags": []
          },
          "execution_count": 207
        }
      ]
    },
    {
      "cell_type": "code",
      "metadata": {
        "id": "9B2yal5p2gz1",
        "colab_type": "code",
        "colab": {}
      },
      "source": [
        ""
      ],
      "execution_count": null,
      "outputs": []
    }
  ]
}