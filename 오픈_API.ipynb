{
  "nbformat": 4,
  "nbformat_minor": 0,
  "metadata": {
    "kernelspec": {
      "display_name": "Python 3",
      "language": "python",
      "name": "python3"
    },
    "language_info": {
      "codemirror_mode": {
        "name": "ipython",
        "version": 3
      },
      "file_extension": ".py",
      "mimetype": "text/x-python",
      "name": "python",
      "nbconvert_exporter": "python",
      "pygments_lexer": "ipython3",
      "version": "3.8.3"
    },
    "colab": {
      "name": "오픈 API.ipynb",
      "provenance": [],
      "include_colab_link": true
    }
  },
  "cells": [
    {
      "cell_type": "markdown",
      "metadata": {
        "id": "view-in-github",
        "colab_type": "text"
      },
      "source": [
        "<a href=\"https://colab.research.google.com/github/Bokyoung-00/python_education/blob/master/%EC%98%A4%ED%94%88_API.ipynb\" target=\"_parent\"><img src=\"https://colab.research.google.com/assets/colab-badge.svg\" alt=\"Open In Colab\"/></a>"
      ]
    },
    {
      "cell_type": "code",
      "metadata": {
        "id": "t-ZV32Hv1IPa",
        "colab_type": "code",
        "colab": {}
      },
      "source": [
        "my_key=\"z6BZs9HpXQXXlua57rrYEwt18rEuMIbZWoLOe4rQeVv%2FnmcpOLitYFgaEh%2B5qmuNrK%2BFD6zd3hwkAOMxFF7hBA%3D%3D\"\n",
        "url1=\"http://apis.data.go.kr/B553077/api/open/sdsc/\"\n",
        "url2=\"storeZoneInRadius?radius=500&cx=127.004528&cy=37.567538&ServiceKey=\"\n",
        "url3=\"&type=json\"\n",
        "    "
      ],
      "execution_count": null,
      "outputs": []
    },
    {
      "cell_type": "code",
      "metadata": {
        "id": "C3MwVZV81IPd",
        "colab_type": "code",
        "colab": {},
        "outputId": "927d80f8-f300-4d83-fba8-68ed8bcd70a9"
      },
      "source": [
        "url= url1+url2+my_key+url3\n",
        "url"
      ],
      "execution_count": null,
      "outputs": [
        {
          "output_type": "execute_result",
          "data": {
            "text/plain": [
              "'http://apis.data.go.kr/B553077/api/open/sdsc/storeZoneInRadius?radius=500&cx=127.004528&cy=37.567538&ServiceKey=z6BZs9HpXQXXlua57rrYEwt18rEuMIbZWoLOe4rQeVv%2FnmcpOLitYFgaEh%2B5qmuNrK%2BFD6zd3hwkAOMxFF7hBA%3D%3D&type=json'"
            ]
          },
          "metadata": {
            "tags": []
          },
          "execution_count": 2
        }
      ]
    },
    {
      "cell_type": "code",
      "metadata": {
        "id": "jVqRrLQs1IPh",
        "colab_type": "code",
        "colab": {},
        "outputId": "37c183d4-ca11-4423-d664-1c32604a7269"
      },
      "source": [
        "import urllib.request\n",
        "res= urllib.request.urlopen(url) ; res"
      ],
      "execution_count": null,
      "outputs": [
        {
          "output_type": "execute_result",
          "data": {
            "text/plain": [
              "<http.client.HTTPResponse at 0x1beb60aed90>"
            ]
          },
          "metadata": {
            "tags": []
          },
          "execution_count": 10
        }
      ]
    },
    {
      "cell_type": "code",
      "metadata": {
        "scrolled": true,
        "id": "vfJ0hl7B1IPk",
        "colab_type": "code",
        "colab": {}
      },
      "source": [
        "# json_str= res.read(); json_str"
      ],
      "execution_count": null,
      "outputs": []
    },
    {
      "cell_type": "code",
      "metadata": {
        "id": "gQg7o-lW1IPn",
        "colab_type": "code",
        "colab": {}
      },
      "source": [
        "json_str= res.read().decode(\"utf-8\")"
      ],
      "execution_count": null,
      "outputs": []
    },
    {
      "cell_type": "code",
      "metadata": {
        "id": "Y6dxThq41IPq",
        "colab_type": "code",
        "colab": {},
        "outputId": "59eb256a-8ed6-4d8e-8fa4-ccc06af9e6aa"
      },
      "source": [
        "json_str"
      ],
      "execution_count": null,
      "outputs": [
        {
          "output_type": "execute_result",
          "data": {
            "text/plain": [
              "'{\\n\\t\"header\" : {\\n\\t\\t\"description\" : \"소상공인시장진흥공단 주요상권\"\\n\\t\\t,\"resultCode\" : \"00\"\\n\\t\\t,\"resultMsg\" : \"NORMAL SERVICE\"\\n\\t},\\n\\t\"body\" : {\\n\\t\\t\\t\"items\" : [\\n\\t\\t\\t\\t{\\n\\t\\t\\t\\t\"trarNo\" : 2214\\n\\t\\t\\t\\t,\"mainTrarNm\" : \"을지로4가역\"\\n\\t\\t\\t\\t,\"ctprvnCd\" : \"11\"\\n\\t\\t\\t\\t,\"ctprvnNm\" : \"서울특별시\"\\n\\t\\t\\t\\t,\"signguCd\" : \"11140\"\\n\\t\\t\\t\\t,\"signguNm\" : \"중구\"\\n\\t\\t\\t\\t,\"trarArea\" : 88434.9\\n\\t\\t\\t\\t,\"coordNum\" : 8\\n\\t\\t\\t\\t,\"coords\" : \"POLYGON ((126.999081 37.566789, 127.002102 37.566937, 127.001981 37.568644, 127.001871 37.568655, 127.001873 37.569521, 126.998065 37.568812, 126.998213 37.566753, 126.999081 37.566789))\"\\n\\t\\t\\t\\t,\"stdrDt\" : \"2015-12-17\"\\n\\t\\t\\t\\t}\\n\\t\\t\\t\\t,{\\n\\t\\t\\t\\t\"trarNo\" : 2216\\n\\t\\t\\t\\t,\"mainTrarNm\" : \"동대문시장\"\\n\\t\\t\\t\\t,\"ctprvnCd\" : \"11\"\\n\\t\\t\\t\\t,\"ctprvnNm\" : \"서울특별시\"\\n\\t\\t\\t\\t,\"signguCd\" : \"11140\"\\n\\t\\t\\t\\t,\"signguNm\" : \"중구\"\\n\\t\\t\\t\\t,\"trarArea\" : 68658\\n\\t\\t\\t\\t,\"coordNum\" : 15\\n\\t\\t\\t\\t,\"coords\" : \"POLYGON ((127.009453 37.568775, 127.009445 37.569396, 127.009558 37.569397, 127.009543 37.569686, 127.00659 37.569553, 127.006688 37.568112, 127.007709 37.567931, 127.007098 37.567124, 127.006951 37.56706, 127.006146 37.56717, 127.005929 37.566438, 127.007632 37.56611, 127.008198 37.566935, 127.008107 37.566979, 127.009453 37.568775))\"\\n\\t\\t\\t\\t,\"stdrDt\" : \"2015-12-17\"\\n\\t\\t\\t\\t}\\n\\t\\t\\t\\t,{\\n\\t\\t\\t\\t\"trarNo\" : 2207\\n\\t\\t\\t\\t,\"mainTrarNm\" : \"동대문역사문화공원역\"\\n\\t\\t\\t\\t,\"ctprvnCd\" : \"11\"\\n\\t\\t\\t\\t,\"ctprvnNm\" : \"서울특별시\"\\n\\t\\t\\t\\t,\"signguCd\" : \"11140\"\\n\\t\\t\\t\\t,\"signguNm\" : \"중구\"\\n\\t\\t\\t\\t,\"trarArea\" : 81499.1\\n\\t\\t\\t\\t,\"coordNum\" : 8\\n\\t\\t\\t\\t,\"coords\" : \"POLYGON ((127.007565 37.565945, 127.004846 37.566394, 127.002877 37.566759, 127.002341 37.566737, 127.00252 37.5647, 127.004682 37.564852, 127.007062 37.564448, 127.007565 37.565945))\"\\n\\t\\t\\t\\t,\"stdrDt\" : \"2015-12-17\"\\n\\t\\t\\t\\t}\\n\\t\\t\\t\\t,{\\n\\t\\t\\t\\t\"trarNo\" : 2226\\n\\t\\t\\t\\t,\"mainTrarNm\" : \"동대문시장\"\\n\\t\\t\\t\\t,\"ctprvnCd\" : \"11\"\\n\\t\\t\\t\\t,\"ctprvnNm\" : \"서울특별시\"\\n\\t\\t\\t\\t,\"signguCd\" : \"11110\"\\n\\t\\t\\t\\t,\"signguNm\" : \"종로구\"\\n\\t\\t\\t\\t,\"trarArea\" : 82364.6\\n\\t\\t\\t\\t,\"coordNum\" : 28\\n\\t\\t\\t\\t,\"coords\" : \"POLYGON ((127.009388 37.570565, 127.008984 37.571182, 127.008537 37.57103, 127.006426 37.570998, 127.00658 37.570351, 127.006482 37.570257, 127.006356 37.570327, 127.006198 37.57099, 127.005964 37.570986, 127.005915 37.570267, 127.005804 37.570193, 127.005691 37.570283, 127.005737 37.570983, 127.005376 37.570977, 127.005356 37.570376, 127.005244 37.570291, 127.00513 37.570373, 127.005149 37.570973, 127.003561 37.570947, 127.003571 37.570412, 127.003461 37.570336, 127.003348 37.570409, 127.003335 37.570944, 127.002014 37.570911, 127.002118 37.569718, 127.006712 37.569739, 127.009542 37.569875, 127.009388 37.570565))\"\\n\\t\\t\\t\\t,\"stdrDt\" : \"2015-12-17\"\\n\\t\\t\\t\\t}\\n\\t\\t\\t\\t,{\\n\\t\\t\\t\\t\"trarNo\" : 2225\\n\\t\\t\\t\\t,\"mainTrarNm\" : \"서울 종로구 종로5가역_1\"\\n\\t\\t\\t\\t,\"ctprvnCd\" : \"11\"\\n\\t\\t\\t\\t,\"ctprvnNm\" : \"서울특별시\"\\n\\t\\t\\t\\t,\"signguCd\" : \"11110\"\\n\\t\\t\\t\\t,\"signguNm\" : \"종로구\"\\n\\t\\t\\t\\t,\"trarArea\" : 50246.7\\n\\t\\t\\t\\t,\"coordNum\" : 20\\n\\t\\t\\t\\t,\"coords\" : \"POLYGON ((127.001795 37.57082, 127.000088 37.570774, 127.000052 37.570281, 126.999763 37.57022, 126.99964 37.570323, 126.999836 37.570406, 126.999859 37.570757, 126.999321 37.570717, 126.999367 37.570303, 126.999265 37.570221, 126.999145 37.570287, 126.999096 37.5707, 126.999078 37.570524, 126.99887 37.570325, 126.998761 37.570381, 126.998725 37.570672, 126.997866 37.570624, 126.998052 37.568996, 127.001892 37.569705, 127.001795 37.57082))\"\\n\\t\\t\\t\\t,\"stdrDt\" : \"2015-12-17\"\\n\\t\\t\\t\\t}\\n\\t\\t\\t]\\n\\t}\\n}\\n'"
            ]
          },
          "metadata": {
            "tags": []
          },
          "execution_count": 13
        }
      ]
    },
    {
      "cell_type": "code",
      "metadata": {
        "scrolled": true,
        "id": "C86-vON61IPs",
        "colab_type": "code",
        "colab": {},
        "outputId": "77f04e29-0919-4fc0-a690-7f1e9ecc222a"
      },
      "source": [
        "import json\n",
        "json_object = json.loads(json_str) #문자열을 json 으로 변환\n",
        "json_object"
      ],
      "execution_count": null,
      "outputs": [
        {
          "output_type": "execute_result",
          "data": {
            "text/plain": [
              "{'header': {'description': '소상공인시장진흥공단 주요상권',\n",
              "  'resultCode': '00',\n",
              "  'resultMsg': 'NORMAL SERVICE'},\n",
              " 'body': {'items': [{'trarNo': 2214,\n",
              "    'mainTrarNm': '을지로4가역',\n",
              "    'ctprvnCd': '11',\n",
              "    'ctprvnNm': '서울특별시',\n",
              "    'signguCd': '11140',\n",
              "    'signguNm': '중구',\n",
              "    'trarArea': 88434.9,\n",
              "    'coordNum': 8,\n",
              "    'coords': 'POLYGON ((126.999081 37.566789, 127.002102 37.566937, 127.001981 37.568644, 127.001871 37.568655, 127.001873 37.569521, 126.998065 37.568812, 126.998213 37.566753, 126.999081 37.566789))',\n",
              "    'stdrDt': '2015-12-17'},\n",
              "   {'trarNo': 2216,\n",
              "    'mainTrarNm': '동대문시장',\n",
              "    'ctprvnCd': '11',\n",
              "    'ctprvnNm': '서울특별시',\n",
              "    'signguCd': '11140',\n",
              "    'signguNm': '중구',\n",
              "    'trarArea': 68658,\n",
              "    'coordNum': 15,\n",
              "    'coords': 'POLYGON ((127.009453 37.568775, 127.009445 37.569396, 127.009558 37.569397, 127.009543 37.569686, 127.00659 37.569553, 127.006688 37.568112, 127.007709 37.567931, 127.007098 37.567124, 127.006951 37.56706, 127.006146 37.56717, 127.005929 37.566438, 127.007632 37.56611, 127.008198 37.566935, 127.008107 37.566979, 127.009453 37.568775))',\n",
              "    'stdrDt': '2015-12-17'},\n",
              "   {'trarNo': 2207,\n",
              "    'mainTrarNm': '동대문역사문화공원역',\n",
              "    'ctprvnCd': '11',\n",
              "    'ctprvnNm': '서울특별시',\n",
              "    'signguCd': '11140',\n",
              "    'signguNm': '중구',\n",
              "    'trarArea': 81499.1,\n",
              "    'coordNum': 8,\n",
              "    'coords': 'POLYGON ((127.007565 37.565945, 127.004846 37.566394, 127.002877 37.566759, 127.002341 37.566737, 127.00252 37.5647, 127.004682 37.564852, 127.007062 37.564448, 127.007565 37.565945))',\n",
              "    'stdrDt': '2015-12-17'},\n",
              "   {'trarNo': 2226,\n",
              "    'mainTrarNm': '동대문시장',\n",
              "    'ctprvnCd': '11',\n",
              "    'ctprvnNm': '서울특별시',\n",
              "    'signguCd': '11110',\n",
              "    'signguNm': '종로구',\n",
              "    'trarArea': 82364.6,\n",
              "    'coordNum': 28,\n",
              "    'coords': 'POLYGON ((127.009388 37.570565, 127.008984 37.571182, 127.008537 37.57103, 127.006426 37.570998, 127.00658 37.570351, 127.006482 37.570257, 127.006356 37.570327, 127.006198 37.57099, 127.005964 37.570986, 127.005915 37.570267, 127.005804 37.570193, 127.005691 37.570283, 127.005737 37.570983, 127.005376 37.570977, 127.005356 37.570376, 127.005244 37.570291, 127.00513 37.570373, 127.005149 37.570973, 127.003561 37.570947, 127.003571 37.570412, 127.003461 37.570336, 127.003348 37.570409, 127.003335 37.570944, 127.002014 37.570911, 127.002118 37.569718, 127.006712 37.569739, 127.009542 37.569875, 127.009388 37.570565))',\n",
              "    'stdrDt': '2015-12-17'},\n",
              "   {'trarNo': 2225,\n",
              "    'mainTrarNm': '서울 종로구 종로5가역_1',\n",
              "    'ctprvnCd': '11',\n",
              "    'ctprvnNm': '서울특별시',\n",
              "    'signguCd': '11110',\n",
              "    'signguNm': '종로구',\n",
              "    'trarArea': 50246.7,\n",
              "    'coordNum': 20,\n",
              "    'coords': 'POLYGON ((127.001795 37.57082, 127.000088 37.570774, 127.000052 37.570281, 126.999763 37.57022, 126.99964 37.570323, 126.999836 37.570406, 126.999859 37.570757, 126.999321 37.570717, 126.999367 37.570303, 126.999265 37.570221, 126.999145 37.570287, 126.999096 37.5707, 126.999078 37.570524, 126.99887 37.570325, 126.998761 37.570381, 126.998725 37.570672, 126.997866 37.570624, 126.998052 37.568996, 127.001892 37.569705, 127.001795 37.57082))',\n",
              "    'stdrDt': '2015-12-17'}]}}"
            ]
          },
          "metadata": {
            "tags": []
          },
          "execution_count": 15
        }
      ]
    },
    {
      "cell_type": "code",
      "metadata": {
        "id": "LkUaDRlm1IPv",
        "colab_type": "code",
        "colab": {}
      },
      "source": [
        "import pandas as pd\n",
        "from pandas.io.json import json_normalize"
      ],
      "execution_count": null,
      "outputs": []
    },
    {
      "cell_type": "code",
      "metadata": {
        "scrolled": true,
        "id": "HbE2YIxJ1IPx",
        "colab_type": "code",
        "colab": {},
        "outputId": "f7c1e81f-a367-4895-af47-3760a0974bd6"
      },
      "source": [
        "json_object[\"body\"][\"items\"]"
      ],
      "execution_count": null,
      "outputs": [
        {
          "output_type": "execute_result",
          "data": {
            "text/plain": [
              "[{'trarNo': 2214,\n",
              "  'mainTrarNm': '을지로4가역',\n",
              "  'ctprvnCd': '11',\n",
              "  'ctprvnNm': '서울특별시',\n",
              "  'signguCd': '11140',\n",
              "  'signguNm': '중구',\n",
              "  'trarArea': 88434.9,\n",
              "  'coordNum': 8,\n",
              "  'coords': 'POLYGON ((126.999081 37.566789, 127.002102 37.566937, 127.001981 37.568644, 127.001871 37.568655, 127.001873 37.569521, 126.998065 37.568812, 126.998213 37.566753, 126.999081 37.566789))',\n",
              "  'stdrDt': '2015-12-17'},\n",
              " {'trarNo': 2216,\n",
              "  'mainTrarNm': '동대문시장',\n",
              "  'ctprvnCd': '11',\n",
              "  'ctprvnNm': '서울특별시',\n",
              "  'signguCd': '11140',\n",
              "  'signguNm': '중구',\n",
              "  'trarArea': 68658,\n",
              "  'coordNum': 15,\n",
              "  'coords': 'POLYGON ((127.009453 37.568775, 127.009445 37.569396, 127.009558 37.569397, 127.009543 37.569686, 127.00659 37.569553, 127.006688 37.568112, 127.007709 37.567931, 127.007098 37.567124, 127.006951 37.56706, 127.006146 37.56717, 127.005929 37.566438, 127.007632 37.56611, 127.008198 37.566935, 127.008107 37.566979, 127.009453 37.568775))',\n",
              "  'stdrDt': '2015-12-17'},\n",
              " {'trarNo': 2207,\n",
              "  'mainTrarNm': '동대문역사문화공원역',\n",
              "  'ctprvnCd': '11',\n",
              "  'ctprvnNm': '서울특별시',\n",
              "  'signguCd': '11140',\n",
              "  'signguNm': '중구',\n",
              "  'trarArea': 81499.1,\n",
              "  'coordNum': 8,\n",
              "  'coords': 'POLYGON ((127.007565 37.565945, 127.004846 37.566394, 127.002877 37.566759, 127.002341 37.566737, 127.00252 37.5647, 127.004682 37.564852, 127.007062 37.564448, 127.007565 37.565945))',\n",
              "  'stdrDt': '2015-12-17'},\n",
              " {'trarNo': 2226,\n",
              "  'mainTrarNm': '동대문시장',\n",
              "  'ctprvnCd': '11',\n",
              "  'ctprvnNm': '서울특별시',\n",
              "  'signguCd': '11110',\n",
              "  'signguNm': '종로구',\n",
              "  'trarArea': 82364.6,\n",
              "  'coordNum': 28,\n",
              "  'coords': 'POLYGON ((127.009388 37.570565, 127.008984 37.571182, 127.008537 37.57103, 127.006426 37.570998, 127.00658 37.570351, 127.006482 37.570257, 127.006356 37.570327, 127.006198 37.57099, 127.005964 37.570986, 127.005915 37.570267, 127.005804 37.570193, 127.005691 37.570283, 127.005737 37.570983, 127.005376 37.570977, 127.005356 37.570376, 127.005244 37.570291, 127.00513 37.570373, 127.005149 37.570973, 127.003561 37.570947, 127.003571 37.570412, 127.003461 37.570336, 127.003348 37.570409, 127.003335 37.570944, 127.002014 37.570911, 127.002118 37.569718, 127.006712 37.569739, 127.009542 37.569875, 127.009388 37.570565))',\n",
              "  'stdrDt': '2015-12-17'},\n",
              " {'trarNo': 2225,\n",
              "  'mainTrarNm': '서울 종로구 종로5가역_1',\n",
              "  'ctprvnCd': '11',\n",
              "  'ctprvnNm': '서울특별시',\n",
              "  'signguCd': '11110',\n",
              "  'signguNm': '종로구',\n",
              "  'trarArea': 50246.7,\n",
              "  'coordNum': 20,\n",
              "  'coords': 'POLYGON ((127.001795 37.57082, 127.000088 37.570774, 127.000052 37.570281, 126.999763 37.57022, 126.99964 37.570323, 126.999836 37.570406, 126.999859 37.570757, 126.999321 37.570717, 126.999367 37.570303, 126.999265 37.570221, 126.999145 37.570287, 126.999096 37.5707, 126.999078 37.570524, 126.99887 37.570325, 126.998761 37.570381, 126.998725 37.570672, 126.997866 37.570624, 126.998052 37.568996, 127.001892 37.569705, 127.001795 37.57082))',\n",
              "  'stdrDt': '2015-12-17'}]"
            ]
          },
          "metadata": {
            "tags": []
          },
          "execution_count": 17
        }
      ]
    },
    {
      "cell_type": "code",
      "metadata": {
        "id": "-HMdvzf41IPz",
        "colab_type": "code",
        "colab": {},
        "outputId": "296700fc-1b4b-48b7-e364-2f8e788cff44"
      },
      "source": [
        "body=[json_object[\"body\"][\"items\"]]\n",
        "aa= json_normalize(json_object[\"body\"][\"items\"]); aa"
      ],
      "execution_count": null,
      "outputs": [
        {
          "output_type": "stream",
          "text": [
            "<ipython-input-35-f87d42e2609d>:2: FutureWarning: pandas.io.json.json_normalize is deprecated, use pandas.json_normalize instead\n",
            "  aa= json_normalize(json_object[\"body\"][\"items\"]); aa\n"
          ],
          "name": "stderr"
        },
        {
          "output_type": "execute_result",
          "data": {
            "text/html": [
              "<div>\n",
              "<style scoped>\n",
              "    .dataframe tbody tr th:only-of-type {\n",
              "        vertical-align: middle;\n",
              "    }\n",
              "\n",
              "    .dataframe tbody tr th {\n",
              "        vertical-align: top;\n",
              "    }\n",
              "\n",
              "    .dataframe thead th {\n",
              "        text-align: right;\n",
              "    }\n",
              "</style>\n",
              "<table border=\"1\" class=\"dataframe\">\n",
              "  <thead>\n",
              "    <tr style=\"text-align: right;\">\n",
              "      <th></th>\n",
              "      <th>trarNo</th>\n",
              "      <th>mainTrarNm</th>\n",
              "      <th>ctprvnCd</th>\n",
              "      <th>ctprvnNm</th>\n",
              "      <th>signguCd</th>\n",
              "      <th>signguNm</th>\n",
              "      <th>trarArea</th>\n",
              "      <th>coordNum</th>\n",
              "      <th>coords</th>\n",
              "      <th>stdrDt</th>\n",
              "    </tr>\n",
              "  </thead>\n",
              "  <tbody>\n",
              "    <tr>\n",
              "      <th>0</th>\n",
              "      <td>2214</td>\n",
              "      <td>을지로4가역</td>\n",
              "      <td>11</td>\n",
              "      <td>서울특별시</td>\n",
              "      <td>11140</td>\n",
              "      <td>중구</td>\n",
              "      <td>88434.9</td>\n",
              "      <td>8</td>\n",
              "      <td>POLYGON ((126.999081 37.566789, 127.002102 37....</td>\n",
              "      <td>2015-12-17</td>\n",
              "    </tr>\n",
              "    <tr>\n",
              "      <th>1</th>\n",
              "      <td>2216</td>\n",
              "      <td>동대문시장</td>\n",
              "      <td>11</td>\n",
              "      <td>서울특별시</td>\n",
              "      <td>11140</td>\n",
              "      <td>중구</td>\n",
              "      <td>68658.0</td>\n",
              "      <td>15</td>\n",
              "      <td>POLYGON ((127.009453 37.568775, 127.009445 37....</td>\n",
              "      <td>2015-12-17</td>\n",
              "    </tr>\n",
              "    <tr>\n",
              "      <th>2</th>\n",
              "      <td>2207</td>\n",
              "      <td>동대문역사문화공원역</td>\n",
              "      <td>11</td>\n",
              "      <td>서울특별시</td>\n",
              "      <td>11140</td>\n",
              "      <td>중구</td>\n",
              "      <td>81499.1</td>\n",
              "      <td>8</td>\n",
              "      <td>POLYGON ((127.007565 37.565945, 127.004846 37....</td>\n",
              "      <td>2015-12-17</td>\n",
              "    </tr>\n",
              "    <tr>\n",
              "      <th>3</th>\n",
              "      <td>2226</td>\n",
              "      <td>동대문시장</td>\n",
              "      <td>11</td>\n",
              "      <td>서울특별시</td>\n",
              "      <td>11110</td>\n",
              "      <td>종로구</td>\n",
              "      <td>82364.6</td>\n",
              "      <td>28</td>\n",
              "      <td>POLYGON ((127.009388 37.570565, 127.008984 37....</td>\n",
              "      <td>2015-12-17</td>\n",
              "    </tr>\n",
              "    <tr>\n",
              "      <th>4</th>\n",
              "      <td>2225</td>\n",
              "      <td>서울 종로구 종로5가역_1</td>\n",
              "      <td>11</td>\n",
              "      <td>서울특별시</td>\n",
              "      <td>11110</td>\n",
              "      <td>종로구</td>\n",
              "      <td>50246.7</td>\n",
              "      <td>20</td>\n",
              "      <td>POLYGON ((127.001795 37.57082, 127.000088 37.5...</td>\n",
              "      <td>2015-12-17</td>\n",
              "    </tr>\n",
              "  </tbody>\n",
              "</table>\n",
              "</div>"
            ],
            "text/plain": [
              "   trarNo      mainTrarNm ctprvnCd ctprvnNm signguCd signguNm  trarArea  \\\n",
              "0    2214          을지로4가역       11    서울특별시    11140       중구   88434.9   \n",
              "1    2216           동대문시장       11    서울특별시    11140       중구   68658.0   \n",
              "2    2207      동대문역사문화공원역       11    서울특별시    11140       중구   81499.1   \n",
              "3    2226           동대문시장       11    서울특별시    11110      종로구   82364.6   \n",
              "4    2225  서울 종로구 종로5가역_1       11    서울특별시    11110      종로구   50246.7   \n",
              "\n",
              "   coordNum                                             coords      stdrDt  \n",
              "0         8  POLYGON ((126.999081 37.566789, 127.002102 37....  2015-12-17  \n",
              "1        15  POLYGON ((127.009453 37.568775, 127.009445 37....  2015-12-17  \n",
              "2         8  POLYGON ((127.007565 37.565945, 127.004846 37....  2015-12-17  \n",
              "3        28  POLYGON ((127.009388 37.570565, 127.008984 37....  2015-12-17  \n",
              "4        20  POLYGON ((127.001795 37.57082, 127.000088 37.5...  2015-12-17  "
            ]
          },
          "metadata": {
            "tags": []
          },
          "execution_count": 35
        }
      ]
    },
    {
      "cell_type": "code",
      "metadata": {
        "id": "UKvaUDMF1IP2",
        "colab_type": "code",
        "colab": {}
      },
      "source": [
        "## pd.json_normalize(json_object[\"body\"][\"items\"])  이제 이렇게 써도 됨"
      ],
      "execution_count": null,
      "outputs": []
    },
    {
      "cell_type": "code",
      "metadata": {
        "id": "3FR3_OdG1IP4",
        "colab_type": "code",
        "colab": {}
      },
      "source": [
        "# 상권번호, 상권명, 시도코드, 시도명, 시군구코드, 시군구명, 면적, 좌표개수, 좌표값, 데이터기준일자"
      ],
      "execution_count": null,
      "outputs": []
    },
    {
      "cell_type": "code",
      "metadata": {
        "id": "ZKGXHXbK1IP6",
        "colab_type": "code",
        "colab": {}
      },
      "source": [
        "aa.columns=[\"상권번호\",\"상권명\",\"시도코드\",\"시도명\",\"시군구코드\",\"시군구명\",\"면적\",\"좌표개수\",\"좌표값\",\"데이터기준일자\"]\n",
        "df1= aa[[\"상권명\",\"시도코드\",\"시군구코드\",\"데이터기준일자\"]]            "
      ],
      "execution_count": null,
      "outputs": []
    },
    {
      "cell_type": "code",
      "metadata": {
        "id": "inrY1ZHE1IP8",
        "colab_type": "code",
        "colab": {},
        "outputId": "a13291da-e1a9-4aec-adc2-567b489a6294"
      },
      "source": [
        "df1"
      ],
      "execution_count": null,
      "outputs": [
        {
          "output_type": "execute_result",
          "data": {
            "text/html": [
              "<div>\n",
              "<style scoped>\n",
              "    .dataframe tbody tr th:only-of-type {\n",
              "        vertical-align: middle;\n",
              "    }\n",
              "\n",
              "    .dataframe tbody tr th {\n",
              "        vertical-align: top;\n",
              "    }\n",
              "\n",
              "    .dataframe thead th {\n",
              "        text-align: right;\n",
              "    }\n",
              "</style>\n",
              "<table border=\"1\" class=\"dataframe\">\n",
              "  <thead>\n",
              "    <tr style=\"text-align: right;\">\n",
              "      <th></th>\n",
              "      <th>상권명</th>\n",
              "      <th>시도코드</th>\n",
              "      <th>시군구코드</th>\n",
              "      <th>데이터기준일자</th>\n",
              "    </tr>\n",
              "  </thead>\n",
              "  <tbody>\n",
              "    <tr>\n",
              "      <th>0</th>\n",
              "      <td>을지로4가역</td>\n",
              "      <td>11</td>\n",
              "      <td>11140</td>\n",
              "      <td>2015-12-17</td>\n",
              "    </tr>\n",
              "    <tr>\n",
              "      <th>1</th>\n",
              "      <td>동대문시장</td>\n",
              "      <td>11</td>\n",
              "      <td>11140</td>\n",
              "      <td>2015-12-17</td>\n",
              "    </tr>\n",
              "    <tr>\n",
              "      <th>2</th>\n",
              "      <td>동대문역사문화공원역</td>\n",
              "      <td>11</td>\n",
              "      <td>11140</td>\n",
              "      <td>2015-12-17</td>\n",
              "    </tr>\n",
              "    <tr>\n",
              "      <th>3</th>\n",
              "      <td>동대문시장</td>\n",
              "      <td>11</td>\n",
              "      <td>11110</td>\n",
              "      <td>2015-12-17</td>\n",
              "    </tr>\n",
              "    <tr>\n",
              "      <th>4</th>\n",
              "      <td>서울 종로구 종로5가역_1</td>\n",
              "      <td>11</td>\n",
              "      <td>11110</td>\n",
              "      <td>2015-12-17</td>\n",
              "    </tr>\n",
              "  </tbody>\n",
              "</table>\n",
              "</div>"
            ],
            "text/plain": [
              "              상권명 시도코드  시군구코드     데이터기준일자\n",
              "0          을지로4가역   11  11140  2015-12-17\n",
              "1           동대문시장   11  11140  2015-12-17\n",
              "2      동대문역사문화공원역   11  11140  2015-12-17\n",
              "3           동대문시장   11  11110  2015-12-17\n",
              "4  서울 종로구 종로5가역_1   11  11110  2015-12-17"
            ]
          },
          "metadata": {
            "tags": []
          },
          "execution_count": 45
        }
      ]
    },
    {
      "cell_type": "markdown",
      "metadata": {
        "id": "meFA8bVE1IP-",
        "colab_type": "text"
      },
      "source": [
        "##### 실습"
      ]
    },
    {
      "cell_type": "code",
      "metadata": {
        "id": "APFtNz2l1IP_",
        "colab_type": "code",
        "colab": {},
        "outputId": "c1c1567a-aa95-4764-c7a3-0ffa884980ba"
      },
      "source": [
        "import urllib.request\n",
        "url1=\"http://openapi.tago.go.kr/openapi/service/SubwayInfoService/getStrtpntAlocFndTrainInfo?ServiceKey=\"\n",
        "my_key=\"z6BZs9HpXQXXlua57rrYEwt18rEuMIbZWoLOe4rQeVv%2FnmcpOLitYFgaEh%2B5qmuNrK%2BFD6zd3hwkAOMxFF7hBA%3D%3D\"\n",
        "url=\"http://www.gimhae.go.kr/openapi/tour/restaurant.do\"\n",
        "res= urllib.request.urlopen(url) ; res"
      ],
      "execution_count": null,
      "outputs": [
        {
          "output_type": "execute_result",
          "data": {
            "text/plain": [
              "<http.client.HTTPResponse at 0x1beb822f100>"
            ]
          },
          "metadata": {
            "tags": []
          },
          "execution_count": 61
        }
      ]
    },
    {
      "cell_type": "code",
      "metadata": {
        "id": "zEHc85Rx1IQB",
        "colab_type": "code",
        "colab": {},
        "outputId": "ff90fd3f-6666-4ebc-c114-6eb70436ea0e"
      },
      "source": [
        "res= urllib.request.urlopen(url) \n",
        "res.read()"
      ],
      "execution_count": null,
      "outputs": [
        {
          "output_type": "execute_result",
          "data": {
            "text/plain": [
              "b'35d\\r\\n{\"record_count\":368,\"address\":\"\",\"name\":\"\",\"pageunit\":10,\"page\":1,\"results\":[{\"idx\":547,\"name\":\"(\\xec\\x9c\\xa0)\\xec\\x95\\x84\\xec\\x9b\\x83\\xeb\\xb0\\xb1\\xec\\x8a\\xa4\\xed\\x85\\x8c\\xec\\x9d\\xb4\\xed\\x81\\xac\\xed\\x95\\x98\\xec\\x9a\\xb0\\xec\\x8a\\xa4\\xec\\xbd\\x94\\xeb\\xa6\\xac\\xec\\x95\\x84 \\xea\\xb9\\x80\\xed\\x95\\xb4\\xec\\xa0\\x90\",\"category\":\"\\xec\\x96\\x91\\xec\\x8b\\x9d\",\"area\":\"\\xeb\\x82\\xb4\\xec\\x99\\xb8\\xeb\\x8f\\x99\",\"phone\":\"055-337-6191\",\"address\":\"\\xea\\xb2\\xbd\\xec\\x83\\x81\\xeb\\x82\\xa8\\xeb\\x8f\\x84 \\xea\\xb9\\x80\\xed\\x95\\xb4\\xec\\x8b\\x9c \\xeb\\x82\\xb4\\xec\\x99\\xb8\\xec\\xa4\\x91\\xec\\x95\\x99\\xeb\\xa1\\x9c 76, 2\\xec\\xb8\\xb5 (\\xeb\\x82\\xb4\\xeb\\x8f\\x99, \\xec\\x84\\x9c\\xec\\x9a\\xb8\\xeb\\xb9\\x8c\\xeb\\x94\\xa9)\",\"homepage\":\"\",\"businesshour\":\"\\xec\\xa0\\x84\\xed\\x99\\x94\\xeb\\xac\\xb8\\xec\\x9d\\x98\",\"holiday\":\"\\xec\\xa0\\x84\\xed\\x99\\x94\\xeb\\xac\\xb8\\xec\\x9d\\x98\",\"content\":\"\\xec\\x9d\\xb4 \\xec\\x97\\x85\\xec\\x86\\x8c\\xeb\\x8a\\x94 \\xec\\x83\\x9d\\xed\\x99\\x9c\\xeb\\xb0\\xa9\\xec\\x97\\xad\\xec\\x9d\\x84 \\xec\\xa4\\x80\\xec\\x88\\x98\\xed\\x95\\x98\\xeb\\x8a\\x94 \\xec\\x95\\x88\\xec\\x8b\\xac\\xec\\x8b\\x9d\\xeb\\x8b\\xb9\\xec\\x9e\\x85\\xeb\\x8b\\x88\\xeb\\x8b\\xa4.\",\"menuprice\":\"\",\"xposition\":\"35.2367156289288\",\"yposition\":\"128.867421932123\",\"images\":[\"http://www.gimhae.go.kr/CmsMultiFile/view.do?multifileId=MF00004081&idx=23988\"]},{\"idx\":488,\"name\":\"(\\xec\\xa3\\xbc)\\xea\\xb0\\x80\\xec\\x95\\xbc\\xec\\x9c\\xa0\\xed\\x86\\xb5 \\xec\\x9e\\xa5\\xec\\x9c\\xa0\\xed\\x9c\\xb4\\xea\\xb2\\x8c\\xec\\x86\\x8c\",\"category\":\"\\xed\\x95\\x9c\\xec\\x8b\\x9d\",\"area\":\"\\xec\\x9e\\xa5\\xec\\x9c\\xa01\\xeb\\x8f\\x99\",\"phone\":\"055-313-2610\",\"address\":\"\\xea\\xb2\\xbd\\xec\\x83\\x81\\xeb\\x82\\xa8\\xeb\\x8f\\x84 \\xea\\xb9\\x80\\xed\\x95\\xb4\\xec\\x8b\\x9c \\xec\\x9e\\xa5\\xec\\x9c\\xa0\\xeb\\xa1\\x9c116\\xeb\\xb2\\x88\\xea\\xb8\\xb8 44-82 (\\xeb\\xb6\\x80\\xea\\xb3\\xa1\\xeb\\x8f\\x99, \\xec\\x9e\\xa5\\xec\\x9c\\xa0\\xed\\x9c\\xb4\\xea\\xb2\\x8c\\xec\\x86\\x8c)\",\"homepage\":\"\",\"businesshour\":\"\\xec\\xa0\\x84\\xed\\x99\\x94\\xeb\\xac\\xb8\\xec\\x9d\\x98\\r\\n1a6b\\r\\n\",\"holiday\":\"\\xec\\xa0\\x84\\xed\\x99\\x94\\xeb\\xac\\xb8\\xec\\x9d\\x98\",\"content\":\"\\xec\\x9d\\xb4 \\xec\\x97\\x85\\xec\\x86\\x8c\\xeb\\x8a\\x94 \\xec\\x83\\x9d\\xed\\x99\\x9c\\xeb\\xb0\\xa9\\xec\\x97\\xad\\xec\\x9d\\x84 \\xec\\xa4\\x80\\xec\\x88\\x98\\xed\\x95\\x98\\xeb\\x8a\\x94 \\xec\\x95\\x88\\xec\\x8b\\xac\\xec\\x8b\\x9d\\xeb\\x8b\\xb9\\xec\\x9e\\x85\\xeb\\x8b\\x88\\xeb\\x8b\\xa4.\",\"menuprice\":\"\",\"xposition\":\"35.2124648669912\",\"yposition\":\"128.793845393654\",\"images\":[\"http://www.gimhae.go.kr/CmsMultiFile/view.do?multifileId=MF00004017&idx=23929\"]},{\"idx\":268,\"name\":\"(\\xec\\xa3\\xbc)\\xeb\\xb8\\x94\\xeb\\xa3\\xa8\\xed\\x9b\\x97\\xec\\x8b\\x9c\\xec\\x8a\\xa4 \\xec\\x9e\\xa5\\xec\\x82\\xac\\xeb\\x9e\\x91 \\xea\\xb9\\x80\\xed\\x95\\xb4\\xec\\xa0\\x90\",\"category\":\"\\xed\\x95\\x9c\\xec\\x8b\\x9d\",\"area\":\"\\xeb\\x82\\xb4\\xec\\x99\\xb8\\xeb\\x8f\\x99\",\"phone\":\"055-272-1477\",\"address\":\"\\xea\\xb9\\x80\\xed\\x95\\xb4\\xec\\x8b\\x9c \\xea\\xb9\\x80\\xed\\x95\\xb4\\xeb\\x8c\\x80\\xeb\\xa1\\x9c 2232 \\xec\\x8b\\xa0\\xec\\x84\\xb8\\xea\\xb3\\x84\\xeb\\xb0\\xb1\\xed\\x99\\x94\\xec\\xa0\\x90 4\\xec\\xb8\\xb5\",\"homepage\":\"\",\"businesshour\":\"\\xec\\x98\\xa4\\xec\\xa0\\x8411\\xec\\x8b\\x9c ~ \\xec\\x98\\xa4\\xed\\x9b\\x849\\xec\\x8b\\x9c\",\"holiday\":\"1\\xeb\\x85\\x84\\xec\\x97\\x90 11\\xeb\\xb2\\x88 (\\xeb\\xb6\\x88\\xea\\xb7\\x9c\\xec\\xb9\\x99)\",\"content\":\"\\xec\\xa0\\x80\\xed\\x9d\\xac \\xec\\x9e\\xa5\\xec\\x82\\xac\\xeb\\x9e\\x91\\xec\\x9d\\x80 \\xec\\x98\\xa4\\xeb\\x9e\\x98 \\xec\\xa0\\x84 \\xed\\x95\\xa0\\xeb\\xa8\\xb8\\xeb\\x8b\\x88\\xea\\xb0\\x80 \\xed\\x95\\xb4\\xec\\xa3\\xbc\\xec\\x8b\\x9c\\xeb\\x8a\\x94 \\xec\\x8b\\x9c\\xea\\xb3\\xa8\\xec\\x8a\\xa4\\xeb\\x9f\\xac\\xec\\x9b\\x80\\xea\\xb3\\xbc \\xed\\x95\\x9c\\xea\\xb5\\xad \\xec\\xa0\\x84\\xed\\x86\\xb5\\xec\\x9d\\x98 \\xec\\xa1\\xb0\\xeb\\xa6\\xac\\xeb\\xb2\\x95\\xec\\x9c\\xbc\\xeb\\xa1\\x9c \\xea\\xb7\\xb8 \\xeb\\xa7\\x9b\\xec\\x9d\\x84 \\xec\\xa7\\x80\\xed\\x82\\xa4\\xea\\xb3\\xa0 \\xec\\x9e\\x88\\xec\\x8a\\xb5\\xeb\\x8b\\x88\\xeb\\x8b\\xa4.\\\\r\\\\n\\\\r\\\\n\\\\r\\\\n- \\xec\\xa2\\x8c\\xec\\x84\\x9d\\xec\\x88\\x98 : 64\\xec\\x84\\x9d\\\\r\\\\n- \\xec\\xa3\\xbc\\xec\\xb0\\xa8\\xec\\x9e\\xa5\\xec\\xa0\\x95\\xeb\\xb3\\xb4 : \\xec\\x9d\\xb4\\xeb\\xa7\\x88\\xed\\x8a\\xb8 \\xea\\xb3\\xb5\\xeb\\x8f\\x99\\xec\\x82\\xac\\xec\\x9a\\xa9\\\\r\\\\n- \\xec\\xb9\\xb4\\xeb\\x93\\x9c\\xec\\x82\\xac\\xec\\x9a\\xa9 : \\xea\\xb0\\x80\\xeb\\x8a\\xa5\\\\r\\\\n- \\xed\\x99\\x94\\xec\\x9e\\xa5\\xec\\x8b\\xa4 : \\xeb\\xa7\\x88\\xed\\x8a\\xb8\\xea\\xb3\\xb5\\xeb\\x8f\\x99\\xec\\x82\\xac\\xec\\x9a\\xa9\\\\r\\\\n- \\xec\\x9d\\x8c\\xec\\x8b\\x9d\\xed\\x8f\\xac\\xec\\x9e\\xa5 : \\xeb\\xb6\\x88\\xea\\xb0\\x80\\xeb\\x8a\\xa5\",\"menuprice\":\"\\xeb\\xb0\\x94\\xec\\x82\\xad\\xeb\\xb6\\x88\\xea\\xb3\\xa0\\xea\\xb8\\xb0, \\xeb\\xac\\xbc\\xeb\\x83\\x89\\xeb\\xa9\\xb4, \\xea\\xb3\\xa0\\xeb\\x93\\xb1\\xec\\x96\\xb4 \\xea\\xb5\\xac\\xec\\x9d\\xb4, \\xeb\\xb0\\x94\\xec\\x82\\xad\\xeb\\xb6\\x88\\xea\\xb3\\xa0\\xea\\xb8\\xb0\\xeb\\xb0\\xa5\\xec\\x83\\x81, \\xec\\x86\\x94\\xed\\x86\\xa4, \\xea\\xb3\\xa4\\xeb\\x93\\x9c\\xeb\\xa0\\x88 \\xeb\\xb9\\x84\\xeb\\xb9\\x94\\xeb\\xb0\\xa5 \\xeb\\x93\\xb1\",\"xposition\":\"35.22933971803034\",\"yposition\":\"128.8722426839277\",\"images\":[\"http://www.gimhae.go.kr/CmsMultiFile/view.do?multifileId=MF00001863&idx=15901\",\"http://www.gimhae.go.kr/CmsMultiFile/view.do?multifileId=MF00001863&idx=15900\",\"http://www.gimhae.go.kr/CmsMultiFile/view.do?multifileId=MF00001863&idx=15902\",\"http://www.gimhae.go.kr/CmsMultiFile/view.do?multifileId=MF00001863&idx=15903\",\"http://www.gimhae.go.kr/CmsMultiFile/view.do?multifileId=MF00001863&idx=15904\",\"http://www.gimhae.go.kr/CmsMultiFile/view.do?multifileId=MF00001863&idx=15905\",\"http://www.gimhae.go.kr/CmsMultiFile/view.do?multifileId=MF00001863&idx=15906\",\"http://www.gimhae.go.kr/CmsMultiFile/view.do?multifileId=MF00001863&idx=15907\",\"http://www.gimhae.go.kr/CmsMultiFile/view.do?multifileId=MF00001863&idx=15908\",\"http://www.gimhae.go.kr/CmsMultiFile/view.do?multifileId=MF00001863&idx=15909\"]},{\"idx\":525,\"name\":\"(\\xec\\xa3\\xbc)\\xeb\\xb8\\x94\\xeb\\xa3\\xa8\\xed\\x9b\\x97\\xec\\x8b\\x9c\\xec\\x8a\\xa4 \\xec\\x9e\\xa5\\xec\\x82\\xac\\xeb\\x9e\\x91 \\xea\\xb9\\x80\\xed\\x95\\xb4\\xec\\xa0\\x90\",\"category\":\"\\xed\\x95\\x9c\\xec\\x8b\\x9d\",\"area\":\"\\xeb\\x82\\xb4\\xec\\x99\\xb8\\xeb\\x8f\\x99\",\"phone\":\"055-272-1477\",\"address\":\"\\xea\\xb2\\xbd\\xec\\x83\\x81\\xeb\\x82\\xa8\\xeb\\x8f\\x84 \\xea\\xb9\\x80\\xed\\x95\\xb4\\xec\\x8b\\x9c \\xea\\xb9\\x80\\xed\\x95\\xb4\\xeb\\x8c\\x80\\xeb\\xa1\\x9c 2232,  4\\xec\\xb8\\xb5(\\xec\\x99\\xb8\\xeb\\x8f\\x99, \\xec\\x8b\\xa0\\xec\\x84\\xb8\\xea\\xb3\\x84\\xeb\\xb0\\xb1\\xed\\x99\\x94\\xec\\xa0\\x90)\",\"homepage\":\"\",\"businesshour\":\"\\xec\\xa0\\x84\\xed\\x99\\x94\\xeb\\xac\\xb8\\xec\\x9d\\x98\",\"holiday\":\"\\xec\\xa0\\x84\\xed\\x99\\x94\\xeb\\xac\\xb8\\xec\\x9d\\x98\",\"content\":\"\\xec\\x9d\\xb4 \\xec\\x97\\x85\\xec\\x86\\x8c\\xeb\\x8a\\x94 \\xec\\x83\\x9d\\xed\\x99\\x9c\\xeb\\xb0\\xa9\\xec\\x97\\xad\\xec\\x9d\\x84 \\xec\\xa4\\x80\\xec\\x88\\x98\\xed\\x95\\x98\\xeb\\x8a\\x94 \\xec\\x95\\x88\\xec\\x8b\\xac\\xec\\x8b\\x9d\\xeb\\x8b\\xb9\\xec\\x9e\\x85\\xeb\\x8b\\x88\\xeb\\x8b\\xa4.\",\"menuprice\":\"\",\"xposition\":\"35.2293396295983\",\"yposition\":\"128.872242572055\",\"images\":[\"http://www.gimhae.go.kr/CmsMultiFile/view.do?multifileId=MF00004059&idx=23966\"]},{\"idx\":79,\"name\":\"(\\xec\\xa3\\xbc)\\xec\\x99\\xb8\\xec\\x8b\\x9d\\xeb\\xaa\\x85\\xea\\xb0\\x80 \\xec\\x98\\xa4\\xeb\\xa6\\xbd\\xec\\x8a\\xa4\",\"category\":\"\\xed\\x95\\x9c\\xec\\x8b\\x9d\",\"area\":\"\\xeb\\xb6\\x81\\xeb\\xb6\\x80\\xeb\\x8f\\x99\",\"phone\":\"055 -326 -0006\",\"address\":\"\\xea\\xb9\\x80\\xed\\x95\\xb4\\xec\\x8b\\x9c \\xea\\xb9\\x80\\xed\\x95\\xb4\\xeb\\x8c\\x80\\xeb\\xa1\\x9c1765\\xeb\\xb2\\x88\\xea\\xb8\\xb8 14 (\\xec\\x82\\xbc\\xea\\xb3\\x84\\xeb\\x8f\\x99)\",\"homepage\":\"http://oribs.modoo.at/\",\"businesshour\":\"\\xeb\\xa7\\xa4\\xec\\x9d\\xbc 11:30 - 22:00 / \\xeb\\x9d\\xbc\\xec\\x8a\\xa4\\xed\\x8a\\xb8 \\xec\\x98\\xa4\\xeb\\x8d\\x94 21:30\",\"holiday\":\"\\xec\\xa0\\x84\\xed\\x99\\x94\\xeb\\xac\\xb8\\xec\\x9d\\x98 \\xeb\\x98\\x90\\xeb\\x8a\\x94 \\xed\\x99\\x88\\xed\\x8e\\x98\\xec\\x9d\\xb4\\xec\\xa7\\x80 \\xec\\xb0\\xb8\\xea\\xb3\\xa0\",\"content\":\"\\xec\\x8b\\xa0\\xec\\x84\\xa0\\xed\\x95\\x9c \\xec\\x88\\xaf\\xeb\\xb6\\x88\\xea\\xb0\\x88\\xeb\\xb9\\x84\\xeb\\xa5\\xbc \\xeb\\xa7\\x8c\\xeb\\x82\\x98\\xec\\x8b\\xa4 \\xec\\x88\\x98 \\xec\\x9e\\x88\\xeb\\x8a\\x94 \\xea\\xb9\\x80\\xed\\x95\\xb4\\xec\\xa7\\x80\\xec\\x97\\xad \\xec\\xb5\\x9c\\xeb\\x8c\\x80\\xea\\xb7\\x9c\\xeb\\xaa\\xa8 \\xec\\x9d\\x8c\\xec\\x8b\\x9d\\xec\\xa0\\x90, \\xea\\xb0\\x81\\xec\\xa2\\x85 \\xea\\xb8\\xb0\\xeb\\x85\\x90\\xec\\x9d\\xbc, \\xeb\\x8f\\x8c\\xec\\x9e\\x94\\xec\\xb9\\x98, \\xec\\xb9\\xa0\\xec\\x88\\x9c\\xec\\x9e\\x94\\xec\\xb9\\x98, \\xed\\x94\\xbc\\xeb\\xa1\\x9c\\xec\\x97\\xb0 \\xeb\\x93\\xb1 \\xec\\x9e\\x94\\xec\\xb9\\x98 \\xec\\xa0\\x84\\xeb\\xac\\xb8 \\xec\\x9d\\x8c\\xec\\x8b\\x9d\\xec\\xa0\\x90, \\xea\\xb3\\xa0\\xea\\xb0\\x9d\\xeb\\x8b\\x98\\xec\\x9d\\x98 \\xed\\x8a\\xb9\\xeb\\xb3\\x84\\xed\\x95\\x9c\\xeb\\x82\\xa0\\xec\\x97\\x90 \\xec\\xa0\\x81\\xed\\x95\\xa9\\xed\\x95\\x9c \\xed\\x92\\x88\\xea\\xb2\\xa9\\xec\\x9d\\x84 \\xea\\xb0\\x96\\xec\\xb6\\x98 \\xec\\x99\\xb8\\xec\\x8b\\x9d\\xeb\\xaa\\x85\\xea\\xb0\\x80 \\xec\\x98\\xa4\\xeb\\xa6\\xbd\\xec\\x8a\\xa4\\xec\\x97\\x90\\xec\\x84\\x9c \\xed\\x96\\x89\\xeb\\xb3\\xb5\\xed\\x95\\x9c \\xeb\\xa7\\x8c\\xeb\\x82\\xa8, \\xec\\x86\\x8c\\xec\\xa4\\x91\\xed\\x95\\x9c \\xec\\x8b\\x9c\\xea\\xb0\\x84\\xec\\x9d\\x84 \\xea\\xb2\\xbd\\xed\\x97\\x98\\xed\\x95\\x98\\xec\\x84\\xb8\\xec\\x9a\\x94.\",\"menuprice\":\"\\xec\\x86\\x8c\\xea\\xb0\\x88\\xeb\\xb9\\x84, \\xeb\\x93\\xb1\\xec\\x8b\\xac\",\"xposition\":\"35.26763096866446\",\"yposition\":\"128.8623242214489\",\"images\":[\"http://www.gimhae.go.kr/CmsMultiFile/view.do?multifileId=MF00000304&idx=3955\",\"http://www.gimhae.go.kr/CmsMultiFile/view.do?multifileId=MF00000304&idx=3956\",\"http://www.gimhae.go.kr/CmsMultiFile/view.do?multifileId=MF00000304&idx=3957\",\"http://www.gimhae.go.kr/CmsMultiFile/view.do?multifileId=MF00000304&idx=3958\",\"http://www.gimhae.go.kr/CmsMultiFile/view.do?multifileId=MF00000304&idx=3959\",\"http://www.gimhae.go.kr/CmsMultiFile/view.do?multifileId=MF00000304&idx=3960\",\"http://www.gimhae.go.kr/CmsMultiFile/view.do?multifileId=MF00000304&idx=3961\",\"http://www.gimhae.go.kr/CmsMultiFile/view.do?multifileId=MF00000304&idx=3962\",\"http://www.gimhae.go.kr/CmsMultiFile/view.do?multifileId=MF00000304&idx=3963\"]},{\"idx\":491,\"name\":\"(\\xec\\xa3\\xbc)\\xec\\x9c\\xa0\\xeb\\x8b\\x88\\xeb\\x93\\x9c\\xed\\x91\\xb8\\xeb\\x93\\x9c \\xec\\x95\\x88\\xec\\xb1\\x84\\xec\\x9e\\xa5\\xec\\x9c\\xa0\\xec\\xa0\\x90\",\"category\":\"\\xed\\x95\\x9c\\xec\\x8b\\x9d\",\"area\":\"\\xec\\x9e\\xa5\\xec\\x9c\\xa03\\xeb\\x8f\\x99\",\"phone\":\"055-329-4479\",\"address\":\"\\xea\\xb2\\xbd\\xec\\x83\\x81\\xeb\\x82\\xa8\\xeb\\x8f\\x84 \\xea\\xb9\\x80\\xed\\x95\\xb4\\xec\\x8b\\x9c \\xea\\xb4\\x80\\xeb\\x8f\\x99\\xeb\\xa1\\x9c 90 (\\xea\\xb4\\x80\\xeb\\x8f\\x99\\xeb\\x8f\\x99) \",\"homepage\":\"\",\"businesshour\":\"\\xec\\xa0\\x84\\xed\\x99\\x94\\xeb\\xac\\xb8\\xec\\x9d\\x98\",\"holiday\":\"\\xec\\xa0\\x84\\xed\\x99\\x94\\xeb\\xac\\xb8\\xec\\x9d\\x98\",\"content\":\"\\xec\\x9d\\xb4 \\xec\\x97\\x85\\xec\\x86\\x8c\\xeb\\x8a\\x94 \\xec\\x83\\x9d\\xed\\x99\\x9c\\xeb\\xb0\\xa9\\xec\\x97\\xad\\xec\\x9d\\x84 \\xec\\xa4\\x80\\xec\\x88\\x98\\xed\\x95\\x98\\xeb\\x8a\\x94 \\xec\\x95\\x88\\xec\\x8b\\xac\\xec\\x8b\\x9d\\xeb\\x8b\\xb9\\xec\\x9e\\x85\\xeb\\x8b\\x88\\xeb\\x8b\\xa4.\",\"menuprice\":\"\",\"xposition\":\"35.1771537795911\",\"yposition\":\"128.813146399142\",\"images\":[\"http://www.gimhae.go.kr/CmsMultiFile/view.do?multifileId=MF00004020&idx=23932\"]},{\"idx\":492,\"name\":\"(\\xec\\xa3\\xbc)\\xec\\x9c\\xa0\\xeb\\x8b\\x88\\xed\\x91\\xb8\\xeb\\x93\\x9c \\xec\\x95\\x88\\xec\\xb1\\x84\\xea\\xb5\\xac\\xec\\x82\\xb0\\xec\\xa0\\x90\",\"category\":\"\\xed\\x95\\x9c\\xec\\x8b\\x9d\",\"area\":\"\\xeb\\xb6\\x81\\xeb\\xb6\\x80\\xeb\\x8f\\x99\",\"phone\":\"055-327-4406\",\"address\":\"\\xea\\xb2\\xbd\\xec\\x83\\x81\\xeb\\x82\\xa8\\xeb\\x8f\\x84 \\xea\\xb9\\x80\\xed\\x95\\xb4\\xec\\x8b\\x9c \\xea\\xb5\\xac\\xec\\x82\\xb0\\xeb\\xa1\\x9c10\\xeb\\xb2\\x88\\xea\\xb8\\xb8 19 (\\xea\\xb5\\xac\\xec\\x82\\xb0\\xeb\\x8f\\x99) \",\"homepage\":\"\",\"businesshour\":\"\\xec\\xa0\\x84\\xed\\x99\\x94\\xeb\\xac\\xb8\\xec\\x9d\\x98\",\"holiday\":\"\\xec\\xa0\\x84\\xed\\x99\\x94\\xeb\\xac\\xb8\\xec\\x9d\\x98\",\"content\":\"\\xec\\x9d\\xb4 \\xec\\x97\\x85\\xec\\x86\\x8c\\xeb\\x8a\\x94 \\xec\\x83\\x9d\\xed\\x99\\x9c\\xeb\\xb0\\xa9\\xec\\x97\\xad\\xec\\x9d\\x84 \\xec\\xa4\\x80\\xec\\x88\\x98\\xed\\x95\\x98\\xeb\\x8a\\x94 \\xec\\x95\\x88\\xec\\x8b\\xac\\xec\\x8b\\x9d\\xeb\\x8b\\xb9\\xec\\x9e\\x85\\xeb\\x8b\\x88\\xeb\\x8b\\xa4.\",\"menuprice\":\"\",\"xposition\":\"35.2472894304129\",\"yposition\":\"128.870839794039\",\"images\":[\"http://www.gimhae.go.kr/CmsMultiFile/view.do?multifileId=MF00004021&idx=23933\"]},{\"idx\":580,\"name\":\"121(\\xec\\x9b\\x90\\xed\\x88\\xac\\xec\\x9b\\x90)\",\"category\":\"\\xec\\x96\\x91\\xec\\x8b\\x9d\",\"area\":\"\\xec\\x9e\\xa5\\xec\\x9c\\xa03\\xeb\\x8f\\x99\",\"phone\":\"055-325-1211\",\"address\":\"\\xea\\xb2\\xbd\\xec\\x83\\x81\\xeb\\x82\\xa8\\xeb\\x8f\\x84 \\xea\\xb9\\x80\\xed\\x95\\xb4\\xec\\x8b\\x9c \\xea\\xb4\\x80\\xeb\\x8f\\x99\\xeb\\xa1\\x9c 92, 1\\xec\\xb8\\xb5 (\\xea\\xb4\\x80\\xeb\\x8f\\x99\\xeb\\x8f\\x99) \",\"homepage\":\"\",\"businesshour\":\"\\xec\\xa0\\x84\\xed\\x99\\x94\\xeb\\xac\\xb8\\xec\\x9d\\x98\",\"holiday\":\"\\xec\\xa0\\x84\\xed\\x99\\x94\\xeb\\xac\\xb8\\xec\\x9d\\x98\",\"content\":\"\\xec\\x9d\\xb4 \\xec\\x97\\x85\\xec\\x86\\x8c\\xeb\\x8a\\x94 \\xec\\x83\\x9d\\xed\\x99\\x9c\\xeb\\xb0\\xa9\\xec\\x97\\xad\\xec\\x9d\\x84 \\xec\\xa4\\x80\\xec\\x88\\x98\\xed\\x95\\x98\\xeb\\x8a\\x94 \\xec\\x95\\x88\\xec\\x8b\\xac\\xec\\x8b\\x9d\\xeb\\x8b\\xb9\\xec\\x9e\\x85\\xeb\\x8b\\x88\\xeb\\x8b\\xa4.\",\"menuprice\":\"\",\"xposition\":\"35.1771686784346\",\"yposition\":\"128.813403243237\",\"images\":[\"http://www.gimhae.go.kr/CmsMultiFile/view.do?multifileId=MF00004132&idx=24036\"]},{\"idx\":632,\"name\":\"7\\xeb\\xb2\\x88\\xec\\xa7\\x80\\xed\\x9a\\x8c\\xec\\x84\\xbc\\xed\\x83\\x80\",\"category\":\"\\xed\\x95\\x9c\\xec\\x8b\\x9d\",\"area\":\"\\xec\\x9e\\xa5\\xec\\x9c\\xa03\\xeb\\x8f\\x99\",\"phone\":\"055-327-6671\",\"address\":\"\\xea\\xb2\\xbd\\xec\\x83\\x81\\xeb\\x82\\xa8\\xeb\\x8f\\x84 \\xea\\xb9\\x80\\xed\\x95\\xb4\\xec\\x8b\\x9c \\xea\\xb4\\x80\\xeb\\x8f\\x99\\xeb\\xa1\\x9c 114 (\\xea\\xb4\\x80\\xeb\\x8f\\x99\\xeb\\x8f\\x99) \",\"homepage\":\"\",\"businesshour\":\"\\xec\\xa0\\x84\\xed\\x99\\x94\\xeb\\xac\\xb8\\xec\\x9d\\x98\",\"holiday\":\"\\xec\\xa0\\x84\\xed\\x99\\x94\\xeb\\xac\\xb8\\xec\\x9d\\x98\",\"content\":\"\\xec\\x9d\\xb4 \\xec\\x97\\x85\\xec\\x86\\x8c\\xeb\\x8a\\x94 \\xec\\x83\\x9d\\xed\\x99\\x9c\\xeb\\xb0\\xa9\\xec\\x97\\xad\\xec\\x9d\\x84 \\xec\\xa4\\x80\\xec\\x88\\x98\\xed\\x95\\x98\\xeb\\x8a\\x94 \\xec\\x95\\x88\\xec\\x8b\\xac\\xec\\x8b\\x9d\\xeb\\x8b\\xb9\\xec\\x9e\\x85\\xeb\\x8b\\x88\\xeb\\x8b\\xa4.\",\"menuprice\":\"\",\"xposition\":\"35.177426603428\",\"yposition\":\"128.815634398703\",\"images\":[\"http://www.gimhae.go.kr/CmsMultiFile/view.do?multifileId=MF00004211&idx=24112\"]},{\"idx\":127,\"name\":\"KAFE VODIY(\\xec\\xb9\\xb4\\xed\\x8e\\x98\\xeb\\xb2\\x84\\xeb\\x94\\x94)\",\"category\":\"\\xea\\xb8\\xb0\\xed\\x83\\x80\",\"area\":\"\\xed\\x9a\\x8c\\xed\\x98\\x84\\xeb\\x8f\\x99\",\"phone\":\"010-4077-1045\",\"address\":\"\\xea\\xb2\\xbd\\xec\\x83\\x81\\xeb\\x82\\xa8\\xeb\\x8f\\x84 \\xea\\xb9\\x80\\xed\\x95\\xb4\\xec\\x8b\\x9c \\xea\\xb0\\x80\\xeb\\x9d\\xbd\\xeb\\xa1\\x9c86\\xeb\\xb2\\x88\\xea\\xb8\\xb8 10-1 1F\",\"homepage\":\"\",\"businesshour\":\"\\xec\\xa0\\x84\\xed\\x99\\x94\\xeb\\xac\\xb8\\xec\\x9d\\x98\",\"holiday\":\"\\xec\\xa0\\x84\\xed\\x99\\x94\\xeb\\xac\\xb8\\xec\\x9d\\x98\",\"content\":\"\\xe2\\x97\\x8b \\xea\\xb5\\xad\\xea\\xb0\\x80 : \\xec\\x9a\\xb0\\xec\\xa6\\x88\\xeb\\xb2\\xa0\\xed\\x82\\xa4\\xec\\x8a\\xa4\\xed\\x83\\x84\\\\r\\\\n\\xe2\\x97\\x8b \\xeb\\x8c\\x80\\xed\\x91\\x9c\\xeb\\xa9\\x94\\xeb\\x89\\xb4 : \\xec\\x9b\\x8c\\xeb\\x94\\x94(\\xec\\x96\\x91\\xea\\xb0\\x88\\xeb\\xb9\\x84\\xec\\xb0\\x9c) \\\\\\\\9,000 / \\xeb\\x9e\\x91\\xea\\xb2\\x9f\\xeb\\x8f\\x8c(\\xeb\\x8b\\xad\\xea\\xb3\\xa0\\xea\\xb8\\xb0+\\xea\\xb0\\x90\\xec\\x9e\\x90\\xed\\x8a\\x80\\xea\\xb9\\x80) \\\\\\\\8,000\\\\r\\\\n\\xe2\\x97\\x8b \\xec\\x86\\x8c\\xea\\xb0\\x9c\\\\r\\\\n\\xec\\xa7\\x81\\xec\\xa0\\x91 \\xec\\x8b\\x9d\\xeb\\xa3\\x8c\\xed\\x92\\x88\\xec\\xa0\\x90\\xeb\\x8f\\x84 \\xec\\x9a\\xb4\\xec\\x98\\x81 \\xed\\x95\\x98\\xeb\\x8a\\x94 \\xea\\xb3\\xb3\\\\r\\\\n\\xec\\x9a\\xb0\\xec\\xa6\\x88\\xeb\\xb2\\xa0\\xed\\x82\\xa4\\xec\\x8a\\xa4\\xed\\x83\\x84 \\xec\\xa0\\x84\\xed\\x86\\xb5 \\xec\\x9d\\x8c\\xec\\x8b\\x9d\\xea\\xb3\\xbc \\xed\\x95\\x9c\\xec\\x8b\\x9d\\xec\\x9d\\x98 \\xed\\x93\\xa8\\xec\\xa0\\x84!, \\'\\xec\\x9b\\x8c\\xeb\\x94\\x94\\' \\xeb\\x9d\\xbc\\xeb\\x8a\\x94 \\xec\\x96\\x91\\xea\\xb0\\x88\\xeb\\xb9\\x84\\xec\\xb0\\x9c, \\xec\\x95\\xbd\\xea\\xb0\\x84 \\xeb\\xa7\\xa4\\xec\\x9a\\xb4\\xeb\\xa7\\x9b, \\xed\\x95\\x9c\\xea\\xb5\\xad\\xec\\x9d\\xb8 \\xec\\x9e\\x85\\xeb\\xa7\\x9b\\xec\\x97\\x90 \\xea\\xb0\\x95\\xec\\xb6\\x94!\",\"menuprice\":\"\\xec\\x9b\\x8c\\xeb\\x94\\x94(\\xec\\x96\\x91\\xea\\xb0\\x88\\xeb\\xb9\\x84\\xec\\xb0\\x9c)\",\"xposition\":\"35.23420491864508\",\"yposition\":\"128.88254300988098\",\"images\":[\"http://www.gimhae.go.kr/CmsMultiFile/view.do?multifileId=MF00001042&idx=4430\",\"http://www.gimhae.go.kr/CmsMultiFile/view.do?multifileId=MF00001042&idx=4431\",\"http://www.gimhae.go.kr/CmsMultiFile/view.do?multifileId=MF00001042&idx=4432\"]}],\"page_count\":37,\"status\":\"OK\"}\\r\\n0\\r\\n\\r\\n'"
            ]
          },
          "metadata": {
            "tags": []
          },
          "execution_count": 75
        }
      ]
    },
    {
      "cell_type": "code",
      "metadata": {
        "id": "ugyC9a6y1IQD",
        "colab_type": "code",
        "colab": {}
      },
      "source": [
        "res= urllib.request.urlopen(url) \n",
        "json_str= res.read().decode(\"utf-8\")"
      ],
      "execution_count": null,
      "outputs": []
    },
    {
      "cell_type": "code",
      "metadata": {
        "id": "FNTMD5k91IQG",
        "colab_type": "code",
        "colab": {},
        "outputId": "15155369-66e0-44ce-8b8c-0668c11fcee7"
      },
      "source": [
        "json_str"
      ],
      "execution_count": null,
      "outputs": [
        {
          "output_type": "execute_result",
          "data": {
            "text/plain": [
              "'361\\r\\n{\"record_count\":368,\"address\":\"\",\"name\":\"\",\"pageunit\":10,\"page\":1,\"results\":[{\"idx\":547,\"name\":\"(유)아웃백스테이크하우스코리아 김해점\",\"category\":\"양식\",\"area\":\"내외동\",\"phone\":\"055-337-6191\",\"address\":\"경상남도 김해시 내외중앙로 76, 2층 (내동, 서울빌딩)\",\"homepage\":\"\",\"businesshour\":\"전화문의\",\"holiday\":\"전화문의\",\"content\":\"이 업소는 생활방역을 준수하는 안심식당입니다.\",\"menuprice\":\"\",\"xposition\":\"35.2367156289288\",\"yposition\":\"128.867421932123\",\"images\":[\"http://www.gimhae.go.kr/CmsMultiFile/view.do?multifileId=MF00004081&idx=23988\"]},{\"idx\":488,\"name\":\"(주)가야유통 장유휴게소\",\"category\":\"한식\",\"area\":\"장유1동\",\"phone\":\"055-313-2610\",\"address\":\"경상남도 김해시 장유로116번길 44-82 (부곡동, 장유휴게소)\",\"homepage\":\"\",\"businesshour\":\"전화문의\",\"h\\r\\n1a67\\r\\noliday\":\"전화문의\",\"content\":\"이 업소는 생활방역을 준수하는 안심식당입니다.\",\"menuprice\":\"\",\"xposition\":\"35.2124648669912\",\"yposition\":\"128.793845393654\",\"images\":[\"http://www.gimhae.go.kr/CmsMultiFile/view.do?multifileId=MF00004017&idx=23929\"]},{\"idx\":268,\"name\":\"(주)블루훗시스 장사랑 김해점\",\"category\":\"한식\",\"area\":\"내외동\",\"phone\":\"055-272-1477\",\"address\":\"김해시 김해대로 2232 신세계백화점 4층\",\"homepage\":\"\",\"businesshour\":\"오전11시 ~ 오후9시\",\"holiday\":\"1년에 11번 (불규칙)\",\"content\":\"저희 장사랑은 오래 전 할머니가 해주시는 시골스러움과 한국 전통의 조리법으로 그 맛을 지키고 있습니다.\\\\r\\\\n\\\\r\\\\n\\\\r\\\\n- 좌석수 : 64석\\\\r\\\\n- 주차장정보 : 이마트 공동사용\\\\r\\\\n- 카드사용 : 가능\\\\r\\\\n- 화장실 : 마트공동사용\\\\r\\\\n- 음식포장 : 불가능\",\"menuprice\":\"바삭불고기, 물냉면, 고등어 구이, 바삭불고기밥상, 솔톤, 곤드레 비빔밥 등\",\"xposition\":\"35.22933971803034\",\"yposition\":\"128.8722426839277\",\"images\":[\"http://www.gimhae.go.kr/CmsMultiFile/view.do?multifileId=MF00001863&idx=15901\",\"http://www.gimhae.go.kr/CmsMultiFile/view.do?multifileId=MF00001863&idx=15900\",\"http://www.gimhae.go.kr/CmsMultiFile/view.do?multifileId=MF00001863&idx=15902\",\"http://www.gimhae.go.kr/CmsMultiFile/view.do?multifileId=MF00001863&idx=15903\",\"http://www.gimhae.go.kr/CmsMultiFile/view.do?multifileId=MF00001863&idx=15904\",\"http://www.gimhae.go.kr/CmsMultiFile/view.do?multifileId=MF00001863&idx=15905\",\"http://www.gimhae.go.kr/CmsMultiFile/view.do?multifileId=MF00001863&idx=15906\",\"http://www.gimhae.go.kr/CmsMultiFile/view.do?multifileId=MF00001863&idx=15907\",\"http://www.gimhae.go.kr/CmsMultiFile/view.do?multifileId=MF00001863&idx=15908\",\"http://www.gimhae.go.kr/CmsMultiFile/view.do?multifileId=MF00001863&idx=15909\"]},{\"idx\":525,\"name\":\"(주)블루훗시스 장사랑 김해점\",\"category\":\"한식\",\"area\":\"내외동\",\"phone\":\"055-272-1477\",\"address\":\"경상남도 김해시 김해대로 2232,  4층(외동, 신세계백화점)\",\"homepage\":\"\",\"businesshour\":\"전화문의\",\"holiday\":\"전화문의\",\"content\":\"이 업소는 생활방역을 준수하는 안심식당입니다.\",\"menuprice\":\"\",\"xposition\":\"35.2293396295983\",\"yposition\":\"128.872242572055\",\"images\":[\"http://www.gimhae.go.kr/CmsMultiFile/view.do?multifileId=MF00004059&idx=23966\"]},{\"idx\":79,\"name\":\"(주)외식명가 오립스\",\"category\":\"한식\",\"area\":\"북부동\",\"phone\":\"055 -326 -0006\",\"address\":\"김해시 김해대로1765번길 14 (삼계동)\",\"homepage\":\"http://oribs.modoo.at/\",\"businesshour\":\"매일 11:30 - 22:00 / 라스트 오더 21:30\",\"holiday\":\"전화문의 또는 홈페이지 참고\",\"content\":\"신선한 숯불갈비를 만나실 수 있는 김해지역 최대규모 음식점, 각종 기념일, 돌잔치, 칠순잔치, 피로연 등 잔치 전문 음식점, 고객님의 특별한날에 적합한 품격을 갖춘 외식명가 오립스에서 행복한 만남, 소중한 시간을 경험하세요.\",\"menuprice\":\"소갈비, 등심\",\"xposition\":\"35.26763096866446\",\"yposition\":\"128.8623242214489\",\"images\":[\"http://www.gimhae.go.kr/CmsMultiFile/view.do?multifileId=MF00000304&idx=3955\",\"http://www.gimhae.go.kr/CmsMultiFile/view.do?multifileId=MF00000304&idx=3956\",\"http://www.gimhae.go.kr/CmsMultiFile/view.do?multifileId=MF00000304&idx=3957\",\"http://www.gimhae.go.kr/CmsMultiFile/view.do?multifileId=MF00000304&idx=3958\",\"http://www.gimhae.go.kr/CmsMultiFile/view.do?multifileId=MF00000304&idx=3959\",\"http://www.gimhae.go.kr/CmsMultiFile/view.do?multifileId=MF00000304&idx=3960\",\"http://www.gimhae.go.kr/CmsMultiFile/view.do?multifileId=MF00000304&idx=3961\",\"http://www.gimhae.go.kr/CmsMultiFile/view.do?multifileId=MF00000304&idx=3962\",\"http://www.gimhae.go.kr/CmsMultiFile/view.do?multifileId=MF00000304&idx=3963\"]},{\"idx\":491,\"name\":\"(주)유니드푸드 안채장유점\",\"category\":\"한식\",\"area\":\"장유3동\",\"phone\":\"055-329-4479\",\"address\":\"경상남도 김해시 관동로 90 (관동동) \",\"homepage\":\"\",\"businesshour\":\"전화문의\",\"holiday\":\"전화문의\",\"content\":\"이 업소는 생활방역을 준수하는 안심식당입니다.\",\"menuprice\":\"\",\"xposition\":\"35.1771537795911\",\"yposition\":\"128.813146399142\",\"images\":[\"http://www.gimhae.go.kr/CmsMultiFile/view.do?multifileId=MF00004020&idx=23932\"]},{\"idx\":492,\"name\":\"(주)유니푸드 안채구산점\",\"category\":\"한식\",\"area\":\"북부동\",\"phone\":\"055-327-4406\",\"address\":\"경상남도 김해시 구산로10번길 19 (구산동) \",\"homepage\":\"\",\"businesshour\":\"전화문의\",\"holiday\":\"전화문의\",\"content\":\"이 업소는 생활방역을 준수하는 안심식당입니다.\",\"menuprice\":\"\",\"xposition\":\"35.2472894304129\",\"yposition\":\"128.870839794039\",\"images\":[\"http://www.gimhae.go.kr/CmsMultiFile/view.do?multifileId=MF00004021&idx=23933\"]},{\"idx\":580,\"name\":\"121(원투원)\",\"category\":\"양식\",\"area\":\"장유3동\",\"phone\":\"055-325-1211\",\"address\":\"경상남도 김해시 관동로 92, 1층 (관동동) \",\"homepage\":\"\",\"businesshour\":\"전화문의\",\"holiday\":\"전화문의\",\"content\":\"이 업소는 생활방역을 준수하는 안심식당입니다.\",\"menuprice\":\"\",\"xposition\":\"35.1771686784346\",\"yposition\":\"128.813403243237\",\"images\":[\"http://www.gimhae.go.kr/CmsMultiFile/view.do?multifileId=MF00004132&idx=24036\"]},{\"idx\":632,\"name\":\"7번지회센타\",\"category\":\"한식\",\"area\":\"장유3동\",\"phone\":\"055-327-6671\",\"address\":\"경상남도 김해시 관동로 114 (관동동) \",\"homepage\":\"\",\"businesshour\":\"전화문의\",\"holiday\":\"전화문의\",\"content\":\"이 업소는 생활방역을 준수하는 안심식당입니다.\",\"menuprice\":\"\",\"xposition\":\"35.177426603428\",\"yposition\":\"128.815634398703\",\"images\":[\"http://www.gimhae.go.kr/CmsMultiFile/view.do?multifileId=MF00004211&idx=24112\"]},{\"idx\":127,\"name\":\"KAFE VODIY(카페버디)\",\"category\":\"기타\",\"area\":\"회현동\",\"phone\":\"010-4077-1045\",\"address\":\"경상남도 김해시 가락로86번길 10-1 1F\",\"homepage\":\"\",\"businesshour\":\"전화문의\",\"holiday\":\"전화문의\",\"content\":\"○ 국가 : 우즈베키스탄\\\\r\\\\n○ 대표메뉴 : 워디(양갈비찜) \\\\\\\\9,000 / 랑겟돌(닭고기+감자튀김) \\\\\\\\8,000\\\\r\\\\n○ 소개\\\\r\\\\n직접 식료품점도 운영 하는 곳\\\\r\\\\n우즈베키스탄 전통 음식과 한식의 퓨전!, \\'워디\\' 라는 양갈비찜, 약간 매운맛, 한국인 입맛에 강추!\",\"menuprice\":\"워디(양갈비찜)\",\"xposition\":\"35.23420491864508\",\"yposition\":\"128.88254300988098\",\"images\":[\"http://www.gimhae.go.kr/CmsMultiFile/view.do?multifileId=MF00001042&idx=4430\",\"http://www.gimhae.go.kr/CmsMultiFile/view.do?multifileId=MF00001042&idx=4431\",\"http://www.gimhae.go.kr/CmsMultiFile/view.do?multifileId=MF00001042&idx=4432\"]}],\"page_count\":37,\"status\":\"OK\"}\\r\\n0\\r\\n\\r\\n'"
            ]
          },
          "metadata": {
            "tags": []
          },
          "execution_count": 79
        }
      ]
    },
    {
      "cell_type": "code",
      "metadata": {
        "id": "Sh1eGzLm1IQI",
        "colab_type": "code",
        "colab": {},
        "outputId": "accc565b-a0cf-44de-95c0-d07bd877ac71"
      },
      "source": [
        "import json\n",
        "json_object = json.loads(res.read().decode(\"utf-8\"))"
      ],
      "execution_count": null,
      "outputs": [
        {
          "output_type": "error",
          "ename": "JSONDecodeError",
          "evalue": "Expecting value: line 1 column 1 (char 0)",
          "traceback": [
            "\u001b[1;31m---------------------------------------------------------------------------\u001b[0m",
            "\u001b[1;31mJSONDecodeError\u001b[0m                           Traceback (most recent call last)",
            "\u001b[1;32m<ipython-input-80-99dec56d252d>\u001b[0m in \u001b[0;36m<module>\u001b[1;34m\u001b[0m\n\u001b[0;32m      1\u001b[0m \u001b[1;32mimport\u001b[0m \u001b[0mjson\u001b[0m\u001b[1;33m\u001b[0m\u001b[1;33m\u001b[0m\u001b[0m\n\u001b[1;32m----> 2\u001b[1;33m \u001b[0mjson_object\u001b[0m \u001b[1;33m=\u001b[0m \u001b[0mjson\u001b[0m\u001b[1;33m.\u001b[0m\u001b[0mloads\u001b[0m\u001b[1;33m(\u001b[0m\u001b[0mres\u001b[0m\u001b[1;33m.\u001b[0m\u001b[0mread\u001b[0m\u001b[1;33m(\u001b[0m\u001b[1;33m)\u001b[0m\u001b[1;33m.\u001b[0m\u001b[0mdecode\u001b[0m\u001b[1;33m(\u001b[0m\u001b[1;34m\"utf-8\"\u001b[0m\u001b[1;33m)\u001b[0m\u001b[1;33m)\u001b[0m\u001b[1;33m\u001b[0m\u001b[1;33m\u001b[0m\u001b[0m\n\u001b[0m",
            "\u001b[1;32mC:\\anaconda3\\lib\\json\\__init__.py\u001b[0m in \u001b[0;36mloads\u001b[1;34m(s, cls, object_hook, parse_float, parse_int, parse_constant, object_pairs_hook, **kw)\u001b[0m\n\u001b[0;32m    355\u001b[0m             \u001b[0mparse_int\u001b[0m \u001b[1;32mis\u001b[0m \u001b[1;32mNone\u001b[0m \u001b[1;32mand\u001b[0m \u001b[0mparse_float\u001b[0m \u001b[1;32mis\u001b[0m \u001b[1;32mNone\u001b[0m \u001b[1;32mand\u001b[0m\u001b[1;33m\u001b[0m\u001b[1;33m\u001b[0m\u001b[0m\n\u001b[0;32m    356\u001b[0m             parse_constant is None and object_pairs_hook is None and not kw):\n\u001b[1;32m--> 357\u001b[1;33m         \u001b[1;32mreturn\u001b[0m \u001b[0m_default_decoder\u001b[0m\u001b[1;33m.\u001b[0m\u001b[0mdecode\u001b[0m\u001b[1;33m(\u001b[0m\u001b[0ms\u001b[0m\u001b[1;33m)\u001b[0m\u001b[1;33m\u001b[0m\u001b[1;33m\u001b[0m\u001b[0m\n\u001b[0m\u001b[0;32m    358\u001b[0m     \u001b[1;32mif\u001b[0m \u001b[0mcls\u001b[0m \u001b[1;32mis\u001b[0m \u001b[1;32mNone\u001b[0m\u001b[1;33m:\u001b[0m\u001b[1;33m\u001b[0m\u001b[1;33m\u001b[0m\u001b[0m\n\u001b[0;32m    359\u001b[0m         \u001b[0mcls\u001b[0m \u001b[1;33m=\u001b[0m \u001b[0mJSONDecoder\u001b[0m\u001b[1;33m\u001b[0m\u001b[1;33m\u001b[0m\u001b[0m\n",
            "\u001b[1;32mC:\\anaconda3\\lib\\json\\decoder.py\u001b[0m in \u001b[0;36mdecode\u001b[1;34m(self, s, _w)\u001b[0m\n\u001b[0;32m    335\u001b[0m \u001b[1;33m\u001b[0m\u001b[0m\n\u001b[0;32m    336\u001b[0m         \"\"\"\n\u001b[1;32m--> 337\u001b[1;33m         \u001b[0mobj\u001b[0m\u001b[1;33m,\u001b[0m \u001b[0mend\u001b[0m \u001b[1;33m=\u001b[0m \u001b[0mself\u001b[0m\u001b[1;33m.\u001b[0m\u001b[0mraw_decode\u001b[0m\u001b[1;33m(\u001b[0m\u001b[0ms\u001b[0m\u001b[1;33m,\u001b[0m \u001b[0midx\u001b[0m\u001b[1;33m=\u001b[0m\u001b[0m_w\u001b[0m\u001b[1;33m(\u001b[0m\u001b[0ms\u001b[0m\u001b[1;33m,\u001b[0m \u001b[1;36m0\u001b[0m\u001b[1;33m)\u001b[0m\u001b[1;33m.\u001b[0m\u001b[0mend\u001b[0m\u001b[1;33m(\u001b[0m\u001b[1;33m)\u001b[0m\u001b[1;33m)\u001b[0m\u001b[1;33m\u001b[0m\u001b[1;33m\u001b[0m\u001b[0m\n\u001b[0m\u001b[0;32m    338\u001b[0m         \u001b[0mend\u001b[0m \u001b[1;33m=\u001b[0m \u001b[0m_w\u001b[0m\u001b[1;33m(\u001b[0m\u001b[0ms\u001b[0m\u001b[1;33m,\u001b[0m \u001b[0mend\u001b[0m\u001b[1;33m)\u001b[0m\u001b[1;33m.\u001b[0m\u001b[0mend\u001b[0m\u001b[1;33m(\u001b[0m\u001b[1;33m)\u001b[0m\u001b[1;33m\u001b[0m\u001b[1;33m\u001b[0m\u001b[0m\n\u001b[0;32m    339\u001b[0m         \u001b[1;32mif\u001b[0m \u001b[0mend\u001b[0m \u001b[1;33m!=\u001b[0m \u001b[0mlen\u001b[0m\u001b[1;33m(\u001b[0m\u001b[0ms\u001b[0m\u001b[1;33m)\u001b[0m\u001b[1;33m:\u001b[0m\u001b[1;33m\u001b[0m\u001b[1;33m\u001b[0m\u001b[0m\n",
            "\u001b[1;32mC:\\anaconda3\\lib\\json\\decoder.py\u001b[0m in \u001b[0;36mraw_decode\u001b[1;34m(self, s, idx)\u001b[0m\n\u001b[0;32m    353\u001b[0m             \u001b[0mobj\u001b[0m\u001b[1;33m,\u001b[0m \u001b[0mend\u001b[0m \u001b[1;33m=\u001b[0m \u001b[0mself\u001b[0m\u001b[1;33m.\u001b[0m\u001b[0mscan_once\u001b[0m\u001b[1;33m(\u001b[0m\u001b[0ms\u001b[0m\u001b[1;33m,\u001b[0m \u001b[0midx\u001b[0m\u001b[1;33m)\u001b[0m\u001b[1;33m\u001b[0m\u001b[1;33m\u001b[0m\u001b[0m\n\u001b[0;32m    354\u001b[0m         \u001b[1;32mexcept\u001b[0m \u001b[0mStopIteration\u001b[0m \u001b[1;32mas\u001b[0m \u001b[0merr\u001b[0m\u001b[1;33m:\u001b[0m\u001b[1;33m\u001b[0m\u001b[1;33m\u001b[0m\u001b[0m\n\u001b[1;32m--> 355\u001b[1;33m             \u001b[1;32mraise\u001b[0m \u001b[0mJSONDecodeError\u001b[0m\u001b[1;33m(\u001b[0m\u001b[1;34m\"Expecting value\"\u001b[0m\u001b[1;33m,\u001b[0m \u001b[0ms\u001b[0m\u001b[1;33m,\u001b[0m \u001b[0merr\u001b[0m\u001b[1;33m.\u001b[0m\u001b[0mvalue\u001b[0m\u001b[1;33m)\u001b[0m \u001b[1;32mfrom\u001b[0m \u001b[1;32mNone\u001b[0m\u001b[1;33m\u001b[0m\u001b[1;33m\u001b[0m\u001b[0m\n\u001b[0m\u001b[0;32m    356\u001b[0m         \u001b[1;32mreturn\u001b[0m \u001b[0mobj\u001b[0m\u001b[1;33m,\u001b[0m \u001b[0mend\u001b[0m\u001b[1;33m\u001b[0m\u001b[1;33m\u001b[0m\u001b[0m\n",
            "\u001b[1;31mJSONDecodeError\u001b[0m: Expecting value: line 1 column 1 (char 0)"
          ]
        }
      ]
    },
    {
      "cell_type": "code",
      "metadata": {
        "id": "Q8GxOEf91IQL",
        "colab_type": "code",
        "colab": {}
      },
      "source": [
        ""
      ],
      "execution_count": null,
      "outputs": []
    }
  ]
}