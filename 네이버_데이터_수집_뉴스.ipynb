{
  "nbformat": 4,
  "nbformat_minor": 0,
  "metadata": {
    "kernelspec": {
      "display_name": "Python 3",
      "language": "python",
      "name": "python3"
    },
    "language_info": {
      "codemirror_mode": {
        "name": "ipython",
        "version": 3
      },
      "file_extension": ".py",
      "mimetype": "text/x-python",
      "name": "python",
      "nbconvert_exporter": "python",
      "pygments_lexer": "ipython3",
      "version": "3.8.3"
    },
    "colab": {
      "name": "네이버 데이터 수집_뉴스 (1).ipynb",
      "provenance": [],
      "include_colab_link": true
    }
  },
  "cells": [
    {
      "cell_type": "markdown",
      "metadata": {
        "id": "view-in-github",
        "colab_type": "text"
      },
      "source": [
        "<a href=\"https://colab.research.google.com/github/Bokyoung-00/python_education/blob/master/%EB%84%A4%EC%9D%B4%EB%B2%84_%EB%8D%B0%EC%9D%B4%ED%84%B0_%EC%88%98%EC%A7%91_%EB%89%B4%EC%8A%A4.ipynb\" target=\"_parent\"><img src=\"https://colab.research.google.com/assets/colab-badge.svg\" alt=\"Open In Colab\"/></a>"
      ]
    },
    {
      "cell_type": "code",
      "metadata": {
        "id": "TxC-z1eS1mLE",
        "colab_type": "code",
        "colab": {}
      },
      "source": [
        "import requests"
      ],
      "execution_count": null,
      "outputs": []
    },
    {
      "cell_type": "code",
      "metadata": {
        "id": "tEM997dj1mLJ",
        "colab_type": "code",
        "colab": {}
      },
      "source": [
        "from bs4 import BeautifulSoup"
      ],
      "execution_count": null,
      "outputs": []
    },
    {
      "cell_type": "code",
      "metadata": {
        "id": "0e3e-IM11mLN",
        "colab_type": "code",
        "colab": {}
      },
      "source": [
        "url=\"https://news.naver.com/main/list.nhn?mode=LSD&mid=sec&sid1=001\"\n",
        "html= requests.get(url).text #html은 변수 이름"
      ],
      "execution_count": null,
      "outputs": []
    },
    {
      "cell_type": "code",
      "metadata": {
        "id": "UoK-Bzqf1mLQ",
        "colab_type": "code",
        "colab": {}
      },
      "source": [
        "soup = BeautifulSoup(html, \"html.parser\")\n",
        "all = soup.find(\"ul\",{\"class\":\"type06_headline\"})"
      ],
      "execution_count": null,
      "outputs": []
    },
    {
      "cell_type": "code",
      "metadata": {
        "id": "SS0fgzqo1mLT",
        "colab_type": "code",
        "colab": {},
        "outputId": "2589f592-3e99-458b-84d9-be7fddf30187"
      },
      "source": [
        "# 네이버 뉴스 속보의 사진 정보만 가져오기\n",
        "dl=all.find_all(\"dl\")\n",
        "for item2 in dl:\n",
        "    try:\n",
        "        img = item2.find(\"dt\",{\"class\":\"photo\"}).find(\"img\")\n",
        "        print(\"img= \", img[\"src\"])\n",
        "        print(\"------------------------\")\n",
        "    except:\n",
        "        print(\"No image\")"
      ],
      "execution_count": null,
      "outputs": [
        {
          "output_type": "stream",
          "text": [
            "img=  https://imgnews.pstatic.net/image/origin/079/2020/08/05/3391861.jpg?type=nf106_72\n",
            "------------------------\n",
            "No image\n",
            "img=  https://imgnews.pstatic.net/image/origin/081/2020/08/05/3113291.jpg?type=nf106_72\n",
            "------------------------\n",
            "img=  https://imgnews.pstatic.net/image/origin/015/2020/08/05/4393222.jpg?type=nf106_72\n",
            "------------------------\n",
            "No image\n",
            "No image\n",
            "No image\n",
            "img=  https://imgnews.pstatic.net/image/origin/003/2020/08/05/10006125.jpg?type=nf106_72\n",
            "------------------------\n",
            "img=  https://imgnews.pstatic.net/image/origin/469/2020/08/05/522790.jpg?type=nf106_72\n",
            "------------------------\n",
            "img=  https://imgnews.pstatic.net/image/origin/077/2020/08/05/4889811.jpg?type=nf106_72\n",
            "------------------------\n"
          ],
          "name": "stdout"
        }
      ]
    },
    {
      "cell_type": "code",
      "metadata": {
        "id": "BcU3nGf-1mLX",
        "colab_type": "code",
        "colab": {},
        "outputId": "48245f61-aa5d-435a-c5c7-2b7d864aa7d1"
      },
      "source": [
        "# 네이버 뉴스 속보의 기사 제목 정보만 가져오기\n",
        "dl= all.find_all(\"dl\")\n",
        "for item2 in dl:\n",
        "    link = item2.find(\"dt\",{\"class\":\"\"}).find(\"a\")\n",
        "    print(link[\"href\"])\n",
        "    print(link.text.replace(\"\\t\",\"\").replace(\"\\r\\n\",\"\")[1:len(link.text)+1])\n",
        "    # \\r\\n 은 띄어쓰기 처럼 보이게 해줌 \n",
        "    #link.text.lstrip() 하면 공백 빼고 text만 추출해 냄"
      ],
      "execution_count": null,
      "outputs": [
        {
          "output_type": "stream",
          "text": [
            "https://news.naver.com/main/read.nhn?mode=LSD&mid=sec&sid1=001&oid=079&aid=0003391861\n",
            "'한동훈 공모' 규명 못한 수사팀…동력 잃은 '검언유착' 수사(종합)\n",
            "https://news.naver.com/main/read.nhn?mode=LSD&mid=sec&sid1=001&oid=082&aid=0001020162\n",
            "[영상] 반려인 최대 고민! 비만견 다이어트 방법은?\n",
            "https://news.naver.com/main/read.nhn?mode=LSD&mid=sec&sid1=001&oid=081&aid=0003113291\n",
            "카카오M, ‘바람픽처스’ 인수…‘미생’ PD 등과 작업\n",
            "https://news.naver.com/main/read.nhn?mode=LSD&mid=sec&sid1=001&oid=015&aid=0004393222\n",
            "흔들리는 인텔…삼성 '반도체 매출 1위' 되찾을까\n",
            "https://news.naver.com/main/read.nhn?mode=LSD&mid=sec&sid1=001&oid=015&aid=0004393221\n",
            "한푼이 아쉬운 LCC…국내선 출혈 경쟁\n",
            "https://news.naver.com/main/read.nhn?mode=LSD&mid=sec&sid1=001&oid=015&aid=0004393220\n",
            "여의도 KB금융타워 코람코신탁에 팔린다\n",
            "https://news.naver.com/main/read.nhn?mode=LSD&mid=sec&sid1=001&oid=032&aid=0003024999\n",
            "정부, 일본 '적 기지' 공격능력 '한국 양해 필요없다'에 \"논평 가치 없다…한반도 유사시 한미동맹 중심 대응\"\n",
            "https://news.naver.com/main/read.nhn?mode=LSD&mid=sec&sid1=001&oid=003&aid=0010006125\n",
            "15년 표류, 어등산 관광단지 조성사업 해법 찾을까\n",
            "https://news.naver.com/main/read.nhn?mode=LSD&mid=sec&sid1=001&oid=469&aid=0000522790\n",
            "전라도문화예술진흥원 창립... \"전통시장 활성화 목표\"\n",
            "https://news.naver.com/main/read.nhn?mode=LSD&mid=sec&sid1=001&oid=077&aid=0004889811\n",
            "Lebanon Explosion\n"
          ],
          "name": "stdout"
        }
      ]
    },
    {
      "cell_type": "code",
      "metadata": {
        "id": "AYYYRWVS1mLa",
        "colab_type": "code",
        "colab": {},
        "outputId": "26fb7326-b90c-4e43-b999-6380d162b63a"
      },
      "source": [
        "# 네이버 뉴스 속보의 기사 내용 정보만 가져오기\n",
        "dl= all.find_all(\"dl\")\n",
        "for item2 in dl:\n",
        "    try:\n",
        "        content = item2.find(\"dd\")\n",
        "        print(content.text.replace(\"\\t\",\"\").replace(\"\\n\",\"\").split(\"...\")[0])\n",
        "    except:\n",
        "        print(\"No Content\")"
      ],
      "execution_count": null,
      "outputs": [
        {
          "output_type": "stream",
          "text": [
            "[CBS노컷뉴스 윤준호 기자] '검언유착' 의혹 사건의 당사자인 이동재(34) 전 채널A 기자가 재판에 넘겨졌다. 다만 검찰은  …노컷뉴스1분전\n",
            "반려동물과 함께 살고 있는 반려인들이라면 수많은 고민들을 안고 삽니다. 반려견과 같이 살면 신경 써야 될 것이 한두 가지가 아닌 …부산일보1분전\n",
            "카카오M이 히트 드라마를 다수 제작한 박호식 프로듀서가 대표를 맡은 바람픽쳐스를 인수했다고 5일 밝혔다. 박호식 대표는 다양한  …서울신문1분전\n",
            "올해 삼성전자가 ‘반도체 매출 세계 1위’ 타이틀을 되찾을 수 있을 것이라는 전망이 나오고 있다. 인텔이 신제품 출시 일정을 6 …한국경제신문A15면 1분전\n",
            "신종 코로나바이러스 감염증(코로나19) 사태가 장기화되면서 국내선 항공시장의 출혈 경쟁이 갈수록 심해지고 있다. 국제선 수요가  …한국경제신문A15면 1분전\n",
            "KB자산운용이 펀드를 통해 보유하고 있는 서울 여의도 KB금융타워(옛 유진투자증권빌딩)를 코람코자산신탁에 매각한다. 5일 부동산 …한국경제신문A23면 1분전\n",
            "[경향신문] 정부는 5일 일본 정부가 적 기지 공격 능력 보유 논의 과정에서 한국의 양해를 구할 필요가 없다고 한 것과 관련 “ …경향신문1분전\n",
            "[광주=뉴시스] 신대희 기자 = 이용섭 광주시장이 5일 광주 서구 치평동 광주시청 시장실에서 어등산 관광단지 유통재벌 입점저지  …뉴시스1분전\n",
            "전남지역 116개소의 전통시장을 활성화하고 문화예술인들의 일자리 창출을 위한 사회적 협동조합 '전라도문화예술진흥원'이 창립됐다. …한국일보1분전\n",
            "Cars line on one of the damaged roads a day after a massive explosion h …AP연합뉴스1분전\n"
          ],
          "name": "stdout"
        }
      ]
    },
    {
      "cell_type": "markdown",
      "metadata": {
        "id": "-ZMklaeN1mLd",
        "colab_type": "text"
      },
      "source": [
        "###################################################"
      ]
    },
    {
      "cell_type": "code",
      "metadata": {
        "id": "QuYzSShn1mLe",
        "colab_type": "code",
        "colab": {},
        "outputId": "02960b43-6578-4588-9db3-f63a6e958255"
      },
      "source": [
        "content= item2.find(\"dd\"); content"
      ],
      "execution_count": null,
      "outputs": [
        {
          "output_type": "execute_result",
          "data": {
            "text/plain": [
              "<dd>\n",
              "<span class=\"lede\">Cars line on one of the damaged roads a day after a massive explosion h …</span>\n",
              "<span class=\"writing\">AP연합뉴스</span>\n",
              "<span class=\"date is_new\">1분전</span>\n",
              "</dd>"
            ]
          },
          "metadata": {
            "tags": []
          },
          "execution_count": 32
        }
      ]
    },
    {
      "cell_type": "code",
      "metadata": {
        "id": "2uujhOiC1mLh",
        "colab_type": "code",
        "colab": {},
        "outputId": "bfe8a43e-72b3-4d04-e794-5dac44f6cf77"
      },
      "source": [
        "aa= content.text ;aa"
      ],
      "execution_count": null,
      "outputs": [
        {
          "output_type": "execute_result",
          "data": {
            "text/plain": [
              "'\\nCars line on one of the damaged roads a day after a massive explosion h …\\nAP연합뉴스\\n1분전\\n'"
            ]
          },
          "metadata": {
            "tags": []
          },
          "execution_count": 33
        }
      ]
    },
    {
      "cell_type": "code",
      "metadata": {
        "id": "DQ0yQ5WG1mLk",
        "colab_type": "code",
        "colab": {},
        "outputId": "72b31fd4-4c19-4e4f-a99d-ac7fd537d757"
      },
      "source": [
        "bb= aa.replace(\"\\t\",\"\").replace(\"\\n\",\"\");bb"
      ],
      "execution_count": null,
      "outputs": [
        {
          "output_type": "execute_result",
          "data": {
            "text/plain": [
              "'Cars line on one of the damaged roads a day after a massive explosion h …AP연합뉴스1분전'"
            ]
          },
          "metadata": {
            "tags": []
          },
          "execution_count": 43
        }
      ]
    },
    {
      "cell_type": "code",
      "metadata": {
        "id": "QWsEHJnO1mLm",
        "colab_type": "code",
        "colab": {},
        "outputId": "453a94f7-d71a-4eb6-fa11-d7ee8170ff05"
      },
      "source": [
        "cc= bb.split(\"…\") ; cc"
      ],
      "execution_count": null,
      "outputs": [
        {
          "output_type": "execute_result",
          "data": {
            "text/plain": [
              "['Cars line on one of the damaged roads a day after a massive explosion h ',\n",
              " 'AP연합뉴스1분전']"
            ]
          },
          "metadata": {
            "tags": []
          },
          "execution_count": 44
        }
      ]
    },
    {
      "cell_type": "code",
      "metadata": {
        "id": "mqlbpuJW1mLo",
        "colab_type": "code",
        "colab": {},
        "outputId": "bdc9563e-96cc-44bb-e4e2-7c96f8e400f1"
      },
      "source": [
        "cc[0]"
      ],
      "execution_count": null,
      "outputs": [
        {
          "output_type": "execute_result",
          "data": {
            "text/plain": [
              "'Cars line on one of the damaged roads a day after a massive explosion h '"
            ]
          },
          "metadata": {
            "tags": []
          },
          "execution_count": 45
        }
      ]
    },
    {
      "cell_type": "code",
      "metadata": {
        "id": "NBfNdPEY1mLr",
        "colab_type": "code",
        "colab": {},
        "outputId": "d128dd5e-5c41-480a-f84d-1763025e7b2a"
      },
      "source": [
        "#몇 분전?\n",
        "dd= cc[1].split(\" \"); dd"
      ],
      "execution_count": null,
      "outputs": [
        {
          "output_type": "execute_result",
          "data": {
            "text/plain": [
              "['AP연합뉴스1분전']"
            ]
          },
          "metadata": {
            "tags": []
          },
          "execution_count": 48
        }
      ]
    },
    {
      "cell_type": "code",
      "metadata": {
        "id": "4i_umYYi1mLt",
        "colab_type": "code",
        "colab": {}
      },
      "source": [
        ""
      ],
      "execution_count": null,
      "outputs": []
    }
  ]
}