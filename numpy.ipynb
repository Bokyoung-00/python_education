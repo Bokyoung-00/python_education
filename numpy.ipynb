{
  "nbformat": 4,
  "nbformat_minor": 0,
  "metadata": {
    "kernelspec": {
      "display_name": "Python 3",
      "language": "python",
      "name": "python3"
    },
    "language_info": {
      "codemirror_mode": {
        "name": "ipython",
        "version": 3
      },
      "file_extension": ".py",
      "mimetype": "text/x-python",
      "name": "python",
      "nbconvert_exporter": "python",
      "pygments_lexer": "ipython3",
      "version": "3.8.3"
    },
    "colab": {
      "name": "numpy.ipynb",
      "provenance": [],
      "include_colab_link": true
    }
  },
  "cells": [
    {
      "cell_type": "markdown",
      "metadata": {
        "id": "view-in-github",
        "colab_type": "text"
      },
      "source": [
        "<a href=\"https://colab.research.google.com/github/Bokyoung-00/python_education/blob/master/numpy.ipynb\" target=\"_parent\"><img src=\"https://colab.research.google.com/assets/colab-badge.svg\" alt=\"Open In Colab\"/></a>"
      ]
    },
    {
      "cell_type": "code",
      "metadata": {
        "id": "DhRc93I0zHt8",
        "colab_type": "code",
        "colab": {}
      },
      "source": [
        "import pandas as pd\n",
        "import numpy as np\n",
        "import matplotlib.pyplot as plt"
      ],
      "execution_count": null,
      "outputs": []
    },
    {
      "cell_type": "code",
      "metadata": {
        "id": "J3De0zN9zHuB",
        "colab_type": "code",
        "colab": {},
        "outputId": "cfc897db-1221-4762-c92e-5af91b8411f9"
      },
      "source": [
        "arr=np.array([1,2,3,4])\n",
        "print(arr)"
      ],
      "execution_count": null,
      "outputs": [
        {
          "output_type": "stream",
          "text": [
            "[1 2 3 4]\n"
          ],
          "name": "stdout"
        }
      ]
    },
    {
      "cell_type": "code",
      "metadata": {
        "id": "WiWL9UjLzHuG",
        "colab_type": "code",
        "colab": {},
        "outputId": "fdd2629c-2f49-4ed0-d6e7-d8fd4fd0e7e9"
      },
      "source": [
        "np.zeros((3,3))"
      ],
      "execution_count": null,
      "outputs": [
        {
          "output_type": "execute_result",
          "data": {
            "text/plain": [
              "array([[0., 0., 0.],\n",
              "       [0., 0., 0.],\n",
              "       [0., 0., 0.]])"
            ]
          },
          "metadata": {
            "tags": []
          },
          "execution_count": 3
        }
      ]
    },
    {
      "cell_type": "code",
      "metadata": {
        "id": "UewYngqpzHuJ",
        "colab_type": "code",
        "colab": {},
        "outputId": "967c537b-7be5-4da8-b393-fdf89b102e0b"
      },
      "source": [
        "np.ones((2,2))"
      ],
      "execution_count": null,
      "outputs": [
        {
          "output_type": "execute_result",
          "data": {
            "text/plain": [
              "array([[1., 1.],\n",
              "       [1., 1.]])"
            ]
          },
          "metadata": {
            "tags": []
          },
          "execution_count": 5
        }
      ]
    },
    {
      "cell_type": "code",
      "metadata": {
        "id": "gqj1ysT3zHuM",
        "colab_type": "code",
        "colab": {},
        "outputId": "a1e1304a-7ec5-4215-e339-278d11595837"
      },
      "source": [
        "np.empty((2,2))"
      ],
      "execution_count": null,
      "outputs": [
        {
          "output_type": "execute_result",
          "data": {
            "text/plain": [
              "array([[1., 1.],\n",
              "       [1., 1.]])"
            ]
          },
          "metadata": {
            "tags": []
          },
          "execution_count": 6
        }
      ]
    },
    {
      "cell_type": "code",
      "metadata": {
        "id": "J0F_v4BPzHuP",
        "colab_type": "code",
        "colab": {},
        "outputId": "12d4e9d6-36b9-4f66-b058-6c37eb5592fb"
      },
      "source": [
        "np.arange(10,30,5)"
      ],
      "execution_count": null,
      "outputs": [
        {
          "output_type": "execute_result",
          "data": {
            "text/plain": [
              "array([10, 15, 20, 25])"
            ]
          },
          "metadata": {
            "tags": []
          },
          "execution_count": 9
        }
      ]
    },
    {
      "cell_type": "code",
      "metadata": {
        "id": "ddi2sRWszHuT",
        "colab_type": "code",
        "colab": {}
      },
      "source": [
        "arr=np.array([[1,2,3],[4,5,6]])"
      ],
      "execution_count": null,
      "outputs": []
    },
    {
      "cell_type": "code",
      "metadata": {
        "id": "-YEdYDw0zHuW",
        "colab_type": "code",
        "colab": {},
        "outputId": "9763fc2f-63c8-4113-850d-199a45f32fdc"
      },
      "source": [
        "arr.shape"
      ],
      "execution_count": null,
      "outputs": [
        {
          "output_type": "execute_result",
          "data": {
            "text/plain": [
              "(2, 3)"
            ]
          },
          "metadata": {
            "tags": []
          },
          "execution_count": 11
        }
      ]
    },
    {
      "cell_type": "code",
      "metadata": {
        "id": "4RCFzN42zHuZ",
        "colab_type": "code",
        "colab": {},
        "outputId": "8cac38c8-b5c8-4a8e-9e60-5fe8adc0603f"
      },
      "source": [
        "arr.ndim"
      ],
      "execution_count": null,
      "outputs": [
        {
          "output_type": "execute_result",
          "data": {
            "text/plain": [
              "2"
            ]
          },
          "metadata": {
            "tags": []
          },
          "execution_count": 12
        }
      ]
    },
    {
      "cell_type": "code",
      "metadata": {
        "id": "jfAuL_fYzHuc",
        "colab_type": "code",
        "colab": {},
        "outputId": "128186e1-7b84-4d47-b90d-03c0d9918165"
      },
      "source": [
        "arr.dtype"
      ],
      "execution_count": null,
      "outputs": [
        {
          "output_type": "execute_result",
          "data": {
            "text/plain": [
              "dtype('int32')"
            ]
          },
          "metadata": {
            "tags": []
          },
          "execution_count": 13
        }
      ]
    },
    {
      "cell_type": "code",
      "metadata": {
        "id": "e-l59DbqzHuf",
        "colab_type": "code",
        "colab": {},
        "outputId": "628311a7-21a4-4fb7-9fcf-d34157f5f241"
      },
      "source": [
        "arr_int= np.array([1,2,3,4])\n",
        "arr_int.dtype"
      ],
      "execution_count": null,
      "outputs": [
        {
          "output_type": "execute_result",
          "data": {
            "text/plain": [
              "dtype('int32')"
            ]
          },
          "metadata": {
            "tags": []
          },
          "execution_count": 17
        }
      ]
    },
    {
      "cell_type": "code",
      "metadata": {
        "id": "7ISSP5cnzHui",
        "colab_type": "code",
        "colab": {},
        "outputId": "f08ca256-d4aa-4402-a258-29886b41397d"
      },
      "source": [
        "arr_float=arr_int.astype(np.float64)\n",
        "arr_float.dtype"
      ],
      "execution_count": null,
      "outputs": [
        {
          "output_type": "execute_result",
          "data": {
            "text/plain": [
              "dtype('float64')"
            ]
          },
          "metadata": {
            "tags": []
          },
          "execution_count": 18
        }
      ]
    },
    {
      "cell_type": "code",
      "metadata": {
        "id": "y18yV3_yzHul",
        "colab_type": "code",
        "colab": {},
        "outputId": "250f6848-9e5a-45ae-bb78-8cb72bf60a7c"
      },
      "source": [
        "arr1=np.array([[1,2],[3,4]])\n",
        "arr2=np.array([[5,6],[7,8]])\n",
        "\n",
        "arr1+arr2"
      ],
      "execution_count": null,
      "outputs": [
        {
          "output_type": "execute_result",
          "data": {
            "text/plain": [
              "array([[ 6,  8],\n",
              "       [10, 12]])"
            ]
          },
          "metadata": {
            "tags": []
          },
          "execution_count": 19
        }
      ]
    },
    {
      "cell_type": "code",
      "metadata": {
        "id": "cL-vus7FzHuo",
        "colab_type": "code",
        "colab": {},
        "outputId": "cddf5669-7c0a-43d8-b409-5aa3b7646e41"
      },
      "source": [
        "np.add(arr1,arr2)"
      ],
      "execution_count": null,
      "outputs": [
        {
          "output_type": "execute_result",
          "data": {
            "text/plain": [
              "array([[ 6,  8],\n",
              "       [10, 12]])"
            ]
          },
          "metadata": {
            "tags": []
          },
          "execution_count": 20
        }
      ]
    },
    {
      "cell_type": "code",
      "metadata": {
        "id": "7zcf7kuazHuq",
        "colab_type": "code",
        "colab": {},
        "outputId": "d8100d0c-3a11-4bd3-a3ec-1f97e9234aa0"
      },
      "source": [
        "arr1*arr2"
      ],
      "execution_count": null,
      "outputs": [
        {
          "output_type": "execute_result",
          "data": {
            "text/plain": [
              "array([[ 5, 12],\n",
              "       [21, 32]])"
            ]
          },
          "metadata": {
            "tags": []
          },
          "execution_count": 21
        }
      ]
    },
    {
      "cell_type": "code",
      "metadata": {
        "id": "EksPNzKWzHus",
        "colab_type": "code",
        "colab": {},
        "outputId": "039ef547-ef85-401b-8ba5-84497f70aa6a"
      },
      "source": [
        "np.multiply(arr1,arr2)"
      ],
      "execution_count": null,
      "outputs": [
        {
          "output_type": "execute_result",
          "data": {
            "text/plain": [
              "array([[ 5, 12],\n",
              "       [21, 32]])"
            ]
          },
          "metadata": {
            "tags": []
          },
          "execution_count": 22
        }
      ]
    },
    {
      "cell_type": "code",
      "metadata": {
        "id": "ng8B5ZzezHuu",
        "colab_type": "code",
        "colab": {},
        "outputId": "8a60004b-4e70-4469-c306-f06912c2f307"
      },
      "source": [
        "arr1.dot(arr2)"
      ],
      "execution_count": null,
      "outputs": [
        {
          "output_type": "execute_result",
          "data": {
            "text/plain": [
              "array([[19, 22],\n",
              "       [43, 50]])"
            ]
          },
          "metadata": {
            "tags": []
          },
          "execution_count": 23
        }
      ]
    },
    {
      "cell_type": "code",
      "metadata": {
        "id": "y8AycTiAzHuy",
        "colab_type": "code",
        "colab": {},
        "outputId": "51d0d9a6-a44d-474e-8437-e290f31995d7"
      },
      "source": [
        "arr = np.array([[1,2,3],[4,5,6],[7,8,9]]) \n",
        "arr_1=arr[:2,1:3].copy()\n",
        "arr"
      ],
      "execution_count": null,
      "outputs": [
        {
          "output_type": "execute_result",
          "data": {
            "text/plain": [
              "array([[1, 2, 3],\n",
              "       [4, 5, 6],\n",
              "       [7, 8, 9]])"
            ]
          },
          "metadata": {
            "tags": []
          },
          "execution_count": 28
        }
      ]
    },
    {
      "cell_type": "code",
      "metadata": {
        "id": "0ymnFfeLzHu1",
        "colab_type": "code",
        "colab": {},
        "outputId": "e794b619-1cd3-49eb-a0e0-5eb6f1626a16"
      },
      "source": [
        "arr_1"
      ],
      "execution_count": null,
      "outputs": [
        {
          "output_type": "execute_result",
          "data": {
            "text/plain": [
              "array([[2, 3],\n",
              "       [5, 6]])"
            ]
          },
          "metadata": {
            "tags": []
          },
          "execution_count": 29
        }
      ]
    },
    {
      "cell_type": "code",
      "metadata": {
        "id": "J_IyHiu7zHu3",
        "colab_type": "code",
        "colab": {},
        "outputId": "4fd51faa-d6cf-40d0-bbdf-4b8ddc264b7b"
      },
      "source": [
        "arr[0,2]"
      ],
      "execution_count": null,
      "outputs": [
        {
          "output_type": "execute_result",
          "data": {
            "text/plain": [
              "3"
            ]
          },
          "metadata": {
            "tags": []
          },
          "execution_count": 30
        }
      ]
    },
    {
      "cell_type": "code",
      "metadata": {
        "id": "tVEnq6iDzHu5",
        "colab_type": "code",
        "colab": {},
        "outputId": "6e686f12-c1a9-4830-8fb5-e038796d296d"
      },
      "source": [
        "arr[[0,1,2],[2,0,1]]"
      ],
      "execution_count": null,
      "outputs": [
        {
          "output_type": "execute_result",
          "data": {
            "text/plain": [
              "array([3, 4, 8])"
            ]
          },
          "metadata": {
            "tags": []
          },
          "execution_count": 31
        }
      ]
    },
    {
      "cell_type": "code",
      "metadata": {
        "id": "nLjlXtpKzHu7",
        "colab_type": "code",
        "colab": {},
        "outputId": "68ade25c-3c9c-4323-95e4-546695c4fc4a"
      },
      "source": [
        "arr = np.array([[1,2,3],[4,5,6]]) \n",
        "idx=arr>=3\n",
        "arr"
      ],
      "execution_count": null,
      "outputs": [
        {
          "output_type": "execute_result",
          "data": {
            "text/plain": [
              "array([[1, 2, 3],\n",
              "       [4, 5, 6]])"
            ]
          },
          "metadata": {
            "tags": []
          },
          "execution_count": 36
        }
      ]
    },
    {
      "cell_type": "code",
      "metadata": {
        "id": "8xniDu68zHu9",
        "colab_type": "code",
        "colab": {},
        "outputId": "a4c7c53f-ef59-4137-dc74-d0cac5777a94"
      },
      "source": [
        "print(idx)"
      ],
      "execution_count": null,
      "outputs": [
        {
          "output_type": "stream",
          "text": [
            "[[False False  True]\n",
            " [ True  True  True]]\n"
          ],
          "name": "stdout"
        }
      ]
    },
    {
      "cell_type": "code",
      "metadata": {
        "id": "-ICPJb-uzHu_",
        "colab_type": "code",
        "colab": {},
        "outputId": "8fb405b8-df54-4172-d060-b6e41ce79b49"
      },
      "source": [
        "print(arr[idx])"
      ],
      "execution_count": null,
      "outputs": [
        {
          "output_type": "stream",
          "text": [
            "[3 4 5 6]\n"
          ],
          "name": "stdout"
        }
      ]
    },
    {
      "cell_type": "code",
      "metadata": {
        "id": "z42AAa3XzHvC",
        "colab_type": "code",
        "colab": {},
        "outputId": "4efcea02-54b2-4c96-9149-d4f054dd698b"
      },
      "source": [
        "redwine=np.loadtxt(fname='C:/bkk/winequality-red.csv',delimiter=';', skiprows=1)\n",
        "print(redwine)"
      ],
      "execution_count": null,
      "outputs": [
        {
          "output_type": "stream",
          "text": [
            "[[ 7.4    0.7    0.    ...  0.56   9.4    5.   ]\n",
            " [ 7.8    0.88   0.    ...  0.68   9.8    5.   ]\n",
            " [ 7.8    0.76   0.04  ...  0.65   9.8    5.   ]\n",
            " ...\n",
            " [ 6.3    0.51   0.13  ...  0.75  11.     6.   ]\n",
            " [ 5.9    0.645  0.12  ...  0.71  10.2    5.   ]\n",
            " [ 6.     0.31   0.47  ...  0.66  11.     6.   ]]\n"
          ],
          "name": "stdout"
        }
      ]
    },
    {
      "cell_type": "code",
      "metadata": {
        "id": "iUkTM1RJzHvE",
        "colab_type": "code",
        "colab": {},
        "outputId": "ce09ed38-4ada-4ac2-a0cc-f4fc21c82360"
      },
      "source": [
        "print(redwine.sum())"
      ],
      "execution_count": null,
      "outputs": [
        {
          "output_type": "stream",
          "text": [
            "152084.78194\n"
          ],
          "name": "stdout"
        }
      ]
    },
    {
      "cell_type": "code",
      "metadata": {
        "id": "XVKyhvByzHvF",
        "colab_type": "code",
        "colab": {},
        "outputId": "5f8a372b-9937-4fe1-d959-05caecc7dbda"
      },
      "source": [
        "redwine.shape"
      ],
      "execution_count": null,
      "outputs": [
        {
          "output_type": "execute_result",
          "data": {
            "text/plain": [
              "(1599, 12)"
            ]
          },
          "metadata": {
            "tags": []
          },
          "execution_count": 45
        }
      ]
    },
    {
      "cell_type": "code",
      "metadata": {
        "id": "0QsXWiWfzHvI",
        "colab_type": "code",
        "colab": {},
        "outputId": "457290b3-9660-45c5-fa5a-cc2b9da27194"
      },
      "source": [
        "redwine.mean()"
      ],
      "execution_count": null,
      "outputs": [
        {
          "output_type": "execute_result",
          "data": {
            "text/plain": [
              "7.926036165311652"
            ]
          },
          "metadata": {
            "tags": []
          },
          "execution_count": 47
        }
      ]
    },
    {
      "cell_type": "code",
      "metadata": {
        "id": "A8xb--zQzHvK",
        "colab_type": "code",
        "colab": {},
        "outputId": "d4c1f326-1c14-4399-ba74-577bc3dec4fe"
      },
      "source": [
        "redwine.ndim"
      ],
      "execution_count": null,
      "outputs": [
        {
          "output_type": "execute_result",
          "data": {
            "text/plain": [
              "2"
            ]
          },
          "metadata": {
            "tags": []
          },
          "execution_count": 48
        }
      ]
    },
    {
      "cell_type": "code",
      "metadata": {
        "id": "5zcApcbjzHvM",
        "colab_type": "code",
        "colab": {},
        "outputId": "46d71c03-850c-469a-c495-22f87d40687d"
      },
      "source": [
        "redwine.dtype"
      ],
      "execution_count": null,
      "outputs": [
        {
          "output_type": "execute_result",
          "data": {
            "text/plain": [
              "dtype('float64')"
            ]
          },
          "metadata": {
            "tags": []
          },
          "execution_count": 49
        }
      ]
    },
    {
      "cell_type": "code",
      "metadata": {
        "id": "u5WfcPHlzHvN",
        "colab_type": "code",
        "colab": {},
        "outputId": "b2f7db5a-5ba6-461e-98f0-37a929b9a94e"
      },
      "source": [
        "redwine.std()"
      ],
      "execution_count": null,
      "outputs": [
        {
          "output_type": "execute_result",
          "data": {
            "text/plain": [
              "16.031008997477795"
            ]
          },
          "metadata": {
            "tags": []
          },
          "execution_count": 51
        }
      ]
    },
    {
      "cell_type": "code",
      "metadata": {
        "id": "22Ouw_uAzHvQ",
        "colab_type": "code",
        "colab": {},
        "outputId": "142c72cf-1a10-43bd-c395-92f3a5e41d6f"
      },
      "source": [
        "redwine.mean(axis=0)"
      ],
      "execution_count": null,
      "outputs": [
        {
          "output_type": "execute_result",
          "data": {
            "text/plain": [
              "array([ 8.31963727,  0.52782051,  0.27097561,  2.5388055 ,  0.08746654,\n",
              "       15.87492183, 46.46779237,  0.99674668,  3.3111132 ,  0.65814884,\n",
              "       10.42298311,  5.63602251])"
            ]
          },
          "metadata": {
            "tags": []
          },
          "execution_count": 52
        }
      ]
    },
    {
      "cell_type": "code",
      "metadata": {
        "id": "GFNcSDIszHvS",
        "colab_type": "code",
        "colab": {},
        "outputId": "e95f57f6-0c8c-418f-8a01-b9ce67d0c4e3"
      },
      "source": [
        "redwine.mean(axis=1)"
      ],
      "execution_count": null,
      "outputs": [
        {
          "output_type": "execute_result",
          "data": {
            "text/plain": [
              "array([ 6.21198333, 10.25456667,  8.30825   , ...,  8.37347833,\n",
              "        8.76795583,  7.7077075 ])"
            ]
          },
          "metadata": {
            "tags": []
          },
          "execution_count": 53
        }
      ]
    },
    {
      "cell_type": "code",
      "metadata": {
        "id": "dwZQbbxlzHvU",
        "colab_type": "code",
        "colab": {},
        "outputId": "2ffd62ad-1015-491b-bba2-c5a6e546abe0"
      },
      "source": [
        "redwine.max(axis=0)"
      ],
      "execution_count": null,
      "outputs": [
        {
          "output_type": "execute_result",
          "data": {
            "text/plain": [
              "array([ 15.9    ,   1.58   ,   1.     ,  15.5    ,   0.611  ,  72.     ,\n",
              "       289.     ,   1.00369,   4.01   ,   2.     ,  14.9    ,   8.     ])"
            ]
          },
          "metadata": {
            "tags": []
          },
          "execution_count": 54
        }
      ]
    },
    {
      "cell_type": "code",
      "metadata": {
        "id": "O0Wxam2EzHvV",
        "colab_type": "code",
        "colab": {},
        "outputId": "192777dc-f790-446a-ec10-5e77fda57053"
      },
      "source": [
        "redwine.min(axis=0)"
      ],
      "execution_count": null,
      "outputs": [
        {
          "output_type": "execute_result",
          "data": {
            "text/plain": [
              "array([4.6    , 0.12   , 0.     , 0.9    , 0.012  , 1.     , 6.     ,\n",
              "       0.99007, 2.74   , 0.33   , 8.4    , 3.     ])"
            ]
          },
          "metadata": {
            "tags": []
          },
          "execution_count": 55
        }
      ]
    },
    {
      "cell_type": "code",
      "metadata": {
        "id": "vdyoTcgizHvX",
        "colab_type": "code",
        "colab": {},
        "outputId": "fdab4b64-64fd-4845-ebcf-1363257539a6"
      },
      "source": [
        "a=np.arange(15).reshape(3,5)\n",
        "a"
      ],
      "execution_count": null,
      "outputs": [
        {
          "output_type": "execute_result",
          "data": {
            "text/plain": [
              "array([[ 0,  1,  2,  3,  4],\n",
              "       [ 5,  6,  7,  8,  9],\n",
              "       [10, 11, 12, 13, 14]])"
            ]
          },
          "metadata": {
            "tags": []
          },
          "execution_count": 56
        }
      ]
    },
    {
      "cell_type": "code",
      "metadata": {
        "id": "5d2zsSXxzHvZ",
        "colab_type": "code",
        "colab": {},
        "outputId": "4022fec6-f79d-40bd-89aa-6046e6563e27"
      },
      "source": [
        "a.shape"
      ],
      "execution_count": null,
      "outputs": [
        {
          "output_type": "execute_result",
          "data": {
            "text/plain": [
              "(3, 5)"
            ]
          },
          "metadata": {
            "tags": []
          },
          "execution_count": 57
        }
      ]
    },
    {
      "cell_type": "code",
      "metadata": {
        "id": "pY-r1iirzHvb",
        "colab_type": "code",
        "colab": {},
        "outputId": "b61af131-a951-4aa9-e4dd-f24c91935cd7"
      },
      "source": [
        "a.ndim"
      ],
      "execution_count": null,
      "outputs": [
        {
          "output_type": "execute_result",
          "data": {
            "text/plain": [
              "2"
            ]
          },
          "metadata": {
            "tags": []
          },
          "execution_count": 58
        }
      ]
    },
    {
      "cell_type": "code",
      "metadata": {
        "id": "a107iBi8zHvd",
        "colab_type": "code",
        "colab": {},
        "outputId": "2c75bd7e-0f89-422c-83db-4d3419c5e88d"
      },
      "source": [
        "a.dtype.name"
      ],
      "execution_count": null,
      "outputs": [
        {
          "output_type": "execute_result",
          "data": {
            "text/plain": [
              "'int32'"
            ]
          },
          "metadata": {
            "tags": []
          },
          "execution_count": 59
        }
      ]
    },
    {
      "cell_type": "code",
      "metadata": {
        "id": "ijHKHaGQzHvf",
        "colab_type": "code",
        "colab": {},
        "outputId": "f0aa7076-94a8-4f47-b20e-88c5a6a7b3dd"
      },
      "source": [
        "a.itemsize"
      ],
      "execution_count": null,
      "outputs": [
        {
          "output_type": "execute_result",
          "data": {
            "text/plain": [
              "4"
            ]
          },
          "metadata": {
            "tags": []
          },
          "execution_count": 60
        }
      ]
    },
    {
      "cell_type": "code",
      "metadata": {
        "id": "16h5v2bmzHvh",
        "colab_type": "code",
        "colab": {},
        "outputId": "afe9e211-1cee-42a7-f238-fd102a49afdd"
      },
      "source": [
        "a.size"
      ],
      "execution_count": null,
      "outputs": [
        {
          "output_type": "execute_result",
          "data": {
            "text/plain": [
              "15"
            ]
          },
          "metadata": {
            "tags": []
          },
          "execution_count": 61
        }
      ]
    },
    {
      "cell_type": "code",
      "metadata": {
        "id": "nFFdnH7UzHvj",
        "colab_type": "code",
        "colab": {},
        "outputId": "0ae4b64b-6242-46b5-d251-cdb175715af6"
      },
      "source": [
        "type(a)"
      ],
      "execution_count": null,
      "outputs": [
        {
          "output_type": "execute_result",
          "data": {
            "text/plain": [
              "numpy.ndarray"
            ]
          },
          "metadata": {
            "tags": []
          },
          "execution_count": 62
        }
      ]
    },
    {
      "cell_type": "code",
      "metadata": {
        "id": "OTjNg_HRzHvn",
        "colab_type": "code",
        "colab": {},
        "outputId": "4798eb42-8ac7-4cec-fa05-4ec816a6725f"
      },
      "source": [
        "b=np.array([6,7,8])\n",
        "b"
      ],
      "execution_count": null,
      "outputs": [
        {
          "output_type": "execute_result",
          "data": {
            "text/plain": [
              "array([6, 7, 8])"
            ]
          },
          "metadata": {
            "tags": []
          },
          "execution_count": 63
        }
      ]
    },
    {
      "cell_type": "code",
      "metadata": {
        "id": "b0vLLlWJzHvo",
        "colab_type": "code",
        "colab": {},
        "outputId": "b3451270-f3dc-4f1f-b896-4227f5081c0d"
      },
      "source": [
        "type(b)"
      ],
      "execution_count": null,
      "outputs": [
        {
          "output_type": "execute_result",
          "data": {
            "text/plain": [
              "numpy.ndarray"
            ]
          },
          "metadata": {
            "tags": []
          },
          "execution_count": 64
        }
      ]
    },
    {
      "cell_type": "code",
      "metadata": {
        "id": "1l3UX3gWzHvr",
        "colab_type": "code",
        "colab": {},
        "outputId": "2500786a-0422-4b2b-93fe-28aaf7f425fa"
      },
      "source": [
        "a.reshape(-1,3)"
      ],
      "execution_count": null,
      "outputs": [
        {
          "output_type": "execute_result",
          "data": {
            "text/plain": [
              "array([[ 0,  1,  2],\n",
              "       [ 3,  4,  5],\n",
              "       [ 6,  7,  8],\n",
              "       [ 9, 10, 11],\n",
              "       [12, 13, 14]])"
            ]
          },
          "metadata": {
            "tags": []
          },
          "execution_count": 65
        }
      ]
    },
    {
      "cell_type": "code",
      "metadata": {
        "id": "oW4o5uO0zHvt",
        "colab_type": "code",
        "colab": {},
        "outputId": "d4b950a5-bfa6-4f57-baf6-a27d652100d2"
      },
      "source": [
        "a=np.arange(24)\n",
        "a. reshape(2,3,-1)"
      ],
      "execution_count": null,
      "outputs": [
        {
          "output_type": "execute_result",
          "data": {
            "text/plain": [
              "array([[[ 0,  1,  2,  3],\n",
              "        [ 4,  5,  6,  7],\n",
              "        [ 8,  9, 10, 11]],\n",
              "\n",
              "       [[12, 13, 14, 15],\n",
              "        [16, 17, 18, 19],\n",
              "        [20, 21, 22, 23]]])"
            ]
          },
          "metadata": {
            "tags": []
          },
          "execution_count": 67
        }
      ]
    },
    {
      "cell_type": "code",
      "metadata": {
        "id": "e7Elt7GuzHvw",
        "colab_type": "code",
        "colab": {},
        "outputId": "6582a9b3-941e-4b20-957f-c4313dff41bb"
      },
      "source": [
        "a=np.arange(24)\n",
        "b=a.reshape(2,3,2,2)\n",
        "b"
      ],
      "execution_count": null,
      "outputs": [
        {
          "output_type": "execute_result",
          "data": {
            "text/plain": [
              "array([[[[ 0,  1],\n",
              "         [ 2,  3]],\n",
              "\n",
              "        [[ 4,  5],\n",
              "         [ 6,  7]],\n",
              "\n",
              "        [[ 8,  9],\n",
              "         [10, 11]]],\n",
              "\n",
              "\n",
              "       [[[12, 13],\n",
              "         [14, 15]],\n",
              "\n",
              "        [[16, 17],\n",
              "         [18, 19]],\n",
              "\n",
              "        [[20, 21],\n",
              "         [22, 23]]]])"
            ]
          },
          "metadata": {
            "tags": []
          },
          "execution_count": 74
        }
      ]
    },
    {
      "cell_type": "code",
      "metadata": {
        "id": "_lDp9z10zHvy",
        "colab_type": "code",
        "colab": {},
        "outputId": "1f3e6064-cdcf-4579-a909-45ddfea688dc"
      },
      "source": [
        "b.itemsize"
      ],
      "execution_count": null,
      "outputs": [
        {
          "output_type": "execute_result",
          "data": {
            "text/plain": [
              "4"
            ]
          },
          "metadata": {
            "tags": []
          },
          "execution_count": 73
        }
      ]
    },
    {
      "cell_type": "code",
      "metadata": {
        "id": "q_0eFBgczHv0",
        "colab_type": "code",
        "colab": {},
        "outputId": "ef8156e5-2c50-4af0-dfea-28c152b33330"
      },
      "source": [
        "b.ndim"
      ],
      "execution_count": null,
      "outputs": [
        {
          "output_type": "execute_result",
          "data": {
            "text/plain": [
              "4"
            ]
          },
          "metadata": {
            "tags": []
          },
          "execution_count": 76
        }
      ]
    },
    {
      "cell_type": "code",
      "metadata": {
        "id": "qO_1DO83zHv1",
        "colab_type": "code",
        "colab": {}
      },
      "source": [
        "b = np.array([(1.5,2,3), (4,5,6)])"
      ],
      "execution_count": null,
      "outputs": []
    },
    {
      "cell_type": "code",
      "metadata": {
        "id": "z4VMmeMYzHv3",
        "colab_type": "code",
        "colab": {},
        "outputId": "06f8e0e2-cade-4b62-ced7-c4ad98772377"
      },
      "source": [
        "b"
      ],
      "execution_count": null,
      "outputs": [
        {
          "output_type": "execute_result",
          "data": {
            "text/plain": [
              "array([[1.5, 2. , 3. ],\n",
              "       [4. , 5. , 6. ]])"
            ]
          },
          "metadata": {
            "tags": []
          },
          "execution_count": 78
        }
      ]
    },
    {
      "cell_type": "code",
      "metadata": {
        "id": "NadympeOzHv5",
        "colab_type": "code",
        "colab": {},
        "outputId": "99adbfb1-124c-4492-e5e3-353d98a5075c"
      },
      "source": [
        "np.ones( (2,3,4), dtype=np.int16 )"
      ],
      "execution_count": null,
      "outputs": [
        {
          "output_type": "execute_result",
          "data": {
            "text/plain": [
              "array([[[1, 1, 1, 1],\n",
              "        [1, 1, 1, 1],\n",
              "        [1, 1, 1, 1]],\n",
              "\n",
              "       [[1, 1, 1, 1],\n",
              "        [1, 1, 1, 1],\n",
              "        [1, 1, 1, 1]]], dtype=int16)"
            ]
          },
          "metadata": {
            "tags": []
          },
          "execution_count": 81
        }
      ]
    },
    {
      "cell_type": "code",
      "metadata": {
        "id": "bONHrXsfzHv9",
        "colab_type": "code",
        "colab": {}
      },
      "source": [
        "from numpy import pi\n",
        "x = np.linspace( 0, 2*pi, 100 ) "
      ],
      "execution_count": null,
      "outputs": []
    },
    {
      "cell_type": "code",
      "metadata": {
        "id": "jN2ul7MazHv_",
        "colab_type": "code",
        "colab": {},
        "outputId": "b589625e-2c8e-4343-ccb4-33d3fc505e35"
      },
      "source": [
        "x"
      ],
      "execution_count": null,
      "outputs": [
        {
          "output_type": "execute_result",
          "data": {
            "text/plain": [
              "array([0.        , 0.06346652, 0.12693304, 0.19039955, 0.25386607,\n",
              "       0.31733259, 0.38079911, 0.44426563, 0.50773215, 0.57119866,\n",
              "       0.63466518, 0.6981317 , 0.76159822, 0.82506474, 0.88853126,\n",
              "       0.95199777, 1.01546429, 1.07893081, 1.14239733, 1.20586385,\n",
              "       1.26933037, 1.33279688, 1.3962634 , 1.45972992, 1.52319644,\n",
              "       1.58666296, 1.65012947, 1.71359599, 1.77706251, 1.84052903,\n",
              "       1.90399555, 1.96746207, 2.03092858, 2.0943951 , 2.15786162,\n",
              "       2.22132814, 2.28479466, 2.34826118, 2.41172769, 2.47519421,\n",
              "       2.53866073, 2.60212725, 2.66559377, 2.72906028, 2.7925268 ,\n",
              "       2.85599332, 2.91945984, 2.98292636, 3.04639288, 3.10985939,\n",
              "       3.17332591, 3.23679243, 3.30025895, 3.36372547, 3.42719199,\n",
              "       3.4906585 , 3.55412502, 3.61759154, 3.68105806, 3.74452458,\n",
              "       3.8079911 , 3.87145761, 3.93492413, 3.99839065, 4.06185717,\n",
              "       4.12532369, 4.1887902 , 4.25225672, 4.31572324, 4.37918976,\n",
              "       4.44265628, 4.5061228 , 4.56958931, 4.63305583, 4.69652235,\n",
              "       4.75998887, 4.82345539, 4.88692191, 4.95038842, 5.01385494,\n",
              "       5.07732146, 5.14078798, 5.2042545 , 5.26772102, 5.33118753,\n",
              "       5.39465405, 5.45812057, 5.52158709, 5.58505361, 5.64852012,\n",
              "       5.71198664, 5.77545316, 5.83891968, 5.9023862 , 5.96585272,\n",
              "       6.02931923, 6.09278575, 6.15625227, 6.21971879, 6.28318531])"
            ]
          },
          "metadata": {
            "tags": []
          },
          "execution_count": 86
        }
      ]
    },
    {
      "cell_type": "code",
      "metadata": {
        "id": "ulCxQ4CXzHwB",
        "colab_type": "code",
        "colab": {}
      },
      "source": [
        "f=np.sin(x)"
      ],
      "execution_count": null,
      "outputs": []
    },
    {
      "cell_type": "code",
      "metadata": {
        "scrolled": false,
        "id": "BAi5F3ybzHwD",
        "colab_type": "code",
        "colab": {},
        "outputId": "4898ab64-5dfa-4efc-f31e-a5b959637f43"
      },
      "source": [
        "f"
      ],
      "execution_count": null,
      "outputs": [
        {
          "output_type": "execute_result",
          "data": {
            "text/plain": [
              "array([ 0.00000000e+00,  6.34239197e-02,  1.26592454e-01,  1.89251244e-01,\n",
              "        2.51147987e-01,  3.12033446e-01,  3.71662456e-01,  4.29794912e-01,\n",
              "        4.86196736e-01,  5.40640817e-01,  5.92907929e-01,  6.42787610e-01,\n",
              "        6.90079011e-01,  7.34591709e-01,  7.76146464e-01,  8.14575952e-01,\n",
              "        8.49725430e-01,  8.81453363e-01,  9.09631995e-01,  9.34147860e-01,\n",
              "        9.54902241e-01,  9.71811568e-01,  9.84807753e-01,  9.93838464e-01,\n",
              "        9.98867339e-01,  9.99874128e-01,  9.96854776e-01,  9.89821442e-01,\n",
              "        9.78802446e-01,  9.63842159e-01,  9.45000819e-01,  9.22354294e-01,\n",
              "        8.95993774e-01,  8.66025404e-01,  8.32569855e-01,  7.95761841e-01,\n",
              "        7.55749574e-01,  7.12694171e-01,  6.66769001e-01,  6.18158986e-01,\n",
              "        5.67059864e-01,  5.13677392e-01,  4.58226522e-01,  4.00930535e-01,\n",
              "        3.42020143e-01,  2.81732557e-01,  2.20310533e-01,  1.58001396e-01,\n",
              "        9.50560433e-02,  3.17279335e-02, -3.17279335e-02, -9.50560433e-02,\n",
              "       -1.58001396e-01, -2.20310533e-01, -2.81732557e-01, -3.42020143e-01,\n",
              "       -4.00930535e-01, -4.58226522e-01, -5.13677392e-01, -5.67059864e-01,\n",
              "       -6.18158986e-01, -6.66769001e-01, -7.12694171e-01, -7.55749574e-01,\n",
              "       -7.95761841e-01, -8.32569855e-01, -8.66025404e-01, -8.95993774e-01,\n",
              "       -9.22354294e-01, -9.45000819e-01, -9.63842159e-01, -9.78802446e-01,\n",
              "       -9.89821442e-01, -9.96854776e-01, -9.99874128e-01, -9.98867339e-01,\n",
              "       -9.93838464e-01, -9.84807753e-01, -9.71811568e-01, -9.54902241e-01,\n",
              "       -9.34147860e-01, -9.09631995e-01, -8.81453363e-01, -8.49725430e-01,\n",
              "       -8.14575952e-01, -7.76146464e-01, -7.34591709e-01, -6.90079011e-01,\n",
              "       -6.42787610e-01, -5.92907929e-01, -5.40640817e-01, -4.86196736e-01,\n",
              "       -4.29794912e-01, -3.71662456e-01, -3.12033446e-01, -2.51147987e-01,\n",
              "       -1.89251244e-01, -1.26592454e-01, -6.34239197e-02, -2.44929360e-16])"
            ]
          },
          "metadata": {
            "tags": []
          },
          "execution_count": 88
        }
      ]
    },
    {
      "cell_type": "code",
      "metadata": {
        "scrolled": true,
        "id": "B7hj5s2MzHwF",
        "colab_type": "code",
        "colab": {},
        "outputId": "7feab35e-4c2e-42ab-f345-2ca4f39cbe81"
      },
      "source": [
        "pi"
      ],
      "execution_count": null,
      "outputs": [
        {
          "output_type": "execute_result",
          "data": {
            "text/plain": [
              "3.141592653589793"
            ]
          },
          "metadata": {
            "tags": []
          },
          "execution_count": 89
        }
      ]
    },
    {
      "cell_type": "code",
      "metadata": {
        "id": "uxwPqNwvzHwH",
        "colab_type": "code",
        "colab": {},
        "outputId": "f6b3842d-79a1-4ee2-8d84-34be6a091d7b"
      },
      "source": [
        "a=np.arange(6)\n",
        "a"
      ],
      "execution_count": null,
      "outputs": [
        {
          "output_type": "execute_result",
          "data": {
            "text/plain": [
              "array([0, 1, 2, 3, 4, 5])"
            ]
          },
          "metadata": {
            "tags": []
          },
          "execution_count": 90
        }
      ]
    },
    {
      "cell_type": "code",
      "metadata": {
        "id": "YPCa-0kKzHwJ",
        "colab_type": "code",
        "colab": {}
      },
      "source": [
        "b=np.arange(12).reshape(4,3)"
      ],
      "execution_count": null,
      "outputs": []
    },
    {
      "cell_type": "code",
      "metadata": {
        "id": "HnWYaKGNzHwK",
        "colab_type": "code",
        "colab": {}
      },
      "source": [
        "c=np.arange(24).reshape(2,3,4)"
      ],
      "execution_count": null,
      "outputs": []
    },
    {
      "cell_type": "code",
      "metadata": {
        "id": "Qa5XagEHzHwM",
        "colab_type": "code",
        "colab": {},
        "outputId": "d07052ba-740d-418b-841a-1201896ed098"
      },
      "source": [
        "b"
      ],
      "execution_count": null,
      "outputs": [
        {
          "output_type": "execute_result",
          "data": {
            "text/plain": [
              "array([[ 0,  1,  2],\n",
              "       [ 3,  4,  5],\n",
              "       [ 6,  7,  8],\n",
              "       [ 9, 10, 11]])"
            ]
          },
          "metadata": {
            "tags": []
          },
          "execution_count": 93
        }
      ]
    },
    {
      "cell_type": "code",
      "metadata": {
        "id": "-azmnEDmzHwO",
        "colab_type": "code",
        "colab": {},
        "outputId": "eafad57e-4e45-48d2-9386-c1af98081e8e"
      },
      "source": [
        "c"
      ],
      "execution_count": null,
      "outputs": [
        {
          "output_type": "execute_result",
          "data": {
            "text/plain": [
              "array([[[ 0,  1,  2,  3],\n",
              "        [ 4,  5,  6,  7],\n",
              "        [ 8,  9, 10, 11]],\n",
              "\n",
              "       [[12, 13, 14, 15],\n",
              "        [16, 17, 18, 19],\n",
              "        [20, 21, 22, 23]]])"
            ]
          },
          "metadata": {
            "tags": []
          },
          "execution_count": 94
        }
      ]
    },
    {
      "cell_type": "code",
      "metadata": {
        "id": "25cKKtNgzHwP",
        "colab_type": "code",
        "colab": {},
        "outputId": "2eb66133-ddf1-45da-9842-eebe70e65734"
      },
      "source": [
        "a = np.array( [20,30,40,50] )\n",
        "a<35"
      ],
      "execution_count": null,
      "outputs": [
        {
          "output_type": "execute_result",
          "data": {
            "text/plain": [
              "array([ True,  True, False, False])"
            ]
          },
          "metadata": {
            "tags": []
          },
          "execution_count": 96
        }
      ]
    },
    {
      "cell_type": "code",
      "metadata": {
        "id": "0Fl1AN6KzHwS",
        "colab_type": "code",
        "colab": {},
        "outputId": "424d7fe8-07bc-46f3-b609-baf01e995902"
      },
      "source": [
        "a[a<35]"
      ],
      "execution_count": null,
      "outputs": [
        {
          "output_type": "execute_result",
          "data": {
            "text/plain": [
              "array([20, 30])"
            ]
          },
          "metadata": {
            "tags": []
          },
          "execution_count": 97
        }
      ]
    },
    {
      "cell_type": "code",
      "metadata": {
        "id": "kWFKoIUXzHwT",
        "colab_type": "code",
        "colab": {}
      },
      "source": [
        "rg = np.random.default_rng(1) "
      ],
      "execution_count": null,
      "outputs": []
    },
    {
      "cell_type": "code",
      "metadata": {
        "id": "9XZ3BkhFzHwV",
        "colab_type": "code",
        "colab": {},
        "outputId": "1884cc0b-bec7-4f14-9ca2-6e87a4f48d7c"
      },
      "source": [
        "rg"
      ],
      "execution_count": null,
      "outputs": [
        {
          "output_type": "execute_result",
          "data": {
            "text/plain": [
              "Generator(PCG64) at 0x2A203C2A400"
            ]
          },
          "metadata": {
            "tags": []
          },
          "execution_count": 99
        }
      ]
    },
    {
      "cell_type": "code",
      "metadata": {
        "id": "Lat-dPXrzHwX",
        "colab_type": "code",
        "colab": {}
      },
      "source": [
        "b=rg.random((2,3))"
      ],
      "execution_count": null,
      "outputs": []
    },
    {
      "cell_type": "code",
      "metadata": {
        "id": "b39QQITFzHwY",
        "colab_type": "code",
        "colab": {},
        "outputId": "6e7bf8b4-3ae2-4a6f-f8a0-cc9c7bffd0e2"
      },
      "source": [
        "b"
      ],
      "execution_count": null,
      "outputs": [
        {
          "output_type": "execute_result",
          "data": {
            "text/plain": [
              "array([[0.51182162, 0.9504637 , 0.14415961],\n",
              "       [0.94864945, 0.31183145, 0.42332645]])"
            ]
          },
          "metadata": {
            "tags": []
          },
          "execution_count": 101
        }
      ]
    },
    {
      "cell_type": "code",
      "metadata": {
        "id": "lUCG4n1QzHwZ",
        "colab_type": "code",
        "colab": {}
      },
      "source": [
        "a=np.ones((2,3), dtype=int)"
      ],
      "execution_count": null,
      "outputs": []
    },
    {
      "cell_type": "code",
      "metadata": {
        "id": "4scQxV8xzHwc",
        "colab_type": "code",
        "colab": {}
      },
      "source": [
        "a*=3"
      ],
      "execution_count": null,
      "outputs": []
    },
    {
      "cell_type": "code",
      "metadata": {
        "id": "WkqAa1eGzHwf",
        "colab_type": "code",
        "colab": {},
        "outputId": "94d81839-723d-47a3-f577-0b169c1a5fb7"
      },
      "source": [
        "a"
      ],
      "execution_count": null,
      "outputs": [
        {
          "output_type": "execute_result",
          "data": {
            "text/plain": [
              "array([[3, 3, 3],\n",
              "       [3, 3, 3]])"
            ]
          },
          "metadata": {
            "tags": []
          },
          "execution_count": 109
        }
      ]
    },
    {
      "cell_type": "code",
      "metadata": {
        "id": "QJqHwwPbzHwh",
        "colab_type": "code",
        "colab": {}
      },
      "source": [
        "#np.random.seed(0)\n",
        "\n",
        "b= np.random.rand(2,3)"
      ],
      "execution_count": null,
      "outputs": []
    },
    {
      "cell_type": "code",
      "metadata": {
        "id": "oJzpz9mkzHwi",
        "colab_type": "code",
        "colab": {},
        "outputId": "9899aae7-1679-43f2-f4ce-b94f452ed76c"
      },
      "source": [
        "b"
      ],
      "execution_count": null,
      "outputs": [
        {
          "output_type": "execute_result",
          "data": {
            "text/plain": [
              "array([[0.51787758, 0.77923203, 0.17928603],\n",
              "       [0.61395123, 0.8324485 , 0.25215759]])"
            ]
          },
          "metadata": {
            "tags": []
          },
          "execution_count": 111
        }
      ]
    },
    {
      "cell_type": "code",
      "metadata": {
        "id": "003snStZzHwk",
        "colab_type": "code",
        "colab": {}
      },
      "source": [
        "b+=a"
      ],
      "execution_count": null,
      "outputs": []
    },
    {
      "cell_type": "code",
      "metadata": {
        "id": "EqNvJ3A4zHwl",
        "colab_type": "code",
        "colab": {},
        "outputId": "c5cc1600-2912-4182-9bb5-44a40db2dd73"
      },
      "source": [
        "b"
      ],
      "execution_count": null,
      "outputs": [
        {
          "output_type": "execute_result",
          "data": {
            "text/plain": [
              "array([[3.51787758, 3.77923203, 3.17928603],\n",
              "       [3.61395123, 3.8324485 , 3.25215759]])"
            ]
          },
          "metadata": {
            "tags": []
          },
          "execution_count": 113
        }
      ]
    },
    {
      "cell_type": "code",
      "metadata": {
        "id": "UsKYanyhzHwm",
        "colab_type": "code",
        "colab": {}
      },
      "source": [
        "a = rg.random((2,3))\n"
      ],
      "execution_count": null,
      "outputs": []
    },
    {
      "cell_type": "code",
      "metadata": {
        "id": "3jL0f2kazHwo",
        "colab_type": "code",
        "colab": {},
        "outputId": "77ed46f1-c07f-47cc-e693-319c4d3b8d07"
      },
      "source": [
        "a.sum()"
      ],
      "execution_count": null,
      "outputs": [
        {
          "output_type": "execute_result",
          "data": {
            "text/plain": [
              "3.1057109529998157"
            ]
          },
          "metadata": {
            "tags": []
          },
          "execution_count": 116
        }
      ]
    },
    {
      "cell_type": "code",
      "metadata": {
        "id": "J1oEEPzJzHwr",
        "colab_type": "code",
        "colab": {},
        "outputId": "4db1fa0a-0a51-41bc-e53d-b1925541267f"
      },
      "source": [
        "a.min()"
      ],
      "execution_count": null,
      "outputs": [
        {
          "output_type": "execute_result",
          "data": {
            "text/plain": [
              "0.027559113243068367"
            ]
          },
          "metadata": {
            "tags": []
          },
          "execution_count": 117
        }
      ]
    },
    {
      "cell_type": "code",
      "metadata": {
        "id": "gi_EMyHhzHwt",
        "colab_type": "code",
        "colab": {},
        "outputId": "2faeb8dd-543a-4e4d-a02a-de160e30edfc"
      },
      "source": [
        "a.max()"
      ],
      "execution_count": null,
      "outputs": [
        {
          "output_type": "execute_result",
          "data": {
            "text/plain": [
              "0.8277025938204418"
            ]
          },
          "metadata": {
            "tags": []
          },
          "execution_count": 118
        }
      ]
    },
    {
      "cell_type": "code",
      "metadata": {
        "id": "QqXSyim9zHwv",
        "colab_type": "code",
        "colab": {}
      },
      "source": [
        "b=np.arange(24).reshape(-1,3,4)"
      ],
      "execution_count": null,
      "outputs": []
    },
    {
      "cell_type": "code",
      "metadata": {
        "id": "2VyS7MRizHww",
        "colab_type": "code",
        "colab": {},
        "outputId": "71cfcdcd-4e59-4089-ba22-717c3ab6e720"
      },
      "source": [
        "b"
      ],
      "execution_count": null,
      "outputs": [
        {
          "output_type": "execute_result",
          "data": {
            "text/plain": [
              "array([[[ 0,  1,  2,  3],\n",
              "        [ 4,  5,  6,  7],\n",
              "        [ 8,  9, 10, 11]],\n",
              "\n",
              "       [[12, 13, 14, 15],\n",
              "        [16, 17, 18, 19],\n",
              "        [20, 21, 22, 23]]])"
            ]
          },
          "metadata": {
            "tags": []
          },
          "execution_count": 125
        }
      ]
    },
    {
      "cell_type": "code",
      "metadata": {
        "id": "xwbdhM5WzHwy",
        "colab_type": "code",
        "colab": {},
        "outputId": "0232914c-c291-4a9b-b7d6-9768ace389d2"
      },
      "source": [
        "b.sum(axis=0)"
      ],
      "execution_count": null,
      "outputs": [
        {
          "output_type": "execute_result",
          "data": {
            "text/plain": [
              "array([[12, 14, 16, 18],\n",
              "       [20, 22, 24, 26],\n",
              "       [28, 30, 32, 34]])"
            ]
          },
          "metadata": {
            "tags": []
          },
          "execution_count": 126
        }
      ]
    },
    {
      "cell_type": "code",
      "metadata": {
        "id": "cgs6PSKwzHwz",
        "colab_type": "code",
        "colab": {},
        "outputId": "574faf6f-2829-4cff-e681-ef47fa34e7b5"
      },
      "source": [
        "b.min(axis=1)"
      ],
      "execution_count": null,
      "outputs": [
        {
          "output_type": "execute_result",
          "data": {
            "text/plain": [
              "array([[ 0,  1,  2,  3],\n",
              "       [12, 13, 14, 15]])"
            ]
          },
          "metadata": {
            "tags": []
          },
          "execution_count": 127
        }
      ]
    },
    {
      "cell_type": "code",
      "metadata": {
        "id": "wtinhXFozHw2",
        "colab_type": "code",
        "colab": {},
        "outputId": "c9e3e0fa-25d5-42bc-f541-ddc879fcb67d"
      },
      "source": [
        "b.cumsum(axis=1)"
      ],
      "execution_count": null,
      "outputs": [
        {
          "output_type": "execute_result",
          "data": {
            "text/plain": [
              "array([[[ 0,  1,  2,  3],\n",
              "        [ 4,  6,  8, 10],\n",
              "        [12, 15, 18, 21]],\n",
              "\n",
              "       [[12, 13, 14, 15],\n",
              "        [28, 30, 32, 34],\n",
              "        [48, 51, 54, 57]]], dtype=int32)"
            ]
          },
          "metadata": {
            "tags": []
          },
          "execution_count": 128
        }
      ]
    },
    {
      "cell_type": "code",
      "metadata": {
        "id": "3SRkCYOIzHw3",
        "colab_type": "code",
        "colab": {},
        "outputId": "6ac3c976-b160-4773-f7f8-94a7879ec651"
      },
      "source": [
        "B = np.arange(3)\n",
        "B"
      ],
      "execution_count": null,
      "outputs": [
        {
          "output_type": "execute_result",
          "data": {
            "text/plain": [
              "array([0, 1, 2])"
            ]
          },
          "metadata": {
            "tags": []
          },
          "execution_count": 129
        }
      ]
    },
    {
      "cell_type": "code",
      "metadata": {
        "id": "OcgTRrgUzHw5",
        "colab_type": "code",
        "colab": {}
      },
      "source": [
        "a = np.arange(6).reshape(2,3) + 10"
      ],
      "execution_count": null,
      "outputs": []
    },
    {
      "cell_type": "code",
      "metadata": {
        "id": "idCvpL3MzHw6",
        "colab_type": "code",
        "colab": {},
        "outputId": "45b117b5-a14c-408d-f81a-218b5e4798be"
      },
      "source": [
        "a"
      ],
      "execution_count": null,
      "outputs": [
        {
          "output_type": "execute_result",
          "data": {
            "text/plain": [
              "array([[10, 11, 12],\n",
              "       [13, 14, 15]])"
            ]
          },
          "metadata": {
            "tags": []
          },
          "execution_count": 131
        }
      ]
    },
    {
      "cell_type": "code",
      "metadata": {
        "id": "_9usaQcOzHw8",
        "colab_type": "code",
        "colab": {},
        "outputId": "714d505c-c100-43e9-c750-037e4140f43c"
      },
      "source": [
        "np.argmax(a)"
      ],
      "execution_count": null,
      "outputs": [
        {
          "output_type": "execute_result",
          "data": {
            "text/plain": [
              "5"
            ]
          },
          "metadata": {
            "tags": []
          },
          "execution_count": 132
        }
      ]
    },
    {
      "cell_type": "code",
      "metadata": {
        "id": "aXALaNRzzHw9",
        "colab_type": "code",
        "colab": {},
        "outputId": "84969ab8-5db1-4007-df3f-aa3ac7412c00"
      },
      "source": [
        "a1=[5,454,23]\n",
        "a2=[10,54,21]\n",
        "a=np.array([a1,a2]).reshape(2,3)\n",
        "a"
      ],
      "execution_count": null,
      "outputs": [
        {
          "output_type": "execute_result",
          "data": {
            "text/plain": [
              "array([[  5, 454,  23],\n",
              "       [ 10,  54,  21]])"
            ]
          },
          "metadata": {
            "tags": []
          },
          "execution_count": 133
        }
      ]
    },
    {
      "cell_type": "code",
      "metadata": {
        "scrolled": true,
        "id": "TMNkqKZRzHw-",
        "colab_type": "code",
        "colab": {},
        "outputId": "a301e4fe-f405-4990-e55a-0b97bbc5693a"
      },
      "source": [
        "np.argmax(a)"
      ],
      "execution_count": null,
      "outputs": [
        {
          "output_type": "execute_result",
          "data": {
            "text/plain": [
              "1"
            ]
          },
          "metadata": {
            "tags": []
          },
          "execution_count": 134
        }
      ]
    },
    {
      "cell_type": "code",
      "metadata": {
        "id": "K4Fs1C0LzHxA",
        "colab_type": "code",
        "colab": {},
        "outputId": "81423279-5e30-4147-a055-b576718d6833"
      },
      "source": [
        "np.argmax(a,axis=0)"
      ],
      "execution_count": null,
      "outputs": [
        {
          "output_type": "execute_result",
          "data": {
            "text/plain": [
              "array([1, 0, 0], dtype=int64)"
            ]
          },
          "metadata": {
            "tags": []
          },
          "execution_count": 135
        }
      ]
    },
    {
      "cell_type": "code",
      "metadata": {
        "id": "BD_DI38FzHxB",
        "colab_type": "code",
        "colab": {},
        "outputId": "0d0ec72b-6bd6-4c46-ca4d-4ee737251d0f"
      },
      "source": [
        "np.argmax(a,axis=1)"
      ],
      "execution_count": null,
      "outputs": [
        {
          "output_type": "execute_result",
          "data": {
            "text/plain": [
              "array([1, 1], dtype=int64)"
            ]
          },
          "metadata": {
            "tags": []
          },
          "execution_count": 136
        }
      ]
    },
    {
      "cell_type": "code",
      "metadata": {
        "id": "27pBsBcPzHxD",
        "colab_type": "code",
        "colab": {},
        "outputId": "05a618e0-b0d9-4e10-c5db-36d470a51c7d"
      },
      "source": [
        "a = np.arange(10)**3\n",
        "a"
      ],
      "execution_count": null,
      "outputs": [
        {
          "output_type": "execute_result",
          "data": {
            "text/plain": [
              "array([  0,   1,   8,  27,  64, 125, 216, 343, 512, 729], dtype=int32)"
            ]
          },
          "metadata": {
            "tags": []
          },
          "execution_count": 140
        }
      ]
    },
    {
      "cell_type": "code",
      "metadata": {
        "id": "cDYdz-2EzHxF",
        "colab_type": "code",
        "colab": {},
        "outputId": "9f269106-7580-43d7-b1be-ad22f4c41002"
      },
      "source": [
        "a[2]"
      ],
      "execution_count": null,
      "outputs": [
        {
          "output_type": "execute_result",
          "data": {
            "text/plain": [
              "8"
            ]
          },
          "metadata": {
            "tags": []
          },
          "execution_count": 138
        }
      ]
    },
    {
      "cell_type": "code",
      "metadata": {
        "id": "y5InbgWTzHxG",
        "colab_type": "code",
        "colab": {},
        "outputId": "3879a64c-b03b-4e8f-9b24-03657e6182d1"
      },
      "source": [
        "a[2:5]"
      ],
      "execution_count": null,
      "outputs": [
        {
          "output_type": "execute_result",
          "data": {
            "text/plain": [
              "array([ 8, 27, 64], dtype=int32)"
            ]
          },
          "metadata": {
            "tags": []
          },
          "execution_count": 139
        }
      ]
    },
    {
      "cell_type": "code",
      "metadata": {
        "id": "rerTEiaBzHxI",
        "colab_type": "code",
        "colab": {}
      },
      "source": [
        "a[0:6:2]=1000"
      ],
      "execution_count": null,
      "outputs": []
    },
    {
      "cell_type": "code",
      "metadata": {
        "id": "EDhjTghnzHxJ",
        "colab_type": "code",
        "colab": {},
        "outputId": "b29f5461-e1fb-4021-a815-c944152a9cb3"
      },
      "source": [
        "a"
      ],
      "execution_count": null,
      "outputs": [
        {
          "output_type": "execute_result",
          "data": {
            "text/plain": [
              "array([1000,    1, 1000,   27, 1000,  125,  216,  343,  512,  729],\n",
              "      dtype=int32)"
            ]
          },
          "metadata": {
            "tags": []
          },
          "execution_count": 142
        }
      ]
    },
    {
      "cell_type": "code",
      "metadata": {
        "id": "yvLbuMVQzHxN",
        "colab_type": "code",
        "colab": {},
        "outputId": "35cffda6-cc26-453d-b2a2-79be4ed34c7b"
      },
      "source": [
        "for i in a:\n",
        "    print(i**(1/3.))"
      ],
      "execution_count": null,
      "outputs": [
        {
          "output_type": "stream",
          "text": [
            "9.999999999999998\n",
            "1.0\n",
            "9.999999999999998\n",
            "3.0\n",
            "9.999999999999998\n",
            "5.0\n",
            "5.999999999999999\n",
            "6.999999999999999\n",
            "7.999999999999999\n",
            "8.999999999999998\n"
          ],
          "name": "stdout"
        }
      ]
    },
    {
      "cell_type": "code",
      "metadata": {
        "id": "mDsR2HwozHxQ",
        "colab_type": "code",
        "colab": {}
      },
      "source": [
        "#판다스는 행과 열로 \n",
        "#numpy 는 왼쪽 부터 0,1,2 (차원 수로 인식)"
      ],
      "execution_count": null,
      "outputs": []
    },
    {
      "cell_type": "code",
      "metadata": {
        "id": "YxE6rnAKzHxR",
        "colab_type": "code",
        "colab": {},
        "outputId": "e49b01a5-f630-4a39-e457-97422a473133"
      },
      "source": [
        "def f(x,y):\n",
        "    return 10*x+y\n",
        "\n",
        "b=np.fromfunction(f,(5,4),dtype=int)\n",
        "b"
      ],
      "execution_count": null,
      "outputs": [
        {
          "output_type": "execute_result",
          "data": {
            "text/plain": [
              "array([[ 0,  1,  2,  3],\n",
              "       [10, 11, 12, 13],\n",
              "       [20, 21, 22, 23],\n",
              "       [30, 31, 32, 33],\n",
              "       [40, 41, 42, 43]])"
            ]
          },
          "metadata": {
            "tags": []
          },
          "execution_count": 147
        }
      ]
    },
    {
      "cell_type": "code",
      "metadata": {
        "id": "FwxDKhK1zHxT",
        "colab_type": "code",
        "colab": {},
        "outputId": "bba99129-6969-4e2a-9fb4-2b89c456c30e"
      },
      "source": [
        "b[2,3]"
      ],
      "execution_count": null,
      "outputs": [
        {
          "output_type": "execute_result",
          "data": {
            "text/plain": [
              "23"
            ]
          },
          "metadata": {
            "tags": []
          },
          "execution_count": 148
        }
      ]
    },
    {
      "cell_type": "code",
      "metadata": {
        "id": "PNmGSOZXzHxU",
        "colab_type": "code",
        "colab": {},
        "outputId": "37663105-7786-431b-c32d-a74e5100ce0d"
      },
      "source": [
        "b[0:5,1]"
      ],
      "execution_count": null,
      "outputs": [
        {
          "output_type": "execute_result",
          "data": {
            "text/plain": [
              "array([ 1, 11, 21, 31, 41])"
            ]
          },
          "metadata": {
            "tags": []
          },
          "execution_count": 149
        }
      ]
    },
    {
      "cell_type": "code",
      "metadata": {
        "id": "68VKGGt1zHxV",
        "colab_type": "code",
        "colab": {},
        "outputId": "886e8dc7-62bb-4fbc-a425-1b94295f2179"
      },
      "source": [
        "b[2:4,1:3]"
      ],
      "execution_count": null,
      "outputs": [
        {
          "output_type": "execute_result",
          "data": {
            "text/plain": [
              "array([[21, 22],\n",
              "       [31, 32]])"
            ]
          },
          "metadata": {
            "tags": []
          },
          "execution_count": 150
        }
      ]
    },
    {
      "cell_type": "code",
      "metadata": {
        "id": "WqXxU30LzHxX",
        "colab_type": "code",
        "colab": {},
        "outputId": "00409c29-a4d8-47bb-9bc8-5ef83ff28279"
      },
      "source": [
        "b[-1]"
      ],
      "execution_count": null,
      "outputs": [
        {
          "output_type": "execute_result",
          "data": {
            "text/plain": [
              "array([40, 41, 42, 43])"
            ]
          },
          "metadata": {
            "tags": []
          },
          "execution_count": 151
        }
      ]
    },
    {
      "cell_type": "code",
      "metadata": {
        "id": "9HRxRd-7zHxY",
        "colab_type": "code",
        "colab": {},
        "outputId": "c17cb327-e14e-4c4c-bb5c-58ee3b7c6678"
      },
      "source": [
        "b[::-1]"
      ],
      "execution_count": null,
      "outputs": [
        {
          "output_type": "execute_result",
          "data": {
            "text/plain": [
              "array([[40, 41, 42, 43],\n",
              "       [30, 31, 32, 33],\n",
              "       [20, 21, 22, 23],\n",
              "       [10, 11, 12, 13],\n",
              "       [ 0,  1,  2,  3]])"
            ]
          },
          "metadata": {
            "tags": []
          },
          "execution_count": 152
        }
      ]
    },
    {
      "cell_type": "code",
      "metadata": {
        "id": "M-6Ibu8QzHxZ",
        "colab_type": "code",
        "colab": {},
        "outputId": "a5abbdbb-858e-447d-cbc3-a1f3b6b7edb4"
      },
      "source": [
        "b[-1,:]"
      ],
      "execution_count": null,
      "outputs": [
        {
          "output_type": "execute_result",
          "data": {
            "text/plain": [
              "array([40, 41, 42, 43])"
            ]
          },
          "metadata": {
            "tags": []
          },
          "execution_count": 153
        }
      ]
    },
    {
      "cell_type": "code",
      "metadata": {
        "id": "XLYjAAUOzHxa",
        "colab_type": "code",
        "colab": {}
      },
      "source": [
        "c=np.array([[[0,1,2],[10,12,13]],[[100,101,102],[110,112,113]]])"
      ],
      "execution_count": null,
      "outputs": []
    },
    {
      "cell_type": "code",
      "metadata": {
        "id": "lLNbFGOIzHxb",
        "colab_type": "code",
        "colab": {},
        "outputId": "58785bf6-b5e8-4d21-f29d-e3b1c0a49a17"
      },
      "source": [
        "c"
      ],
      "execution_count": null,
      "outputs": [
        {
          "output_type": "execute_result",
          "data": {
            "text/plain": [
              "array([[[  0,   1,   2],\n",
              "        [ 10,  12,  13]],\n",
              "\n",
              "       [[100, 101, 102],\n",
              "        [110, 112, 113]]])"
            ]
          },
          "metadata": {
            "tags": []
          },
          "execution_count": 155
        }
      ]
    },
    {
      "cell_type": "code",
      "metadata": {
        "id": "f0tiUsZWzHxc",
        "colab_type": "code",
        "colab": {},
        "outputId": "07afdd36-7698-4a6a-fa9c-1c559ab1adbb"
      },
      "source": [
        "c.shape"
      ],
      "execution_count": null,
      "outputs": [
        {
          "output_type": "execute_result",
          "data": {
            "text/plain": [
              "(2, 2, 3)"
            ]
          },
          "metadata": {
            "tags": []
          },
          "execution_count": 156
        }
      ]
    },
    {
      "cell_type": "code",
      "metadata": {
        "id": "FEKfiaKBzHxe",
        "colab_type": "code",
        "colab": {},
        "outputId": "62abb75f-4f44-4a7f-b7cd-f843e360a4b3"
      },
      "source": [
        "c[1,...]\n",
        "#sameas c[1::] or c[1]"
      ],
      "execution_count": null,
      "outputs": [
        {
          "output_type": "execute_result",
          "data": {
            "text/plain": [
              "array([[100, 101, 102],\n",
              "       [110, 112, 113]])"
            ]
          },
          "metadata": {
            "tags": []
          },
          "execution_count": 157
        }
      ]
    },
    {
      "cell_type": "code",
      "metadata": {
        "id": "co8NFuv6zHxh",
        "colab_type": "code",
        "colab": {},
        "outputId": "f897b455-dfb3-471b-ade3-648ba35eacc0"
      },
      "source": [
        "c[...,2]\n",
        "#same as c[::2]"
      ],
      "execution_count": null,
      "outputs": [
        {
          "output_type": "execute_result",
          "data": {
            "text/plain": [
              "array([[  2,  13],\n",
              "       [102, 113]])"
            ]
          },
          "metadata": {
            "tags": []
          },
          "execution_count": 158
        }
      ]
    },
    {
      "cell_type": "code",
      "metadata": {
        "id": "qAiglF-PzHxi",
        "colab_type": "code",
        "colab": {},
        "outputId": "04cfceb6-2c12-4201-82db-dea784ef6f19"
      },
      "source": [
        "for row in b:\n",
        "    print(row)"
      ],
      "execution_count": null,
      "outputs": [
        {
          "output_type": "stream",
          "text": [
            "[0 1 2 3]\n",
            "[10 11 12 13]\n",
            "[20 21 22 23]\n",
            "[30 31 32 33]\n",
            "[40 41 42 43]\n"
          ],
          "name": "stdout"
        }
      ]
    },
    {
      "cell_type": "code",
      "metadata": {
        "id": "MiEzYpKgzHxk",
        "colab_type": "code",
        "colab": {},
        "outputId": "7c4668f2-bef6-453b-8503-4927e875214b"
      },
      "source": [
        "b"
      ],
      "execution_count": null,
      "outputs": [
        {
          "output_type": "execute_result",
          "data": {
            "text/plain": [
              "array([[ 0,  1,  2,  3],\n",
              "       [10, 11, 12, 13],\n",
              "       [20, 21, 22, 23],\n",
              "       [30, 31, 32, 33],\n",
              "       [40, 41, 42, 43]])"
            ]
          },
          "metadata": {
            "tags": []
          },
          "execution_count": 161
        }
      ]
    },
    {
      "cell_type": "code",
      "metadata": {
        "id": "ov7bVxC9zHxm",
        "colab_type": "code",
        "colab": {},
        "outputId": "a3a60d42-1c52-4940-ea6a-81a1965e25ab"
      },
      "source": [
        "for element in b.flat:\n",
        "    print(element)"
      ],
      "execution_count": null,
      "outputs": [
        {
          "output_type": "stream",
          "text": [
            "0\n",
            "1\n",
            "2\n",
            "3\n",
            "10\n",
            "11\n",
            "12\n",
            "13\n",
            "20\n",
            "21\n",
            "22\n",
            "23\n",
            "30\n",
            "31\n",
            "32\n",
            "33\n",
            "40\n",
            "41\n",
            "42\n",
            "43\n"
          ],
          "name": "stdout"
        }
      ]
    },
    {
      "cell_type": "code",
      "metadata": {
        "id": "9hBcrX_QzHxo",
        "colab_type": "code",
        "colab": {},
        "outputId": "20e06cb7-5545-44df-f239-b9231ca8c299"
      },
      "source": [
        "a=np.floor(10*rg.random((3,4)));a"
      ],
      "execution_count": null,
      "outputs": [
        {
          "output_type": "execute_result",
          "data": {
            "text/plain": [
              "array([[3., 7., 3., 4.],\n",
              "       [1., 4., 2., 2.],\n",
              "       [7., 2., 4., 9.]])"
            ]
          },
          "metadata": {
            "tags": []
          },
          "execution_count": 163
        }
      ]
    },
    {
      "cell_type": "code",
      "metadata": {
        "id": "E1dvIInwzHxp",
        "colab_type": "code",
        "colab": {},
        "outputId": "e190fe2f-4e6b-4f96-ef59-84f29a6d7513"
      },
      "source": [
        "b.flat"
      ],
      "execution_count": null,
      "outputs": [
        {
          "output_type": "execute_result",
          "data": {
            "text/plain": [
              "<numpy.flatiter at 0x2a2007868d0>"
            ]
          },
          "metadata": {
            "tags": []
          },
          "execution_count": 164
        }
      ]
    },
    {
      "cell_type": "code",
      "metadata": {
        "id": "A3OC_tWhzHxq",
        "colab_type": "code",
        "colab": {},
        "outputId": "846bd0bc-469c-4b40-e70f-052374e12a76"
      },
      "source": [
        "a=np.floor(10*rg.random((2,2)));a"
      ],
      "execution_count": null,
      "outputs": [
        {
          "output_type": "execute_result",
          "data": {
            "text/plain": [
              "array([[9., 7.],\n",
              "       [5., 2.]])"
            ]
          },
          "metadata": {
            "tags": []
          },
          "execution_count": 165
        }
      ]
    },
    {
      "cell_type": "code",
      "metadata": {
        "id": "Hb5IlCmszHxr",
        "colab_type": "code",
        "colab": {},
        "outputId": "d23b4f07-50fc-4649-f926-3db262a988a6"
      },
      "source": [
        "b=np.floor(10*rg.random((2,2)));b"
      ],
      "execution_count": null,
      "outputs": [
        {
          "output_type": "execute_result",
          "data": {
            "text/plain": [
              "array([[1., 9.],\n",
              "       [5., 1.]])"
            ]
          },
          "metadata": {
            "tags": []
          },
          "execution_count": 166
        }
      ]
    },
    {
      "cell_type": "code",
      "metadata": {
        "id": "25E0UXoJzHxs",
        "colab_type": "code",
        "colab": {},
        "outputId": "cd852df6-aacb-41ac-88ba-0d66539e0411"
      },
      "source": [
        "np.vstack((a,b))"
      ],
      "execution_count": null,
      "outputs": [
        {
          "output_type": "execute_result",
          "data": {
            "text/plain": [
              "array([[9., 7.],\n",
              "       [5., 2.],\n",
              "       [1., 9.],\n",
              "       [5., 1.]])"
            ]
          },
          "metadata": {
            "tags": []
          },
          "execution_count": 167
        }
      ]
    },
    {
      "cell_type": "code",
      "metadata": {
        "id": "BeiDUorUzHxt",
        "colab_type": "code",
        "colab": {},
        "outputId": "3b22675f-7ace-4cd2-a183-847be50feccb"
      },
      "source": [
        "np.hstack((a,b))"
      ],
      "execution_count": null,
      "outputs": [
        {
          "output_type": "execute_result",
          "data": {
            "text/plain": [
              "array([[9., 7., 1., 9.],\n",
              "       [5., 2., 5., 1.]])"
            ]
          },
          "metadata": {
            "tags": []
          },
          "execution_count": 168
        }
      ]
    },
    {
      "cell_type": "code",
      "metadata": {
        "id": "adtq3RGrzHxu",
        "colab_type": "code",
        "colab": {},
        "outputId": "b438f83c-f6b1-421c-9379-dd47a7fd57a2"
      },
      "source": [
        "from numpy import newaxis\n",
        "np.column_stack((a,b))"
      ],
      "execution_count": null,
      "outputs": [
        {
          "output_type": "execute_result",
          "data": {
            "text/plain": [
              "array([[9., 7., 1., 9.],\n",
              "       [5., 2., 5., 1.]])"
            ]
          },
          "metadata": {
            "tags": []
          },
          "execution_count": 169
        }
      ]
    },
    {
      "cell_type": "code",
      "metadata": {
        "id": "8pShbs5QzHxv",
        "colab_type": "code",
        "colab": {}
      },
      "source": [
        "a=np.array([4,2])\n",
        "b=np.array([3,8])"
      ],
      "execution_count": null,
      "outputs": []
    },
    {
      "cell_type": "code",
      "metadata": {
        "id": "S0pn9z28zHxw",
        "colab_type": "code",
        "colab": {},
        "outputId": "eb24f870-7334-42a3-800c-1cd8d3031397"
      },
      "source": [
        "np.column_stack((a,b))"
      ],
      "execution_count": null,
      "outputs": [
        {
          "output_type": "execute_result",
          "data": {
            "text/plain": [
              "array([[4, 3],\n",
              "       [2, 8]])"
            ]
          },
          "metadata": {
            "tags": []
          },
          "execution_count": 171
        }
      ]
    },
    {
      "cell_type": "code",
      "metadata": {
        "id": "kV3OxIjyzHxx",
        "colab_type": "code",
        "colab": {},
        "outputId": "ca4af29b-268e-47d2-a1e3-dee30a753104"
      },
      "source": [
        "np.hstack((a,b))"
      ],
      "execution_count": null,
      "outputs": [
        {
          "output_type": "execute_result",
          "data": {
            "text/plain": [
              "array([4, 2, 3, 8])"
            ]
          },
          "metadata": {
            "tags": []
          },
          "execution_count": 172
        }
      ]
    },
    {
      "cell_type": "code",
      "metadata": {
        "id": "JNXGUffozHxy",
        "colab_type": "code",
        "colab": {},
        "outputId": "021f6759-bb78-46c4-d9e2-7dd879cfdbc0"
      },
      "source": [
        "a[:newaxis]"
      ],
      "execution_count": null,
      "outputs": [
        {
          "output_type": "execute_result",
          "data": {
            "text/plain": [
              "array([4, 2])"
            ]
          },
          "metadata": {
            "tags": []
          },
          "execution_count": 173
        }
      ]
    },
    {
      "cell_type": "code",
      "metadata": {
        "id": "Z009EVzYzHxz",
        "colab_type": "code",
        "colab": {}
      },
      "source": [
        "a = np.floor(10*rg.random((2,12)))"
      ],
      "execution_count": null,
      "outputs": []
    },
    {
      "cell_type": "code",
      "metadata": {
        "id": "poeqhJS1zHx0",
        "colab_type": "code",
        "colab": {},
        "outputId": "abae5312-00b6-4b21-da2c-35f195485af3"
      },
      "source": [
        "a"
      ],
      "execution_count": null,
      "outputs": [
        {
          "output_type": "execute_result",
          "data": {
            "text/plain": [
              "array([[6., 7., 6., 9., 0., 5., 4., 0., 6., 8., 5., 2.],\n",
              "       [8., 5., 5., 7., 1., 8., 6., 7., 1., 8., 1., 0.]])"
            ]
          },
          "metadata": {
            "tags": []
          },
          "execution_count": 175
        }
      ]
    },
    {
      "cell_type": "code",
      "metadata": {
        "id": "BQjurkO4zHx1",
        "colab_type": "code",
        "colab": {},
        "outputId": "54b6e065-9082-49fb-a43a-1cfd27266e26"
      },
      "source": [
        "np.hsplit(a,3)"
      ],
      "execution_count": null,
      "outputs": [
        {
          "output_type": "execute_result",
          "data": {
            "text/plain": [
              "[array([[6., 7., 6., 9.],\n",
              "        [8., 5., 5., 7.]]),\n",
              " array([[0., 5., 4., 0.],\n",
              "        [1., 8., 6., 7.]]),\n",
              " array([[6., 8., 5., 2.],\n",
              "        [1., 8., 1., 0.]])]"
            ]
          },
          "metadata": {
            "tags": []
          },
          "execution_count": 176
        }
      ]
    },
    {
      "cell_type": "code",
      "metadata": {
        "id": "wLN3lLjizHx2",
        "colab_type": "code",
        "colab": {},
        "outputId": "27e993d1-c42e-4a98-859d-f6163602e5e2"
      },
      "source": [
        "np.hsplit(a,(3,4))"
      ],
      "execution_count": null,
      "outputs": [
        {
          "output_type": "execute_result",
          "data": {
            "text/plain": [
              "[array([[6., 7., 6.],\n",
              "        [8., 5., 5.]]),\n",
              " array([[9.],\n",
              "        [7.]]),\n",
              " array([[0., 5., 4., 0., 6., 8., 5., 2.],\n",
              "        [1., 8., 6., 7., 1., 8., 1., 0.]])]"
            ]
          },
          "metadata": {
            "tags": []
          },
          "execution_count": 177
        }
      ]
    },
    {
      "cell_type": "code",
      "metadata": {
        "id": "g7dirSRzzHx3",
        "colab_type": "code",
        "colab": {}
      },
      "source": [
        "a=np.arange(12).reshape(3,4)"
      ],
      "execution_count": null,
      "outputs": []
    },
    {
      "cell_type": "code",
      "metadata": {
        "id": "3vx9vRIyzHx5",
        "colab_type": "code",
        "colab": {},
        "outputId": "94f9221d-ed0f-482c-908b-80e7fb857253"
      },
      "source": [
        "a"
      ],
      "execution_count": null,
      "outputs": [
        {
          "output_type": "execute_result",
          "data": {
            "text/plain": [
              "array([[ 0,  1,  2,  3],\n",
              "       [ 4,  5,  6,  7],\n",
              "       [ 8,  9, 10, 11]])"
            ]
          },
          "metadata": {
            "tags": []
          },
          "execution_count": 180
        }
      ]
    },
    {
      "cell_type": "code",
      "metadata": {
        "id": "VTPHO1uhzHx6",
        "colab_type": "code",
        "colab": {}
      },
      "source": [
        "b=a"
      ],
      "execution_count": null,
      "outputs": []
    },
    {
      "cell_type": "code",
      "metadata": {
        "id": "15D2WghvzHx7",
        "colab_type": "code",
        "colab": {},
        "outputId": "f4964826-33ff-4cb8-8275-fe0d590c5308"
      },
      "source": [
        "b is a"
      ],
      "execution_count": null,
      "outputs": [
        {
          "output_type": "execute_result",
          "data": {
            "text/plain": [
              "True"
            ]
          },
          "metadata": {
            "tags": []
          },
          "execution_count": 182
        }
      ]
    },
    {
      "cell_type": "code",
      "metadata": {
        "id": "s-paRAqCzHx9",
        "colab_type": "code",
        "colab": {}
      },
      "source": [
        "def f(x):\n",
        "    print(id(x))\n",
        "\n",
        "    id(a)"
      ],
      "execution_count": null,
      "outputs": []
    },
    {
      "cell_type": "code",
      "metadata": {
        "id": "VInvhdfnzHx-",
        "colab_type": "code",
        "colab": {},
        "outputId": "5ec9a68f-066e-42aa-9249-816c0c003570"
      },
      "source": [
        "f(a)"
      ],
      "execution_count": null,
      "outputs": [
        {
          "output_type": "stream",
          "text": [
            "2894871001808\n"
          ],
          "name": "stdout"
        }
      ]
    },
    {
      "cell_type": "code",
      "metadata": {
        "id": "fP1FXaEizHyA",
        "colab_type": "code",
        "colab": {}
      },
      "source": [
        "c=a.view()"
      ],
      "execution_count": null,
      "outputs": []
    },
    {
      "cell_type": "code",
      "metadata": {
        "id": "xQfXL7EtzHyB",
        "colab_type": "code",
        "colab": {},
        "outputId": "65cb9df4-db96-4319-cb2c-2a9fd128c898"
      },
      "source": [
        "c is a"
      ],
      "execution_count": null,
      "outputs": [
        {
          "output_type": "execute_result",
          "data": {
            "text/plain": [
              "False"
            ]
          },
          "metadata": {
            "tags": []
          },
          "execution_count": 187
        }
      ]
    },
    {
      "cell_type": "code",
      "metadata": {
        "id": "PMAVWIEIzHyD",
        "colab_type": "code",
        "colab": {},
        "outputId": "abd6b2b5-e8d5-4e47-e073-54c17eb385a1"
      },
      "source": [
        "c.base is a"
      ],
      "execution_count": null,
      "outputs": [
        {
          "output_type": "execute_result",
          "data": {
            "text/plain": [
              "False"
            ]
          },
          "metadata": {
            "tags": []
          },
          "execution_count": 188
        }
      ]
    },
    {
      "cell_type": "code",
      "metadata": {
        "id": "i-iQ5rR4zHyF",
        "colab_type": "code",
        "colab": {},
        "outputId": "ed298b48-3b9f-4b67-c7ed-01b405230f24"
      },
      "source": [
        "c.flags.owndata"
      ],
      "execution_count": null,
      "outputs": [
        {
          "output_type": "execute_result",
          "data": {
            "text/plain": [
              "False"
            ]
          },
          "metadata": {
            "tags": []
          },
          "execution_count": 189
        }
      ]
    },
    {
      "cell_type": "code",
      "metadata": {
        "id": "7heU-3WVzHyG",
        "colab_type": "code",
        "colab": {}
      },
      "source": [
        "c=c.reshape((2,6))"
      ],
      "execution_count": null,
      "outputs": []
    },
    {
      "cell_type": "code",
      "metadata": {
        "id": "74-KqhOvzHyH",
        "colab_type": "code",
        "colab": {},
        "outputId": "556ed7c9-5fa6-471b-932c-d02a11583bc6"
      },
      "source": [
        "a.shape"
      ],
      "execution_count": null,
      "outputs": [
        {
          "output_type": "execute_result",
          "data": {
            "text/plain": [
              "(3, 4)"
            ]
          },
          "metadata": {
            "tags": []
          },
          "execution_count": 191
        }
      ]
    },
    {
      "cell_type": "code",
      "metadata": {
        "id": "G0NlWnrQzHyI",
        "colab_type": "code",
        "colab": {}
      },
      "source": [
        "c[0,4]=1234"
      ],
      "execution_count": null,
      "outputs": []
    },
    {
      "cell_type": "code",
      "metadata": {
        "id": "w0tecRqhzHyJ",
        "colab_type": "code",
        "colab": {},
        "outputId": "dc0e24f7-fd9d-430d-f3c3-dceb127f6fa5"
      },
      "source": [
        "a"
      ],
      "execution_count": null,
      "outputs": [
        {
          "output_type": "execute_result",
          "data": {
            "text/plain": [
              "array([[   0,    1,    2,    3],\n",
              "       [1234,    5,    6,    7],\n",
              "       [   8,    9,   10,   11]])"
            ]
          },
          "metadata": {
            "tags": []
          },
          "execution_count": 195
        }
      ]
    },
    {
      "cell_type": "code",
      "metadata": {
        "id": "NEHGsrfszHyL",
        "colab_type": "code",
        "colab": {}
      },
      "source": [
        "d=a.copy()"
      ],
      "execution_count": null,
      "outputs": []
    },
    {
      "cell_type": "code",
      "metadata": {
        "id": "zQfXAhRazHyM",
        "colab_type": "code",
        "colab": {},
        "outputId": "66850c7b-b36b-4570-fd5d-4e119adcaba3"
      },
      "source": [
        "d is a"
      ],
      "execution_count": null,
      "outputs": [
        {
          "output_type": "execute_result",
          "data": {
            "text/plain": [
              "False"
            ]
          },
          "metadata": {
            "tags": []
          },
          "execution_count": 197
        }
      ]
    },
    {
      "cell_type": "code",
      "metadata": {
        "id": "lxFcyZPYzHyN",
        "colab_type": "code",
        "colab": {},
        "outputId": "5867680a-eaa4-4021-c02d-70fbe2f81586"
      },
      "source": [
        "d.base is a"
      ],
      "execution_count": null,
      "outputs": [
        {
          "output_type": "execute_result",
          "data": {
            "text/plain": [
              "False"
            ]
          },
          "metadata": {
            "tags": []
          },
          "execution_count": 201
        }
      ]
    },
    {
      "cell_type": "code",
      "metadata": {
        "id": "sHfZn4llzHyP",
        "colab_type": "code",
        "colab": {}
      },
      "source": [
        "d[0,0]=9999"
      ],
      "execution_count": null,
      "outputs": []
    },
    {
      "cell_type": "code",
      "metadata": {
        "id": "dYQn8HPxzHyQ",
        "colab_type": "code",
        "colab": {},
        "outputId": "cc67cd37-6a8f-422e-d50d-ac42d3635f9f"
      },
      "source": [
        "a"
      ],
      "execution_count": null,
      "outputs": [
        {
          "output_type": "execute_result",
          "data": {
            "text/plain": [
              "array([[   0,    1,    2,    3],\n",
              "       [1234,    5,    6,    7],\n",
              "       [   8,    9,   10,   11]])"
            ]
          },
          "metadata": {
            "tags": []
          },
          "execution_count": 202
        }
      ]
    },
    {
      "cell_type": "code",
      "metadata": {
        "id": "mgNEA_0ZzHyS",
        "colab_type": "code",
        "colab": {},
        "outputId": "360d7de4-cb50-4b60-bc2b-7e05ff1ef13e"
      },
      "source": [
        "palette=np.array([[0,0,0],   \n",
        "                [255,0,0], \n",
        "                [0,255,0],   \n",
        "                [0,0,255],   \n",
        "                [255,255,255]]) \n",
        "\n",
        "image=np.array([[0,1,2,0],[0,3,4,0]])\n",
        "\n",
        "palette[image]"
      ],
      "execution_count": null,
      "outputs": [
        {
          "output_type": "execute_result",
          "data": {
            "text/plain": [
              "array([[[  0,   0,   0],\n",
              "        [255,   0,   0],\n",
              "        [  0, 255,   0],\n",
              "        [  0,   0,   0]],\n",
              "\n",
              "       [[  0,   0,   0],\n",
              "        [  0,   0, 255],\n",
              "        [255, 255, 255],\n",
              "        [  0,   0,   0]]])"
            ]
          },
          "metadata": {
            "tags": []
          },
          "execution_count": 205
        }
      ]
    },
    {
      "cell_type": "code",
      "metadata": {
        "id": "GvHgj2gYzHyT",
        "colab_type": "code",
        "colab": {},
        "outputId": "fa171485-ae58-446c-e83a-3ef7062e8034"
      },
      "source": [
        "import numpy as np\n",
        "import matplotlib.pyplot as plt\n",
        "def mandelbrot(h,w,maxit=20):\n",
        "    y,x=np.ogrid[-1.4:1.4:h*1j, -2:0.8:w*1j]\n",
        "    c=x+y*1j\n",
        "    z=c\n",
        "    divtime=maxit+np.zeros(z.shape, dtype=int)\n",
        "    \n",
        "    for i in range(maxit):\n",
        "        z=z**2+c\n",
        "        diverge=z*np.conj(z)>2**2\n",
        "        div_now=diverge& (divtime==maxit)\n",
        "        divtime[div_now]=i\n",
        "        z[diverge]=2\n",
        "        \n",
        "        return divtime\n",
        "plt.imshow(mandelbrot(400,400))"
      ],
      "execution_count": null,
      "outputs": [
        {
          "output_type": "execute_result",
          "data": {
            "text/plain": [
              "<matplotlib.image.AxesImage at 0x2a203d0c6a0>"
            ]
          },
          "metadata": {
            "tags": []
          },
          "execution_count": 208
        },
        {
          "output_type": "display_data",
          "data": {
            "image/png": "[encoded data removed]",
            "text/plain": [
              "<Figure size 432x288 with 1 Axes>"
            ]
          },
          "metadata": {
            "tags": [],
            "needs_background": "light"
          }
        }
      ]
    },
    {
      "cell_type": "code",
      "metadata": {
        "id": "gX4IEAfrzHyV",
        "colab_type": "code",
        "colab": {}
      },
      "source": [
        ""
      ],
      "execution_count": null,
      "outputs": []
    },
    {
      "cell_type": "code",
      "metadata": {
        "id": "rPJAaoaTzHyW",
        "colab_type": "code",
        "colab": {}
      },
      "source": [
        ""
      ],
      "execution_count": null,
      "outputs": []
    }
  ]
}