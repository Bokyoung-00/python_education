{
  "nbformat": 4,
  "nbformat_minor": 0,
  "metadata": {
    "kernelspec": {
      "display_name": "Python 3",
      "language": "python",
      "name": "python3"
    },
    "language_info": {
      "codemirror_mode": {
        "name": "ipython",
        "version": 3
      },
      "file_extension": ".py",
      "mimetype": "text/x-python",
      "name": "python",
      "nbconvert_exporter": "python",
      "pygments_lexer": "ipython3",
      "version": "3.8.3"
    },
    "colab": {
      "name": "Titanic_new.ipynb",
      "provenance": [],
      "include_colab_link": true
    }
  },
  "cells": [
    {
      "cell_type": "markdown",
      "metadata": {
        "id": "view-in-github",
        "colab_type": "text"
      },
      "source": [
        "<a href=\"https://colab.research.google.com/github/Bokyoung-00/python_education/blob/master/Titanic_new.ipynb\" target=\"_parent\"><img src=\"https://colab.research.google.com/assets/colab-badge.svg\" alt=\"Open In Colab\"/></a>"
      ]
    },
    {
      "cell_type": "code",
      "metadata": {
        "id": "-RF8fMSE0RZa",
        "colab_type": "code",
        "colab": {}
      },
      "source": [
        "import pandas as pd\n",
        "import numpy as np\n",
        "import matplotlib.pyplot as plt\n",
        "titanic=pd.read_csv(\"C:/bkk/titanic.csv\")"
      ],
      "execution_count": null,
      "outputs": []
    },
    {
      "cell_type": "code",
      "metadata": {
        "id": "x2INggmJ0RZe",
        "colab_type": "code",
        "colab": {},
        "outputId": "a2a8bf7c-bdcd-43d2-ae09-cbb6d03bb6bd"
      },
      "source": [
        "titanic['Title']=titanic['Name'].str.extract(' ([A-Za-z]+)\\.', expand=False)\n",
        "titanic['Title'].value_counts()"
      ],
      "execution_count": null,
      "outputs": [
        {
          "output_type": "execute_result",
          "data": {
            "text/plain": [
              "Mr          517\n",
              "Miss        182\n",
              "Mrs         125\n",
              "Master       40\n",
              "Dr            7\n",
              "Rev           6\n",
              "Major         2\n",
              "Col           2\n",
              "Mlle          2\n",
              "Ms            1\n",
              "Capt          1\n",
              "Countess      1\n",
              "Mme           1\n",
              "Sir           1\n",
              "Jonkheer      1\n",
              "Don           1\n",
              "Lady          1\n",
              "Name: Title, dtype: int64"
            ]
          },
          "metadata": {
            "tags": []
          },
          "execution_count": 5
        }
      ]
    },
    {
      "cell_type": "code",
      "metadata": {
        "id": "OKqR_UW_0RZi",
        "colab_type": "code",
        "colab": {}
      },
      "source": [
        "titanic['Title1']=9\n",
        "for row in range(0,len(titanic)):\n",
        "    if titanic.iloc[row,12]=='Mr':\n",
        "        titanic.iloc[row,13]=0\n",
        "    elif titanic.iloc[row,12]=='Miss':\n",
        "        titanic.iloc[row,13]=1\n",
        "    elif titanic.iloc[row,12]=='Mrs':\n",
        "        titanic.iloc[row,13]=2\n",
        "    else:\n",
        "        titanic.iloc[row,13]==3"
      ],
      "execution_count": null,
      "outputs": []
    },
    {
      "cell_type": "code",
      "metadata": {
        "id": "VMoY2-Uw0RZk",
        "colab_type": "code",
        "colab": {}
      },
      "source": [
        "title_mapping={\"Mr\":0,\"Miss\":1, \"Mrs\":2,\"Master\":3,\"Dr\":3,\"Rev\":3, \"Col\":3,\"Major\":3, \"Mlle\":3,\"Jonkheer\":3,\n",
        "               \"Countess\":3, \"Don\":3,\"Ms\":3,\"Capt\":3,\"Mme\":3,\"Sir\":3,\"Lady\":3}\n",
        "\n",
        "titanic['Title2']=titanic['Title'].map(title_mapping)"
      ],
      "execution_count": null,
      "outputs": []
    },
    {
      "cell_type": "code",
      "metadata": {
        "id": "H1VBuVSk0RZn",
        "colab_type": "code",
        "colab": {}
      },
      "source": [
        "titanic.drop(\"Name\",axis=1, inplace=True)"
      ],
      "execution_count": null,
      "outputs": []
    },
    {
      "cell_type": "code",
      "metadata": {
        "id": "8dlQWzKJ0RZq",
        "colab_type": "code",
        "colab": {}
      },
      "source": [
        "titanic_01=titanic.copy()"
      ],
      "execution_count": null,
      "outputs": []
    },
    {
      "cell_type": "code",
      "metadata": {
        "id": "zqCh7Fvc0RZt",
        "colab_type": "code",
        "colab": {}
      },
      "source": [
        "sex_mapping={\"male\":0,\"female\":1}\n",
        "titanic['Sex']=titanic['Sex'].map(sex_mapping)"
      ],
      "execution_count": null,
      "outputs": []
    },
    {
      "cell_type": "code",
      "metadata": {
        "id": "zxp0YpcT0RZv",
        "colab_type": "code",
        "colab": {},
        "outputId": "6ff863f9-f2f3-4510-f4eb-c59e50966a1f"
      },
      "source": [
        "titanic.groupby(\"Title\")[\"Age\"].transform(\"median\")"
      ],
      "execution_count": null,
      "outputs": [
        {
          "output_type": "execute_result",
          "data": {
            "text/plain": [
              "0      30.0\n",
              "1      35.0\n",
              "2      21.0\n",
              "3      35.0\n",
              "4      30.0\n",
              "       ... \n",
              "886    46.5\n",
              "887    21.0\n",
              "888    21.0\n",
              "889    30.0\n",
              "890    30.0\n",
              "Name: Age, Length: 891, dtype: float64"
            ]
          },
          "metadata": {
            "tags": []
          },
          "execution_count": 11
        }
      ]
    },
    {
      "cell_type": "code",
      "metadata": {
        "id": "io5ZIBCc0RZy",
        "colab_type": "code",
        "colab": {}
      },
      "source": [
        "titanic[\"Age\"].fillna(titanic.groupby(\"Title\")[\"Age\"].transform(\"median\"), inplace=True)"
      ],
      "execution_count": null,
      "outputs": []
    },
    {
      "cell_type": "code",
      "metadata": {
        "id": "qgfeGPgD0RZ0",
        "colab_type": "code",
        "colab": {},
        "outputId": "ee60ed78-3dc0-414e-c9f5-f4811a472612"
      },
      "source": [
        "titanic.isnull().sum()"
      ],
      "execution_count": null,
      "outputs": [
        {
          "output_type": "execute_result",
          "data": {
            "text/plain": [
              "PassengerId      0\n",
              "Survived         0\n",
              "Pclass           0\n",
              "Sex              0\n",
              "Age              0\n",
              "SibSp            0\n",
              "Parch            0\n",
              "Ticket           0\n",
              "Fare             0\n",
              "Cabin          687\n",
              "Embarked         2\n",
              "Title            0\n",
              "Title1           0\n",
              "Title2           0\n",
              "dtype: int64"
            ]
          },
          "metadata": {
            "tags": []
          },
          "execution_count": 14
        }
      ]
    },
    {
      "cell_type": "code",
      "metadata": {
        "id": "jzkS3iBo0RZ2",
        "colab_type": "code",
        "colab": {}
      },
      "source": [
        "titanic.loc[titanic['Age']<=16, 'Age1']=0,\n",
        "titanic.loc[(titanic['Age']>16) &  (titanic['Age']<=26), 'Age1']=1,\n",
        "titanic.loc[(titanic['Age']>26) &  (titanic['Age']<=36), 'Age1']=2,\n",
        "titanic.loc[(titanic['Age']>36) &  (titanic['Age']<=62), 'Age1']=3,\n",
        "titanic.loc[titanic['Age']>62 ,'Age1']=4"
      ],
      "execution_count": null,
      "outputs": []
    },
    {
      "cell_type": "code",
      "metadata": {
        "id": "URXCrYEG0RZ5",
        "colab_type": "code",
        "colab": {},
        "outputId": "d008e0cb-e93f-4170-9f08-2e7d416e0abc"
      },
      "source": [
        "titanic['Age1'].value_counts()"
      ],
      "execution_count": null,
      "outputs": [
        {
          "output_type": "execute_result",
          "data": {
            "text/plain": [
              "2.0    336\n",
              "1.0    255\n",
              "3.0    181\n",
              "0.0    104\n",
              "4.0     15\n",
              "Name: Age1, dtype: int64"
            ]
          },
          "metadata": {
            "tags": []
          },
          "execution_count": 16
        }
      ]
    },
    {
      "cell_type": "code",
      "metadata": {
        "id": "M4im3NRB0RZ7",
        "colab_type": "code",
        "colab": {}
      },
      "source": [
        "titanic_03=titanic.copy() #나이 완료"
      ],
      "execution_count": null,
      "outputs": []
    },
    {
      "cell_type": "code",
      "metadata": {
        "id": "fMZc3hj10RZ9",
        "colab_type": "code",
        "colab": {}
      },
      "source": [
        "titanic['Embarked1']=titanic['Embarked'].fillna('S')"
      ],
      "execution_count": null,
      "outputs": []
    },
    {
      "cell_type": "code",
      "metadata": {
        "id": "xvWQqABq0RZ_",
        "colab_type": "code",
        "colab": {}
      },
      "source": [
        "#{\"S\":0,\"C\":1,\"Q\":2}\n",
        "\n",
        "embark_mapping={\"S\":0,\"C\":1,\"Q\":2}\n",
        "titanic['Embarked2']=titanic['Embarked1'].map(embark_mapping)"
      ],
      "execution_count": null,
      "outputs": []
    },
    {
      "cell_type": "code",
      "metadata": {
        "id": "K_oUNZvX0RaC",
        "colab_type": "code",
        "colab": {},
        "outputId": "180f74ab-ba43-426f-fe51-9439ee28ac1d"
      },
      "source": [
        "titanic['Embarked1'].value_counts()"
      ],
      "execution_count": null,
      "outputs": [
        {
          "output_type": "execute_result",
          "data": {
            "text/plain": [
              "S    646\n",
              "C    168\n",
              "Q     77\n",
              "Name: Embarked1, dtype: int64"
            ]
          },
          "metadata": {
            "tags": []
          },
          "execution_count": 20
        }
      ]
    },
    {
      "cell_type": "code",
      "metadata": {
        "id": "MFWT3DuG0RaE",
        "colab_type": "code",
        "colab": {},
        "outputId": "96a28254-9399-40c7-8adf-083edf8bd98c"
      },
      "source": [
        "titanic['Embarked2'].value_counts()"
      ],
      "execution_count": null,
      "outputs": [
        {
          "output_type": "execute_result",
          "data": {
            "text/plain": [
              "0    646\n",
              "1    168\n",
              "2     77\n",
              "Name: Embarked2, dtype: int64"
            ]
          },
          "metadata": {
            "tags": []
          },
          "execution_count": 21
        }
      ]
    },
    {
      "cell_type": "markdown",
      "metadata": {
        "id": "U0qR8_Te0RaG",
        "colab_type": "text"
      },
      "source": [
        "### Fare"
      ]
    },
    {
      "cell_type": "code",
      "metadata": {
        "id": "TuS1BKF40RaH",
        "colab_type": "code",
        "colab": {},
        "outputId": "fa14359e-b84a-422f-d4be-fc7c30305801"
      },
      "source": [
        "titanic['Fare'].fillna(titanic.groupby(\"Pclass\")['Fare'].transform(\"median\"), inplace=True)\n",
        "titanic.head()"
      ],
      "execution_count": null,
      "outputs": [
        {
          "output_type": "execute_result",
          "data": {
            "text/html": [
              "<div>\n",
              "<style scoped>\n",
              "    .dataframe tbody tr th:only-of-type {\n",
              "        vertical-align: middle;\n",
              "    }\n",
              "\n",
              "    .dataframe tbody tr th {\n",
              "        vertical-align: top;\n",
              "    }\n",
              "\n",
              "    .dataframe thead th {\n",
              "        text-align: right;\n",
              "    }\n",
              "</style>\n",
              "<table border=\"1\" class=\"dataframe\">\n",
              "  <thead>\n",
              "    <tr style=\"text-align: right;\">\n",
              "      <th></th>\n",
              "      <th>PassengerId</th>\n",
              "      <th>Survived</th>\n",
              "      <th>Pclass</th>\n",
              "      <th>Sex</th>\n",
              "      <th>Age</th>\n",
              "      <th>SibSp</th>\n",
              "      <th>Parch</th>\n",
              "      <th>Ticket</th>\n",
              "      <th>Fare</th>\n",
              "      <th>Cabin</th>\n",
              "      <th>Embarked</th>\n",
              "      <th>Title</th>\n",
              "      <th>Title1</th>\n",
              "      <th>Title2</th>\n",
              "      <th>Age1</th>\n",
              "      <th>Embarked1</th>\n",
              "      <th>Embarked2</th>\n",
              "    </tr>\n",
              "  </thead>\n",
              "  <tbody>\n",
              "    <tr>\n",
              "      <th>0</th>\n",
              "      <td>1</td>\n",
              "      <td>0</td>\n",
              "      <td>3</td>\n",
              "      <td>0</td>\n",
              "      <td>22.0</td>\n",
              "      <td>1</td>\n",
              "      <td>0</td>\n",
              "      <td>A/5 21171</td>\n",
              "      <td>7.2500</td>\n",
              "      <td>NaN</td>\n",
              "      <td>S</td>\n",
              "      <td>Mr</td>\n",
              "      <td>0</td>\n",
              "      <td>0</td>\n",
              "      <td>1.0</td>\n",
              "      <td>S</td>\n",
              "      <td>0</td>\n",
              "    </tr>\n",
              "    <tr>\n",
              "      <th>1</th>\n",
              "      <td>2</td>\n",
              "      <td>1</td>\n",
              "      <td>1</td>\n",
              "      <td>1</td>\n",
              "      <td>38.0</td>\n",
              "      <td>1</td>\n",
              "      <td>0</td>\n",
              "      <td>PC 17599</td>\n",
              "      <td>71.2833</td>\n",
              "      <td>C85</td>\n",
              "      <td>C</td>\n",
              "      <td>Mrs</td>\n",
              "      <td>2</td>\n",
              "      <td>2</td>\n",
              "      <td>3.0</td>\n",
              "      <td>C</td>\n",
              "      <td>1</td>\n",
              "    </tr>\n",
              "    <tr>\n",
              "      <th>2</th>\n",
              "      <td>3</td>\n",
              "      <td>1</td>\n",
              "      <td>3</td>\n",
              "      <td>1</td>\n",
              "      <td>26.0</td>\n",
              "      <td>0</td>\n",
              "      <td>0</td>\n",
              "      <td>STON/O2. 3101282</td>\n",
              "      <td>7.9250</td>\n",
              "      <td>NaN</td>\n",
              "      <td>S</td>\n",
              "      <td>Miss</td>\n",
              "      <td>1</td>\n",
              "      <td>1</td>\n",
              "      <td>1.0</td>\n",
              "      <td>S</td>\n",
              "      <td>0</td>\n",
              "    </tr>\n",
              "    <tr>\n",
              "      <th>3</th>\n",
              "      <td>4</td>\n",
              "      <td>1</td>\n",
              "      <td>1</td>\n",
              "      <td>1</td>\n",
              "      <td>35.0</td>\n",
              "      <td>1</td>\n",
              "      <td>0</td>\n",
              "      <td>113803</td>\n",
              "      <td>53.1000</td>\n",
              "      <td>C123</td>\n",
              "      <td>S</td>\n",
              "      <td>Mrs</td>\n",
              "      <td>2</td>\n",
              "      <td>2</td>\n",
              "      <td>2.0</td>\n",
              "      <td>S</td>\n",
              "      <td>0</td>\n",
              "    </tr>\n",
              "    <tr>\n",
              "      <th>4</th>\n",
              "      <td>5</td>\n",
              "      <td>0</td>\n",
              "      <td>3</td>\n",
              "      <td>0</td>\n",
              "      <td>35.0</td>\n",
              "      <td>0</td>\n",
              "      <td>0</td>\n",
              "      <td>373450</td>\n",
              "      <td>8.0500</td>\n",
              "      <td>NaN</td>\n",
              "      <td>S</td>\n",
              "      <td>Mr</td>\n",
              "      <td>0</td>\n",
              "      <td>0</td>\n",
              "      <td>2.0</td>\n",
              "      <td>S</td>\n",
              "      <td>0</td>\n",
              "    </tr>\n",
              "  </tbody>\n",
              "</table>\n",
              "</div>"
            ],
            "text/plain": [
              "   PassengerId  Survived  Pclass  Sex   Age  SibSp  Parch            Ticket  \\\n",
              "0            1         0       3    0  22.0      1      0         A/5 21171   \n",
              "1            2         1       1    1  38.0      1      0          PC 17599   \n",
              "2            3         1       3    1  26.0      0      0  STON/O2. 3101282   \n",
              "3            4         1       1    1  35.0      1      0            113803   \n",
              "4            5         0       3    0  35.0      0      0            373450   \n",
              "\n",
              "      Fare Cabin Embarked Title  Title1  Title2  Age1 Embarked1  Embarked2  \n",
              "0   7.2500   NaN        S    Mr       0       0   1.0         S          0  \n",
              "1  71.2833   C85        C   Mrs       2       2   3.0         C          1  \n",
              "2   7.9250   NaN        S  Miss       1       1   1.0         S          0  \n",
              "3  53.1000  C123        S   Mrs       2       2   2.0         S          0  \n",
              "4   8.0500   NaN        S    Mr       0       0   2.0         S          0  "
            ]
          },
          "metadata": {
            "tags": []
          },
          "execution_count": 23
        }
      ]
    },
    {
      "cell_type": "code",
      "metadata": {
        "id": "-hYq_yT40RaK",
        "colab_type": "code",
        "colab": {}
      },
      "source": [
        "titanic.loc[titanic['Fare']<=17, 'Fare1']=0,\n",
        "titanic.loc[(titanic['Fare']>17) &  (titanic['Fare']<=30), 'Fare1']=1,\n",
        "titanic.loc[(titanic['Fare']>30) &  (titanic['Fare']<=100), 'Fare1']=2,\n",
        "titanic.loc[titanic['Fare']>100 ,'Fare1']=3"
      ],
      "execution_count": null,
      "outputs": []
    },
    {
      "cell_type": "code",
      "metadata": {
        "id": "gkOsnvod0RaM",
        "colab_type": "code",
        "colab": {},
        "outputId": "41ce217f-aa4b-44c8-82d2-c01e74d466f2"
      },
      "source": [
        "titanic.head(2)"
      ],
      "execution_count": null,
      "outputs": [
        {
          "output_type": "execute_result",
          "data": {
            "text/html": [
              "<div>\n",
              "<style scoped>\n",
              "    .dataframe tbody tr th:only-of-type {\n",
              "        vertical-align: middle;\n",
              "    }\n",
              "\n",
              "    .dataframe tbody tr th {\n",
              "        vertical-align: top;\n",
              "    }\n",
              "\n",
              "    .dataframe thead th {\n",
              "        text-align: right;\n",
              "    }\n",
              "</style>\n",
              "<table border=\"1\" class=\"dataframe\">\n",
              "  <thead>\n",
              "    <tr style=\"text-align: right;\">\n",
              "      <th></th>\n",
              "      <th>PassengerId</th>\n",
              "      <th>Survived</th>\n",
              "      <th>Pclass</th>\n",
              "      <th>Sex</th>\n",
              "      <th>Age</th>\n",
              "      <th>SibSp</th>\n",
              "      <th>Parch</th>\n",
              "      <th>Ticket</th>\n",
              "      <th>Fare</th>\n",
              "      <th>Cabin</th>\n",
              "      <th>Embarked</th>\n",
              "      <th>Title</th>\n",
              "      <th>Title1</th>\n",
              "      <th>Title2</th>\n",
              "      <th>Age1</th>\n",
              "      <th>Embarked1</th>\n",
              "      <th>Embarked2</th>\n",
              "      <th>Fare1</th>\n",
              "    </tr>\n",
              "  </thead>\n",
              "  <tbody>\n",
              "    <tr>\n",
              "      <th>0</th>\n",
              "      <td>1</td>\n",
              "      <td>0</td>\n",
              "      <td>3</td>\n",
              "      <td>0</td>\n",
              "      <td>22.0</td>\n",
              "      <td>1</td>\n",
              "      <td>0</td>\n",
              "      <td>A/5 21171</td>\n",
              "      <td>7.2500</td>\n",
              "      <td>NaN</td>\n",
              "      <td>S</td>\n",
              "      <td>Mr</td>\n",
              "      <td>0</td>\n",
              "      <td>0</td>\n",
              "      <td>1.0</td>\n",
              "      <td>S</td>\n",
              "      <td>0</td>\n",
              "      <td>0.0</td>\n",
              "    </tr>\n",
              "    <tr>\n",
              "      <th>1</th>\n",
              "      <td>2</td>\n",
              "      <td>1</td>\n",
              "      <td>1</td>\n",
              "      <td>1</td>\n",
              "      <td>38.0</td>\n",
              "      <td>1</td>\n",
              "      <td>0</td>\n",
              "      <td>PC 17599</td>\n",
              "      <td>71.2833</td>\n",
              "      <td>C85</td>\n",
              "      <td>C</td>\n",
              "      <td>Mrs</td>\n",
              "      <td>2</td>\n",
              "      <td>2</td>\n",
              "      <td>3.0</td>\n",
              "      <td>C</td>\n",
              "      <td>1</td>\n",
              "      <td>2.0</td>\n",
              "    </tr>\n",
              "  </tbody>\n",
              "</table>\n",
              "</div>"
            ],
            "text/plain": [
              "   PassengerId  Survived  Pclass  Sex   Age  SibSp  Parch     Ticket     Fare  \\\n",
              "0            1         0       3    0  22.0      1      0  A/5 21171   7.2500   \n",
              "1            2         1       1    1  38.0      1      0   PC 17599  71.2833   \n",
              "\n",
              "  Cabin Embarked Title  Title1  Title2  Age1 Embarked1  Embarked2  Fare1  \n",
              "0   NaN        S    Mr       0       0   1.0         S          0    0.0  \n",
              "1   C85        C   Mrs       2       2   3.0         C          1    2.0  "
            ]
          },
          "metadata": {
            "tags": []
          },
          "execution_count": 25
        }
      ]
    },
    {
      "cell_type": "markdown",
      "metadata": {
        "id": "-W7C6KvN0RaO",
        "colab_type": "text"
      },
      "source": [
        "### Cabin"
      ]
    },
    {
      "cell_type": "code",
      "metadata": {
        "id": "YbWxa6tU0RaP",
        "colab_type": "code",
        "colab": {}
      },
      "source": [
        "titanic['Cabin1']=titanic['Cabin'].str[:1]"
      ],
      "execution_count": null,
      "outputs": []
    },
    {
      "cell_type": "code",
      "metadata": {
        "id": "fP4ppjtR0RaR",
        "colab_type": "code",
        "colab": {},
        "outputId": "0848be5a-838a-49ab-8ec2-30f789b68be0"
      },
      "source": [
        "#데이터 어떻게 생겼는지\n",
        "Pclass1= titanic[titanic['Pclass']==1]['Cabin1'].value_counts()\n",
        "Pclass2= titanic[titanic['Pclass']==2]['Cabin1'].value_counts()\n",
        "Pclass3= titanic[titanic['Pclass']==3]['Cabin1'].value_counts()\n",
        "df=pd.DataFrame([Pclass1 , Pclass2 , Pclass3])\n",
        "df.index=['1st Class','2nd Class','3rd Class']\n",
        "df.plot(kind='bar',stacked=True, figsize=(4,3))"
      ],
      "execution_count": null,
      "outputs": [
        {
          "output_type": "execute_result",
          "data": {
            "text/plain": [
              "<matplotlib.axes._subplots.AxesSubplot at 0x1d16355de20>"
            ]
          },
          "metadata": {
            "tags": []
          },
          "execution_count": 28
        },
        {
          "output_type": "display_data",
          "data": {
            "image/png": "[encoded data removed]",
            "text/plain": [
              "<Figure size 288x216 with 1 Axes>"
            ]
          },
          "metadata": {
            "tags": [],
            "needs_background": "light"
          }
        }
      ]
    },
    {
      "cell_type": "code",
      "metadata": {
        "id": "nRCOxb5u0RaU",
        "colab_type": "code",
        "colab": {}
      },
      "source": [
        "#매핑(문자열은 결측치 처리 어려우니까)\n",
        "cabin_mapping={'A':0,'B':0.4,'C':0.8,'D':1.2,'E':1.6,'F':2.0,'G':2.4,'T':2.8,}\n",
        "\n",
        "titanic['Cabin2']=titanic['Cabin1'].map(cabin_mapping)"
      ],
      "execution_count": null,
      "outputs": []
    },
    {
      "cell_type": "code",
      "metadata": {
        "id": "KlxoaFqL0RaW",
        "colab_type": "code",
        "colab": {}
      },
      "source": [
        "#중앙값으로 대치\n",
        "titanic['Cabin2'].fillna(titanic.groupby(\"Pclass\")[\"Cabin2\"].transform(\"median\"),inplace=True)"
      ],
      "execution_count": null,
      "outputs": []
    },
    {
      "cell_type": "code",
      "metadata": {
        "id": "NsaCV3W10RaZ",
        "colab_type": "code",
        "colab": {},
        "outputId": "0cc21a9e-eca3-489a-dd90-08956a8c8fec"
      },
      "source": [
        "titanic.isnull().sum()"
      ],
      "execution_count": null,
      "outputs": [
        {
          "output_type": "execute_result",
          "data": {
            "text/plain": [
              "PassengerId      0\n",
              "Survived         0\n",
              "Pclass           0\n",
              "Sex              0\n",
              "Age              0\n",
              "SibSp            0\n",
              "Parch            0\n",
              "Ticket           0\n",
              "Fare             0\n",
              "Cabin          687\n",
              "Embarked         2\n",
              "Title            0\n",
              "Title1           0\n",
              "Title2           0\n",
              "Age1             0\n",
              "Embarked1        0\n",
              "Embarked2        0\n",
              "Fare1            0\n",
              "Cabin1         687\n",
              "Cabin2           0\n",
              "dtype: int64"
            ]
          },
          "metadata": {
            "tags": []
          },
          "execution_count": 31
        }
      ]
    },
    {
      "cell_type": "markdown",
      "metadata": {
        "id": "nurzoBSx0Rab",
        "colab_type": "text"
      },
      "source": [
        "### FamilySize"
      ]
    },
    {
      "cell_type": "code",
      "metadata": {
        "id": "SvFBh1o_0Rab",
        "colab_type": "code",
        "colab": {}
      },
      "source": [
        "titanic[\"FamilySize\"]=titanic[\"SibSp\"]+titanic[\"Parch\"]+1"
      ],
      "execution_count": null,
      "outputs": []
    },
    {
      "cell_type": "code",
      "metadata": {
        "id": "fqrDs8BU0Rae",
        "colab_type": "code",
        "colab": {},
        "outputId": "ba56fd10-87fa-4790-fb96-965c5ec6ddb3"
      },
      "source": [
        "import seaborn as sns\n",
        "facet = sns.FacetGrid(titanic, hue=\"Survived\", aspect=4)\n",
        "facet.map(sns.kdeplot, \"FamilySize\",  shade=True)\n",
        "facet.set(xlim=(0, titanic[\"FamilySize\"].max()))\n",
        "facet.add_legend()\n",
        "plt.xlim(0)"
      ],
      "execution_count": null,
      "outputs": [
        {
          "output_type": "execute_result",
          "data": {
            "text/plain": [
              "(0.0, 11.0)"
            ]
          },
          "metadata": {
            "tags": []
          },
          "execution_count": 36
        },
        {
          "output_type": "display_data",
          "data": {
            "image/png": "[encoded data removed]",
            "text/plain": [
              "<Figure size 915.875x216 with 1 Axes>"
            ]
          },
          "metadata": {
            "tags": [],
            "needs_background": "light"
          }
        }
      ]
    },
    {
      "cell_type": "code",
      "metadata": {
        "id": "fhM87KNP0Rag",
        "colab_type": "code",
        "colab": {}
      },
      "source": [
        "family_mapping={1:0,2:0.4,3:0.8,4:1.2,5:1.6,6:2,7:2.4,8:2.8,9:3.2,10:3.6,11:4}\n",
        "titanic['FamilySize1']=titanic['FamilySize'].map(family_mapping)"
      ],
      "execution_count": null,
      "outputs": []
    },
    {
      "cell_type": "code",
      "metadata": {
        "id": "O2FrAcKF0Rah",
        "colab_type": "code",
        "colab": {},
        "outputId": "7c7b8c11-a526-4837-ae27-861bcc0e8605"
      },
      "source": [
        "titanic.head(2)"
      ],
      "execution_count": null,
      "outputs": [
        {
          "output_type": "execute_result",
          "data": {
            "text/html": [
              "<div>\n",
              "<style scoped>\n",
              "    .dataframe tbody tr th:only-of-type {\n",
              "        vertical-align: middle;\n",
              "    }\n",
              "\n",
              "    .dataframe tbody tr th {\n",
              "        vertical-align: top;\n",
              "    }\n",
              "\n",
              "    .dataframe thead th {\n",
              "        text-align: right;\n",
              "    }\n",
              "</style>\n",
              "<table border=\"1\" class=\"dataframe\">\n",
              "  <thead>\n",
              "    <tr style=\"text-align: right;\">\n",
              "      <th></th>\n",
              "      <th>PassengerId</th>\n",
              "      <th>Survived</th>\n",
              "      <th>Pclass</th>\n",
              "      <th>Sex</th>\n",
              "      <th>Age</th>\n",
              "      <th>SibSp</th>\n",
              "      <th>Parch</th>\n",
              "      <th>Ticket</th>\n",
              "      <th>Fare</th>\n",
              "      <th>Cabin</th>\n",
              "      <th>...</th>\n",
              "      <th>Title1</th>\n",
              "      <th>Title2</th>\n",
              "      <th>Age1</th>\n",
              "      <th>Embarked1</th>\n",
              "      <th>Embarked2</th>\n",
              "      <th>Fare1</th>\n",
              "      <th>Cabin1</th>\n",
              "      <th>Cabin2</th>\n",
              "      <th>FamilySize</th>\n",
              "      <th>FamilySize1</th>\n",
              "    </tr>\n",
              "  </thead>\n",
              "  <tbody>\n",
              "    <tr>\n",
              "      <th>0</th>\n",
              "      <td>1</td>\n",
              "      <td>0</td>\n",
              "      <td>3</td>\n",
              "      <td>0</td>\n",
              "      <td>22.0</td>\n",
              "      <td>1</td>\n",
              "      <td>0</td>\n",
              "      <td>A/5 21171</td>\n",
              "      <td>7.2500</td>\n",
              "      <td>NaN</td>\n",
              "      <td>...</td>\n",
              "      <td>0</td>\n",
              "      <td>0</td>\n",
              "      <td>1.0</td>\n",
              "      <td>S</td>\n",
              "      <td>0</td>\n",
              "      <td>0.0</td>\n",
              "      <td>NaN</td>\n",
              "      <td>2.0</td>\n",
              "      <td>2</td>\n",
              "      <td>0.4</td>\n",
              "    </tr>\n",
              "    <tr>\n",
              "      <th>1</th>\n",
              "      <td>2</td>\n",
              "      <td>1</td>\n",
              "      <td>1</td>\n",
              "      <td>1</td>\n",
              "      <td>38.0</td>\n",
              "      <td>1</td>\n",
              "      <td>0</td>\n",
              "      <td>PC 17599</td>\n",
              "      <td>71.2833</td>\n",
              "      <td>C85</td>\n",
              "      <td>...</td>\n",
              "      <td>2</td>\n",
              "      <td>2</td>\n",
              "      <td>3.0</td>\n",
              "      <td>C</td>\n",
              "      <td>1</td>\n",
              "      <td>2.0</td>\n",
              "      <td>C</td>\n",
              "      <td>0.8</td>\n",
              "      <td>2</td>\n",
              "      <td>0.4</td>\n",
              "    </tr>\n",
              "  </tbody>\n",
              "</table>\n",
              "<p>2 rows × 22 columns</p>\n",
              "</div>"
            ],
            "text/plain": [
              "   PassengerId  Survived  Pclass  Sex   Age  SibSp  Parch     Ticket     Fare  \\\n",
              "0            1         0       3    0  22.0      1      0  A/5 21171   7.2500   \n",
              "1            2         1       1    1  38.0      1      0   PC 17599  71.2833   \n",
              "\n",
              "  Cabin  ... Title1 Title2  Age1  Embarked1  Embarked2 Fare1  Cabin1  Cabin2  \\\n",
              "0   NaN  ...      0      0   1.0          S          0   0.0     NaN     2.0   \n",
              "1   C85  ...      2      2   3.0          C          1   2.0       C     0.8   \n",
              "\n",
              "  FamilySize  FamilySize1  \n",
              "0          2          0.4  \n",
              "1          2          0.4  \n",
              "\n",
              "[2 rows x 22 columns]"
            ]
          },
          "metadata": {
            "tags": []
          },
          "execution_count": 38
        }
      ]
    },
    {
      "cell_type": "code",
      "metadata": {
        "id": "G71_9vgl0Raj",
        "colab_type": "code",
        "colab": {}
      },
      "source": [
        "sel_column = [\"Survived\", \"Pclass\", \"Title2\", \"Sex\",\"Age1\", \"Embarked2\", \"Fare1\", \"Cabin2\", \"FamilySize1\"]\n",
        "titanic_new = titanic[sel_column]"
      ],
      "execution_count": null,
      "outputs": []
    },
    {
      "cell_type": "code",
      "metadata": {
        "id": "iHuca01S0Ram",
        "colab_type": "code",
        "colab": {},
        "outputId": "609194f4-c412-429b-ad1b-acf1a5ae44b4"
      },
      "source": [
        "titanic_new.head()"
      ],
      "execution_count": null,
      "outputs": [
        {
          "output_type": "execute_result",
          "data": {
            "text/html": [
              "<div>\n",
              "<style scoped>\n",
              "    .dataframe tbody tr th:only-of-type {\n",
              "        vertical-align: middle;\n",
              "    }\n",
              "\n",
              "    .dataframe tbody tr th {\n",
              "        vertical-align: top;\n",
              "    }\n",
              "\n",
              "    .dataframe thead th {\n",
              "        text-align: right;\n",
              "    }\n",
              "</style>\n",
              "<table border=\"1\" class=\"dataframe\">\n",
              "  <thead>\n",
              "    <tr style=\"text-align: right;\">\n",
              "      <th></th>\n",
              "      <th>Survived</th>\n",
              "      <th>Pclass</th>\n",
              "      <th>Title2</th>\n",
              "      <th>Sex</th>\n",
              "      <th>Age1</th>\n",
              "      <th>Embarked2</th>\n",
              "      <th>Fare1</th>\n",
              "      <th>Cabin2</th>\n",
              "      <th>FamilySize1</th>\n",
              "    </tr>\n",
              "  </thead>\n",
              "  <tbody>\n",
              "    <tr>\n",
              "      <th>0</th>\n",
              "      <td>0</td>\n",
              "      <td>3</td>\n",
              "      <td>0</td>\n",
              "      <td>0</td>\n",
              "      <td>1.0</td>\n",
              "      <td>0</td>\n",
              "      <td>0.0</td>\n",
              "      <td>2.0</td>\n",
              "      <td>0.4</td>\n",
              "    </tr>\n",
              "    <tr>\n",
              "      <th>1</th>\n",
              "      <td>1</td>\n",
              "      <td>1</td>\n",
              "      <td>2</td>\n",
              "      <td>1</td>\n",
              "      <td>3.0</td>\n",
              "      <td>1</td>\n",
              "      <td>2.0</td>\n",
              "      <td>0.8</td>\n",
              "      <td>0.4</td>\n",
              "    </tr>\n",
              "    <tr>\n",
              "      <th>2</th>\n",
              "      <td>1</td>\n",
              "      <td>3</td>\n",
              "      <td>1</td>\n",
              "      <td>1</td>\n",
              "      <td>1.0</td>\n",
              "      <td>0</td>\n",
              "      <td>0.0</td>\n",
              "      <td>2.0</td>\n",
              "      <td>0.0</td>\n",
              "    </tr>\n",
              "    <tr>\n",
              "      <th>3</th>\n",
              "      <td>1</td>\n",
              "      <td>1</td>\n",
              "      <td>2</td>\n",
              "      <td>1</td>\n",
              "      <td>2.0</td>\n",
              "      <td>0</td>\n",
              "      <td>2.0</td>\n",
              "      <td>0.8</td>\n",
              "      <td>0.4</td>\n",
              "    </tr>\n",
              "    <tr>\n",
              "      <th>4</th>\n",
              "      <td>0</td>\n",
              "      <td>3</td>\n",
              "      <td>0</td>\n",
              "      <td>0</td>\n",
              "      <td>2.0</td>\n",
              "      <td>0</td>\n",
              "      <td>0.0</td>\n",
              "      <td>2.0</td>\n",
              "      <td>0.0</td>\n",
              "    </tr>\n",
              "  </tbody>\n",
              "</table>\n",
              "</div>"
            ],
            "text/plain": [
              "   Survived  Pclass  Title2  Sex  Age1  Embarked2  Fare1  Cabin2  FamilySize1\n",
              "0         0       3       0    0   1.0          0    0.0     2.0          0.4\n",
              "1         1       1       2    1   3.0          1    2.0     0.8          0.4\n",
              "2         1       3       1    1   1.0          0    0.0     2.0          0.0\n",
              "3         1       1       2    1   2.0          0    2.0     0.8          0.4\n",
              "4         0       3       0    0   2.0          0    0.0     2.0          0.0"
            ]
          },
          "metadata": {
            "tags": []
          },
          "execution_count": 41
        }
      ]
    },
    {
      "cell_type": "code",
      "metadata": {
        "id": "JxEyX1Oz0Rao",
        "colab_type": "code",
        "colab": {}
      },
      "source": [
        "titanic_new.columns=[\"Survived\", \"Pclass\", \"Title\", \"Sex\",\"Age\", \"Embarked\", \"Fare\", \"Cabin\", \"FamilySize\"]"
      ],
      "execution_count": null,
      "outputs": []
    },
    {
      "cell_type": "code",
      "metadata": {
        "id": "wvOtRPMl0Raq",
        "colab_type": "code",
        "colab": {}
      },
      "source": [
        "titanic_new.to_excel(\"c:/bkk/titanic_new.xlsx\")"
      ],
      "execution_count": null,
      "outputs": []
    },
    {
      "cell_type": "code",
      "metadata": {
        "id": "UUk3_EUf0Rar",
        "colab_type": "code",
        "colab": {}
      },
      "source": [
        ""
      ],
      "execution_count": null,
      "outputs": []
    }
  ]
}